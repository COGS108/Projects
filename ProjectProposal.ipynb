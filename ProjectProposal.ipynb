{
 "cells": [
  {
   "cell_type": "markdown",
   "metadata": {},
   "source": [
    "# COGS 108 - Project Proposal"
   ]
  },
  {
   "cell_type": "markdown",
   "metadata": {},
   "source": [
    "## Important\n",
    "\n",
    "- Make sure all group members (3-6 people) are listed in the group members section.\n",
    "- ONE, and only one, member of your group should upload this notebook to TritonED. \n",
    "- Each member of the group will receive the same grade on this assignment. \n",
    "- Keep the file name the same: submit the file 'ProjectProposal.ipynb'"
   ]
  },
  {
   "cell_type": "markdown",
   "metadata": {},
   "source": [
    "## Overview"
   ]
  },
  {
   "cell_type": "markdown",
   "metadata": {},
   "source": [
    "Read the project description and detailed instructions for this assignment in the 'ProjectOutline' document."
   ]
  },
  {
   "cell_type": "markdown",
   "metadata": {},
   "source": [
    "## Group Members: Fill in the Student IDs of each group member here\n",
    "\n",
    "Replace the lines below to list each persons full student ID. Add lines as needed for your group size, and make sure each ID is listed on a separate line. \n",
    "\n",
    "- A14947178\n",
    "- A########\n",
    "- A########"
   ]
  },
  {
   "cell_type": "markdown",
   "metadata": {},
   "source": [
    "### Research Question\n",
    "\n",
    "What is your research question? (1-2 sentences)"
   ]
  },
  {
   "cell_type": "markdown",
   "metadata": {},
   "source": [
    "If you are planning on moving to Chicago, what district is the safest for you move in to based on historical trends? We want to rate each district based on how safe it would be to move there."
   ]
  },
  {
   "cell_type": "markdown",
   "metadata": {},
   "source": [
    "### Hypothesis\n",
    "\n",
    "What is your main hypothesis and predictions? (2-3 sentences)"
   ]
  },
  {
   "cell_type": "markdown",
   "metadata": {},
   "source": [
    "#### Our main hypothesis is that the smaller district numbers will have the most crime, whereas larger number districts will have less crime. These districts tend to be older, more densely packed, and are closer to the water. In specific, we would expect districts 1,2,and 3 to be in at least the to five worst districts too live in."
   ]
  },
  {
   "cell_type": "markdown",
   "metadata": {},
   "source": [
    "### Dataset(s)\n",
    "\n",
    "What data will you use to answer your question? Describe the dataset(s) in terms of number of observations, what kind of features it contains, etc. You must use at least one dataset containing at least approximately 1000 observations (if your data are smaller but you feel they are sufficient, email Prof. Voytek). You are welcome (and in fact recommended) to find multiple datasets! If you do so, describe each one, and briefly explain how you will combine them together. "
   ]
  },
  {
   "cell_type": "markdown",
   "metadata": {},
   "source": [
    "### Chicago Crime\n",
    "\n",
    "https://www.kaggle.com/chicago/chicago-crime\n",
    "\n",
    "Number of Observations:\n",
    "\n",
    "This dataset shows crime statistics in chicago from the last few years. Each row is a unique 'crime id' which can be used to identify the crime. It then tells the year the crime occurred, whether an arrest was made, and the district the crime occurred in."
   ]
  },
  {
   "cell_type": "markdown",
   "metadata": {},
   "source": [
    "### Background and Prior Work\n",
    "\n",
    "Why is this question of interest, what background information led you to your hypothesis, and why is this important?\n",
    "\n",
    "Find some relevant prior work, and reference those sources. Even if you think you have a totally novel question, find the most similar prior work that you can and discuss how it relates to your project. \n",
    "\n",
    "References can be research publications, but they need not be. Blogs, github repositories, company websites, etc., are all viable references if they are relevant to your project.\n",
    "\n",
    "(2-3 paragraphs, including at least 2 references)"
   ]
  },
  {
   "cell_type": "markdown",
   "metadata": {},
   "source": [
    "### Why Chicago Crime?\n",
    "\n",
    "There are already quite a few articles on the crime rates in different neighborhoods, but few of these break it down into districts. Also, a lot of rankings are based on the most recent crime rates, but our goal is to find the districts where the decrease in crime is the largest. That way, we can hopefully try to predict that a district will become more safe in the time a person lives there. This is important for people trying to move to start a family. If you are trying to raise a family in a neighborhood, you want to know that the danger in that area is decreasing as well as which ones are safer. \n",
    "\n",
    "This will be helpful to families who may not be able to afford the 'nice' districts in Chicago. The reasoning behind this is that 'nice', wealthy districts will always be relatively safe. However, for people who can't afford to live in these areas, it might be more important for them to know that their neighborhood is getting safer with each passing year.\n",
    "\n",
    "Additionally, the reason we think that the smaller numbered districts will have a higher crime rate is because, looking at a map, these areas are the older areas of chicago near the water where the infrastructure is not as new and the population density is higher.\n",
    "\n",
    "References (include links):\n",
    "- 1) Chicago districts website: https://home.chicagopolice.org/community/districts/\n",
    "- 2) Chicago districts map: https://home.chicagopolice.org/community/community-map/\n",
    "- 3) Neighborhood Rankings: https://www.niche.com/places-to-live/search/safest-neighborhoods/m/chicago-metro-area/\n",
    "- 4) Neighborhood Rankings: http://www.chicagonow.com/getting-real/2018/07/chicagos-safest-and-most-dangerous-neighborhoods-2018-murders/\n",
    "- 5) Data Link: https://data.cityofchicago.org/Public-Safety/Crimes-2001-to-present/ijzp-q8t2"
   ]
  },
  {
   "cell_type": "markdown",
   "metadata": {},
   "source": [
    "### Proposed Methods\n",
    "\n",
    "What methods will you use to analyze your data?\n",
    "\n",
    "- How 'clean' is the data? To the extent that it requires cleaning, how will you do so?\n",
    "- How will you analyze the data? Be as specific as you can. Briefly mention any pre-processing steps that are required for your methods (for example, checking data distributions and performing any transformations that may be required). Include a brief outline of how you will apply your chosen method(s). \n",
    "- What do you plan to report? Briefly mention any key visualizations you plan to create, and/or the kind of results you will be able to report that address your question (this could be, for example, the outcome of some statistical test(s), prediction error on a model, a model fit parameter, etc.).\n",
    "- Include a list of packages you expect to use for you project. If you plan to use packages we have not used in class, add a very brief description about them (a few words is sufficient). "
   ]
  },
  {
   "cell_type": "markdown",
   "metadata": {},
   "source": [
    "*Fill in your proposed methods information here:*\n",
    "\n",
    "*Data Cleaning (2-3 sentences)*\n",
    "\n",
    "The data is fairly clean because it is provided by the Chicago Police department. Police departments tend to keep very organized records, so there isn't much missing data.\n",
    "\n",
    "*Data Analysis (1-2 paragraphs)*\n",
    "\n",
    "First, we will need to group data by district. This will give us access to a dataframe for each district. Then we'll develop models that we can run on each district to create graphs.\n",
    "\n",
    "*What to report (2-3 sentences)*\n",
    "\n",
    "We will create graphs showing how crime has been decreasing or increasing in the past for each district, and then extrapolate how these trends will continue. We will break crime down to the type and show how the violent crimes are decreasing.\"\n",
    "\n",
    "\n",
    "Packages we plan to use:\n",
    "- a Pandas\n",
    "- b Matplotlib"
   ]
  },
  {
   "cell_type": "markdown",
   "metadata": {},
   "source": [
    "### Ethics and Privacy\n",
    "\n",
    "Briefly acknowledge and address any potential issues of ethics and privacy for the proposed project. In particular:\n",
    "- Do you have permission to use this data, for this purpose?\n",
    "- Are there privacy concerns regarding your datasets that you need to deal with, and/or terms of use that you need to comply with?\n",
    "- Are there potential biases in your dataset(s), in terms of who it composes, and how it was collected, that may be problematic in terms of it allowing for equitable analysis? (For example, does your data exclude particular populations, or is it likely to reflect particular human biases in a way that could be a problem?) \n",
    "- Are there any other issues related to your topic area, data, and/or analyses that are potentially problematic in terms of data privacy and equitable impact?\n",
    "- How will you handle any issues you identify?\n",
    "\n",
    "(1-2 paragraphs)"
   ]
  },
  {
   "cell_type": "markdown",
   "metadata": {},
   "source": [
    "### Discussion\n",
    "\n",
    "Discuss your project, looking forward to what your results might mean, how they fit it in with what is already known, and what problems you may encounter. \n",
    "\n",
    "In particular:\n",
    "- If your analyses and hypotheses are correct, what will be the contribution of this project to the topic domain? \n",
    "- Alternatively, what will you do if you methods don't work and/or your hypotheses are wrong? \n",
    "- What are the potential pitfalls and potential confounds of your data and/or methods that may cause problems, and/or influence your interpretations?\n",
    "\n",
    "(2-3 paragraphs)"
   ]
  },
  {
   "cell_type": "markdown",
   "metadata": {},
   "source": [
    "*Fill in your discussion information here*"
   ]
  }
 ],
 "metadata": {
  "kernelspec": {
   "display_name": "Python 3",
   "language": "python",
   "name": "python3"
  },
  "language_info": {
   "codemirror_mode": {
    "name": "ipython",
    "version": 3
   },
   "file_extension": ".py",
   "mimetype": "text/x-python",
   "name": "python",
   "nbconvert_exporter": "python",
   "pygments_lexer": "ipython3",
   "version": "3.7.2"
  }
 },
 "nbformat": 4,
 "nbformat_minor": 2
}
