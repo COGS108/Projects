{
 "cells": [
  {
   "cell_type": "code",
   "execution_count": 37,
   "metadata": {},
   "outputs": [],
   "source": [
    "import pandas as pd\n",
    "import numpy as np\n",
    "import matplotlib.pyplot as plt\n",
    "import statsmodels.api as sm\n",
    "import statsmodels.formula.api as smf\n",
    "import scipy.stats as stats\n",
    "from scipy.stats import ttest_ind, chisquare, normaltest\n",
    "import patsy"
   ]
  },
  {
   "cell_type": "code",
   "execution_count": 4,
   "metadata": {},
   "outputs": [],
   "source": [
    "crimes = pd.read_csv('~/data/CrimesSmall.csv')"
   ]
  },
  {
   "cell_type": "code",
   "execution_count": 6,
   "metadata": {},
   "outputs": [],
   "source": [
    "crimes.index = crimes['ID'] # make the index the actual case number\n",
    "# remove columns that are unnecessary for the analysis and would probably just slow our code down\n",
    "crimes = crimes.drop(['Beat', 'FBI Code','Updated On', 'Case Number', 'Block', 'IUCR', 'ID', 'Description', 'Ward', 'X Coordinate', 'Y Coordinate', 'Latitude', 'Longitude'], axis=1)\n",
    "\n",
    "\n"
   ]
  },
  {
   "cell_type": "code",
   "execution_count": 7,
   "metadata": {},
   "outputs": [],
   "source": [
    "crime_types = crimes['Primary Type'].unique().tolist()"
   ]
  },
  {
   "cell_type": "markdown",
   "metadata": {},
   "source": [
    "### Begin cleaning data\n",
    "\n",
    "1. Remove NaN values\n",
    "2. standardize the crime type to get rid of the uppercase, standardize the non-criminal type\n",
    "3. standardize the location description"
   ]
  },
  {
   "cell_type": "markdown",
   "metadata": {},
   "source": [
    "There are actually no Nan values to remove! Government data is reliable I guess. The only NaN values are location, but we still know the district, so as long as we don't end up needing location later on, this is fine"
   ]
  },
  {
   "cell_type": "code",
   "execution_count": 8,
   "metadata": {},
   "outputs": [],
   "source": [
    "to_drop = crimes[crimes.isnull().any(axis=1)]\n",
    "to_drop;"
   ]
  },
  {
   "cell_type": "code",
   "execution_count": 9,
   "metadata": {},
   "outputs": [],
   "source": [
    "def standardize_primary_type(string):\n",
    "    # compile all non-criminal offenses into on label\n",
    "    if string == 'NON-CRIMINAL (SUBJECT SPECIFIED)' or string == 'NON - CRIMINAL' or string == 'NON-CRIMINAL':\n",
    "        return 'non-criminal'\n",
    "    if string == 'OTHER OFFENSE':\n",
    "        return 'other'\n",
    "    # rename crim sexual assault to just sexual assault to make it easier to read\n",
    "    if string == 'CRIM SEXUAL ASSAULT':\n",
    "        return 'sexual assault'\n",
    "    else:\n",
    "        # everything else, make sure to lowercase it so we don't have to use caps lock lol\n",
    "        return string.lower()\n",
    "        "
   ]
  },
  {
   "cell_type": "code",
   "execution_count": 10,
   "metadata": {},
   "outputs": [],
   "source": [
    "def standardize_location(string):\n",
    "    if type(string) == str:\n",
    "        string = string.lower()\n",
    "        if 'airport' in string:\n",
    "            return 'airport'\n",
    "    return string"
   ]
  },
  {
   "cell_type": "code",
   "execution_count": 11,
   "metadata": {},
   "outputs": [],
   "source": [
    "crimes['Primary Type'] = crimes['Primary Type'].apply(standardize_primary_type) # clean data \n",
    "crimes['location'] = crimes['Location Description'].apply(standardize_location)"
   ]
  },
  {
   "cell_type": "code",
   "execution_count": 12,
   "metadata": {},
   "outputs": [],
   "source": [
    "# be careful if you run this one, only run it once it won't work the second time \n",
    "crimes = crimes.drop(['Location Description','Community Area'],axis=1)"
   ]
  },
  {
   "cell_type": "code",
   "execution_count": 13,
   "metadata": {},
   "outputs": [],
   "source": [
    "crimes = crimes.rename(columns = {'Location': 'Coordinates'})"
   ]
  },
  {
   "cell_type": "code",
   "execution_count": 14,
   "metadata": {},
   "outputs": [],
   "source": [
    "violents = ['BATTERY','ASSAULT','CRIM SEXUAL ASSAULT', 'ARSON','HOMICIDE']"
   ]
  },
  {
   "cell_type": "code",
   "execution_count": 15,
   "metadata": {},
   "outputs": [],
   "source": [
    "violent_crimes = crimes[ (crimes['Primary Type'] == 'battery') | (crimes['Primary Type'] == 'assault') | (crimes['Primary Type'] == 'sexual assault') | (crimes['Primary Type'] == 'arson') | (crimes['Primary Type'] == 'homicide')]"
   ]
  },
  {
   "cell_type": "code",
   "execution_count": 16,
   "metadata": {},
   "outputs": [
    {
     "data": {
      "text/html": [
       "<div>\n",
       "<style scoped>\n",
       "    .dataframe tbody tr th:only-of-type {\n",
       "        vertical-align: middle;\n",
       "    }\n",
       "\n",
       "    .dataframe tbody tr th {\n",
       "        vertical-align: top;\n",
       "    }\n",
       "\n",
       "    .dataframe thead th {\n",
       "        text-align: right;\n",
       "    }\n",
       "</style>\n",
       "<table border=\"1\" class=\"dataframe\">\n",
       "  <thead>\n",
       "    <tr style=\"text-align: right;\">\n",
       "      <th></th>\n",
       "      <th>Date</th>\n",
       "      <th>Primary Type</th>\n",
       "      <th>Arrest</th>\n",
       "      <th>Domestic</th>\n",
       "      <th>District</th>\n",
       "      <th>Year</th>\n",
       "      <th>Coordinates</th>\n",
       "      <th>location</th>\n",
       "    </tr>\n",
       "    <tr>\n",
       "      <th>ID</th>\n",
       "      <th></th>\n",
       "      <th></th>\n",
       "      <th></th>\n",
       "      <th></th>\n",
       "      <th></th>\n",
       "      <th></th>\n",
       "      <th></th>\n",
       "      <th></th>\n",
       "    </tr>\n",
       "  </thead>\n",
       "  <tbody>\n",
       "    <tr>\n",
       "      <th>7956475</th>\n",
       "      <td>3/4/2011 10:52</td>\n",
       "      <td>assault</td>\n",
       "      <td>True</td>\n",
       "      <td>False</td>\n",
       "      <td>10</td>\n",
       "      <td>2011</td>\n",
       "      <td>(41.84558589, -87.731082337)</td>\n",
       "      <td>school, public, building</td>\n",
       "    </tr>\n",
       "    <tr>\n",
       "      <th>7956476</th>\n",
       "      <td>3/4/2011 12:00</td>\n",
       "      <td>deceptive practice</td>\n",
       "      <td>False</td>\n",
       "      <td>False</td>\n",
       "      <td>9</td>\n",
       "      <td>2011</td>\n",
       "      <td>(41.811145384, -87.685707211)</td>\n",
       "      <td>residence</td>\n",
       "    </tr>\n",
       "    <tr>\n",
       "      <th>7956477</th>\n",
       "      <td>3/4/2011 9:00</td>\n",
       "      <td>criminal damage</td>\n",
       "      <td>False</td>\n",
       "      <td>False</td>\n",
       "      <td>18</td>\n",
       "      <td>2011</td>\n",
       "      <td>(41.924756753, -87.668780552)</td>\n",
       "      <td>residence</td>\n",
       "    </tr>\n",
       "    <tr>\n",
       "      <th>7956479</th>\n",
       "      <td>3/3/2011 8:00</td>\n",
       "      <td>theft</td>\n",
       "      <td>False</td>\n",
       "      <td>False</td>\n",
       "      <td>5</td>\n",
       "      <td>2011</td>\n",
       "      <td>(41.712529985, -87.631672138)</td>\n",
       "      <td>residential yard (front/back)</td>\n",
       "    </tr>\n",
       "    <tr>\n",
       "      <th>7956480</th>\n",
       "      <td>3/4/2011 10:35</td>\n",
       "      <td>battery</td>\n",
       "      <td>True</td>\n",
       "      <td>False</td>\n",
       "      <td>16</td>\n",
       "      <td>2011</td>\n",
       "      <td>(41.98287878, -87.791440835)</td>\n",
       "      <td>school, public, building</td>\n",
       "    </tr>\n",
       "  </tbody>\n",
       "</table>\n",
       "</div>"
      ],
      "text/plain": [
       "                   Date        Primary Type  Arrest  Domestic  District  Year  \\\n",
       "ID                                                                              \n",
       "7956475  3/4/2011 10:52             assault    True     False        10  2011   \n",
       "7956476  3/4/2011 12:00  deceptive practice   False     False         9  2011   \n",
       "7956477   3/4/2011 9:00     criminal damage   False     False        18  2011   \n",
       "7956479   3/3/2011 8:00               theft   False     False         5  2011   \n",
       "7956480  3/4/2011 10:35             battery    True     False        16  2011   \n",
       "\n",
       "                           Coordinates                       location  \n",
       "ID                                                                     \n",
       "7956475   (41.84558589, -87.731082337)       school, public, building  \n",
       "7956476  (41.811145384, -87.685707211)                      residence  \n",
       "7956477  (41.924756753, -87.668780552)                      residence  \n",
       "7956479  (41.712529985, -87.631672138)  residential yard (front/back)  \n",
       "7956480   (41.98287878, -87.791440835)       school, public, building  "
      ]
     },
     "execution_count": 16,
     "metadata": {},
     "output_type": "execute_result"
    }
   ],
   "source": [
    "crimes.head()"
   ]
  },
  {
   "cell_type": "markdown",
   "metadata": {},
   "source": [
    "## Overall, our question is, does the district a crime was committed in or the type of crime predict whether an arrest was made for that crime\n",
    "\n",
    "First, I will fit a linear regression model to see how district predicts arrest rate.\n",
    "1. Create a dataframe with index being the district, one column is the arrest rate for a particular crime, we will look at the top three crimes. "
   ]
  },
  {
   "cell_type": "code",
   "execution_count": 17,
   "metadata": {},
   "outputs": [
    {
     "data": {
      "text/plain": [
       "battery      418\n",
       "theft        383\n",
       "narcotics    266\n",
       "Name: Primary Type, dtype: int64"
      ]
     },
     "execution_count": 17,
     "metadata": {},
     "output_type": "execute_result"
    }
   ],
   "source": [
    "crimes['Primary Type'].value_counts().nlargest(3)"
   ]
  },
  {
   "cell_type": "code",
   "execution_count": 18,
   "metadata": {},
   "outputs": [
    {
     "ename": "ValueError",
     "evalue": "list.remove(x): x not in list",
     "output_type": "error",
     "traceback": [
      "\u001b[0;31m---------------------------------------------------------------------------\u001b[0m",
      "\u001b[0;31mValueError\u001b[0m                                Traceback (most recent call last)",
      "\u001b[0;32m<ipython-input-18-e346e6e6a93c>\u001b[0m in \u001b[0;36m<module>\u001b[0;34m\u001b[0m\n\u001b[1;32m      1\u001b[0m \u001b[0mdistricts\u001b[0m \u001b[0;34m=\u001b[0m \u001b[0mcrimes\u001b[0m\u001b[0;34m[\u001b[0m\u001b[0;34m'District'\u001b[0m\u001b[0;34m]\u001b[0m\u001b[0;34m.\u001b[0m\u001b[0munique\u001b[0m\u001b[0;34m(\u001b[0m\u001b[0;34m)\u001b[0m\u001b[0;34m.\u001b[0m\u001b[0mtolist\u001b[0m\u001b[0;34m(\u001b[0m\u001b[0;34m)\u001b[0m\u001b[0;34m\u001b[0m\u001b[0;34m\u001b[0m\u001b[0m\n\u001b[0;32m----> 2\u001b[0;31m \u001b[0mdistricts\u001b[0m\u001b[0;34m.\u001b[0m\u001b[0mremove\u001b[0m\u001b[0;34m(\u001b[0m\u001b[0;36m21\u001b[0m\u001b[0;34m)\u001b[0m\u001b[0;34m\u001b[0m\u001b[0;34m\u001b[0m\u001b[0m\n\u001b[0m",
      "\u001b[0;31mValueError\u001b[0m: list.remove(x): x not in list"
     ]
    }
   ],
   "source": [
    "districts = crimes['District'].unique().tolist()\n",
    "districts.remove(21)"
   ]
  },
  {
   "cell_type": "code",
   "execution_count": 19,
   "metadata": {},
   "outputs": [],
   "source": [
    "district_cache = {}\n",
    "for district in districts:\n",
    "    district_cache[district] = crimes[ crimes['District'] == district ]"
   ]
  },
  {
   "cell_type": "code",
   "execution_count": 20,
   "metadata": {},
   "outputs": [],
   "source": [
    "dist_pred_arrest = pd.DataFrame()\n",
    "for district in districts:\n",
    "    \n",
    "    district_df = district_cache[district]\n",
    "    \n",
    "    arrest_occurred = district_df[district_df['Arrest'] == True]\n",
    "    \n",
    "    dist_pred_arrest.loc[district,'Reported Theft'] = len(district_df[district_df['Primary Type'] == 'theft'])\n",
    "    dist_pred_arrest.loc[district,'Theft w/ Arrest Made'] = len(arrest_occurred[arrest_occurred['Primary Type'] == 'theft'])\n",
    "    dist_pred_arrest.loc[district,'Theft Arrest Rate'] = dist_pred_arrest.loc[district,'Theft w/ Arrest Made'] / dist_pred_arrest.loc[district,'Reported Theft']\n",
    "\n",
    "    dist_pred_arrest.loc[district,'Reported Battery'] = len(district_df[district_df['Primary Type'] == 'battery'])\n",
    "    dist_pred_arrest.loc[district,'Battery w/ Arrest Made'] = len(arrest_occurred[arrest_occurred['Primary Type'] == 'battery'])\n",
    "    dist_pred_arrest.loc[district,'Battery Arrest Rate'] = dist_pred_arrest.loc[district,'Battery w/ Arrest Made'] / dist_pred_arrest.loc[district,'Reported Battery']\n",
    "\n",
    "    \n",
    "    dist_pred_arrest.loc[district,'Reported Criminal Damage'] = len(district_df[district_df['Primary Type'] == 'criminal damage'])\n",
    "    dist_pred_arrest.loc[district,'Criminal Damage w/ Arrest Made'] = len(arrest_occurred[arrest_occurred['Primary Type'] == 'criminal damage'])\n",
    "    dist_pred_arrest.loc[district,'Criminal Damage Arrest Rate'] = dist_pred_arrest.loc[district,'Criminal Damage w/ Arrest Made'] / dist_pred_arrest.loc[district,'Reported Criminal Damage']\n",
    "\n",
    "    \n",
    "    \n",
    "    \n",
    "    \n"
   ]
  },
  {
   "cell_type": "code",
   "execution_count": 21,
   "metadata": {},
   "outputs": [],
   "source": [
    "assert 21 not in dist_pred_arrest.index"
   ]
  },
  {
   "cell_type": "code",
   "execution_count": 22,
   "metadata": {},
   "outputs": [
    {
     "data": {
      "text/plain": [
       "array([0.21212121, 0.14285714, 0.06666667, 0.1       , 0.        ,\n",
       "       0.21428571, 0.08695652, 0.16      , 0.1       , 0.        ,\n",
       "       0.125     , 0.        , 0.04347826, 0.2       , 0.        ,\n",
       "       0.07692308, 0.34210526, 0.125     , 0.        , 0.125     ,\n",
       "       0.25      , 0.28571429])"
      ]
     },
     "execution_count": 22,
     "metadata": {},
     "output_type": "execute_result"
    }
   ],
   "source": [
    "dist_pred_arrest = dist_pred_arrest.sort_index()\n",
    "dist_pred_arrest['District'] = dist_pred_arrest.index\n",
    "dist_pred_arrest['Theft Arrest Rate'].values"
   ]
  },
  {
   "cell_type": "code",
   "execution_count": 23,
   "metadata": {},
   "outputs": [
    {
     "name": "stdout",
     "output_type": "stream",
     "text": [
      "Max arrest rate: 0.34210526315789475\tDistrict: 18\n",
      "Min arrest rate: 0.0\tDistrict: 5\n"
     ]
    }
   ],
   "source": [
    "print('Max arrest rate: {0}\\tDistrict: {1}'.format(dist_pred_arrest['Theft Arrest Rate'].max(),dist_pred_arrest['Theft Arrest Rate'].idxmax()))\n",
    "print('Min arrest rate: {0}\\tDistrict: {1}'.format(dist_pred_arrest['Theft Arrest Rate'].min(),dist_pred_arrest['Theft Arrest Rate'].idxmin()))\n",
    "\n"
   ]
  },
  {
   "cell_type": "code",
   "execution_count": 24,
   "metadata": {},
   "outputs": [],
   "source": [
    "crimes = crimes.rename(columns={'Primary Type': 'Type'})"
   ]
  },
  {
   "cell_type": "code",
   "execution_count": 25,
   "metadata": {},
   "outputs": [
    {
     "data": {
      "text/html": [
       "<div>\n",
       "<style scoped>\n",
       "    .dataframe tbody tr th:only-of-type {\n",
       "        vertical-align: middle;\n",
       "    }\n",
       "\n",
       "    .dataframe tbody tr th {\n",
       "        vertical-align: top;\n",
       "    }\n",
       "\n",
       "    .dataframe thead th {\n",
       "        text-align: right;\n",
       "    }\n",
       "</style>\n",
       "<table border=\"1\" class=\"dataframe\">\n",
       "  <thead>\n",
       "    <tr style=\"text-align: right;\">\n",
       "      <th></th>\n",
       "      <th>Date</th>\n",
       "      <th>Type</th>\n",
       "      <th>Arrest</th>\n",
       "      <th>Domestic</th>\n",
       "      <th>District</th>\n",
       "      <th>Year</th>\n",
       "      <th>Coordinates</th>\n",
       "      <th>location</th>\n",
       "    </tr>\n",
       "    <tr>\n",
       "      <th>ID</th>\n",
       "      <th></th>\n",
       "      <th></th>\n",
       "      <th></th>\n",
       "      <th></th>\n",
       "      <th></th>\n",
       "      <th></th>\n",
       "      <th></th>\n",
       "      <th></th>\n",
       "    </tr>\n",
       "  </thead>\n",
       "  <tbody>\n",
       "    <tr>\n",
       "      <th>7956475</th>\n",
       "      <td>3/4/2011 10:52</td>\n",
       "      <td>assault</td>\n",
       "      <td>True</td>\n",
       "      <td>False</td>\n",
       "      <td>10</td>\n",
       "      <td>2011</td>\n",
       "      <td>(41.84558589, -87.731082337)</td>\n",
       "      <td>school, public, building</td>\n",
       "    </tr>\n",
       "    <tr>\n",
       "      <th>7956476</th>\n",
       "      <td>3/4/2011 12:00</td>\n",
       "      <td>deceptive practice</td>\n",
       "      <td>False</td>\n",
       "      <td>False</td>\n",
       "      <td>9</td>\n",
       "      <td>2011</td>\n",
       "      <td>(41.811145384, -87.685707211)</td>\n",
       "      <td>residence</td>\n",
       "    </tr>\n",
       "    <tr>\n",
       "      <th>7956477</th>\n",
       "      <td>3/4/2011 9:00</td>\n",
       "      <td>criminal damage</td>\n",
       "      <td>False</td>\n",
       "      <td>False</td>\n",
       "      <td>18</td>\n",
       "      <td>2011</td>\n",
       "      <td>(41.924756753, -87.668780552)</td>\n",
       "      <td>residence</td>\n",
       "    </tr>\n",
       "    <tr>\n",
       "      <th>7956479</th>\n",
       "      <td>3/3/2011 8:00</td>\n",
       "      <td>theft</td>\n",
       "      <td>False</td>\n",
       "      <td>False</td>\n",
       "      <td>5</td>\n",
       "      <td>2011</td>\n",
       "      <td>(41.712529985, -87.631672138)</td>\n",
       "      <td>residential yard (front/back)</td>\n",
       "    </tr>\n",
       "    <tr>\n",
       "      <th>7956480</th>\n",
       "      <td>3/4/2011 10:35</td>\n",
       "      <td>battery</td>\n",
       "      <td>True</td>\n",
       "      <td>False</td>\n",
       "      <td>16</td>\n",
       "      <td>2011</td>\n",
       "      <td>(41.98287878, -87.791440835)</td>\n",
       "      <td>school, public, building</td>\n",
       "    </tr>\n",
       "  </tbody>\n",
       "</table>\n",
       "</div>"
      ],
      "text/plain": [
       "                   Date                Type  Arrest  Domestic  District  Year  \\\n",
       "ID                                                                              \n",
       "7956475  3/4/2011 10:52             assault    True     False        10  2011   \n",
       "7956476  3/4/2011 12:00  deceptive practice   False     False         9  2011   \n",
       "7956477   3/4/2011 9:00     criminal damage   False     False        18  2011   \n",
       "7956479   3/3/2011 8:00               theft   False     False         5  2011   \n",
       "7956480  3/4/2011 10:35             battery    True     False        16  2011   \n",
       "\n",
       "                           Coordinates                       location  \n",
       "ID                                                                     \n",
       "7956475   (41.84558589, -87.731082337)       school, public, building  \n",
       "7956476  (41.811145384, -87.685707211)                      residence  \n",
       "7956477  (41.924756753, -87.668780552)                      residence  \n",
       "7956479  (41.712529985, -87.631672138)  residential yard (front/back)  \n",
       "7956480   (41.98287878, -87.791440835)       school, public, building  "
      ]
     },
     "execution_count": 25,
     "metadata": {},
     "output_type": "execute_result"
    }
   ],
   "source": [
    "crimes.head()"
   ]
  },
  {
   "cell_type": "code",
   "execution_count": 26,
   "metadata": {},
   "outputs": [
    {
     "data": {
      "text/plain": [
       "<matplotlib.axes._subplots.AxesSubplot at 0x10a09e048>"
      ]
     },
     "execution_count": 26,
     "metadata": {},
     "output_type": "execute_result"
    },
    {
     "data": {
      "image/png": "[encoded data removed]",
      "text/plain": [
       "<Figure size 432x288 with 1 Axes>"
      ]
     },
     "metadata": {
      "needs_background": "light"
     },
     "output_type": "display_data"
    }
   ],
   "source": [
    "thefts = dist_pred_arrest['Theft Arrest Rate']\n",
    "thefts.hist()"
   ]
  },
  {
   "cell_type": "code",
   "execution_count": 27,
   "metadata": {},
   "outputs": [],
   "source": [
    "# want to predict whether an arrest was made from the district. So y is arrests, X is districts\n",
    "y = dist_pred_arrest['Theft Arrest Rate']\n",
    "X = districts\n",
    "model = sm.OLS(y,X)\n",
    "results = model.fit()"
   ]
  },
  {
   "cell_type": "markdown",
   "metadata": {},
   "source": [
    "So I have shown that there is not likely a linear relationship between district and theft arrest rate - check on A3"
   ]
  },
  {
   "cell_type": "code",
   "execution_count": 28,
   "metadata": {},
   "outputs": [
    {
     "data": {
      "text/plain": [
       "<matplotlib.axes._subplots.AxesSubplot at 0x11e0b9470>"
      ]
     },
     "execution_count": 28,
     "metadata": {},
     "output_type": "execute_result"
    },
    {
     "data": {
      "image/png": "[encoded data removed]",
      "text/plain": [
       "<Figure size 432x288 with 1 Axes>"
      ]
     },
     "metadata": {
      "needs_background": "light"
     },
     "output_type": "display_data"
    }
   ],
   "source": [
    "battery = dist_pred_arrest['Battery Arrest Rate']\n",
    "battery.hist()"
   ]
  },
  {
   "cell_type": "code",
   "execution_count": 29,
   "metadata": {},
   "outputs": [],
   "source": [
    "def arrest_to_int(string):\n",
    "    if string == True:\n",
    "        return 1\n",
    "    elif string == False:\n",
    "        return 0\n",
    "crimes['ArrestInts'] = crimes['Arrest'].apply(arrest_to_int)"
   ]
  },
  {
   "cell_type": "markdown",
   "metadata": {},
   "source": [
    "# Determine how arrest is predicted by Type of Crime"
   ]
  },
  {
   "cell_type": "code",
   "execution_count": 30,
   "metadata": {},
   "outputs": [
    {
     "data": {
      "text/html": [
       "<table class=\"simpletable\">\n",
       "<caption>OLS Regression Results</caption>\n",
       "<tr>\n",
       "  <th>Dep. Variable:</th>       <td>ArrestInts</td>    <th>  R-squared:         </th> <td>   0.486</td> \n",
       "</tr>\n",
       "<tr>\n",
       "  <th>Model:</th>                   <td>OLS</td>       <th>  Adj. R-squared:    </th> <td>   0.480</td> \n",
       "</tr>\n",
       "<tr>\n",
       "  <th>Method:</th>             <td>Least Squares</td>  <th>  F-statistic:       </th> <td>   84.89</td> \n",
       "</tr>\n",
       "<tr>\n",
       "  <th>Date:</th>             <td>Fri, 15 Mar 2019</td> <th>  Prob (F-statistic):</th> <td>6.44e-266</td>\n",
       "</tr>\n",
       "<tr>\n",
       "  <th>Time:</th>                 <td>11:18:17</td>     <th>  Log-Likelihood:    </th> <td> -613.80</td> \n",
       "</tr>\n",
       "<tr>\n",
       "  <th>No. Observations:</th>      <td>  1999</td>      <th>  AIC:               </th> <td>   1274.</td> \n",
       "</tr>\n",
       "<tr>\n",
       "  <th>Df Residuals:</th>          <td>  1976</td>      <th>  BIC:               </th> <td>   1402.</td> \n",
       "</tr>\n",
       "<tr>\n",
       "  <th>Df Model:</th>              <td>    22</td>      <th>                     </th>     <td> </td>    \n",
       "</tr>\n",
       "<tr>\n",
       "  <th>Covariance Type:</th>      <td>nonrobust</td>    <th>                     </th>     <td> </td>    \n",
       "</tr>\n",
       "</table>\n",
       "<table class=\"simpletable\">\n",
       "<tr>\n",
       "                      <td></td>                        <th>coef</th>     <th>std err</th>      <th>t</th>      <th>P>|t|</th>  <th>[0.025</th>    <th>0.975]</th>  \n",
       "</tr>\n",
       "<tr>\n",
       "  <th>Intercept</th>                                <td>-4.274e-15</td> <td>    0.165</td> <td>-2.58e-14</td> <td> 1.000</td> <td>   -0.324</td> <td>    0.324</td>\n",
       "</tr>\n",
       "<tr>\n",
       "  <th>Type[T.assault]</th>                          <td>    0.1613</td> <td>    0.169</td> <td>    0.955</td> <td> 0.340</td> <td>   -0.170</td> <td>    0.493</td>\n",
       "</tr>\n",
       "<tr>\n",
       "  <th>Type[T.battery]</th>                          <td>    0.2560</td> <td>    0.166</td> <td>    1.540</td> <td> 0.124</td> <td>   -0.070</td> <td>    0.582</td>\n",
       "</tr>\n",
       "<tr>\n",
       "  <th>Type[T.burglary]</th>                         <td>    0.0244</td> <td>    0.168</td> <td>    0.145</td> <td> 0.885</td> <td>   -0.305</td> <td>    0.354</td>\n",
       "</tr>\n",
       "<tr>\n",
       "  <th>Type[T.criminal damage]</th>                  <td>    0.0829</td> <td>    0.167</td> <td>    0.497</td> <td> 0.619</td> <td>   -0.244</td> <td>    0.410</td>\n",
       "</tr>\n",
       "<tr>\n",
       "  <th>Type[T.criminal trespass]</th>                <td>    0.7966</td> <td>    0.171</td> <td>    4.660</td> <td> 0.000</td> <td>    0.461</td> <td>    1.132</td>\n",
       "</tr>\n",
       "<tr>\n",
       "  <th>Type[T.deceptive practice]</th>               <td>    0.2338</td> <td>    0.170</td> <td>    1.378</td> <td> 0.168</td> <td>   -0.099</td> <td>    0.567</td>\n",
       "</tr>\n",
       "<tr>\n",
       "  <th>Type[T.gambling]</th>                         <td>    1.0000</td> <td>    0.370</td> <td>    2.703</td> <td> 0.007</td> <td>    0.275</td> <td>    1.725</td>\n",
       "</tr>\n",
       "<tr>\n",
       "  <th>Type[T.interference with public officer]</th> <td>    1.0000</td> <td>    0.253</td> <td>    3.957</td> <td> 0.000</td> <td>    0.504</td> <td>    1.496</td>\n",
       "</tr>\n",
       "<tr>\n",
       "  <th>Type[T.intimidation]</th>                     <td> 3.861e-15</td> <td>    0.370</td> <td> 1.04e-14</td> <td> 1.000</td> <td>   -0.725</td> <td>    0.725</td>\n",
       "</tr>\n",
       "<tr>\n",
       "  <th>Type[T.kidnapping]</th>                       <td> 8.665e-16</td> <td>    0.287</td> <td> 3.02e-15</td> <td> 1.000</td> <td>   -0.562</td> <td>    0.562</td>\n",
       "</tr>\n",
       "<tr>\n",
       "  <th>Type[T.liquor law violation]</th>             <td>    1.0000</td> <td>    0.253</td> <td>    3.957</td> <td> 0.000</td> <td>    0.504</td> <td>    1.496</td>\n",
       "</tr>\n",
       "<tr>\n",
       "  <th>Type[T.motor vehicle theft]</th>              <td>    0.0465</td> <td>    0.169</td> <td>    0.275</td> <td> 0.783</td> <td>   -0.285</td> <td>    0.378</td>\n",
       "</tr>\n",
       "<tr>\n",
       "  <th>Type[T.narcotics]</th>                        <td>    1.0000</td> <td>    0.167</td> <td>    6.000</td> <td> 0.000</td> <td>    0.673</td> <td>    1.327</td>\n",
       "</tr>\n",
       "<tr>\n",
       "  <th>Type[T.offense involving children]</th>       <td>    0.2667</td> <td>    0.186</td> <td>    1.432</td> <td> 0.152</td> <td>   -0.098</td> <td>    0.632</td>\n",
       "</tr>\n",
       "<tr>\n",
       "  <th>Type[T.other]</th>                            <td>    0.1571</td> <td>    0.168</td> <td>    0.937</td> <td> 0.349</td> <td>   -0.172</td> <td>    0.486</td>\n",
       "</tr>\n",
       "<tr>\n",
       "  <th>Type[T.prostitution]</th>                     <td>    1.0000</td> <td>    0.214</td> <td>    4.683</td> <td> 0.000</td> <td>    0.581</td> <td>    1.419</td>\n",
       "</tr>\n",
       "<tr>\n",
       "  <th>Type[T.public peace violation]</th>           <td>    0.7368</td> <td>    0.182</td> <td>    4.048</td> <td> 0.000</td> <td>    0.380</td> <td>    1.094</td>\n",
       "</tr>\n",
       "<tr>\n",
       "  <th>Type[T.robbery]</th>                          <td>    0.0175</td> <td>    0.171</td> <td>    0.103</td> <td> 0.918</td> <td>   -0.318</td> <td>    0.353</td>\n",
       "</tr>\n",
       "<tr>\n",
       "  <th>Type[T.sex offense]</th>                      <td>    0.5000</td> <td>    0.234</td> <td>    2.137</td> <td> 0.033</td> <td>    0.041</td> <td>    0.959</td>\n",
       "</tr>\n",
       "<tr>\n",
       "  <th>Type[T.sexual assault]</th>                   <td>    0.1429</td> <td>    0.207</td> <td>    0.689</td> <td> 0.491</td> <td>   -0.264</td> <td>    0.550</td>\n",
       "</tr>\n",
       "<tr>\n",
       "  <th>Type[T.theft]</th>                            <td>    0.1436</td> <td>    0.166</td> <td>    0.864</td> <td> 0.388</td> <td>   -0.183</td> <td>    0.470</td>\n",
       "</tr>\n",
       "<tr>\n",
       "  <th>Type[T.weapons violation]</th>                <td>    0.8000</td> <td>    0.186</td> <td>    4.297</td> <td> 0.000</td> <td>    0.435</td> <td>    1.165</td>\n",
       "</tr>\n",
       "</table>\n",
       "<table class=\"simpletable\">\n",
       "<tr>\n",
       "  <th>Omnibus:</th>       <td>561.636</td> <th>  Durbin-Watson:     </th> <td>   1.988</td> \n",
       "</tr>\n",
       "<tr>\n",
       "  <th>Prob(Omnibus):</th> <td> 0.000</td>  <th>  Jarque-Bera (JB):  </th> <td>1223.321</td> \n",
       "</tr>\n",
       "<tr>\n",
       "  <th>Skew:</th>          <td> 1.618</td>  <th>  Prob(JB):          </th> <td>2.29e-266</td>\n",
       "</tr>\n",
       "<tr>\n",
       "  <th>Kurtosis:</th>      <td> 5.054</td>  <th>  Cond. No.          </th> <td>    116.</td> \n",
       "</tr>\n",
       "</table><br/><br/>Warnings:<br/>[1] Standard Errors assume that the covariance matrix of the errors is correctly specified."
      ],
      "text/plain": [
       "<class 'statsmodels.iolib.summary.Summary'>\n",
       "\"\"\"\n",
       "                            OLS Regression Results                            \n",
       "==============================================================================\n",
       "Dep. Variable:             ArrestInts   R-squared:                       0.486\n",
       "Model:                            OLS   Adj. R-squared:                  0.480\n",
       "Method:                 Least Squares   F-statistic:                     84.89\n",
       "Date:                Fri, 15 Mar 2019   Prob (F-statistic):          6.44e-266\n",
       "Time:                        11:18:17   Log-Likelihood:                -613.80\n",
       "No. Observations:                1999   AIC:                             1274.\n",
       "Df Residuals:                    1976   BIC:                             1402.\n",
       "Df Model:                          22                                         \n",
       "Covariance Type:            nonrobust                                         \n",
       "============================================================================================================\n",
       "                                               coef    std err          t      P>|t|      [0.025      0.975]\n",
       "------------------------------------------------------------------------------------------------------------\n",
       "Intercept                                -4.274e-15      0.165  -2.58e-14      1.000      -0.324       0.324\n",
       "Type[T.assault]                              0.1613      0.169      0.955      0.340      -0.170       0.493\n",
       "Type[T.battery]                              0.2560      0.166      1.540      0.124      -0.070       0.582\n",
       "Type[T.burglary]                             0.0244      0.168      0.145      0.885      -0.305       0.354\n",
       "Type[T.criminal damage]                      0.0829      0.167      0.497      0.619      -0.244       0.410\n",
       "Type[T.criminal trespass]                    0.7966      0.171      4.660      0.000       0.461       1.132\n",
       "Type[T.deceptive practice]                   0.2338      0.170      1.378      0.168      -0.099       0.567\n",
       "Type[T.gambling]                             1.0000      0.370      2.703      0.007       0.275       1.725\n",
       "Type[T.interference with public officer]     1.0000      0.253      3.957      0.000       0.504       1.496\n",
       "Type[T.intimidation]                      3.861e-15      0.370   1.04e-14      1.000      -0.725       0.725\n",
       "Type[T.kidnapping]                        8.665e-16      0.287   3.02e-15      1.000      -0.562       0.562\n",
       "Type[T.liquor law violation]                 1.0000      0.253      3.957      0.000       0.504       1.496\n",
       "Type[T.motor vehicle theft]                  0.0465      0.169      0.275      0.783      -0.285       0.378\n",
       "Type[T.narcotics]                            1.0000      0.167      6.000      0.000       0.673       1.327\n",
       "Type[T.offense involving children]           0.2667      0.186      1.432      0.152      -0.098       0.632\n",
       "Type[T.other]                                0.1571      0.168      0.937      0.349      -0.172       0.486\n",
       "Type[T.prostitution]                         1.0000      0.214      4.683      0.000       0.581       1.419\n",
       "Type[T.public peace violation]               0.7368      0.182      4.048      0.000       0.380       1.094\n",
       "Type[T.robbery]                              0.0175      0.171      0.103      0.918      -0.318       0.353\n",
       "Type[T.sex offense]                          0.5000      0.234      2.137      0.033       0.041       0.959\n",
       "Type[T.sexual assault]                       0.1429      0.207      0.689      0.491      -0.264       0.550\n",
       "Type[T.theft]                                0.1436      0.166      0.864      0.388      -0.183       0.470\n",
       "Type[T.weapons violation]                    0.8000      0.186      4.297      0.000       0.435       1.165\n",
       "==============================================================================\n",
       "Omnibus:                      561.636   Durbin-Watson:                   1.988\n",
       "Prob(Omnibus):                  0.000   Jarque-Bera (JB):             1223.321\n",
       "Skew:                           1.618   Prob(JB):                    2.29e-266\n",
       "Kurtosis:                       5.054   Cond. No.                         116.\n",
       "==============================================================================\n",
       "\n",
       "Warnings:\n",
       "[1] Standard Errors assume that the covariance matrix of the errors is correctly specified.\n",
       "\"\"\""
      ]
     },
     "execution_count": 30,
     "metadata": {},
     "output_type": "execute_result"
    }
   ],
   "source": [
    "outcome, predictors = patsy.dmatrices('ArrestInts ~ Type',crimes)\n",
    "predictors = sm.add_constant(predictors)\n",
    "model = sm.OLS(outcome,predictors)\n",
    "results = model.fit()\n",
    "results.summary()"
   ]
  },
  {
   "cell_type": "markdown",
   "metadata": {},
   "source": [
    "# Predict arrest from District"
   ]
  },
  {
   "cell_type": "code",
   "execution_count": 31,
   "metadata": {},
   "outputs": [
    {
     "data": {
      "text/html": [
       "<table class=\"simpletable\">\n",
       "<caption>OLS Regression Results</caption>\n",
       "<tr>\n",
       "  <th>Dep. Variable:</th>       <td>ArrestInts</td>    <th>  R-squared:         </th> <td>   0.002</td>\n",
       "</tr>\n",
       "<tr>\n",
       "  <th>Model:</th>                   <td>OLS</td>       <th>  Adj. R-squared:    </th> <td>   0.001</td>\n",
       "</tr>\n",
       "<tr>\n",
       "  <th>Method:</th>             <td>Least Squares</td>  <th>  F-statistic:       </th> <td>   3.995</td>\n",
       "</tr>\n",
       "<tr>\n",
       "  <th>Date:</th>             <td>Fri, 15 Mar 2019</td> <th>  Prob (F-statistic):</th>  <td>0.0458</td> \n",
       "</tr>\n",
       "<tr>\n",
       "  <th>Time:</th>                 <td>11:18:21</td>     <th>  Log-Likelihood:    </th> <td> -1276.8</td>\n",
       "</tr>\n",
       "<tr>\n",
       "  <th>No. Observations:</th>      <td>  1999</td>      <th>  AIC:               </th> <td>   2558.</td>\n",
       "</tr>\n",
       "<tr>\n",
       "  <th>Df Residuals:</th>          <td>  1997</td>      <th>  BIC:               </th> <td>   2569.</td>\n",
       "</tr>\n",
       "<tr>\n",
       "  <th>Df Model:</th>              <td>     1</td>      <th>                     </th>     <td> </td>   \n",
       "</tr>\n",
       "<tr>\n",
       "  <th>Covariance Type:</th>      <td>nonrobust</td>    <th>                     </th>     <td> </td>   \n",
       "</tr>\n",
       "</table>\n",
       "<table class=\"simpletable\">\n",
       "<tr>\n",
       "      <td></td>         <th>coef</th>     <th>std err</th>      <th>t</th>      <th>P>|t|</th>  <th>[0.025</th>    <th>0.975]</th>  \n",
       "</tr>\n",
       "<tr>\n",
       "  <th>Intercept</th> <td>    0.3345</td> <td>    0.020</td> <td>   17.086</td> <td> 0.000</td> <td>    0.296</td> <td>    0.373</td>\n",
       "</tr>\n",
       "<tr>\n",
       "  <th>District</th>  <td>   -0.0029</td> <td>    0.001</td> <td>   -1.999</td> <td> 0.046</td> <td>   -0.006</td> <td>-5.51e-05</td>\n",
       "</tr>\n",
       "</table>\n",
       "<table class=\"simpletable\">\n",
       "<tr>\n",
       "  <th>Omnibus:</th>       <td>2639.245</td> <th>  Durbin-Watson:     </th> <td>   1.908</td>\n",
       "</tr>\n",
       "<tr>\n",
       "  <th>Prob(Omnibus):</th>  <td> 0.000</td>  <th>  Jarque-Bera (JB):  </th> <td> 377.670</td>\n",
       "</tr>\n",
       "<tr>\n",
       "  <th>Skew:</th>           <td> 0.864</td>  <th>  Prob(JB):          </th> <td>9.77e-83</td>\n",
       "</tr>\n",
       "<tr>\n",
       "  <th>Kurtosis:</th>       <td> 1.756</td>  <th>  Cond. No.          </th> <td>    25.5</td>\n",
       "</tr>\n",
       "</table><br/><br/>Warnings:<br/>[1] Standard Errors assume that the covariance matrix of the errors is correctly specified."
      ],
      "text/plain": [
       "<class 'statsmodels.iolib.summary.Summary'>\n",
       "\"\"\"\n",
       "                            OLS Regression Results                            \n",
       "==============================================================================\n",
       "Dep. Variable:             ArrestInts   R-squared:                       0.002\n",
       "Model:                            OLS   Adj. R-squared:                  0.001\n",
       "Method:                 Least Squares   F-statistic:                     3.995\n",
       "Date:                Fri, 15 Mar 2019   Prob (F-statistic):             0.0458\n",
       "Time:                        11:18:21   Log-Likelihood:                -1276.8\n",
       "No. Observations:                1999   AIC:                             2558.\n",
       "Df Residuals:                    1997   BIC:                             2569.\n",
       "Df Model:                           1                                         \n",
       "Covariance Type:            nonrobust                                         \n",
       "==============================================================================\n",
       "                 coef    std err          t      P>|t|      [0.025      0.975]\n",
       "------------------------------------------------------------------------------\n",
       "Intercept      0.3345      0.020     17.086      0.000       0.296       0.373\n",
       "District      -0.0029      0.001     -1.999      0.046      -0.006   -5.51e-05\n",
       "==============================================================================\n",
       "Omnibus:                     2639.245   Durbin-Watson:                   1.908\n",
       "Prob(Omnibus):                  0.000   Jarque-Bera (JB):              377.670\n",
       "Skew:                           0.864   Prob(JB):                     9.77e-83\n",
       "Kurtosis:                       1.756   Cond. No.                         25.5\n",
       "==============================================================================\n",
       "\n",
       "Warnings:\n",
       "[1] Standard Errors assume that the covariance matrix of the errors is correctly specified.\n",
       "\"\"\""
      ]
     },
     "execution_count": 31,
     "metadata": {},
     "output_type": "execute_result"
    }
   ],
   "source": [
    "outcome, predictors = patsy.dmatrices('ArrestInts ~ District',crimes)\n",
    "predictors = sm.add_constant(predictors)\n",
    "model = sm.OLS(outcome,predictors)\n",
    "results = model.fit()\n",
    "results.summary()"
   ]
  },
  {
   "cell_type": "markdown",
   "metadata": {},
   "source": [
    "# Determine whether arrest is predicted by Type of Crime or District"
   ]
  },
  {
   "cell_type": "code",
   "execution_count": 45,
   "metadata": {},
   "outputs": [
    {
     "data": {
      "text/plain": [
       "<BarContainer object of 23 artists>"
      ]
     },
     "execution_count": 45,
     "metadata": {},
     "output_type": "execute_result"
    },
    {
     "data": {
      "image/png": "[encoded data removed]",
      "text/plain": [
       "<Figure size 432x288 with 1 Axes>"
      ]
     },
     "metadata": {
      "needs_background": "light"
     },
     "output_type": "display_data"
    }
   ],
   "source": [
    "\n",
    "plt.bar(crimes.Type.value_counts().index, crimes.Type.value_counts())\n",
    "# rotate labels"
   ]
  },
  {
   "cell_type": "code",
   "execution_count": 46,
   "metadata": {},
   "outputs": [
    {
     "data": {
      "text/plain": [
       "battery                             418\n",
       "theft                               383\n",
       "narcotics                           266\n",
       "criminal damage                     217\n",
       "other                               140\n",
       "burglary                            123\n",
       "assault                              93\n",
       "motor vehicle theft                  86\n",
       "deceptive practice                   77\n",
       "criminal trespass                    59\n",
       "robbery                              57\n",
       "public peace violation               19\n",
       "weapons violation                    15\n",
       "offense involving children           15\n",
       "sexual assault                        7\n",
       "prostitution                          6\n",
       "arson                                 4\n",
       "sex offense                           4\n",
       "interference with public officer      3\n",
       "liquor law violation                  3\n",
       "kidnapping                            2\n",
       "gambling                              1\n",
       "intimidation                          1\n",
       "Name: Type, dtype: int64"
      ]
     },
     "execution_count": 46,
     "metadata": {},
     "output_type": "execute_result"
    }
   ],
   "source": [
    "crimes.Type.value_counts()"
   ]
  },
  {
   "cell_type": "code",
   "execution_count": 59,
   "metadata": {},
   "outputs": [],
   "source": [
    "ind = (crimes.Type=='battery').values | (crimes.Type=='theft').values |  (crimes.Type=='narcotics').values |  (crimes.Type=='criminal damage').values \n",
    "\n",
    "\n"
   ]
  },
  {
   "cell_type": "code",
   "execution_count": 67,
   "metadata": {},
   "outputs": [],
   "source": [
    "crimes['District'] = crimes['District'].astype(str)"
   ]
  },
  {
   "cell_type": "code",
   "execution_count": 68,
   "metadata": {},
   "outputs": [
    {
     "data": {
      "text/html": [
       "<table class=\"simpletable\">\n",
       "<caption>Generalized Linear Model Regression Results</caption>\n",
       "<tr>\n",
       "  <th>Dep. Variable:</th>     <td>ArrestInts</td>    <th>  No. Observations:  </th>  <td>  1284</td>  \n",
       "</tr>\n",
       "<tr>\n",
       "  <th>Model:</th>                 <td>GLM</td>       <th>  Df Residuals:      </th>  <td>  1259</td>  \n",
       "</tr>\n",
       "<tr>\n",
       "  <th>Model Family:</th>       <td>Binomial</td>     <th>  Df Model:          </th>  <td>    24</td>  \n",
       "</tr>\n",
       "<tr>\n",
       "  <th>Link Function:</th>        <td>logit</td>      <th>  Scale:             </th> <td>  1.0000</td> \n",
       "</tr>\n",
       "<tr>\n",
       "  <th>Method:</th>               <td>IRLS</td>       <th>  Log-Likelihood:    </th> <td> -435.77</td> \n",
       "</tr>\n",
       "<tr>\n",
       "  <th>Date:</th>           <td>Fri, 15 Mar 2019</td> <th>  Deviance:          </th> <td>  871.54</td> \n",
       "</tr>\n",
       "<tr>\n",
       "  <th>Time:</th>               <td>11:49:36</td>     <th>  Pearson chi2:      </th> <td>1.01e+03</td> \n",
       "</tr>\n",
       "<tr>\n",
       "  <th>No. Iterations:</th>        <td>24</td>        <th>  Covariance Type:   </th> <td>nonrobust</td>\n",
       "</tr>\n",
       "</table>\n",
       "<table class=\"simpletable\">\n",
       "<tr>\n",
       "             <td></td>                <th>coef</th>     <th>std err</th>      <th>z</th>      <th>P>|z|</th>  <th>[0.025</th>    <th>0.975]</th>  \n",
       "</tr>\n",
       "<tr>\n",
       "  <th>Intercept</th>               <td>   -0.0368</td> <td>    0.399</td> <td>   -0.092</td> <td> 0.927</td> <td>   -0.819</td> <td>    0.745</td>\n",
       "</tr>\n",
       "<tr>\n",
       "  <th>Type[T.criminal damage]</th> <td>   -1.3715</td> <td>    0.279</td> <td>   -4.918</td> <td> 0.000</td> <td>   -1.918</td> <td>   -0.825</td>\n",
       "</tr>\n",
       "<tr>\n",
       "  <th>Type[T.narcotics]</th>       <td>   26.8463</td> <td> 1.29e+04</td> <td>    0.002</td> <td> 0.998</td> <td>-2.53e+04</td> <td> 2.53e+04</td>\n",
       "</tr>\n",
       "<tr>\n",
       "  <th>Type[T.theft]</th>           <td>   -0.9839</td> <td>    0.205</td> <td>   -4.791</td> <td> 0.000</td> <td>   -1.386</td> <td>   -0.581</td>\n",
       "</tr>\n",
       "<tr>\n",
       "  <th>District[T.10]</th>          <td>   -1.6589</td> <td>    0.612</td> <td>   -2.708</td> <td> 0.007</td> <td>   -2.859</td> <td>   -0.458</td>\n",
       "</tr>\n",
       "<tr>\n",
       "  <th>District[T.11]</th>          <td>   -2.2561</td> <td>    0.647</td> <td>   -3.488</td> <td> 0.000</td> <td>   -3.524</td> <td>   -0.988</td>\n",
       "</tr>\n",
       "<tr>\n",
       "  <th>District[T.12]</th>          <td>   -1.1824</td> <td>    0.581</td> <td>   -2.035</td> <td> 0.042</td> <td>   -2.321</td> <td>   -0.043</td>\n",
       "</tr>\n",
       "<tr>\n",
       "  <th>District[T.14]</th>          <td>   -0.9574</td> <td>    0.543</td> <td>   -1.763</td> <td> 0.078</td> <td>   -2.022</td> <td>    0.107</td>\n",
       "</tr>\n",
       "<tr>\n",
       "  <th>District[T.15]</th>          <td>   -0.7664</td> <td>    0.587</td> <td>   -1.306</td> <td> 0.191</td> <td>   -1.916</td> <td>    0.383</td>\n",
       "</tr>\n",
       "<tr>\n",
       "  <th>District[T.16]</th>          <td>   -0.7844</td> <td>    0.581</td> <td>   -1.350</td> <td> 0.177</td> <td>   -1.923</td> <td>    0.354</td>\n",
       "</tr>\n",
       "<tr>\n",
       "  <th>District[T.17]</th>          <td>   -1.0718</td> <td>    0.589</td> <td>   -1.821</td> <td> 0.069</td> <td>   -2.225</td> <td>    0.082</td>\n",
       "</tr>\n",
       "<tr>\n",
       "  <th>District[T.18]</th>          <td>    0.1857</td> <td>    0.461</td> <td>    0.403</td> <td> 0.687</td> <td>   -0.718</td> <td>    1.089</td>\n",
       "</tr>\n",
       "<tr>\n",
       "  <th>District[T.19]</th>          <td>   -1.0291</td> <td>    0.613</td> <td>   -1.679</td> <td> 0.093</td> <td>   -2.230</td> <td>    0.172</td>\n",
       "</tr>\n",
       "<tr>\n",
       "  <th>District[T.2]</th>           <td>   -0.7582</td> <td>    0.527</td> <td>   -1.439</td> <td> 0.150</td> <td>   -1.791</td> <td>    0.274</td>\n",
       "</tr>\n",
       "<tr>\n",
       "  <th>District[T.20]</th>          <td>   -2.0089</td> <td>    1.103</td> <td>   -1.822</td> <td> 0.068</td> <td>   -4.170</td> <td>    0.152</td>\n",
       "</tr>\n",
       "<tr>\n",
       "  <th>District[T.22]</th>          <td>   -1.6201</td> <td>    0.650</td> <td>   -2.493</td> <td> 0.013</td> <td>   -2.894</td> <td>   -0.346</td>\n",
       "</tr>\n",
       "<tr>\n",
       "  <th>District[T.24]</th>          <td>   -1.0305</td> <td>    0.623</td> <td>   -1.654</td> <td> 0.098</td> <td>   -2.252</td> <td>    0.191</td>\n",
       "</tr>\n",
       "<tr>\n",
       "  <th>District[T.25]</th>          <td>   -0.4586</td> <td>    0.474</td> <td>   -0.967</td> <td> 0.334</td> <td>   -1.388</td> <td>    0.471</td>\n",
       "</tr>\n",
       "<tr>\n",
       "  <th>District[T.3]</th>           <td>   -0.6609</td> <td>    0.501</td> <td>   -1.320</td> <td> 0.187</td> <td>   -1.643</td> <td>    0.321</td>\n",
       "</tr>\n",
       "<tr>\n",
       "  <th>District[T.4]</th>           <td>   -1.0879</td> <td>    0.507</td> <td>   -2.146</td> <td> 0.032</td> <td>   -2.082</td> <td>   -0.094</td>\n",
       "</tr>\n",
       "<tr>\n",
       "  <th>District[T.5]</th>           <td>   -1.2347</td> <td>    0.543</td> <td>   -2.273</td> <td> 0.023</td> <td>   -2.300</td> <td>   -0.170</td>\n",
       "</tr>\n",
       "<tr>\n",
       "  <th>District[T.6]</th>           <td>   -0.4847</td> <td>    0.525</td> <td>   -0.923</td> <td> 0.356</td> <td>   -1.514</td> <td>    0.545</td>\n",
       "</tr>\n",
       "<tr>\n",
       "  <th>District[T.7]</th>           <td>   -1.7626</td> <td>    0.576</td> <td>   -3.062</td> <td> 0.002</td> <td>   -2.891</td> <td>   -0.634</td>\n",
       "</tr>\n",
       "<tr>\n",
       "  <th>District[T.8]</th>           <td>   -1.0810</td> <td>    0.511</td> <td>   -2.115</td> <td> 0.034</td> <td>   -2.083</td> <td>   -0.079</td>\n",
       "</tr>\n",
       "<tr>\n",
       "  <th>District[T.9]</th>           <td>   -0.8942</td> <td>    0.573</td> <td>   -1.560</td> <td> 0.119</td> <td>   -2.018</td> <td>    0.229</td>\n",
       "</tr>\n",
       "</table>"
      ],
      "text/plain": [
       "<class 'statsmodels.iolib.summary.Summary'>\n",
       "\"\"\"\n",
       "                 Generalized Linear Model Regression Results                  \n",
       "==============================================================================\n",
       "Dep. Variable:             ArrestInts   No. Observations:                 1284\n",
       "Model:                            GLM   Df Residuals:                     1259\n",
       "Model Family:                Binomial   Df Model:                           24\n",
       "Link Function:                  logit   Scale:                          1.0000\n",
       "Method:                          IRLS   Log-Likelihood:                -435.77\n",
       "Date:                Fri, 15 Mar 2019   Deviance:                       871.54\n",
       "Time:                        11:49:36   Pearson chi2:                 1.01e+03\n",
       "No. Iterations:                    24   Covariance Type:             nonrobust\n",
       "===========================================================================================\n",
       "                              coef    std err          z      P>|z|      [0.025      0.975]\n",
       "-------------------------------------------------------------------------------------------\n",
       "Intercept                  -0.0368      0.399     -0.092      0.927      -0.819       0.745\n",
       "Type[T.criminal damage]    -1.3715      0.279     -4.918      0.000      -1.918      -0.825\n",
       "Type[T.narcotics]          26.8463   1.29e+04      0.002      0.998   -2.53e+04    2.53e+04\n",
       "Type[T.theft]              -0.9839      0.205     -4.791      0.000      -1.386      -0.581\n",
       "District[T.10]             -1.6589      0.612     -2.708      0.007      -2.859      -0.458\n",
       "District[T.11]             -2.2561      0.647     -3.488      0.000      -3.524      -0.988\n",
       "District[T.12]             -1.1824      0.581     -2.035      0.042      -2.321      -0.043\n",
       "District[T.14]             -0.9574      0.543     -1.763      0.078      -2.022       0.107\n",
       "District[T.15]             -0.7664      0.587     -1.306      0.191      -1.916       0.383\n",
       "District[T.16]             -0.7844      0.581     -1.350      0.177      -1.923       0.354\n",
       "District[T.17]             -1.0718      0.589     -1.821      0.069      -2.225       0.082\n",
       "District[T.18]              0.1857      0.461      0.403      0.687      -0.718       1.089\n",
       "District[T.19]             -1.0291      0.613     -1.679      0.093      -2.230       0.172\n",
       "District[T.2]              -0.7582      0.527     -1.439      0.150      -1.791       0.274\n",
       "District[T.20]             -2.0089      1.103     -1.822      0.068      -4.170       0.152\n",
       "District[T.22]             -1.6201      0.650     -2.493      0.013      -2.894      -0.346\n",
       "District[T.24]             -1.0305      0.623     -1.654      0.098      -2.252       0.191\n",
       "District[T.25]             -0.4586      0.474     -0.967      0.334      -1.388       0.471\n",
       "District[T.3]              -0.6609      0.501     -1.320      0.187      -1.643       0.321\n",
       "District[T.4]              -1.0879      0.507     -2.146      0.032      -2.082      -0.094\n",
       "District[T.5]              -1.2347      0.543     -2.273      0.023      -2.300      -0.170\n",
       "District[T.6]              -0.4847      0.525     -0.923      0.356      -1.514       0.545\n",
       "District[T.7]              -1.7626      0.576     -3.062      0.002      -2.891      -0.634\n",
       "District[T.8]              -1.0810      0.511     -2.115      0.034      -2.083      -0.079\n",
       "District[T.9]              -0.8942      0.573     -1.560      0.119      -2.018       0.229\n",
       "===========================================================================================\n",
       "\"\"\""
      ]
     },
     "execution_count": 68,
     "metadata": {},
     "output_type": "execute_result"
    }
   ],
   "source": [
    "binomial_model = smf.glm(formula='ArrestInts ~ Type + District', data=crimes.loc[ind,:] , family=sm.families.Binomial())\n",
    "binomial_results = binomial_model.fit()\n",
    "binomial_results.summary()"
   ]
  },
  {
   "cell_type": "code",
   "execution_count": null,
   "metadata": {},
   "outputs": [
    {
     "data": {
      "text/html": [
       "<table class=\"simpletable\">\n",
       "<caption>OLS Regression Results</caption>\n",
       "<tr>\n",
       "  <th>Dep. Variable:</th>       <td>ArrestInts</td>    <th>  R-squared:         </th>  <td>   0.447</td>  \n",
       "</tr>\n",
       "<tr>\n",
       "  <th>Model:</th>                   <td>OLS</td>       <th>  Adj. R-squared:    </th>  <td>   0.447</td>  \n",
       "</tr>\n",
       "<tr>\n",
       "  <th>Method:</th>             <td>Least Squares</td>  <th>  F-statistic:       </th>  <td>1.669e+05</td> \n",
       "</tr>\n",
       "<tr>\n",
       "  <th>Date:</th>             <td>Thu, 14 Mar 2019</td> <th>  Prob (F-statistic):</th>   <td>  0.00</td>   \n",
       "</tr>\n",
       "<tr>\n",
       "  <th>Time:</th>                 <td>19:15:08</td>     <th>  Log-Likelihood:    </th> <td>-2.1637e+06</td>\n",
       "</tr>\n",
       "<tr>\n",
       "  <th>No. Observations:</th>      <td>6802128</td>     <th>  AIC:               </th>  <td>4.328e+06</td> \n",
       "</tr>\n",
       "<tr>\n",
       "  <th>Df Residuals:</th>          <td>6802094</td>     <th>  BIC:               </th>  <td>4.328e+06</td> \n",
       "</tr>\n",
       "<tr>\n",
       "  <th>Df Model:</th>              <td>    33</td>      <th>                     </th>      <td> </td>     \n",
       "</tr>\n",
       "<tr>\n",
       "  <th>Covariance Type:</th>      <td>nonrobust</td>    <th>                     </th>      <td> </td>     \n",
       "</tr>\n",
       "</table>\n",
       "<table class=\"simpletable\">\n",
       "<tr>\n",
       "                      <td></td>                         <th>coef</th>     <th>std err</th>      <th>t</th>      <th>P>|t|</th>  <th>[0.025</th>    <th>0.975]</th>  \n",
       "</tr>\n",
       "<tr>\n",
       "  <th>Intercept</th>                                 <td>    0.1294</td> <td>    0.003</td> <td>   41.142</td> <td> 0.000</td> <td>    0.123</td> <td>    0.136</td>\n",
       "</tr>\n",
       "<tr>\n",
       "  <th>Type[T.assault]</th>                           <td>    0.1006</td> <td>    0.003</td> <td>   31.633</td> <td> 0.000</td> <td>    0.094</td> <td>    0.107</td>\n",
       "</tr>\n",
       "<tr>\n",
       "  <th>Type[T.battery]</th>                           <td>    0.0976</td> <td>    0.003</td> <td>   30.954</td> <td> 0.000</td> <td>    0.091</td> <td>    0.104</td>\n",
       "</tr>\n",
       "<tr>\n",
       "  <th>Type[T.burglary]</th>                          <td>   -0.0729</td> <td>    0.003</td> <td>  -22.904</td> <td> 0.000</td> <td>   -0.079</td> <td>   -0.067</td>\n",
       "</tr>\n",
       "<tr>\n",
       "  <th>Type[T.concealed carry license violation]</th> <td>    0.8096</td> <td>    0.019</td> <td>   42.608</td> <td> 0.000</td> <td>    0.772</td> <td>    0.847</td>\n",
       "</tr>\n",
       "<tr>\n",
       "  <th>Type[T.criminal damage]</th>                   <td>   -0.0597</td> <td>    0.003</td> <td>  -18.870</td> <td> 0.000</td> <td>   -0.066</td> <td>   -0.053</td>\n",
       "</tr>\n",
       "<tr>\n",
       "  <th>Type[T.criminal trespass]</th>                 <td>    0.6011</td> <td>    0.003</td> <td>  186.204</td> <td> 0.000</td> <td>    0.595</td> <td>    0.607</td>\n",
       "</tr>\n",
       "<tr>\n",
       "  <th>Type[T.deceptive practice]</th>                <td>    0.0357</td> <td>    0.003</td> <td>   11.140</td> <td> 0.000</td> <td>    0.029</td> <td>    0.042</td>\n",
       "</tr>\n",
       "<tr>\n",
       "  <th>Type[T.domestic violence]</th>                 <td>    0.8703</td> <td>    0.333</td> <td>    2.617</td> <td> 0.009</td> <td>    0.218</td> <td>    1.522</td>\n",
       "</tr>\n",
       "<tr>\n",
       "  <th>Type[T.gambling]</th>                          <td>    0.8627</td> <td>    0.004</td> <td>  206.108</td> <td> 0.000</td> <td>    0.855</td> <td>    0.871</td>\n",
       "</tr>\n",
       "<tr>\n",
       "  <th>Type[T.homicide]</th>                          <td>    0.3403</td> <td>    0.005</td> <td>   73.451</td> <td> 0.000</td> <td>    0.331</td> <td>    0.349</td>\n",
       "</tr>\n",
       "<tr>\n",
       "  <th>Type[T.human trafficking]</th>                 <td>   -0.0189</td> <td>    0.045</td> <td>   -0.416</td> <td> 0.677</td> <td>   -0.108</td> <td>    0.070</td>\n",
       "</tr>\n",
       "<tr>\n",
       "  <th>Type[T.interference with public officer]</th>  <td>    0.7878</td> <td>    0.004</td> <td>  190.861</td> <td> 0.000</td> <td>    0.780</td> <td>    0.796</td>\n",
       "</tr>\n",
       "<tr>\n",
       "  <th>Type[T.intimidation]</th>                      <td>    0.0453</td> <td>    0.006</td> <td>    7.377</td> <td> 0.000</td> <td>    0.033</td> <td>    0.057</td>\n",
       "</tr>\n",
       "<tr>\n",
       "  <th>Type[T.kidnapping]</th>                        <td>   -0.0192</td> <td>    0.005</td> <td>   -3.735</td> <td> 0.000</td> <td>   -0.029</td> <td>   -0.009</td>\n",
       "</tr>\n",
       "<tr>\n",
       "  <th>Type[T.liquor law violation]</th>              <td>    0.8609</td> <td>    0.004</td> <td>  204.600</td> <td> 0.000</td> <td>    0.853</td> <td>    0.869</td>\n",
       "</tr>\n",
       "<tr>\n",
       "  <th>Type[T.motor vehicle theft]</th>               <td>   -0.0392</td> <td>    0.003</td> <td>  -12.264</td> <td> 0.000</td> <td>   -0.045</td> <td>   -0.033</td>\n",
       "</tr>\n",
       "<tr>\n",
       "  <th>Type[T.narcotics]</th>                         <td>    0.8639</td> <td>    0.003</td> <td>  273.071</td> <td> 0.000</td> <td>    0.858</td> <td>    0.870</td>\n",
       "</tr>\n",
       "<tr>\n",
       "  <th>Type[T.non-criminal]</th>                      <td>   -0.0435</td> <td>    0.023</td> <td>   -1.915</td> <td> 0.055</td> <td>   -0.088</td> <td>    0.001</td>\n",
       "</tr>\n",
       "<tr>\n",
       "  <th>Type[T.obscenity]</th>                         <td>    0.6891</td> <td>    0.014</td> <td>   49.131</td> <td> 0.000</td> <td>    0.662</td> <td>    0.717</td>\n",
       "</tr>\n",
       "<tr>\n",
       "  <th>Type[T.offense involving children]</th>        <td>    0.0806</td> <td>    0.004</td> <td>   23.008</td> <td> 0.000</td> <td>    0.074</td> <td>    0.087</td>\n",
       "</tr>\n",
       "<tr>\n",
       "  <th>Type[T.other]</th>                             <td>    0.0485</td> <td>    0.003</td> <td>   15.235</td> <td> 0.000</td> <td>    0.042</td> <td>    0.055</td>\n",
       "</tr>\n",
       "<tr>\n",
       "  <th>Type[T.other narcotic violation]</th>          <td>    0.5793</td> <td>    0.030</td> <td>   19.291</td> <td> 0.000</td> <td>    0.520</td> <td>    0.638</td>\n",
       "</tr>\n",
       "<tr>\n",
       "  <th>Type[T.prostitution]</th>                      <td>    0.8659</td> <td>    0.003</td> <td>  255.675</td> <td> 0.000</td> <td>    0.859</td> <td>    0.873</td>\n",
       "</tr>\n",
       "<tr>\n",
       "  <th>Type[T.public indecency]</th>                  <td>    0.8637</td> <td>    0.026</td> <td>   33.018</td> <td> 0.000</td> <td>    0.812</td> <td>    0.915</td>\n",
       "</tr>\n",
       "<tr>\n",
       "  <th>Type[T.public peace violation]</th>            <td>    0.5121</td> <td>    0.003</td> <td>  146.894</td> <td> 0.000</td> <td>    0.505</td> <td>    0.519</td>\n",
       "</tr>\n",
       "<tr>\n",
       "  <th>Type[T.ritualism]</th>                         <td>    0.0003</td> <td>    0.069</td> <td>    0.005</td> <td> 0.996</td> <td>   -0.136</td> <td>    0.136</td>\n",
       "</tr>\n",
       "<tr>\n",
       "  <th>Type[T.robbery]</th>                           <td>   -0.0332</td> <td>    0.003</td> <td>  -10.367</td> <td> 0.000</td> <td>   -0.040</td> <td>   -0.027</td>\n",
       "</tr>\n",
       "<tr>\n",
       "  <th>Type[T.sex offense]</th>                       <td>    0.1756</td> <td>    0.004</td> <td>   46.567</td> <td> 0.000</td> <td>    0.168</td> <td>    0.183</td>\n",
       "</tr>\n",
       "<tr>\n",
       "  <th>Type[T.sexual assault]</th>                    <td>    0.0258</td> <td>    0.004</td> <td>    6.915</td> <td> 0.000</td> <td>    0.018</td> <td>    0.033</td>\n",
       "</tr>\n",
       "<tr>\n",
       "  <th>Type[T.stalking]</th>                          <td>    0.0311</td> <td>    0.006</td> <td>    4.785</td> <td> 0.000</td> <td>    0.018</td> <td>    0.044</td>\n",
       "</tr>\n",
       "<tr>\n",
       "  <th>Type[T.theft]</th>                             <td>   -0.0108</td> <td>    0.003</td> <td>   -3.441</td> <td> 0.001</td> <td>   -0.017</td> <td>   -0.005</td>\n",
       "</tr>\n",
       "<tr>\n",
       "  <th>Type[T.weapons violation]</th>                 <td>    0.6638</td> <td>    0.003</td> <td>  196.634</td> <td> 0.000</td> <td>    0.657</td> <td>    0.670</td>\n",
       "</tr>\n",
       "<tr>\n",
       "  <th>District</th>                                  <td> 6.108e-05</td> <td> 1.84e-05</td> <td>    3.318</td> <td> 0.001</td> <td>  2.5e-05</td> <td> 9.72e-05</td>\n",
       "</tr>\n",
       "</table>\n",
       "<table class=\"simpletable\">\n",
       "<tr>\n",
       "  <th>Omnibus:</th>       <td>1970716.087</td> <th>  Durbin-Watson:     </th>  <td>   1.954</td>  \n",
       "</tr>\n",
       "<tr>\n",
       "  <th>Prob(Omnibus):</th>   <td> 0.000</td>    <th>  Jarque-Bera (JB):  </th> <td>4548198.447</td>\n",
       "</tr>\n",
       "<tr>\n",
       "  <th>Skew:</th>            <td> 1.671</td>    <th>  Prob(JB):          </th>  <td>    0.00</td>  \n",
       "</tr>\n",
       "<tr>\n",
       "  <th>Kurtosis:</th>        <td> 5.209</td>    <th>  Cond. No.          </th>  <td>3.47e+04</td>  \n",
       "</tr>\n",
       "</table><br/><br/>Warnings:<br/>[1] Standard Errors assume that the covariance matrix of the errors is correctly specified.<br/>[2] The condition number is large, 3.47e+04. This might indicate that there are<br/>strong multicollinearity or other numerical problems."
      ],
      "text/plain": [
       "<class 'statsmodels.iolib.summary.Summary'>\n",
       "\"\"\"\n",
       "                            OLS Regression Results                            \n",
       "==============================================================================\n",
       "Dep. Variable:             ArrestInts   R-squared:                       0.447\n",
       "Model:                            OLS   Adj. R-squared:                  0.447\n",
       "Method:                 Least Squares   F-statistic:                 1.669e+05\n",
       "Date:                Thu, 14 Mar 2019   Prob (F-statistic):               0.00\n",
       "Time:                        19:15:08   Log-Likelihood:            -2.1637e+06\n",
       "No. Observations:             6802128   AIC:                         4.328e+06\n",
       "Df Residuals:                 6802094   BIC:                         4.328e+06\n",
       "Df Model:                          33                                         \n",
       "Covariance Type:            nonrobust                                         \n",
       "=============================================================================================================\n",
       "                                                coef    std err          t      P>|t|      [0.025      0.975]\n",
       "-------------------------------------------------------------------------------------------------------------\n",
       "Intercept                                     0.1294      0.003     41.142      0.000       0.123       0.136\n",
       "Type[T.assault]                               0.1006      0.003     31.633      0.000       0.094       0.107\n",
       "Type[T.battery]                               0.0976      0.003     30.954      0.000       0.091       0.104\n",
       "Type[T.burglary]                             -0.0729      0.003    -22.904      0.000      -0.079      -0.067\n",
       "Type[T.concealed carry license violation]     0.8096      0.019     42.608      0.000       0.772       0.847\n",
       "Type[T.criminal damage]                      -0.0597      0.003    -18.870      0.000      -0.066      -0.053\n",
       "Type[T.criminal trespass]                     0.6011      0.003    186.204      0.000       0.595       0.607\n",
       "Type[T.deceptive practice]                    0.0357      0.003     11.140      0.000       0.029       0.042\n",
       "Type[T.domestic violence]                     0.8703      0.333      2.617      0.009       0.218       1.522\n",
       "Type[T.gambling]                              0.8627      0.004    206.108      0.000       0.855       0.871\n",
       "Type[T.homicide]                              0.3403      0.005     73.451      0.000       0.331       0.349\n",
       "Type[T.human trafficking]                    -0.0189      0.045     -0.416      0.677      -0.108       0.070\n",
       "Type[T.interference with public officer]      0.7878      0.004    190.861      0.000       0.780       0.796\n",
       "Type[T.intimidation]                          0.0453      0.006      7.377      0.000       0.033       0.057\n",
       "Type[T.kidnapping]                           -0.0192      0.005     -3.735      0.000      -0.029      -0.009\n",
       "Type[T.liquor law violation]                  0.8609      0.004    204.600      0.000       0.853       0.869\n",
       "Type[T.motor vehicle theft]                  -0.0392      0.003    -12.264      0.000      -0.045      -0.033\n",
       "Type[T.narcotics]                             0.8639      0.003    273.071      0.000       0.858       0.870\n",
       "Type[T.non-criminal]                         -0.0435      0.023     -1.915      0.055      -0.088       0.001\n",
       "Type[T.obscenity]                             0.6891      0.014     49.131      0.000       0.662       0.717\n",
       "Type[T.offense involving children]            0.0806      0.004     23.008      0.000       0.074       0.087\n",
       "Type[T.other]                                 0.0485      0.003     15.235      0.000       0.042       0.055\n",
       "Type[T.other narcotic violation]              0.5793      0.030     19.291      0.000       0.520       0.638\n",
       "Type[T.prostitution]                          0.8659      0.003    255.675      0.000       0.859       0.873\n",
       "Type[T.public indecency]                      0.8637      0.026     33.018      0.000       0.812       0.915\n",
       "Type[T.public peace violation]                0.5121      0.003    146.894      0.000       0.505       0.519\n",
       "Type[T.ritualism]                             0.0003      0.069      0.005      0.996      -0.136       0.136\n",
       "Type[T.robbery]                              -0.0332      0.003    -10.367      0.000      -0.040      -0.027\n",
       "Type[T.sex offense]                           0.1756      0.004     46.567      0.000       0.168       0.183\n",
       "Type[T.sexual assault]                        0.0258      0.004      6.915      0.000       0.018       0.033\n",
       "Type[T.stalking]                              0.0311      0.006      4.785      0.000       0.018       0.044\n",
       "Type[T.theft]                                -0.0108      0.003     -3.441      0.001      -0.017      -0.005\n",
       "Type[T.weapons violation]                     0.6638      0.003    196.634      0.000       0.657       0.670\n",
       "District                                   6.108e-05   1.84e-05      3.318      0.001     2.5e-05    9.72e-05\n",
       "==============================================================================\n",
       "Omnibus:                  1970716.087   Durbin-Watson:                   1.954\n",
       "Prob(Omnibus):                  0.000   Jarque-Bera (JB):          4548198.447\n",
       "Skew:                           1.671   Prob(JB):                         0.00\n",
       "Kurtosis:                       5.209   Cond. No.                     3.47e+04\n",
       "==============================================================================\n",
       "\n",
       "Warnings:\n",
       "[1] Standard Errors assume that the covariance matrix of the errors is correctly specified.\n",
       "[2] The condition number is large, 3.47e+04. This might indicate that there are\n",
       "strong multicollinearity or other numerical problems.\n",
       "\"\"\""
      ]
     },
     "execution_count": 30,
     "metadata": {},
     "output_type": "execute_result"
    }
   ],
   "source": [
    "# want to predict whether an arrest was made from the district. So y is arrest rate, X is districts\n",
    "outcome, predictors = patsy.dmatrices('ArrestInts ~ Type + District',crimes)\n",
    "predictors = sm.add_constant(predictors)\n",
    "model = sm.OLS(outcome,predictors)\n",
    "results = model.fit()\n",
    "results.summary()"
   ]
  },
  {
   "cell_type": "code",
   "execution_count": null,
   "metadata": {},
   "outputs": [],
   "source": [
    "low_p = crimes[(crimes['Type'] == 'assault') | (crimes['Type'] == 'battery') | (crimes['Type'] == 'sex offense') | (crimes['Type'] == 'weapons violation') | (crimes['Type'] == 'public peace violation') | (crimes['Type'] == 'prositution') | (crimes['Type'] == 'liquor law violation') | (crimes['Type'] == 'criminal trespass') | (crimes['Type'] == 'interference with public officer') | (crimes['Type'] == 'narcotics') | (crimes['Type'] == 'gambling')]\n",
    "\n",
    "\n",
    "\n"
   ]
  },
  {
   "cell_type": "code",
   "execution_count": null,
   "metadata": {},
   "outputs": [
    {
     "data": {
      "text/plain": [
       "array(['battery', 'narcotics', 'weapons violation',\n",
       "       'public peace violation', 'assault', 'criminal trespass',\n",
       "       'interference with public officer', 'liquor law violation',\n",
       "       'sex offense', 'gambling'], dtype=object)"
      ]
     },
     "execution_count": 32,
     "metadata": {},
     "output_type": "execute_result"
    }
   ],
   "source": [
    "low_p['Type'].unique()"
   ]
  },
  {
   "cell_type": "code",
   "execution_count": null,
   "metadata": {},
   "outputs": [
    {
     "data": {
      "text/html": [
       "<table class=\"simpletable\">\n",
       "<caption>OLS Regression Results</caption>\n",
       "<tr>\n",
       "  <th>Dep. Variable:</th>       <td>ArrestInts</td>    <th>  R-squared:         </th>  <td>   0.471</td>  \n",
       "</tr>\n",
       "<tr>\n",
       "  <th>Model:</th>                   <td>OLS</td>       <th>  Adj. R-squared:    </th>  <td>   0.471</td>  \n",
       "</tr>\n",
       "<tr>\n",
       "  <th>Method:</th>             <td>Least Squares</td>  <th>  F-statistic:       </th>  <td>2.458e+05</td> \n",
       "</tr>\n",
       "<tr>\n",
       "  <th>Date:</th>             <td>Thu, 14 Mar 2019</td> <th>  Prob (F-statistic):</th>   <td>  0.00</td>   \n",
       "</tr>\n",
       "<tr>\n",
       "  <th>Time:</th>                 <td>19:17:33</td>     <th>  Log-Likelihood:    </th> <td>-1.1257e+06</td>\n",
       "</tr>\n",
       "<tr>\n",
       "  <th>No. Observations:</th>      <td>2762180</td>     <th>  AIC:               </th>  <td>2.251e+06</td> \n",
       "</tr>\n",
       "<tr>\n",
       "  <th>Df Residuals:</th>          <td>2762169</td>     <th>  BIC:               </th>  <td>2.251e+06</td> \n",
       "</tr>\n",
       "<tr>\n",
       "  <th>Df Model:</th>              <td>    10</td>      <th>                     </th>      <td> </td>     \n",
       "</tr>\n",
       "<tr>\n",
       "  <th>Covariance Type:</th>      <td>nonrobust</td>    <th>                     </th>      <td> </td>     \n",
       "</tr>\n",
       "</table>\n",
       "<table class=\"simpletable\">\n",
       "<tr>\n",
       "                      <td></td>                        <th>coef</th>     <th>std err</th>      <th>t</th>      <th>P>|t|</th>  <th>[0.025</th>    <th>0.975]</th>  \n",
       "</tr>\n",
       "<tr>\n",
       "  <th>Intercept</th>                                <td>    0.2230</td> <td>    0.001</td> <td>  338.359</td> <td> 0.000</td> <td>    0.222</td> <td>    0.224</td>\n",
       "</tr>\n",
       "<tr>\n",
       "  <th>Type[T.battery]</th>                          <td>   -0.0031</td> <td>    0.001</td> <td>   -4.762</td> <td> 0.000</td> <td>   -0.004</td> <td>   -0.002</td>\n",
       "</tr>\n",
       "<tr>\n",
       "  <th>Type[T.criminal trespass]</th>                <td>    0.5006</td> <td>    0.001</td> <td>  502.556</td> <td> 0.000</td> <td>    0.499</td> <td>    0.503</td>\n",
       "</tr>\n",
       "<tr>\n",
       "  <th>Type[T.gambling]</th>                         <td>    0.7623</td> <td>    0.003</td> <td>  247.589</td> <td> 0.000</td> <td>    0.756</td> <td>    0.768</td>\n",
       "</tr>\n",
       "<tr>\n",
       "  <th>Type[T.interference with public officer]</th> <td>    0.6869</td> <td>    0.003</td> <td>  230.195</td> <td> 0.000</td> <td>    0.681</td> <td>    0.693</td>\n",
       "</tr>\n",
       "<tr>\n",
       "  <th>Type[T.liquor law violation]</th>             <td>    0.7584</td> <td>    0.003</td> <td>  243.420</td> <td> 0.000</td> <td>    0.752</td> <td>    0.764</td>\n",
       "</tr>\n",
       "<tr>\n",
       "  <th>Type[T.narcotics]</th>                        <td>    0.7631</td> <td>    0.001</td> <td> 1080.796</td> <td> 0.000</td> <td>    0.762</td> <td>    0.764</td>\n",
       "</tr>\n",
       "<tr>\n",
       "  <th>Type[T.public peace violation]</th>           <td>    0.4111</td> <td>    0.002</td> <td>  234.783</td> <td> 0.000</td> <td>    0.408</td> <td>    0.415</td>\n",
       "</tr>\n",
       "<tr>\n",
       "  <th>Type[T.sex offense]</th>                      <td>    0.0741</td> <td>    0.002</td> <td>   31.479</td> <td> 0.000</td> <td>    0.069</td> <td>    0.079</td>\n",
       "</tr>\n",
       "<tr>\n",
       "  <th>Type[T.weapons violation]</th>                <td>    0.5634</td> <td>    0.001</td> <td>  383.817</td> <td> 0.000</td> <td>    0.561</td> <td>    0.566</td>\n",
       "</tr>\n",
       "<tr>\n",
       "  <th>District</th>                                 <td>    0.0007</td> <td> 3.27e-05</td> <td>   22.088</td> <td> 0.000</td> <td>    0.001</td> <td>    0.001</td>\n",
       "</tr>\n",
       "</table>\n",
       "<table class=\"simpletable\">\n",
       "<tr>\n",
       "  <th>Omnibus:</th>       <td>329437.921</td> <th>  Durbin-Watson:     </th>  <td>   1.961</td> \n",
       "</tr>\n",
       "<tr>\n",
       "  <th>Prob(Omnibus):</th>   <td> 0.000</td>   <th>  Jarque-Bera (JB):  </th> <td>459818.648</td>\n",
       "</tr>\n",
       "<tr>\n",
       "  <th>Skew:</th>            <td> 0.964</td>   <th>  Prob(JB):          </th>  <td>    0.00</td> \n",
       "</tr>\n",
       "<tr>\n",
       "  <th>Kurtosis:</th>        <td> 3.527</td>   <th>  Cond. No.          </th>  <td>    188.</td> \n",
       "</tr>\n",
       "</table><br/><br/>Warnings:<br/>[1] Standard Errors assume that the covariance matrix of the errors is correctly specified."
      ],
      "text/plain": [
       "<class 'statsmodels.iolib.summary.Summary'>\n",
       "\"\"\"\n",
       "                            OLS Regression Results                            \n",
       "==============================================================================\n",
       "Dep. Variable:             ArrestInts   R-squared:                       0.471\n",
       "Model:                            OLS   Adj. R-squared:                  0.471\n",
       "Method:                 Least Squares   F-statistic:                 2.458e+05\n",
       "Date:                Thu, 14 Mar 2019   Prob (F-statistic):               0.00\n",
       "Time:                        19:17:33   Log-Likelihood:            -1.1257e+06\n",
       "No. Observations:             2762180   AIC:                         2.251e+06\n",
       "Df Residuals:                 2762169   BIC:                         2.251e+06\n",
       "Df Model:                          10                                         \n",
       "Covariance Type:            nonrobust                                         \n",
       "============================================================================================================\n",
       "                                               coef    std err          t      P>|t|      [0.025      0.975]\n",
       "------------------------------------------------------------------------------------------------------------\n",
       "Intercept                                    0.2230      0.001    338.359      0.000       0.222       0.224\n",
       "Type[T.battery]                             -0.0031      0.001     -4.762      0.000      -0.004      -0.002\n",
       "Type[T.criminal trespass]                    0.5006      0.001    502.556      0.000       0.499       0.503\n",
       "Type[T.gambling]                             0.7623      0.003    247.589      0.000       0.756       0.768\n",
       "Type[T.interference with public officer]     0.6869      0.003    230.195      0.000       0.681       0.693\n",
       "Type[T.liquor law violation]                 0.7584      0.003    243.420      0.000       0.752       0.764\n",
       "Type[T.narcotics]                            0.7631      0.001   1080.796      0.000       0.762       0.764\n",
       "Type[T.public peace violation]               0.4111      0.002    234.783      0.000       0.408       0.415\n",
       "Type[T.sex offense]                          0.0741      0.002     31.479      0.000       0.069       0.079\n",
       "Type[T.weapons violation]                    0.5634      0.001    383.817      0.000       0.561       0.566\n",
       "District                                     0.0007   3.27e-05     22.088      0.000       0.001       0.001\n",
       "==============================================================================\n",
       "Omnibus:                   329437.921   Durbin-Watson:                   1.961\n",
       "Prob(Omnibus):                  0.000   Jarque-Bera (JB):           459818.648\n",
       "Skew:                           0.964   Prob(JB):                         0.00\n",
       "Kurtosis:                       3.527   Cond. No.                         188.\n",
       "==============================================================================\n",
       "\n",
       "Warnings:\n",
       "[1] Standard Errors assume that the covariance matrix of the errors is correctly specified.\n",
       "\"\"\""
      ]
     },
     "execution_count": 33,
     "metadata": {},
     "output_type": "execute_result"
    }
   ],
   "source": [
    "# want to predict whether an arrest was made from the district. So y is arrest rate, X is districts\n",
    "outcome, predictors = patsy.dmatrices('ArrestInts ~ Type + District',low_p)\n",
    "predictors = sm.add_constant(predictors)\n",
    "model = sm.OLS(outcome,predictors)\n",
    "results = model.fit()\n",
    "results.summary()"
   ]
  },
  {
   "cell_type": "code",
   "execution_count": null,
   "metadata": {},
   "outputs": [],
   "source": [
    "fig, ax = plt.subplots()\n",
    "fig = sm.graphics.plot_fit(results, 0, ax=ax)"
   ]
  },
  {
   "cell_type": "code",
   "execution_count": null,
   "metadata": {},
   "outputs": [],
   "source": [
    "rate_theft = dist_pred_arrest['Theft Arrest Rate'].values\n",
    "rate_battery = dist_pred_arrest['Battery Arrest Rate'].values\n",
    "rate_damage = dist_pred_arrest['Criminal Damage Arrest Rate'].values"
   ]
  },
  {
   "cell_type": "code",
   "execution_count": null,
   "metadata": {},
   "outputs": [],
   "source": [
    "st_theft, p_theft = stats.normaltest(rate_theft)\n",
    "st_battery, p_battery = stats.normaltest(rate_theft)\n",
    "st_damage, p_damage = stats.normaltest(rate_theft)"
   ]
  },
  {
   "cell_type": "code",
   "execution_count": null,
   "metadata": {},
   "outputs": [],
   "source": [
    "#  This plots a histogram, with the hypothetical normal distribution (with same mean and variance)\n",
    "xs = np.arange(rate_theft.min(), rate_theft.max(), 0.00001)\n",
    "fit = stats.norm.pdf(xs, np.mean(rate_theft), np.std(rate_theft))\n",
    "plt.plot(xs, fit, label='Normal Dist.', lw=4)\n",
    "plt.hist(rate_theft, normed=True, label='Actual Data');\n",
    "plt.title('Theft Arrest Rate Data')\n",
    "plt.legend();"
   ]
  },
  {
   "cell_type": "code",
   "execution_count": null,
   "metadata": {},
   "outputs": [],
   "source": [
    "#  This plots a histogram, with the hypothetical normal distribution (with same mean and variance)\n",
    "xs = np.arange(rate_battery.min(), rate_battery.max(), 0.00001)\n",
    "fit = stats.norm.pdf(xs, np.mean(rate_battery), np.std(rate_battery))\n",
    "plt.plot(xs, fit, label='Normal Dist.', lw=4)\n",
    "plt.hist(rate_battery, normed=True, label='Actual Data');\n",
    "plt.title('Battery Arrest Rate Data')\n",
    "plt.legend();"
   ]
  },
  {
   "cell_type": "code",
   "execution_count": null,
   "metadata": {},
   "outputs": [],
   "source": [
    "#  This plots a histogram, with the hypothetical normal distribution (with same mean and variance)\n",
    "xs = np.arange(rate_damage.min(), rate_damage.max(), 0.00001)\n",
    "fit = stats.norm.pdf(xs, np.mean(rate_damage), np.std(rate_damage))\n",
    "plt.plot(xs, fit, label='Normal Dist.', lw=4)\n",
    "plt.hist(rate_damage, normed=True, label='Actual Data');\n",
    "plt.title('Criminal Damage Arrest Rate Data')\n",
    "plt.legend();"
   ]
  },
  {
   "cell_type": "code",
   "execution_count": null,
   "metadata": {},
   "outputs": [],
   "source": [
    "theft_arrest_average = rate_theft.mean()\n",
    "battery_arrest_average = rate_battery.mean()\n",
    "damage_arrest_average = rate_damage.mean()"
   ]
  },
  {
   "cell_type": "code",
   "execution_count": null,
   "metadata": {},
   "outputs": [],
   "source": [
    "print('Theft Arrest Rate Average\\tBattery Arrest Average\\tCriminal Damage Arrest Average\\n{0}\\t\\t{1}\\t{2}'.format(theft_arrest_average,battery_arrest_average,damage_arrest_average))"
   ]
  },
  {
   "cell_type": "markdown",
   "metadata": {},
   "source": [
    "Battery is more likely to result in an arrest, on average, doesn't matter where you are. Criminal damage is the least likely to result in an arrest.\n",
    "\n",
    "Now, I should move onto the actual analysis of the question: what I want to do is show that there is a significant difference between districts in terms of these averages. Lets try to start with just comparing districts 1 and 2"
   ]
  },
  {
   "cell_type": "markdown",
   "metadata": {},
   "source": [
    "So my initial findings have indicated that there is in fact a very significant difference between the districts when it comes to the proportion of crimes that result in arrests.\n",
    "\n",
    "I will now turn the above code into a function to apply the two sample t test to all pairs of districts, which is n^2 time."
   ]
  },
  {
   "cell_type": "code",
   "execution_count": null,
   "metadata": {},
   "outputs": [],
   "source": [
    "def get_stats(dist_1,dist_2):\n",
    "    dist_1_battery = dist_1[dist_1['Primary Type'] == 'battery']\n",
    "    dist_2_battery = dist_2[dist_2['Primary Type'] == 'battery']\n",
    "    \n",
    "    dist_1_theft = dist_1[dist_1['Primary Type'] == 'theft']\n",
    "    dist_2_theft = dist_2[dist_2['Primary Type'] == 'theft']\n",
    "    \n",
    "    dist_1_damage = dist_1[dist_1['Primary Type'] == 'criminal damage']\n",
    "    dist_2_damage = dist_2[dist_2['Primary Type'] == 'criminal damage']\n",
    "\n",
    "    print('--------Theft Statistics---------\\n')\n",
    "    print('*******First District********')\n",
    "    print('Theft Arrest Mean:\\t{0}'.format(dist_1_theft['Arrest'].mean()))\n",
    "    print('Number of Thefts:\\t{0}'.format(len(dist_1_theft['Arrest'])))\n",
    "    \n",
    "    print('*******Second District********')\n",
    "    print('Theft Arrest Mean:\\t{0}'.format(dist_2_theft['Arrest'].mean()))\n",
    "    print('Number of Thefts:\\t{0}'.format(len(dist_2_theft['Arrest'])))\n",
    "\n",
    "    t_val, p_val = stats.ttest_ind(dist_1_theft['Arrest'], dist_2_theft['Arrest'])\n",
    "    print('Test Statistic:\\t{0}\\nP Value:\\t{1}'.format(t_val,p_val))\n",
    "\n",
    "    print('\\n--------Battery Statistics---------\\n')\n",
    "    print('*******First District********')\n",
    "    print('Battery Arrest Mean:\\t{0}'.format(dist_1_battery['Arrest'].mean()))\n",
    "    print('Number of Batteries:\\t{0}'.format(len(dist_1_battery['Arrest'])))\n",
    "    \n",
    "    print('*******Second District********')\n",
    "    print('Battery Arrest Mean:\\t{0}'.format(dist_2_battery['Arrest'].mean()))\n",
    "    print('Number of Batteries:\\t{0}'.format(len(dist_2_battery['Arrest'])))\n",
    "\n",
    "    t_val, p_val = stats.ttest_ind(dist_1_battery['Arrest'], dist_2_battery['Arrest'])\n",
    "    print('Test Statistic:\\t{0}\\nP Value:\\t{1}'.format(t_val,p_val))\n",
    "\n",
    "    print('\\n--------Criminal Damage Statistics---------\\n')\n",
    "    print('*******First District********')\n",
    "    print('Damage Arrest Mean:\\t{0}'.format(dist_1_damage['Arrest'].mean()))\n",
    "    print('Number of Damages:\\t{0}'.format(len(dist_1_damage['Arrest'])))\n",
    "    \n",
    "    print('*******Second District********')\n",
    "    print('Damage Arrest Mean:\\t{0}'.format(dist_2_damage['Arrest'].mean()))\n",
    "    print('Number of Damages:\\t{0}'.format(len(dist_2_damage['Arrest'])))\n",
    "\n",
    "    t_val, p_val = stats.ttest_ind(dist_1_damage['Arrest'], dist_2_damage['Arrest'])\n",
    "    print('Test Statistic:\\t{0}\\nP Value:\\t{1}'.format(t_val,p_val))\n"
   ]
  },
  {
   "cell_type": "code",
   "execution_count": null,
   "metadata": {},
   "outputs": [],
   "source": [
    "get_stats(district_cache[2.0],district_cache[4.0])"
   ]
  },
  {
   "cell_type": "code",
   "execution_count": null,
   "metadata": {},
   "outputs": [],
   "source": []
  }
 ],
 "metadata": {
  "kernelspec": {
   "display_name": "Python 3",
   "language": "python",
   "name": "python3"
  },
  "language_info": {
   "codemirror_mode": {
    "name": "ipython",
    "version": 3
   },
   "file_extension": ".py",
   "mimetype": "text/x-python",
   "name": "python",
   "nbconvert_exporter": "python",
   "pygments_lexer": "ipython3",
   "version": "3.7.2"
  }
 },
 "nbformat": 4,
 "nbformat_minor": 2
}
