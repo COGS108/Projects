{
 "cells": [
  {
   "cell_type": "code",
   "execution_count": 63,
   "metadata": {
    "collapsed": true
   },
   "outputs": [],
   "source": [
    "import pandas as pd\n",
    "import matplotlib.pyplot as plt"
   ]
  },
  {
   "cell_type": "code",
   "execution_count": 64,
   "metadata": {
    "collapsed": true
   },
   "outputs": [],
   "source": [
    "crimes = pd.read_csv('~/Downloads/cleaned_chicago_crime_data.csv')"
   ]
  },
  {
   "cell_type": "code",
   "execution_count": 76,
   "metadata": {},
   "outputs": [
    {
     "data": {
      "text/plain": [
       "[11.0,\n",
       " 7.0,\n",
       " 2.0,\n",
       " 9.0,\n",
       " 5.0,\n",
       " 6.0,\n",
       " 4.0,\n",
       " 12.0,\n",
       " 15.0,\n",
       " 14.0,\n",
       " 1.0,\n",
       " 20.0,\n",
       " 10.0,\n",
       " 22.0,\n",
       " 8.0,\n",
       " 17.0,\n",
       " 3.0,\n",
       " 18.0,\n",
       " 16.0,\n",
       " 25.0,\n",
       " 24.0,\n",
       " 19.0,\n",
       " 21.0]"
      ]
     },
     "execution_count": 76,
     "metadata": {},
     "output_type": "execute_result"
    }
   ],
   "source": [
    "# get list of unique districts 1-25\n",
    "districts = crimes['District'].unique().tolist()\n",
    "districts"
   ]
  },
  {
   "cell_type": "code",
   "execution_count": 66,
   "metadata": {},
   "outputs": [
    {
     "data": {
      "text/plain": [
       "['BATTERY',\n",
       " 'OTHER OFFENSE',\n",
       " 'ROBBERY',\n",
       " 'NARCOTICS',\n",
       " 'CRIMINAL DAMAGE',\n",
       " 'WEAPONS VIOLATION',\n",
       " 'THEFT',\n",
       " 'BURGLARY',\n",
       " 'MOTOR VEHICLE THEFT',\n",
       " 'PUBLIC PEACE VIOLATION',\n",
       " 'DECEPTIVE PRACTICE',\n",
       " 'ASSAULT',\n",
       " 'CRIMINAL TRESPASS',\n",
       " 'CRIM SEXUAL ASSAULT',\n",
       " 'INTERFERENCE WITH PUBLIC OFFICER',\n",
       " 'ARSON',\n",
       " 'LIQUOR LAW VIOLATION',\n",
       " 'KIDNAPPING',\n",
       " 'SEX OFFENSE',\n",
       " 'OFFENSE INVOLVING CHILDREN',\n",
       " 'PROSTITUTION',\n",
       " 'HOMICIDE',\n",
       " 'GAMBLING',\n",
       " 'INTIMIDATION',\n",
       " 'STALKING',\n",
       " 'OBSCENITY',\n",
       " 'PUBLIC INDECENCY',\n",
       " 'HUMAN TRAFFICKING',\n",
       " 'CONCEALED CARRY LICENSE VIOLATION',\n",
       " 'OTHER NARCOTIC VIOLATION',\n",
       " 'NON - CRIMINAL',\n",
       " 'NON-CRIMINAL',\n",
       " 'RITUALISM',\n",
       " 'NON-CRIMINAL (SUBJECT SPECIFIED)',\n",
       " 'DOMESTIC VIOLENCE']"
      ]
     },
     "execution_count": 66,
     "metadata": {},
     "output_type": "execute_result"
    }
   ],
   "source": [
    "crime_types = crimes['Primary Type'].unique().tolist()\n",
    "crime_types"
   ]
  },
  {
   "cell_type": "code",
   "execution_count": 67,
   "metadata": {
    "collapsed": true
   },
   "outputs": [],
   "source": [
    "violent_crimes = ['BATTERY','ASSAULT','CRIM SEXUAL ASSAULT', 'ARSON','HOMICIDE']\n",
    "felonies = ['HUMAN TRAFFICKING', 'HOMICIDE','ARSON','KIDNAPPING','BURGLARY','ROBBERY','BATTERY','STALKING','SEX OFFENSE']"
   ]
  },
  {
   "cell_type": "code",
   "execution_count": 68,
   "metadata": {
    "collapsed": true
   },
   "outputs": [],
   "source": [
    "violents = []\n",
    "for crime in violent_crimes:\n",
    "    violents.append( crimes.loc[ crimes['Primary Type'] == crime] )"
   ]
  },
  {
   "cell_type": "code",
   "execution_count": 69,
   "metadata": {
    "collapsed": true
   },
   "outputs": [],
   "source": [
    "df_violent = violents[0]\n",
    "for i in range(1,len(violents)):\n",
    "    df_violent.append(violents[i])"
   ]
  },
  {
   "cell_type": "code",
   "execution_count": 70,
   "metadata": {
    "collapsed": true
   },
   "outputs": [],
   "source": [
    "df_violent;"
   ]
  },
  {
   "cell_type": "code",
   "execution_count": 71,
   "metadata": {
    "collapsed": true
   },
   "outputs": [],
   "source": [
    "The goal of this notebook is to analyze the hypothesis: does the location description, time of day, or district predict whether a crime will be violent or not"
   ]
  },
  {
   "cell_type": "code",
   "execution_count": 72,
   "metadata": {
    "collapsed": true
   },
   "outputs": [],
   "source": [
    "import pandas as pd"
   ]
  },
  {
   "cell_type": "code",
   "execution_count": 88,
   "metadata": {
    "collapsed": true
   },
   "outputs": [],
   "source": [
    "crimes = pd.read_csv('~/Downloads/cleaned_chicago_crime_data.csv')"
   ]
  },
  {
   "cell_type": "code",
   "execution_count": 89,
   "metadata": {
    "collapsed": true
   },
   "outputs": [],
   "source": [
    "crimes.head()"
   ]
  },
  {
   "cell_type": "code",
   "execution_count": 96,
   "metadata": {
    "collapsed": true
   },
   "outputs": [],
   "source": [
    "crimes.index = crimes['ID'] # make the index the actual case number\n",
    "# remove columns that are unnecessary for the analysis and would probably just slow our code down\n",
    "crimes = crimes.drop(['Beat', 'FBI Code','Updated On', 'Case Number', 'Block', 'IUCR', 'ID', 'Unnamed: 0','Description', 'Ward', 'X Coordinate', 'Y Coordinate', 'Latitude', 'Longitude'], axis=1)"
   ]
  },
  {
   "cell_type": "code",
   "execution_count": 1,
   "metadata": {},
   "outputs": [
    {
     "ename": "NameError",
     "evalue": "name 'crimes' is not defined",
     "output_type": "error",
     "traceback": [
      "\u001b[0;31m---------------------------------------------------------------------------\u001b[0m",
      "\u001b[0;31mNameError\u001b[0m                                 Traceback (most recent call last)",
      "\u001b[0;32m<ipython-input-1-b9ee1cd61628>\u001b[0m in \u001b[0;36m<module>\u001b[0;34m\u001b[0m\n\u001b[0;32m----> 1\u001b[0;31m \u001b[0mcrime_types\u001b[0m \u001b[0;34m=\u001b[0m \u001b[0mcrimes\u001b[0m\u001b[0;34m[\u001b[0m\u001b[0;34m'Primary Type'\u001b[0m\u001b[0;34m]\u001b[0m\u001b[0;34m.\u001b[0m\u001b[0munique\u001b[0m\u001b[0;34m(\u001b[0m\u001b[0;34m)\u001b[0m\u001b[0;34m.\u001b[0m\u001b[0mtolist\u001b[0m\u001b[0;34m(\u001b[0m\u001b[0;34m)\u001b[0m\u001b[0;34m\u001b[0m\u001b[0;34m\u001b[0m\u001b[0m\n\u001b[0m\u001b[1;32m      2\u001b[0m \u001b[0mcrime_types\u001b[0m\u001b[0;34m;\u001b[0m\u001b[0;34m\u001b[0m\u001b[0;34m\u001b[0m\u001b[0m\n",
      "\u001b[0;31mNameError\u001b[0m: name 'crimes' is not defined"
     ]
    }
   ],
   "source": [
    "crime_types = crimes['Primary Type'].unique().tolist()"
   ]
  },
  {
   "cell_type": "markdown",
   "metadata": {},
   "source": [
    "### Begin cleaning data\n",
    "\n",
    "1. Remove NaN values\n",
    "2. standardize the crime type to get rid of the uppercase, standardize the non-criminal type\n",
    "3. standardize the location description"
   ]
  },
  {
   "cell_type": "markdown",
   "metadata": {},
   "source": [
    "There are actually no Nan values to remove! Government data is reliable I guess. The only NaN values are location, but we still know the district, so as long as we don't end up needing location later on, this is fine"
   ]
  },
  {
   "cell_type": "code",
   "execution_count": 113,
   "metadata": {
    "collapsed": true
   },
   "outputs": [],
   "source": [
    "to_drop = crimes[crimes.isnull().any(axis=1)]\n",
    "to_drop;"
   ]
  },
  {
   "cell_type": "code",
   "execution_count": 118,
   "metadata": {
    "collapsed": true
   },
   "outputs": [],
   "source": [
    "def standardize_primary_type(string):\n",
    "    # compile all non-criminal offenses into on label\n",
    "    if string == 'NON-CRIMINAL (SUBJECT SPECIFIED)' or string == 'NON - CRIMINAL' or string == 'NON-CRIMINAL':\n",
    "        return 'non-criminal'\n",
    "    if string == 'OTHER OFFENSE':\n",
    "        return 'other'\n",
    "    # rename crim sexual assault to just sexual assault to make it easier to read\n",
    "    if string == 'CRIM SEXUAL ASSAULT':\n",
    "        return 'sexual assault'\n",
    "    else:\n",
    "        # everything else, make sure to lowercase it so we don't have to use caps lock lol\n",
    "        return string.lower()\n",
    "        "
   ]
  },
  {
   "cell_type": "code",
   "execution_count": 82,
   "metadata": {},
   "outputs": [],
   "source": [
    "def standardize_location(string):\n",
    "    if type(string) == str:\n",
    "        string = string.lower()\n",
    "        if 'airport' in string:\n",
    "            return 'airport'\n",
    "    return string"
   ]
  },
  {
   "cell_type": "code",
   "execution_count": null,
   "metadata": {
    "collapsed": true
   },
   "outputs": [],
   "source": [
    "crimes['Primary Type'] = crimes['Primary Type'].apply(standardize_primary_type) # clean data \n",
    "crimes['location'] = crimes['Location Description'].apply(standardize_location)"
   ]
  },
  {
   "cell_type": "code",
   "execution_count": 17,
   "metadata": {
    "collapsed": true
   },
   "outputs": [],
   "source": [
    "# be careful if you run this one, only run it once it won't work the second time \n",
    "crimes = crimes.drop(['Location Description','Community Area'],axis=1)"
   ]
  },
  {
   "cell_type": "code",
   "execution_count": 104,
   "metadata": {},
   "outputs": [],
   "source": [
    "crimes = crimes.rename(columns = {'Location': 'Coordinates'})"
   ]
  },
  {
   "cell_type": "code",
   "execution_count": 23,
   "metadata": {
    "collapsed": true
   },
   "outputs": [],
   "source": [
    "violents = ['BATTERY','ASSAULT','CRIM SEXUAL ASSAULT', 'ARSON','HOMICIDE']"
   ]
  },
  {
   "cell_type": "code",
   "execution_count": 108,
   "metadata": {},
   "outputs": [],
   "source": [
    "violent_crimes = crimes[ (crimes['Primary Type'] == 'battery') | (crimes['Primary Type'] == 'assault') | (crimes['Primary Type'] == 'sexual assault') | (crimes['Primary Type'] == 'arson') | (crimes['Primary Type'] == 'homicide')]"
   ]
  },
  {
   "cell_type": "code",
   "execution_count": null,
   "metadata": {
    "collapsed": true
   },
   "outputs": [],
   "source": []
  }
 ],
 "metadata": {
  "kernelspec": {
   "display_name": "Python 3",
   "language": "python",
   "name": "python3"
  },
  "language_info": {
   "codemirror_mode": {
    "name": "ipython",
    "version": 3
   },
   "file_extension": ".py",
   "mimetype": "text/x-python",
   "name": "python",
   "nbconvert_exporter": "python",
   "pygments_lexer": "ipython3",
   "version": "3.6.8"
  }
 },
 "nbformat": 4,
 "nbformat_minor": 2
}
