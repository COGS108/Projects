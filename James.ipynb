{
 "cells": [
  {
   "cell_type": "code",
   "execution_count": 1,
   "metadata": {},
   "outputs": [],
   "source": [
    "import pandas as pd\n",
    "import matplotlib.pyplot as plt"
   ]
  },
  {
   "cell_type": "code",
   "execution_count": 2,
   "metadata": {},
   "outputs": [],
   "source": [
    "crimes = pd.read_csv('~/Downloads/cleaned_chicago_crime_data.csv')"
   ]
  },
  {
   "cell_type": "code",
   "execution_count": 3,
   "metadata": {},
   "outputs": [
    {
     "data": {
      "text/plain": [
       "[11.0,\n",
       " 7.0,\n",
       " 2.0,\n",
       " 9.0,\n",
       " 5.0,\n",
       " 6.0,\n",
       " 4.0,\n",
       " 12.0,\n",
       " 15.0,\n",
       " 14.0,\n",
       " 1.0,\n",
       " 20.0,\n",
       " 10.0,\n",
       " 22.0,\n",
       " 8.0,\n",
       " 17.0,\n",
       " 3.0,\n",
       " 18.0,\n",
       " 16.0,\n",
       " 25.0,\n",
       " 24.0,\n",
       " 19.0,\n",
       " 21.0]"
      ]
     },
     "execution_count": 3,
     "metadata": {},
     "output_type": "execute_result"
    }
   ],
   "source": [
    "# get list of unique districts 1-25\n",
    "districts = crimes['District'].unique().tolist()\n",
    "districts"
   ]
  },
  {
   "cell_type": "code",
   "execution_count": 4,
   "metadata": {},
   "outputs": [
    {
     "data": {
      "text/plain": [
       "['BATTERY',\n",
       " 'OTHER OFFENSE',\n",
       " 'ROBBERY',\n",
       " 'NARCOTICS',\n",
       " 'CRIMINAL DAMAGE',\n",
       " 'WEAPONS VIOLATION',\n",
       " 'THEFT',\n",
       " 'BURGLARY',\n",
       " 'MOTOR VEHICLE THEFT',\n",
       " 'PUBLIC PEACE VIOLATION',\n",
       " 'DECEPTIVE PRACTICE',\n",
       " 'ASSAULT',\n",
       " 'CRIMINAL TRESPASS',\n",
       " 'CRIM SEXUAL ASSAULT',\n",
       " 'INTERFERENCE WITH PUBLIC OFFICER',\n",
       " 'ARSON',\n",
       " 'LIQUOR LAW VIOLATION',\n",
       " 'KIDNAPPING',\n",
       " 'SEX OFFENSE',\n",
       " 'OFFENSE INVOLVING CHILDREN',\n",
       " 'PROSTITUTION',\n",
       " 'HOMICIDE',\n",
       " 'GAMBLING',\n",
       " 'INTIMIDATION',\n",
       " 'STALKING',\n",
       " 'OBSCENITY',\n",
       " 'PUBLIC INDECENCY',\n",
       " 'HUMAN TRAFFICKING',\n",
       " 'CONCEALED CARRY LICENSE VIOLATION',\n",
       " 'OTHER NARCOTIC VIOLATION',\n",
       " 'NON - CRIMINAL',\n",
       " 'NON-CRIMINAL',\n",
       " 'RITUALISM',\n",
       " 'NON-CRIMINAL (SUBJECT SPECIFIED)',\n",
       " 'DOMESTIC VIOLENCE']"
      ]
     },
     "execution_count": 4,
     "metadata": {},
     "output_type": "execute_result"
    }
   ],
   "source": [
    "crime_types = crimes['Primary Type'].unique().tolist()\n",
    "crime_types"
   ]
  },
  {
   "cell_type": "code",
   "execution_count": 5,
   "metadata": {},
   "outputs": [],
   "source": [
    "violent_crimes = ['BATTERY','ASSAULT','CRIM SEXUAL ASSAULT', 'ARSON','HOMICIDE']\n",
    "felonies = ['HUMAN TRAFFICKING', 'HOMICIDE','ARSON','KIDNAPPING','BURGLARY','ROBBERY','BATTERY','STALKING','SEX OFFENSE']"
   ]
  },
  {
   "cell_type": "code",
   "execution_count": 6,
   "metadata": {},
   "outputs": [],
   "source": [
    "violents = []\n",
    "for crime in violent_crimes:\n",
    "    violents.append( crimes.loc[ crimes['Primary Type'] == crime] )"
   ]
  },
  {
   "cell_type": "code",
   "execution_count": 7,
   "metadata": {},
   "outputs": [],
   "source": [
    "df_violent = violents[0]\n",
    "for i in range(1,len(violents)):\n",
    "    df_violent.append(violents[i])"
   ]
  },
  {
   "cell_type": "code",
   "execution_count": 8,
   "metadata": {},
   "outputs": [],
   "source": [
    "df_violent;"
   ]
  },
  {
   "cell_type": "code",

   "execution_count": 9,
   "metadata": {},

   "outputs": [],
   "source": [
    "import pandas as pd"
   ]
  },
  {
   "cell_type": "code",

   "execution_count": 10,
   "metadata": {},

   "outputs": [],
   "source": [
    "crimes = pd.read_csv('~/Downloads/cleaned_chicago_crime_data.csv')"
   ]
  },
  {
   "cell_type": "code",

   "execution_count": 11,
   "metadata": {},
   "outputs": [
    {
     "data": {
      "text/html": [
       "<div>\n",
       "<style scoped>\n",
       "    .dataframe tbody tr th:only-of-type {\n",
       "        vertical-align: middle;\n",
       "    }\n",
       "\n",
       "    .dataframe tbody tr th {\n",
       "        vertical-align: top;\n",
       "    }\n",
       "\n",
       "    .dataframe thead th {\n",
       "        text-align: right;\n",
       "    }\n",
       "</style>\n",
       "<table border=\"1\" class=\"dataframe\">\n",
       "  <thead>\n",
       "    <tr style=\"text-align: right;\">\n",
       "      <th></th>\n",
       "      <th>Unnamed: 0</th>\n",
       "      <th>ID</th>\n",
       "      <th>Case Number</th>\n",
       "      <th>Date</th>\n",
       "      <th>Block</th>\n",
       "      <th>IUCR</th>\n",
       "      <th>Primary Type</th>\n",
       "      <th>Description</th>\n",
       "      <th>Location Description</th>\n",
       "      <th>Arrest</th>\n",
       "      <th>...</th>\n",
       "      <th>Ward</th>\n",
       "      <th>Community Area</th>\n",
       "      <th>FBI Code</th>\n",
       "      <th>X Coordinate</th>\n",
       "      <th>Y Coordinate</th>\n",
       "      <th>Year</th>\n",
       "      <th>Updated On</th>\n",
       "      <th>Latitude</th>\n",
       "      <th>Longitude</th>\n",
       "      <th>Location</th>\n",
       "    </tr>\n",
       "  </thead>\n",
       "  <tbody>\n",
       "    <tr>\n",
       "      <th>0</th>\n",
       "      <td>0</td>\n",
       "      <td>10000092</td>\n",
       "      <td>HY189866</td>\n",
       "      <td>03/18/2015 07:44:00 PM</td>\n",
       "      <td>047XX W OHIO ST</td>\n",
       "      <td>041A</td>\n",
       "      <td>BATTERY</td>\n",
       "      <td>AGGRAVATED: HANDGUN</td>\n",
       "      <td>STREET</td>\n",
       "      <td>False</td>\n",
       "      <td>...</td>\n",
       "      <td>28.0</td>\n",
       "      <td>25.0</td>\n",
       "      <td>04B</td>\n",
       "      <td>1144606.0</td>\n",
       "      <td>1903566.0</td>\n",
       "      <td>2015</td>\n",
       "      <td>02/10/2018 03:50:01 PM</td>\n",
       "      <td>41.891399</td>\n",
       "      <td>-87.744385</td>\n",
       "      <td>(41.891398861, -87.744384567)</td>\n",
       "    </tr>\n",
       "    <tr>\n",
       "      <th>1</th>\n",
       "      <td>1</td>\n",
       "      <td>10000094</td>\n",
       "      <td>HY190059</td>\n",
       "      <td>03/18/2015 11:00:00 PM</td>\n",
       "      <td>066XX S MARSHFIELD AVE</td>\n",
       "      <td>4625</td>\n",
       "      <td>OTHER OFFENSE</td>\n",
       "      <td>PAROLE VIOLATION</td>\n",
       "      <td>STREET</td>\n",
       "      <td>True</td>\n",
       "      <td>...</td>\n",
       "      <td>15.0</td>\n",
       "      <td>67.0</td>\n",
       "      <td>26</td>\n",
       "      <td>1166468.0</td>\n",
       "      <td>1860715.0</td>\n",
       "      <td>2015</td>\n",
       "      <td>02/10/2018 03:50:01 PM</td>\n",
       "      <td>41.773372</td>\n",
       "      <td>-87.665319</td>\n",
       "      <td>(41.773371528, -87.665319468)</td>\n",
       "    </tr>\n",
       "    <tr>\n",
       "      <th>2</th>\n",
       "      <td>2</td>\n",
       "      <td>10000095</td>\n",
       "      <td>HY190052</td>\n",
       "      <td>03/18/2015 10:45:00 PM</td>\n",
       "      <td>044XX S LAKE PARK AVE</td>\n",
       "      <td>0486</td>\n",
       "      <td>BATTERY</td>\n",
       "      <td>DOMESTIC BATTERY SIMPLE</td>\n",
       "      <td>APARTMENT</td>\n",
       "      <td>False</td>\n",
       "      <td>...</td>\n",
       "      <td>4.0</td>\n",
       "      <td>39.0</td>\n",
       "      <td>08B</td>\n",
       "      <td>1185075.0</td>\n",
       "      <td>1875622.0</td>\n",
       "      <td>2015</td>\n",
       "      <td>02/10/2018 03:50:01 PM</td>\n",
       "      <td>41.813861</td>\n",
       "      <td>-87.596643</td>\n",
       "      <td>(41.81386068, -87.596642837)</td>\n",
       "    </tr>\n",
       "    <tr>\n",
       "      <th>3</th>\n",
       "      <td>3</td>\n",
       "      <td>10000096</td>\n",
       "      <td>HY190054</td>\n",
       "      <td>03/18/2015 10:30:00 PM</td>\n",
       "      <td>051XX S MICHIGAN AVE</td>\n",
       "      <td>0460</td>\n",
       "      <td>BATTERY</td>\n",
       "      <td>SIMPLE</td>\n",
       "      <td>APARTMENT</td>\n",
       "      <td>False</td>\n",
       "      <td>...</td>\n",
       "      <td>3.0</td>\n",
       "      <td>40.0</td>\n",
       "      <td>08B</td>\n",
       "      <td>1178033.0</td>\n",
       "      <td>1870804.0</td>\n",
       "      <td>2015</td>\n",
       "      <td>02/10/2018 03:50:01 PM</td>\n",
       "      <td>41.800802</td>\n",
       "      <td>-87.622619</td>\n",
       "      <td>(41.800802415, -87.622619343)</td>\n",
       "    </tr>\n",
       "    <tr>\n",
       "      <th>4</th>\n",
       "      <td>4</td>\n",
       "      <td>10000097</td>\n",
       "      <td>HY189976</td>\n",
       "      <td>03/18/2015 09:00:00 PM</td>\n",
       "      <td>047XX W ADAMS ST</td>\n",
       "      <td>031A</td>\n",
       "      <td>ROBBERY</td>\n",
       "      <td>ARMED: HANDGUN</td>\n",
       "      <td>SIDEWALK</td>\n",
       "      <td>False</td>\n",
       "      <td>...</td>\n",
       "      <td>28.0</td>\n",
       "      <td>25.0</td>\n",
       "      <td>03</td>\n",
       "      <td>1144920.0</td>\n",
       "      <td>1898709.0</td>\n",
       "      <td>2015</td>\n",
       "      <td>02/10/2018 03:50:01 PM</td>\n",
       "      <td>41.878065</td>\n",
       "      <td>-87.743354</td>\n",
       "      <td>(41.878064761, -87.743354013)</td>\n",
       "    </tr>\n",
       "  </tbody>\n",
       "</table>\n",
       "<p>5 rows × 23 columns</p>\n",
       "</div>"
      ],
      "text/plain": [
       "   Unnamed: 0        ID Case Number                    Date  \\\n",
       "0           0  10000092    HY189866  03/18/2015 07:44:00 PM   \n",
       "1           1  10000094    HY190059  03/18/2015 11:00:00 PM   \n",
       "2           2  10000095    HY190052  03/18/2015 10:45:00 PM   \n",
       "3           3  10000096    HY190054  03/18/2015 10:30:00 PM   \n",
       
        "4           4  10000097    HY189976  03/18/2015 09:00:00 PM   \n",
       "\n",
       "                    Block  IUCR   Primary Type              Description  \\\n",
       "0         047XX W OHIO ST  041A        BATTERY      AGGRAVATED: HANDGUN   \n",
       "1  066XX S MARSHFIELD AVE  4625  OTHER OFFENSE         PAROLE VIOLATION   \n",
       "2   044XX S LAKE PARK AVE  0486        BATTERY  DOMESTIC BATTERY SIMPLE   \n",
       "3    051XX S MICHIGAN AVE  0460        BATTERY                   SIMPLE   \n",
       "4        047XX W ADAMS ST  031A        ROBBERY           ARMED: HANDGUN   \n",
       "\n",
       "  Location Description  Arrest              ...                Ward  \\\n",
       "0               STREET   False              ...                28.0   \n",
       "1               STREET    True              ...                15.0   \n",
       "2            APARTMENT   False              ...                 4.0   \n",
       "3            APARTMENT   False              ...                 3.0   \n",
       "4             SIDEWALK   False              ...                28.0   \n",
       "\n",
       "   Community Area  FBI Code  X Coordinate  Y Coordinate  Year  \\\n",
       "0            25.0       04B     1144606.0     1903566.0  2015   \n",
       "1            67.0        26     1166468.0     1860715.0  2015   \n",
       "2            39.0       08B     1185075.0     1875622.0  2015   \n",
       "3            40.0       08B     1178033.0     1870804.0  2015   \n",
       "4            25.0        03     1144920.0     1898709.0  2015   \n",
       "\n",
       "               Updated On   Latitude  Longitude                       Location  \n",
       "0  02/10/2018 03:50:01 PM  41.891399 -87.744385  (41.891398861, -87.744384567)  \n",
       "1  02/10/2018 03:50:01 PM  41.773372 -87.665319  (41.773371528, -87.665319468)  \n",
       "2  02/10/2018 03:50:01 PM  41.813861 -87.596643   (41.81386068, -87.596642837)  \n",
       "3  02/10/2018 03:50:01 PM  41.800802 -87.622619  (41.800802415, -87.622619343)  \n",
       "4  02/10/2018 03:50:01 PM  41.878065 -87.743354  (41.878064761, -87.743354013)  \n",
       "\n",
       "[5 rows x 23 columns]"
      ]
     },
     "execution_count": 11,
     "metadata": {},
     "output_type": "execute_result"
    }
   ],

   "source": [
    "crimes.head()"
   ]
  },
  {
   "cell_type": "code",
   "execution_count": 12,
   "metadata": {},
   "outputs": [],
   "source": [
    "crimes.index = crimes['ID'] # make the index the actual case number\n",
    "# remove columns that are unnecessary for the analysis and would probably just slow our code down\n",
    "crimes = crimes.drop(['Beat', 'FBI Code','Updated On', 'Case Number', 'Block', 'IUCR', 'ID', 'Unnamed: 0','Description', 'Ward', 'X Coordinate', 'Y Coordinate', 'Latitude', 'Longitude'], axis=1)"
   ]
  },
  {
   "cell_type": "code",
   "execution_count": 13,
   "metadata": {},
   "outputs": [],
   "source": [
    "crime_types = crimes['Primary Type'].unique().tolist()"
   ]
  },
  {
   "cell_type": "markdown",
   "metadata": {},
   "source": [
    "### Begin cleaning data\n",
    "\n",
    "1. Remove NaN values\n",
    "2. standardize the crime type to get rid of the uppercase, standardize the non-criminal type\n",
    "3. standardize the location description"
   ]
  },
  {
   "cell_type": "markdown",
   "metadata": {},
   "source": [
    "There are actually no Nan values to remove! Government data is reliable I guess. The only NaN values are location, but we still know the district, so as long as we don't end up needing location later on, this is fine"
   ]
  },
  {
   "cell_type": "code",
   "execution_count": 14,
   "metadata": {},

   "outputs": [],
   "source": [
    "to_drop = crimes[crimes.isnull().any(axis=1)]\n",
    "to_drop;"
   ]
  },
  {
   "cell_type": "code",
   "execution_count": 15,
   "metadata": {},

   "outputs": [],
   "source": [
    "def standardize_primary_type(string):\n",
    "    # compile all non-criminal offenses into on label\n",
    "    if string == 'NON-CRIMINAL (SUBJECT SPECIFIED)' or string == 'NON - CRIMINAL' or string == 'NON-CRIMINAL':\n",
    "        return 'non-criminal'\n",
    "    if string == 'OTHER OFFENSE':\n",
    "        return 'other'\n",
    "    # rename crim sexual assault to just sexual assault to make it easier to read\n",
    "    if string == 'CRIM SEXUAL ASSAULT':\n",
    "        return 'sexual assault'\n",
    "    else:\n",
    "        # everything else, make sure to lowercase it so we don't have to use caps lock lol\n",
    "        return string.lower()\n",
    "        "
   ]
  },
  {
   "cell_type": "code",
   "execution_count": 16,
   "metadata": {},
   "outputs": [],
   "source": [
    "def standardize_location(string):\n",
    "    if type(string) == str:\n",
    "        string = string.lower()\n",
    "        if 'airport' in string:\n",
    "            return 'airport'\n",
    "    return string"
   ]
  },
  {
   "cell_type": "code",

   "execution_count": 17,
   "metadata": {},

   "outputs": [],
   "source": [
    "crimes['Primary Type'] = crimes['Primary Type'].apply(standardize_primary_type) # clean data \n",
    "crimes['location'] = crimes['Location Description'].apply(standardize_location)"
   ]
  },
  {
   "cell_type": "code",

   "execution_count": 18,
   "metadata": {},

   "outputs": [],
   "source": [
    "# be careful if you run this one, only run it once it won't work the second time \n",
    "crimes = crimes.drop(['Location Description','Community Area'],axis=1)"
   ]
  },
  {
   "cell_type": "code",
   "execution_count": 19,
   "metadata": {},
   "outputs": [],
   "source": [
    "crimes = crimes.rename(columns = {'Location': 'Coordinates'})"
   ]
  },
  {
   "cell_type": "code",

   "execution_count": 20,
   "metadata": {},

   "outputs": [],
   "source": [
    "violents = ['BATTERY','ASSAULT','CRIM SEXUAL ASSAULT', 'ARSON','HOMICIDE']"
   ]
  },
  {
   "cell_type": "code",
   "execution_count": 21,
   "metadata": {},
   "outputs": [],
   "source": [
    "violent_crimes = crimes[ (crimes['Primary Type'] == 'battery') | (crimes['Primary Type'] == 'assault') | (crimes['Primary Type'] == 'sexual assault') | (crimes['Primary Type'] == 'arson') | (crimes['Primary Type'] == 'homicide')]"
   ]
  },
  {
   "cell_type": "code",
   "execution_count": null,
   "metadata": {},
   "outputs": [],
   "source": []
  }
 ],
 "metadata": {
  "kernelspec": {
   "display_name": "Python 3",
   "language": "python",
   "name": "python3"
  },
  "language_info": {
   "codemirror_mode": {
    "name": "ipython",
    "version": 3
   },
   "file_extension": ".py",
   "mimetype": "text/x-python",
   "name": "python",
   "nbconvert_exporter": "python",
   "pygments_lexer": "ipython3",
   "version": "3.7.2"
  }
 },
 "nbformat": 4,
 "nbformat_minor": 2
}
