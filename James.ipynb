{
 "cells": [
  {
   "cell_type": "code",
   "execution_count": 1,
   "metadata": {},
   "outputs": [],
   "source": [
    "import pandas as pd\n",
    "import numpy as np\n",
    "import matplotlib.pyplot as plt\n",
    "import statsmodels.api as sm\n",
    "import scipy.stats as stats\n",
    "from scipy.stats import ttest_ind, chisquare, normaltest"
   ]
  },
  {
   "cell_type": "code",
   "execution_count": 3,
   "metadata": {},
   "outputs": [],
   "source": [
    "crimes = pd.read_csv('~/data/cleaned_chicago_crime_data.csv')"
   ]
  },
  {
   "cell_type": "code",
   "execution_count": 4,
   "metadata": {},
   "outputs": [],
   "source": [
    "crimes.index = crimes['ID'] # make the index the actual case number\n",
    "# remove columns that are unnecessary for the analysis and would probably just slow our code down\n",
    "crimes = crimes.drop(['Beat', 'FBI Code','Updated On', 'Case Number', 'Block', 'IUCR', 'ID', 'Unnamed: 0','Description', 'Ward', 'X Coordinate', 'Y Coordinate', 'Latitude', 'Longitude'], axis=1)"
   ]
  },
  {
   "cell_type": "code",
   "execution_count": 5,
   "metadata": {},
   "outputs": [],
   "source": [
    "crime_types = crimes['Primary Type'].unique().tolist()"
   ]
  },
  {
   "cell_type": "markdown",
   "metadata": {},
   "source": [
    "### Begin cleaning data\n",
    "\n",
    "1. Remove NaN values\n",
    "2. standardize the crime type to get rid of the uppercase, standardize the non-criminal type\n",
    "3. standardize the location description"
   ]
  },
  {
   "cell_type": "markdown",
   "metadata": {},
   "source": [
    "There are actually no Nan values to remove! Government data is reliable I guess. The only NaN values are location, but we still know the district, so as long as we don't end up needing location later on, this is fine"
   ]
  },
  {
   "cell_type": "code",
   "execution_count": 6,
   "metadata": {},
   "outputs": [],
   "source": [
    "to_drop = crimes[crimes.isnull().any(axis=1)]\n",
    "to_drop;"
   ]
  },
  {
   "cell_type": "code",
   "execution_count": 7,
   "metadata": {},
   "outputs": [],
   "source": [
    "def standardize_primary_type(string):\n",
    "    # compile all non-criminal offenses into on label\n",
    "    if string == 'NON-CRIMINAL (SUBJECT SPECIFIED)' or string == 'NON - CRIMINAL' or string == 'NON-CRIMINAL':\n",
    "        return 'non-criminal'\n",
    "    if string == 'OTHER OFFENSE':\n",
    "        return 'other'\n",
    "    # rename crim sexual assault to just sexual assault to make it easier to read\n",
    "    if string == 'CRIM SEXUAL ASSAULT':\n",
    "        return 'sexual assault'\n",
    "    else:\n",
    "        # everything else, make sure to lowercase it so we don't have to use caps lock lol\n",
    "        return string.lower()\n",
    "        "
   ]
  },
  {
   "cell_type": "code",
   "execution_count": 8,
   "metadata": {},
   "outputs": [],
   "source": [
    "def standardize_location(string):\n",
    "    if type(string) == str:\n",
    "        string = string.lower()\n",
    "        if 'airport' in string:\n",
    "            return 'airport'\n",
    "    return string"
   ]
  },
  {
   "cell_type": "code",
   "execution_count": 9,
   "metadata": {},
   "outputs": [],
   "source": [
    "crimes['Primary Type'] = crimes['Primary Type'].apply(standardize_primary_type) # clean data \n",
    "crimes['location'] = crimes['Location Description'].apply(standardize_location)"
   ]
  },
  {
   "cell_type": "code",
   "execution_count": 10,
   "metadata": {},
   "outputs": [],
   "source": [
    "# be careful if you run this one, only run it once it won't work the second time \n",
    "crimes = crimes.drop(['Location Description','Community Area'],axis=1)"
   ]
  },
  {
   "cell_type": "code",
   "execution_count": 11,
   "metadata": {},
   "outputs": [],
   "source": [
    "crimes = crimes.rename(columns = {'Location': 'Coordinates'})"
   ]
  },
  {
   "cell_type": "code",
   "execution_count": 12,
   "metadata": {},
   "outputs": [],
   "source": [
    "violents = ['BATTERY','ASSAULT','CRIM SEXUAL ASSAULT', 'ARSON','HOMICIDE']"
   ]
  },
  {
   "cell_type": "code",
   "execution_count": 13,
   "metadata": {},
   "outputs": [],
   "source": [
    "violent_crimes = crimes[ (crimes['Primary Type'] == 'battery') | (crimes['Primary Type'] == 'assault') | (crimes['Primary Type'] == 'sexual assault') | (crimes['Primary Type'] == 'arson') | (crimes['Primary Type'] == 'homicide')]"
   ]
  },
  {
   "cell_type": "code",
   "execution_count": 14,
   "metadata": {},
   "outputs": [
    {
     "data": {
      "text/html": [
       "<div>\n",
       "<style scoped>\n",
       "    .dataframe tbody tr th:only-of-type {\n",
       "        vertical-align: middle;\n",
       "    }\n",
       "\n",
       "    .dataframe tbody tr th {\n",
       "        vertical-align: top;\n",
       "    }\n",
       "\n",
       "    .dataframe thead th {\n",
       "        text-align: right;\n",
       "    }\n",
       "</style>\n",
       "<table border=\"1\" class=\"dataframe\">\n",
       "  <thead>\n",
       "    <tr style=\"text-align: right;\">\n",
       "      <th></th>\n",
       "      <th>Date</th>\n",
       "      <th>Primary Type</th>\n",
       "      <th>Arrest</th>\n",
       "      <th>Domestic</th>\n",
       "      <th>District</th>\n",
       "      <th>Year</th>\n",
       "      <th>Coordinates</th>\n",
       "      <th>location</th>\n",
       "    </tr>\n",
       "    <tr>\n",
       "      <th>ID</th>\n",
       "      <th></th>\n",
       "      <th></th>\n",
       "      <th></th>\n",
       "      <th></th>\n",
       "      <th></th>\n",
       "      <th></th>\n",
       "      <th></th>\n",
       "      <th></th>\n",
       "    </tr>\n",
       "  </thead>\n",
       "  <tbody>\n",
       "    <tr>\n",
       "      <th>10000092</th>\n",
       "      <td>03/18/2015 07:44:00 PM</td>\n",
       "      <td>battery</td>\n",
       "      <td>False</td>\n",
       "      <td>False</td>\n",
       "      <td>11.0</td>\n",
       "      <td>2015</td>\n",
       "      <td>(41.891398861, -87.744384567)</td>\n",
       "      <td>street</td>\n",
       "    </tr>\n",
       "    <tr>\n",
       "      <th>10000094</th>\n",
       "      <td>03/18/2015 11:00:00 PM</td>\n",
       "      <td>other</td>\n",
       "      <td>True</td>\n",
       "      <td>False</td>\n",
       "      <td>7.0</td>\n",
       "      <td>2015</td>\n",
       "      <td>(41.773371528, -87.665319468)</td>\n",
       "      <td>street</td>\n",
       "    </tr>\n",
       "    <tr>\n",
       "      <th>10000095</th>\n",
       "      <td>03/18/2015 10:45:00 PM</td>\n",
       "      <td>battery</td>\n",
       "      <td>False</td>\n",
       "      <td>True</td>\n",
       "      <td>2.0</td>\n",
       "      <td>2015</td>\n",
       "      <td>(41.81386068, -87.596642837)</td>\n",
       "      <td>apartment</td>\n",
       "    </tr>\n",
       "    <tr>\n",
       "      <th>10000096</th>\n",
       "      <td>03/18/2015 10:30:00 PM</td>\n",
       "      <td>battery</td>\n",
       "      <td>False</td>\n",
       "      <td>False</td>\n",
       "      <td>2.0</td>\n",
       "      <td>2015</td>\n",
       "      <td>(41.800802415, -87.622619343)</td>\n",
       "      <td>apartment</td>\n",
       "    </tr>\n",
       "    <tr>\n",
       "      <th>10000097</th>\n",
       "      <td>03/18/2015 09:00:00 PM</td>\n",
       "      <td>robbery</td>\n",
       "      <td>False</td>\n",
       "      <td>False</td>\n",
       "      <td>11.0</td>\n",
       "      <td>2015</td>\n",
       "      <td>(41.878064761, -87.743354013)</td>\n",
       "      <td>sidewalk</td>\n",
       "    </tr>\n",
       "  </tbody>\n",
       "</table>\n",
       "</div>"
      ],
      "text/plain": [
       "                            Date Primary Type  Arrest  Domestic  District  \\\n",
       "ID                                                                          \n",
       "10000092  03/18/2015 07:44:00 PM      battery   False     False      11.0   \n",
       "10000094  03/18/2015 11:00:00 PM        other    True     False       7.0   \n",
       "10000095  03/18/2015 10:45:00 PM      battery   False      True       2.0   \n",
       "10000096  03/18/2015 10:30:00 PM      battery   False     False       2.0   \n",
       "10000097  03/18/2015 09:00:00 PM      robbery   False     False      11.0   \n",
       "\n",
       "          Year                    Coordinates   location  \n",
       "ID                                                        \n",
       "10000092  2015  (41.891398861, -87.744384567)     street  \n",
       "10000094  2015  (41.773371528, -87.665319468)     street  \n",
       "10000095  2015   (41.81386068, -87.596642837)  apartment  \n",
       "10000096  2015  (41.800802415, -87.622619343)  apartment  \n",
       "10000097  2015  (41.878064761, -87.743354013)   sidewalk  "
      ]
     },
     "execution_count": 14,
     "metadata": {},
     "output_type": "execute_result"
    }
   ],
   "source": [
    "crimes.head()"
   ]
  },
  {
   "cell_type": "markdown",
   "metadata": {},
   "source": [
    "## Overall, our question is, does the district a crime was committed in or the type of crime predict whether an arrest was made for that crime\n",
    "\n",
    "First, I will fit a linear regression model to see how district predicts arrest rate.\n",
    "1. Create a dataframe with index being the district, one column is the arrest rate for a particular crime, we will look at the top three crimes. "
   ]
  },
  {
   "cell_type": "code",
   "execution_count": 15,
   "metadata": {},
   "outputs": [
    {
     "data": {
      "text/plain": [
       "theft              1431574\n",
       "battery            1241925\n",
       "criminal damage     776765\n",
       "Name: Primary Type, dtype: int64"
      ]
     },
     "execution_count": 15,
     "metadata": {},
     "output_type": "execute_result"
    }
   ],
   "source": [
    "crimes['Primary Type'].value_counts().nlargest(3)"
   ]
  },
  {
   "cell_type": "code",
   "execution_count": 16,
   "metadata": {},
   "outputs": [],
   "source": [
    "districts = crimes['District'].unique().tolist()\n",
    "districts.remove(21)"
   ]
  },
  {
   "cell_type": "code",
   "execution_count": 17,
   "metadata": {},
   "outputs": [],
   "source": [
    "district_cache = {}\n",
    "for district in districts:\n",
    "    district_cache[district] = crimes[ crimes['District'] == district ]"
   ]
  },
  {
   "cell_type": "code",
   "execution_count": 18,
   "metadata": {},
   "outputs": [],
   "source": [
    "dist_pred_arrest = pd.DataFrame()\n",
    "for district in districts:\n",
    "    \n",
    "    district_df = district_cache[district]\n",
    "    \n",
    "    arrest_occurred = district_df[district_df['Arrest'] == True]\n",
    "    \n",
    "    dist_pred_arrest.loc[district,'Reported Theft'] = len(district_df[district_df['Primary Type'] == 'theft'])\n",
    "    dist_pred_arrest.loc[district,'Theft w/ Arrest Made'] = len(arrest_occurred[arrest_occurred['Primary Type'] == 'theft'])\n",
    "    dist_pred_arrest.loc[district,'Theft Arrest Rate'] = dist_pred_arrest.loc[district,'Theft w/ Arrest Made'] / dist_pred_arrest.loc[district,'Reported Theft']\n",
    "\n",
    "    dist_pred_arrest.loc[district,'Reported Battery'] = len(district_df[district_df['Primary Type'] == 'battery'])\n",
    "    dist_pred_arrest.loc[district,'Battery w/ Arrest Made'] = len(arrest_occurred[arrest_occurred['Primary Type'] == 'battery'])\n",
    "    dist_pred_arrest.loc[district,'Battery Arrest Rate'] = dist_pred_arrest.loc[district,'Battery w/ Arrest Made'] / dist_pred_arrest.loc[district,'Reported Battery']\n",
    "\n",
    "    \n",
    "    dist_pred_arrest.loc[district,'Reported Criminal Damage'] = len(district_df[district_df['Primary Type'] == 'criminal damage'])\n",
    "    dist_pred_arrest.loc[district,'Criminal Damage w/ Arrest Made'] = len(arrest_occurred[arrest_occurred['Primary Type'] == 'criminal damage'])\n",
    "    dist_pred_arrest.loc[district,'Criminal Damage Arrest Rate'] = dist_pred_arrest.loc[district,'Criminal Damage w/ Arrest Made'] / dist_pred_arrest.loc[district,'Reported Criminal Damage']\n",
    "\n",
    "    \n",
    "    \n",
    "    \n",
    "    \n"
   ]
  },
  {
   "cell_type": "code",
   "execution_count": 19,
   "metadata": {},
   "outputs": [],
   "source": [
    "assert 21 not in dist_pred_arrest.index"
   ]
  },
  {
   "cell_type": "code",
   "execution_count": 20,
   "metadata": {},
   "outputs": [
    {
     "data": {
      "text/plain": [
       "array([0.17419393, 0.11993026, 0.10944354, 0.09312083, 0.09112635,\n",
       "       0.17034051, 0.08365324, 0.13923535, 0.13445531, 0.09331917,\n",
       "       0.09741442, 0.0920011 , 0.07810935, 0.08949501, 0.07611622,\n",
       "       0.13456216, 0.12902263, 0.10413405, 0.13309901, 0.09003009,\n",
       "       0.11233452, 0.18039961])"
      ]
     },
     "execution_count": 20,
     "metadata": {},
     "output_type": "execute_result"
    }
   ],
   "source": [
    "dist_pred_arrest = dist_pred_arrest.sort_index()\n",
    "dist_pred_arrest['District'] = dist_pred_arrest.index\n",
    "dist_pred_arrest['Theft Arrest Rate'].values"
   ]
  },
  {
   "cell_type": "code",
   "execution_count": 21,
   "metadata": {},
   "outputs": [
    {
     "name": "stdout",
     "output_type": "stream",
     "text": [
      "Max arrest rate: 0.18039961160268597\tDistrict: 25.0\n",
      "Min arrest rate: 0.07611621646709366\tDistrict: 16.0\n"
     ]
    }
   ],
   "source": [
    "print('Max arrest rate: {0}\\tDistrict: {1}'.format(dist_pred_arrest['Theft Arrest Rate'].max(),dist_pred_arrest['Theft Arrest Rate'].idxmax()))\n",
    "print('Min arrest rate: {0}\\tDistrict: {1}'.format(dist_pred_arrest['Theft Arrest Rate'].min(),dist_pred_arrest['Theft Arrest Rate'].idxmin()))\n",
    "\n"
   ]
  },
  {
   "cell_type": "code",
   "execution_count": 22,
   "metadata": {},
   "outputs": [],
   "source": [
    "dist_pred_arrest.corr();"
   ]
  },
  {
   "cell_type": "code",
   "execution_count": 23,
   "metadata": {},
   "outputs": [
    {
     "data": {
      "text/plain": [
       "<matplotlib.axes._subplots.AxesSubplot at 0x1a189ca90>"
      ]
     },
     "execution_count": 23,
     "metadata": {},
     "output_type": "execute_result"
    },
    {
     "data": {
      "image/png": "[encoded data removed]",
      "text/plain": [
       "<Figure size 432x288 with 1 Axes>"
      ]
     },
     "metadata": {
      "needs_background": "light"
     },
     "output_type": "display_data"
    }
   ],
   "source": [
    "thefts = dist_pred_arrest['Theft Arrest Rate']\n",
    "thefts.hist()"
   ]
  },
  {
   "cell_type": "code",
   "execution_count": 24,
   "metadata": {},
   "outputs": [],
   "source": [
    "# want to predict whether an arrest was made from the district. So y is arrests, X is districts\n",
    "y = dist_pred_arrest['Theft Arrest Rate']\n",
    "X = districts\n",
    "model = sm.OLS(y,X)\n",
    "results = model.fit()"
   ]
  },
  {
   "cell_type": "code",
   "execution_count": 25,
   "metadata": {},
   "outputs": [
    {
     "data": {
      "text/html": [
       "<table class=\"simpletable\">\n",
       "<caption>OLS Regression Results</caption>\n",
       "<tr>\n",
       "  <th>Dep. Variable:</th>    <td>Theft Arrest Rate</td> <th>  R-squared:         </th> <td>   0.705</td>\n",
       "</tr>\n",
       "<tr>\n",
       "  <th>Model:</th>                   <td>OLS</td>        <th>  Adj. R-squared:    </th> <td>   0.691</td>\n",
       "</tr>\n",
       "<tr>\n",
       "  <th>Method:</th>             <td>Least Squares</td>   <th>  F-statistic:       </th> <td>   50.10</td>\n",
       "</tr>\n",
       "<tr>\n",
       "  <th>Date:</th>             <td>Thu, 14 Mar 2019</td>  <th>  Prob (F-statistic):</th> <td>5.53e-07</td>\n",
       "</tr>\n",
       "<tr>\n",
       "  <th>Time:</th>                 <td>14:17:29</td>      <th>  Log-Likelihood:    </th> <td>  29.073</td>\n",
       "</tr>\n",
       "<tr>\n",
       "  <th>No. Observations:</th>      <td>    22</td>       <th>  AIC:               </th> <td>  -56.15</td>\n",
       "</tr>\n",
       "<tr>\n",
       "  <th>Df Residuals:</th>          <td>    21</td>       <th>  BIC:               </th> <td>  -55.05</td>\n",
       "</tr>\n",
       "<tr>\n",
       "  <th>Df Model:</th>              <td>     1</td>       <th>                     </th>     <td> </td>   \n",
       "</tr>\n",
       "<tr>\n",
       "  <th>Covariance Type:</th>      <td>nonrobust</td>     <th>                     </th>     <td> </td>   \n",
       "</tr>\n",
       "</table>\n",
       "<table class=\"simpletable\">\n",
       "<tr>\n",
       "   <td></td>     <th>coef</th>     <th>std err</th>      <th>t</th>      <th>P>|t|</th>  <th>[0.025</th>    <th>0.975]</th>  \n",
       "</tr>\n",
       "<tr>\n",
       "  <th>x1</th> <td>    0.0071</td> <td>    0.001</td> <td>    7.078</td> <td> 0.000</td> <td>    0.005</td> <td>    0.009</td>\n",
       "</tr>\n",
       "</table>\n",
       "<table class=\"simpletable\">\n",
       "<tr>\n",
       "  <th>Omnibus:</th>       <td> 0.825</td> <th>  Durbin-Watson:     </th> <td>   1.242</td>\n",
       "</tr>\n",
       "<tr>\n",
       "  <th>Prob(Omnibus):</th> <td> 0.662</td> <th>  Jarque-Bera (JB):  </th> <td>   0.821</td>\n",
       "</tr>\n",
       "<tr>\n",
       "  <th>Skew:</th>          <td>-0.292</td> <th>  Prob(JB):          </th> <td>   0.663</td>\n",
       "</tr>\n",
       "<tr>\n",
       "  <th>Kurtosis:</th>      <td> 2.255</td> <th>  Cond. No.          </th> <td>    1.00</td>\n",
       "</tr>\n",
       "</table><br/><br/>Warnings:<br/>[1] Standard Errors assume that the covariance matrix of the errors is correctly specified."
      ],
      "text/plain": [
       "<class 'statsmodels.iolib.summary.Summary'>\n",
       "\"\"\"\n",
       "                            OLS Regression Results                            \n",
       "==============================================================================\n",
       "Dep. Variable:      Theft Arrest Rate   R-squared:                       0.705\n",
       "Model:                            OLS   Adj. R-squared:                  0.691\n",
       "Method:                 Least Squares   F-statistic:                     50.10\n",
       "Date:                Thu, 14 Mar 2019   Prob (F-statistic):           5.53e-07\n",
       "Time:                        14:17:29   Log-Likelihood:                 29.073\n",
       "No. Observations:                  22   AIC:                            -56.15\n",
       "Df Residuals:                      21   BIC:                            -55.05\n",
       "Df Model:                           1                                         \n",
       "Covariance Type:            nonrobust                                         \n",
       "==============================================================================\n",
       "                 coef    std err          t      P>|t|      [0.025      0.975]\n",
       "------------------------------------------------------------------------------\n",
       "x1             0.0071      0.001      7.078      0.000       0.005       0.009\n",
       "==============================================================================\n",
       "Omnibus:                        0.825   Durbin-Watson:                   1.242\n",
       "Prob(Omnibus):                  0.662   Jarque-Bera (JB):                0.821\n",
       "Skew:                          -0.292   Prob(JB):                        0.663\n",
       "Kurtosis:                       2.255   Cond. No.                         1.00\n",
       "==============================================================================\n",
       "\n",
       "Warnings:\n",
       "[1] Standard Errors assume that the covariance matrix of the errors is correctly specified.\n",
       "\"\"\""
      ]
     },
     "execution_count": 25,
     "metadata": {},
     "output_type": "execute_result"
    }
   ],
   "source": [
    "results.summary()"
   ]
  },
  {
   "cell_type": "code",
   "execution_count": 26,
   "metadata": {},
   "outputs": [
    {
     "data": {
      "image/png": "[encoded data removed]",
      "text/plain": [
       "<Figure size 432x288 with 1 Axes>"
      ]
     },
     "metadata": {
      "needs_background": "light"
     },
     "output_type": "display_data"
    }
   ],
   "source": [
    "fig, ax = plt.subplots()\n",
    "fig = sm.graphics.plot_fit(results, 0, ax=ax)"
   ]
  },
  {
   "cell_type": "markdown",
   "metadata": {},
   "source": [
    "So I have shown that there is not likely a linear relationship between district and theft arrest rate - check on A3"
   ]
  },
  {
   "cell_type": "code",
   "execution_count": 27,
   "metadata": {},
   "outputs": [
    {
     "data": {
      "text/plain": [
       "<matplotlib.axes._subplots.AxesSubplot at 0x1629c3eb8>"
      ]
     },
     "execution_count": 27,
     "metadata": {},
     "output_type": "execute_result"
    },
    {
     "data": {
      "image/png": "[encoded data removed]",
      "text/plain": [
       "<Figure size 432x288 with 1 Axes>"
      ]
     },
     "metadata": {
      "needs_background": "light"
     },
     "output_type": "display_data"
    }
   ],
   "source": [
    "battery = dist_pred_arrest['Battery Arrest Rate']\n",
    "battery.hist()"
   ]
  },
  {
   "cell_type": "code",
   "execution_count": 28,
   "metadata": {},
   "outputs": [],
   "source": [
    "# want to predict whether an arrest was made from the district. So y is arrest rate, X is districts\n",
    "y = dist_pred_arrest['Battery Arrest Rate']\n",
    "X = districts\n",
    "model = sm.OLS(y,X)\n",
    "results = model.fit()"
   ]
  },
  {
   "cell_type": "code",
   "execution_count": 29,
   "metadata": {},
   "outputs": [
    {
     "data": {
      "text/html": [
       "<table class=\"simpletable\">\n",
       "<caption>OLS Regression Results</caption>\n",
       "<tr>\n",
       "  <th>Dep. Variable:</th>    <td>Battery Arrest Rate</td> <th>  R-squared:         </th> <td>   0.751</td>\n",
       "</tr>\n",
       "<tr>\n",
       "  <th>Model:</th>                    <td>OLS</td>         <th>  Adj. R-squared:    </th> <td>   0.739</td>\n",
       "</tr>\n",
       "<tr>\n",
       "  <th>Method:</th>              <td>Least Squares</td>    <th>  F-statistic:       </th> <td>   63.37</td>\n",
       "</tr>\n",
       "<tr>\n",
       "  <th>Date:</th>              <td>Thu, 14 Mar 2019</td>   <th>  Prob (F-statistic):</th> <td>8.91e-08</td>\n",
       "</tr>\n",
       "<tr>\n",
       "  <th>Time:</th>                  <td>14:17:30</td>       <th>  Log-Likelihood:    </th> <td>  15.366</td>\n",
       "</tr>\n",
       "<tr>\n",
       "  <th>No. Observations:</th>       <td>    22</td>        <th>  AIC:               </th> <td>  -28.73</td>\n",
       "</tr>\n",
       "<tr>\n",
       "  <th>Df Residuals:</th>           <td>    21</td>        <th>  BIC:               </th> <td>  -27.64</td>\n",
       "</tr>\n",
       "<tr>\n",
       "  <th>Df Model:</th>               <td>     1</td>        <th>                     </th>     <td> </td>   \n",
       "</tr>\n",
       "<tr>\n",
       "  <th>Covariance Type:</th>       <td>nonrobust</td>      <th>                     </th>     <td> </td>   \n",
       "</tr>\n",
       "</table>\n",
       "<table class=\"simpletable\">\n",
       "<tr>\n",
       "   <td></td>     <th>coef</th>     <th>std err</th>      <th>t</th>      <th>P>|t|</th>  <th>[0.025</th>    <th>0.975]</th>  \n",
       "</tr>\n",
       "<tr>\n",
       "  <th>x1</th> <td>    0.0148</td> <td>    0.002</td> <td>    7.961</td> <td> 0.000</td> <td>    0.011</td> <td>    0.019</td>\n",
       "</tr>\n",
       "</table>\n",
       "<table class=\"simpletable\">\n",
       "<tr>\n",
       "  <th>Omnibus:</th>       <td> 1.334</td> <th>  Durbin-Watson:     </th> <td>   1.306</td>\n",
       "</tr>\n",
       "<tr>\n",
       "  <th>Prob(Omnibus):</th> <td> 0.513</td> <th>  Jarque-Bera (JB):  </th> <td>   1.001</td>\n",
       "</tr>\n",
       "<tr>\n",
       "  <th>Skew:</th>          <td>-0.502</td> <th>  Prob(JB):          </th> <td>   0.606</td>\n",
       "</tr>\n",
       "<tr>\n",
       "  <th>Kurtosis:</th>      <td> 2.710</td> <th>  Cond. No.          </th> <td>    1.00</td>\n",
       "</tr>\n",
       "</table><br/><br/>Warnings:<br/>[1] Standard Errors assume that the covariance matrix of the errors is correctly specified."
      ],
      "text/plain": [
       "<class 'statsmodels.iolib.summary.Summary'>\n",
       "\"\"\"\n",
       "                             OLS Regression Results                            \n",
       "===============================================================================\n",
       "Dep. Variable:     Battery Arrest Rate   R-squared:                       0.751\n",
       "Model:                             OLS   Adj. R-squared:                  0.739\n",
       "Method:                  Least Squares   F-statistic:                     63.37\n",
       "Date:                 Thu, 14 Mar 2019   Prob (F-statistic):           8.91e-08\n",
       "Time:                         14:17:30   Log-Likelihood:                 15.366\n",
       "No. Observations:                   22   AIC:                            -28.73\n",
       "Df Residuals:                       21   BIC:                            -27.64\n",
       "Df Model:                            1                                         \n",
       "Covariance Type:             nonrobust                                         \n",
       "==============================================================================\n",
       "                 coef    std err          t      P>|t|      [0.025      0.975]\n",
       "------------------------------------------------------------------------------\n",
       "x1             0.0148      0.002      7.961      0.000       0.011       0.019\n",
       "==============================================================================\n",
       "Omnibus:                        1.334   Durbin-Watson:                   1.306\n",
       "Prob(Omnibus):                  0.513   Jarque-Bera (JB):                1.001\n",
       "Skew:                          -0.502   Prob(JB):                        0.606\n",
       "Kurtosis:                       2.710   Cond. No.                         1.00\n",
       "==============================================================================\n",
       "\n",
       "Warnings:\n",
       "[1] Standard Errors assume that the covariance matrix of the errors is correctly specified.\n",
       "\"\"\""
      ]
     },
     "execution_count": 29,
     "metadata": {},
     "output_type": "execute_result"
    }
   ],
   "source": [
    "results.summary()"
   ]
  },
  {
   "cell_type": "code",
   "execution_count": 30,
   "metadata": {},
   "outputs": [
    {
     "data": {
      "image/png": "[encoded data removed]",
      "text/plain": [
       "<Figure size 432x288 with 1 Axes>"
      ]
     },
     "metadata": {
      "needs_background": "light"
     },
     "output_type": "display_data"
    }
   ],
   "source": [
    "fig, ax = plt.subplots()\n",
    "fig = sm.graphics.plot_fit(results, 0, ax=ax)"
   ]
  },
  {
   "cell_type": "code",
   "execution_count": 31,
   "metadata": {},
   "outputs": [],
   "source": [
    "rate_theft = dist_pred_arrest['Theft Arrest Rate'].values\n",
    "rate_battery = dist_pred_arrest['Battery Arrest Rate'].values\n",
    "rate_damage = dist_pred_arrest['Criminal Damage Arrest Rate'].values"
   ]
  },
  {
   "cell_type": "code",
   "execution_count": 32,
   "metadata": {},
   "outputs": [],
   "source": [
    "st_theft, p_theft = stats.normaltest(rate_theft)\n",
    "st_battery, p_battery = stats.normaltest(rate_theft)\n",
    "st_damage, p_damage = stats.normaltest(rate_theft)"
   ]
  },
  {
   "cell_type": "code",
   "execution_count": 33,
   "metadata": {},
   "outputs": [
    {
     "name": "stderr",
     "output_type": "stream",
     "text": [
      "/usr/local/lib/python3.7/site-packages/matplotlib/axes/_axes.py:6521: MatplotlibDeprecationWarning: \n",
      "The 'normed' kwarg was deprecated in Matplotlib 2.1 and will be removed in 3.1. Use 'density' instead.\n",
      "  alternative=\"'density'\", removal=\"3.1\")\n"
     ]
    },
    {
     "data": {
      "image/png": "[encoded data removed]",
      "text/plain": [
       "<Figure size 432x288 with 1 Axes>"
      ]
     },
     "metadata": {
      "needs_background": "light"
     },
     "output_type": "display_data"
    }
   ],
   "source": [
    "#  This plots a histogram, with the hypothetical normal distribution (with same mean and variance)\n",
    "xs = np.arange(rate_theft.min(), rate_theft.max(), 0.00001)\n",
    "fit = stats.norm.pdf(xs, np.mean(rate_theft), np.std(rate_theft))\n",
    "plt.plot(xs, fit, label='Normal Dist.', lw=4)\n",
    "plt.hist(rate_theft, normed=True, label='Actual Data');\n",
    "plt.title('Theft Arrest Rate Data')\n",
    "plt.legend();"
   ]
  },
  {
   "cell_type": "code",
   "execution_count": 34,
   "metadata": {},
   "outputs": [
    {
     "name": "stderr",
     "output_type": "stream",
     "text": [
      "/usr/local/lib/python3.7/site-packages/matplotlib/axes/_axes.py:6521: MatplotlibDeprecationWarning: \n",
      "The 'normed' kwarg was deprecated in Matplotlib 2.1 and will be removed in 3.1. Use 'density' instead.\n",
      "  alternative=\"'density'\", removal=\"3.1\")\n"
     ]
    },
    {
     "data": {
      "image/png": "[encoded data removed]",
      "text/plain": [
       "<Figure size 432x288 with 1 Axes>"
      ]
     },
     "metadata": {
      "needs_background": "light"
     },
     "output_type": "display_data"
    }
   ],
   "source": [
    "#  This plots a histogram, with the hypothetical normal distribution (with same mean and variance)\n",
    "xs = np.arange(rate_battery.min(), rate_battery.max(), 0.00001)\n",
    "fit = stats.norm.pdf(xs, np.mean(rate_battery), np.std(rate_battery))\n",
    "plt.plot(xs, fit, label='Normal Dist.', lw=4)\n",
    "plt.hist(rate_battery, normed=True, label='Actual Data');\n",
    "plt.title('Battery Arrest Rate Data')\n",
    "plt.legend();"
   ]
  },
  {
   "cell_type": "code",
   "execution_count": 35,
   "metadata": {},
   "outputs": [
    {
     "name": "stderr",
     "output_type": "stream",
     "text": [
      "/usr/local/lib/python3.7/site-packages/matplotlib/axes/_axes.py:6521: MatplotlibDeprecationWarning: \n",
      "The 'normed' kwarg was deprecated in Matplotlib 2.1 and will be removed in 3.1. Use 'density' instead.\n",
      "  alternative=\"'density'\", removal=\"3.1\")\n"
     ]
    },
    {
     "data": {
      "image/png": "[encoded data removed]",
      "text/plain": [
       "<Figure size 432x288 with 1 Axes>"
      ]
     },
     "metadata": {
      "needs_background": "light"
     },
     "output_type": "display_data"
    }
   ],
   "source": [
    "#  This plots a histogram, with the hypothetical normal distribution (with same mean and variance)\n",
    "xs = np.arange(rate_damage.min(), rate_damage.max(), 0.00001)\n",
    "fit = stats.norm.pdf(xs, np.mean(rate_damage), np.std(rate_damage))\n",
    "plt.plot(xs, fit, label='Normal Dist.', lw=4)\n",
    "plt.hist(rate_damage, normed=True, label='Actual Data');\n",
    "plt.title('Criminal Damage Arrest Rate Data')\n",
    "plt.legend();"
   ]
  },
  {
   "cell_type": "code",
   "execution_count": 36,
   "metadata": {},
   "outputs": [],
   "source": [
    "theft_arrest_average = rate_theft.mean()\n",
    "battery_arrest_average = rate_battery.mean()\n",
    "damage_arrest_average = rate_damage.mean()"
   ]
  },
  {
   "cell_type": "code",
   "execution_count": 37,
   "metadata": {},
   "outputs": [
    {
     "name": "stdout",
     "output_type": "stream",
     "text": [
      "Theft Arrest Rate Average\tBattery Arrest Average\tCriminal Damage Arrest Average\n",
      "0.1147971208577779\t\t0.23846304811858918\t0.07238967477751355\n"
     ]
    }
   ],
   "source": [
    "print('Theft Arrest Rate Average\\tBattery Arrest Average\\tCriminal Damage Arrest Average\\n{0}\\t\\t{1}\\t{2}'.format(theft_arrest_average,battery_arrest_average,damage_arrest_average))"
   ]
  },
  {
   "cell_type": "markdown",
   "metadata": {},
   "source": [
    "Battery is more likely to result in an arrest, on average, doesn't matter where you are. Criminal damage is the least likely to result in an arrest.\n",
    "\n",
    "Now, I should move onto the actual analysis of the question: what I want to do is show that there is a significant difference between districts in terms of these averages. Lets try to start with just comparing districts 1 and 2"
   ]
  },
  {
   "cell_type": "markdown",
   "metadata": {},
   "source": [
    "So my initial findings have indicated that there is in fact a very significant difference between the districts when it comes to the proportion of crimes that result in arrests.\n",
    "\n",
    "I will now turn the above code into a function to apply the two sample t test to all pairs of districts, which is n^2 time."
   ]
  },
  {
   "cell_type": "code",
   "execution_count": 38,
   "metadata": {},
   "outputs": [],
   "source": [
    "def get_stats(dist_1,dist_2):\n",
    "    dist_1_battery = dist_1[dist_1['Primary Type'] == 'battery']\n",
    "    dist_2_battery = dist_2[dist_2['Primary Type'] == 'battery']\n",
    "    \n",
    "    dist_1_theft = dist_1[dist_1['Primary Type'] == 'theft']\n",
    "    dist_2_theft = dist_2[dist_2['Primary Type'] == 'theft']\n",
    "    \n",
    "    dist_1_damage = dist_1[dist_1['Primary Type'] == 'criminal damage']\n",
    "    dist_2_damage = dist_2[dist_2['Primary Type'] == 'criminal damage']\n",
    "\n",
    "    print('--------Theft Statistics---------\\n')\n",
    "    print('*******First District********')\n",
    "    print('Theft Arrest Mean:\\t{0}'.format(dist_1_theft['Arrest'].mean()))\n",
    "    print('Number of Thefts:\\t{0}'.format(len(dist_1_theft['Arrest'])))\n",
    "    \n",
    "    print('*******Second District********')\n",
    "    print('Theft Arrest Mean:\\t{0}'.format(dist_2_theft['Arrest'].mean()))\n",
    "    print('Number of Thefts:\\t{0}'.format(len(dist_2_theft['Arrest'])))\n",
    "\n",
    "    t_val, p_val = stats.ttest_ind(dist_1_theft['Arrest'], dist_2_theft['Arrest'])\n",
    "    print('Test Statistic:\\t{0}\\nP Value:\\t{1}'.format(t_val,p_val))\n",
    "\n",
    "    print('\\n--------Battery Statistics---------\\n')\n",
    "    print('*******First District********')\n",
    "    print('Battery Arrest Mean:\\t{0}'.format(dist_1_battery['Arrest'].mean()))\n",
    "    print('Number of Batteries:\\t{0}'.format(len(dist_1_battery['Arrest'])))\n",
    "    \n",
    "    print('*******Second District********')\n",
    "    print('Battery Arrest Mean:\\t{0}'.format(dist_2_battery['Arrest'].mean()))\n",
    "    print('Number of Batteries:\\t{0}'.format(len(dist_2_battery['Arrest'])))\n",
    "\n",
    "    t_val, p_val = stats.ttest_ind(dist_1_battery['Arrest'], dist_2_battery['Arrest'])\n",
    "    print('Test Statistic:\\t{0}\\nP Value:\\t{1}'.format(t_val,p_val))\n",
    "\n",
    "    print('\\n--------Criminal Damage Statistics---------\\n')\n",
    "    print('*******First District********')\n",
    "    print('Damage Arrest Mean:\\t{0}'.format(dist_1_damage['Arrest'].mean()))\n",
    "    print('Number of Damages:\\t{0}'.format(len(dist_1_damage['Arrest'])))\n",
    "    \n",
    "    print('*******Second District********')\n",
    "    print('Damage Arrest Mean:\\t{0}'.format(dist_2_damage['Arrest'].mean()))\n",
    "    print('Number of Damages:\\t{0}'.format(len(dist_2_damage['Arrest'])))\n",
    "\n",
    "    t_val, p_val = stats.ttest_ind(dist_1_damage['Arrest'], dist_2_damage['Arrest'])\n",
    "    print('Test Statistic:\\t{0}\\nP Value:\\t{1}'.format(t_val,p_val))\n"
   ]
  },
  {
   "cell_type": "code",
   "execution_count": 39,
   "metadata": {},
   "outputs": [
    {
     "name": "stdout",
     "output_type": "stream",
     "text": [
      "--------Theft Statistics---------\n",
      "\n",
      "*******First District********\n",
      "Theft Arrest Mean:\t0.11993025666802802\n",
      "Number of Thefts:\t63662\n",
      "*******Second District********\n",
      "Theft Arrest Mean:\t0.09312083213681759\n",
      "Number of Thefts:\t62682\n",
      "Test Statistic:\t15.451610157362474\n",
      "P Value:\t8.243386488465634e-54\n",
      "\n",
      "--------Battery Statistics---------\n",
      "\n",
      "*******First District********\n",
      "Battery Arrest Mean:\t0.2157751308980679\n",
      "Number of Batteries:\t65318\n",
      "*******Second District********\n",
      "Battery Arrest Mean:\t0.20160553043870305\n",
      "Number of Batteries:\t79849\n",
      "Test Statistic:\t6.6184700585421865\n",
      "P Value:\t3.641908730144757e-11\n",
      "\n",
      "--------Criminal Damage Statistics---------\n",
      "\n",
      "*******First District********\n",
      "Damage Arrest Mean:\t0.06647559171597633\n",
      "Number of Damages:\t32448\n",
      "*******Second District********\n",
      "Damage Arrest Mean:\t0.05563894923958128\n",
      "Number of Damages:\t50630\n",
      "Test Statistic:\t6.4246400083977235\n",
      "P Value:\t1.3289382600084144e-10\n"
     ]
    }
   ],
   "source": [
    "get_stats(district_cache[2.0],district_cache[4.0])"
   ]
  },
  {
   "cell_type": "code",
   "execution_count": null,
   "metadata": {},
   "outputs": [],
   "source": []
  }
 ],
 "metadata": {
  "kernelspec": {
   "display_name": "Python 3",
   "language": "python",
   "name": "python3"
  },
  "language_info": {
   "codemirror_mode": {
    "name": "ipython",
    "version": 3
   },
   "file_extension": ".py",
   "mimetype": "text/x-python",
   "name": "python",
   "nbconvert_exporter": "python",
   "pygments_lexer": "ipython3",
   "version": "3.7.2"
  }
 },
 "nbformat": 4,
 "nbformat_minor": 2
}
