{
 "cells": [
  {
   "cell_type": "markdown",
   "metadata": {},
   "source": [
    "# COGS 108 - Final Project "
   ]
  },
  {
   "cell_type": "markdown",
   "metadata": {},
   "source": [
    "# Overview"
   ]
  },
  {
   "cell_type": "markdown",
   "metadata": {},
   "source": [
    "Summary of your project w/results"
   ]
  },
  {
   "cell_type": "markdown",
   "metadata": {},
   "source": [
    "# Name & PID\n",
    "\n",
    "- Name: Janica Peredo\n",
    "- PID: A15750337"
   ]
  },
  {
   "cell_type": "markdown",
   "metadata": {},
   "source": [
    "# Research Question"
   ]
  },
  {
   "cell_type": "markdown",
   "metadata": {},
   "source": [
    "# *Is there a relationship between restaurant inspection scores and the number of violations?*"
   ]
  },
  {
   "cell_type": "markdown",
   "metadata": {},
   "source": [
    "## Background and Prior Work"
   ]
  },
  {
   "cell_type": "markdown",
   "metadata": {},
   "source": [
    "\n",
    "In understanding the importance of restaurant inspection scores, it acts as a preventative decision in order to lessen foodborne illnesses. Foodborne illnesses are defined as infections caused by bacteria, viruses, parasites, and/or toxins when ingesting food. There are currently 31 known pathogens which make-up 21% of 179 million reported foodborne illnesses in the United States. The rest are unknown. In looking at restaurant hygiene before restaurant inspection scores were implemented in 1998, it was found that 50% of foodborne illnesses were attributed to restaurants. Approximately 325,000 people in 1999 were infected with 5,000 attributed deaths (Simon 2005). In 2011, the Center for Disease Control and Prevention (CDC) found that on average 128,000 people are hospitalized and approximately 3,000 attributed deaths (Scallan 2011). This brings up the question on the effectiveness of restaurant inspection scores as there appears to be a negative relationship between the first introduction of the score and the amount of hospitalizations. Restaurants with low inspection scores were seen to have an association with foodborne illnesses. However, in determining the relationship, more research is needed to determine causality. \n",
    "    \n",
    "One thing to note is in Tennessee, it was found that the 12 most commonly cited violations were non-critical food hazards.This includes proper flooring, walls, food protection during storage, ice contact, etc. The most critical violation found was storing cleaning fluids which was number 13 in most commonly cited (Jones 2004). The average score was also found the be approximately 80%. There seemed to be a variation between inspector scores and different regions. Therefore there may be a possible variation between inspection scores. This should be accounted for as the scores could be based on bias rather than uniformity. An Enviromnetal Health Specialist Network was introduced by the CDC and Food and Drug Association (FDA) in order to improve food health and reduce foodborne illnesses (Jones 2004). Overall it was found that more research was needed to find a causation between food inspection scores and the decrease with foodborne illnesses. In looking at the data set, some things this research will be looking for relationships between: inspectors and their respective scores; critical and non-critical food hazards; the number of food hazards and scores. \n",
    "\n",
    "References (include links):\n",
    "- 1) Simon, Paul & Leslie, Phillip & Run, Grace & Jin, Ginger & Reporter, Roshan & Aguirre, Arturo & Fielding, Jonathan. (2005). Impact of restaurant hygiene grade cards on foodborne-disease hospitalizations in Los Angeles County. Journal of environmental health. 67. 32-6, 56; quiz 59. \n",
    "https://www.researchgate.net/publication/7942379_Impact_of_restaurant_hygiene_grade_cards_on_foodborne-disease_hospitalizations_in_Los_Angeles_County \n",
    "\n",
    "- 2)Jones, T. F., Pavlin, B. I., LaFleur, B. J., Ingram, L. A., & Schaffner, W. (2004). Restaurant inspection scores and foodborne disease. Emerging infectious diseases, 10(4), 688–692. https://doi.org/10.3201/eid1004.030343\n",
    "https://www.ncbi.nlm.nih.gov/pmc/articles/PMC3323064/\n",
    "\n",
    "- 3)Scallan E, Hoekstra RM, Angulo FJ, Tauxe RV, Widdowson M, Roy SL, et al. Foodborne illness acquired in the United States—major pathogens. Emerg Infect Dis. 2011;17(1):7-15.\n",
    "https://www.cdc.gov/foodborneburden/2011-foodborne-estimates.html\n",
    "\n"
   ]
  },
  {
   "cell_type": "markdown",
   "metadata": {},
   "source": [
    "# Hypothesis\n"
   ]
  },
  {
   "cell_type": "markdown",
   "metadata": {},
   "source": [
    "*With the introduction of the food inspection scores, there should be a negative relationship between food hazards and scores. The food inspection scores represents a way for customers to measure and compare restaurants on a ratio scale. Unlike food reviews such as Yelp, it offers a way for the customer to feel safe when eating at an unknown restaurant as it is government regulated. This may become an incentive to restaurant's as attaining and maintaining a high score may increase customers. In order to have a high score, the health codes must be up-to date and therefore may lower food hazards.*"
   ]
  },
  {
   "cell_type": "markdown",
   "metadata": {},
   "source": [
    "# Dataset(s)"
   ]
  },
  {
   "cell_type": "markdown",
   "metadata": {},
   "source": [
    "\n",
    "- Dataset Name: inspections.csv\n",
    "- Link to the dataset: \n",
    "- Number of observations: 18466 rows × 36 columns\n",
    "\n",
    "I chose this data set as it listed the amount of non-critical hazards, critical hazards, health inspectors, and scores. The violations.csv did not include the scores which was important to my research. It is also based in North Carolina. "
   ]
  },
  {
   "cell_type": "markdown",
   "metadata": {},
   "source": [
    "# Setup"
   ]
  },
  {
   "cell_type": "code",
   "execution_count": 26,
   "metadata": {},
   "outputs": [],
   "source": [
    "import pandas as pd\n",
    "import requests\n",
    "import matplotlib.pyplot as plt\n",
    "import seaborn as sns\n",
    "\n",
    "import patsy\n",
    "import statsmodels.api as sm\n",
    "from scipy.stats import pearsonr, norm, ttest_ind\n",
    "\n",
    "df_inspections = pd.read_csv('inspections.csv')"
   ]
  },
  {
   "cell_type": "markdown",
   "metadata": {},
   "source": [
    "# Data Cleaning"
   ]
  },
  {
   "cell_type": "markdown",
   "metadata": {},
   "source": [
    "The first step was to determine what columns were included in the data set. I found that there were a lot of unneeded columns. I included hsisid just incase I wanted to link the specific restaurant to the scores. Zipcode to find a relationship with regards to area. Days_from_open_date in order to see if restaurants were more likely to lower their scores with age. Inspector_id to see if inspectors were more likely to give higher scores. Scores nad num_critical/non_num_critical in order to see if health hazards were affected by hazards. Inspection_num to see if the amount of inspections affects scores. \n",
    "\n",
    "I then sorted by inspector_id after getting the generalized shape. I dropped any NaN in the inspector_id since I wanted to see the effect of inspectors on score variation. "
   ]
  },
  {
   "cell_type": "code",
   "execution_count": 27,
   "metadata": {},
   "outputs": [
    {
     "data": {
      "text/html": [
       "<div>\n",
       "<style scoped>\n",
       "    .dataframe tbody tr th:only-of-type {\n",
       "        vertical-align: middle;\n",
       "    }\n",
       "\n",
       "    .dataframe tbody tr th {\n",
       "        vertical-align: top;\n",
       "    }\n",
       "\n",
       "    .dataframe thead th {\n",
       "        text-align: right;\n",
       "    }\n",
       "</style>\n",
       "<table border=\"1\" class=\"dataframe\">\n",
       "  <thead>\n",
       "    <tr style=\"text-align: right;\">\n",
       "      <th></th>\n",
       "      <th>hsisid</th>\n",
       "      <th>days_from_open_date</th>\n",
       "      <th>facilitytype</th>\n",
       "      <th>zip</th>\n",
       "      <th>inspection_num</th>\n",
       "      <th>inspector_id</th>\n",
       "      <th>score</th>\n",
       "      <th>num_critical</th>\n",
       "      <th>num_non_critical</th>\n",
       "    </tr>\n",
       "  </thead>\n",
       "  <tbody>\n",
       "    <tr>\n",
       "      <th>0</th>\n",
       "      <td>4092013748</td>\n",
       "      <td>3562</td>\n",
       "      <td>Restaurant</td>\n",
       "      <td>27610</td>\n",
       "      <td>1</td>\n",
       "      <td>27.0</td>\n",
       "      <td>96.0</td>\n",
       "      <td>9</td>\n",
       "      <td>7</td>\n",
       "    </tr>\n",
       "    <tr>\n",
       "      <th>1</th>\n",
       "      <td>4092014046</td>\n",
       "      <td>3062</td>\n",
       "      <td>Restaurant</td>\n",
       "      <td>27610</td>\n",
       "      <td>1</td>\n",
       "      <td>7.0</td>\n",
       "      <td>98.0</td>\n",
       "      <td>0</td>\n",
       "      <td>11</td>\n",
       "    </tr>\n",
       "    <tr>\n",
       "      <th>2</th>\n",
       "      <td>4092015191</td>\n",
       "      <td>1509</td>\n",
       "      <td>Restaurant</td>\n",
       "      <td>27610</td>\n",
       "      <td>1</td>\n",
       "      <td>3.0</td>\n",
       "      <td>97.0</td>\n",
       "      <td>4</td>\n",
       "      <td>8</td>\n",
       "    </tr>\n",
       "    <tr>\n",
       "      <th>3</th>\n",
       "      <td>4092016122</td>\n",
       "      <td>177</td>\n",
       "      <td>Restaurant</td>\n",
       "      <td>27513</td>\n",
       "      <td>1</td>\n",
       "      <td>24.0</td>\n",
       "      <td>99.0</td>\n",
       "      <td>2</td>\n",
       "      <td>3</td>\n",
       "    </tr>\n",
       "    <tr>\n",
       "      <th>4</th>\n",
       "      <td>4092021513</td>\n",
       "      <td>1670</td>\n",
       "      <td>Food Stand</td>\n",
       "      <td>27597</td>\n",
       "      <td>1</td>\n",
       "      <td>7.0</td>\n",
       "      <td>97.0</td>\n",
       "      <td>2</td>\n",
       "      <td>4</td>\n",
       "    </tr>\n",
       "  </tbody>\n",
       "</table>\n",
       "</div>"
      ],
      "text/plain": [
       "       hsisid  days_from_open_date facilitytype    zip  inspection_num  \\\n",
       "0  4092013748                 3562   Restaurant  27610               1   \n",
       "1  4092014046                 3062   Restaurant  27610               1   \n",
       "2  4092015191                 1509   Restaurant  27610               1   \n",
       "3  4092016122                  177   Restaurant  27513               1   \n",
       "4  4092021513                 1670   Food Stand  27597               1   \n",
       "\n",
       "   inspector_id  score  num_critical  num_non_critical  \n",
       "0          27.0   96.0             9                 7  \n",
       "1           7.0   98.0             0                11  \n",
       "2           3.0   97.0             4                 8  \n",
       "3          24.0   99.0             2                 3  \n",
       "4           7.0   97.0             2                 4  "
      ]
     },
     "execution_count": 27,
     "metadata": {},
     "output_type": "execute_result"
    }
   ],
   "source": [
    "\n",
    "df_inspections.head()\n",
    "df_inspections_14 = df_inspections.drop(labels =['postalcode','name', 'address1', 'address2', 'city','state', 'phonenumber','restaurantopendate', 'num_critical_previous','num_non_critical_previous', 'num_critical_mean_previous','num_non_critical_mean_previous','avg_neighbor_num_critical','avg_neighbor_num_non_critical', 'top_match','second_match','critical','previous_inspection_by_same_inspector','days_since_previous_inspection','previous_inspection_date','inspectedby','description','type','x','y','geocodestatus','date'],axis=1)\n",
    "\n",
    "df_inspections_14.head()\n"
   ]
  },
  {
   "cell_type": "markdown",
   "metadata": {},
   "source": [
    "The shape shows that the inspector scores were relatively high. \n",
    "The mean being 96.23 with a small std of 2.65. "
   ]
  },
  {
   "cell_type": "code",
   "execution_count": 28,
   "metadata": {},
   "outputs": [
    {
     "data": {
      "text/plain": [
       "{'df_I_mean': 96.23,\n",
       " 'df_I_std': 2.65,\n",
       " 'df_I_min': 72.5,\n",
       " 'df_I_max': 100,\n",
       " 'df_I_50': 97}"
      ]
     },
     "execution_count": 28,
     "metadata": {},
     "output_type": "execute_result"
    }
   ],
   "source": [
    "df_inspections_14['score'].hasnans # I wanted to make sure the data wasn't missing any values. \n",
    "df_score= df_inspections_14['score'] #I created a separate df. \n",
    "df_score=df_score.dropna() #I tried to dropped scores. There was no missing scores\n",
    "\n",
    "df_score.describe() # I looked into the shape of the score column of the df and stored it into a dictionary. \n",
    "df_score_shape = {'df_I_mean':96.23, 'df_I_std': 2.65,'df_I_min': 72.50, 'df_I_max':100, 'df_I_50': 97}\n",
    "df_score_shape"
   ]
  },
  {
   "cell_type": "code",
   "execution_count": 29,
   "metadata": {},
   "outputs": [
    {
     "data": {
      "text/html": [
       "<div>\n",
       "<style scoped>\n",
       "    .dataframe tbody tr th:only-of-type {\n",
       "        vertical-align: middle;\n",
       "    }\n",
       "\n",
       "    .dataframe tbody tr th {\n",
       "        vertical-align: top;\n",
       "    }\n",
       "\n",
       "    .dataframe thead th {\n",
       "        text-align: right;\n",
       "    }\n",
       "</style>\n",
       "<table border=\"1\" class=\"dataframe\">\n",
       "  <thead>\n",
       "    <tr style=\"text-align: right;\">\n",
       "      <th></th>\n",
       "      <th>hsisid</th>\n",
       "      <th>days_from_open_date</th>\n",
       "      <th>zip</th>\n",
       "      <th>inspection_num</th>\n",
       "      <th>inspector_id</th>\n",
       "      <th>num_critical</th>\n",
       "      <th>num_non_critical</th>\n",
       "    </tr>\n",
       "    <tr>\n",
       "      <th>score</th>\n",
       "      <th></th>\n",
       "      <th></th>\n",
       "      <th></th>\n",
       "      <th></th>\n",
       "      <th></th>\n",
       "      <th></th>\n",
       "      <th></th>\n",
       "    </tr>\n",
       "  </thead>\n",
       "  <tbody>\n",
       "    <tr>\n",
       "      <th>72.5</th>\n",
       "      <td>4.092015e+09</td>\n",
       "      <td>2945.000000</td>\n",
       "      <td>27511.000000</td>\n",
       "      <td>10.000000</td>\n",
       "      <td>2.000000</td>\n",
       "      <td>15.000000</td>\n",
       "      <td>14.000000</td>\n",
       "    </tr>\n",
       "    <tr>\n",
       "      <th>75.0</th>\n",
       "      <td>4.092015e+09</td>\n",
       "      <td>2966.500000</td>\n",
       "      <td>27609.500000</td>\n",
       "      <td>4.000000</td>\n",
       "      <td>5.500000</td>\n",
       "      <td>11.000000</td>\n",
       "      <td>13.500000</td>\n",
       "    </tr>\n",
       "    <tr>\n",
       "      <th>76.0</th>\n",
       "      <td>4.092017e+09</td>\n",
       "      <td>102.000000</td>\n",
       "      <td>27560.000000</td>\n",
       "      <td>1.000000</td>\n",
       "      <td>31.000000</td>\n",
       "      <td>12.000000</td>\n",
       "      <td>23.000000</td>\n",
       "    </tr>\n",
       "    <tr>\n",
       "      <th>77.5</th>\n",
       "      <td>4.092014e+09</td>\n",
       "      <td>3474.000000</td>\n",
       "      <td>27612.000000</td>\n",
       "      <td>2.000000</td>\n",
       "      <td>2.000000</td>\n",
       "      <td>17.000000</td>\n",
       "      <td>17.000000</td>\n",
       "    </tr>\n",
       "    <tr>\n",
       "      <th>78.5</th>\n",
       "      <td>4.092015e+09</td>\n",
       "      <td>2127.000000</td>\n",
       "      <td>27576.333333</td>\n",
       "      <td>3.000000</td>\n",
       "      <td>21.333333</td>\n",
       "      <td>13.666667</td>\n",
       "      <td>15.000000</td>\n",
       "    </tr>\n",
       "    <tr>\n",
       "      <th>79.0</th>\n",
       "      <td>4.092014e+09</td>\n",
       "      <td>4383.000000</td>\n",
       "      <td>27606.000000</td>\n",
       "      <td>10.000000</td>\n",
       "      <td>2.000000</td>\n",
       "      <td>10.000000</td>\n",
       "      <td>11.000000</td>\n",
       "    </tr>\n",
       "    <tr>\n",
       "      <th>80.0</th>\n",
       "      <td>4.092015e+09</td>\n",
       "      <td>2371.800000</td>\n",
       "      <td>27535.200000</td>\n",
       "      <td>4.000000</td>\n",
       "      <td>10.400000</td>\n",
       "      <td>14.400000</td>\n",
       "      <td>13.600000</td>\n",
       "    </tr>\n",
       "    <tr>\n",
       "      <th>80.5</th>\n",
       "      <td>4.092016e+09</td>\n",
       "      <td>1370.000000</td>\n",
       "      <td>27529.666667</td>\n",
       "      <td>6.333333</td>\n",
       "      <td>9.333333</td>\n",
       "      <td>15.666667</td>\n",
       "      <td>14.666667</td>\n",
       "    </tr>\n",
       "    <tr>\n",
       "      <th>81.0</th>\n",
       "      <td>4.092014e+09</td>\n",
       "      <td>3918.000000</td>\n",
       "      <td>27592.500000</td>\n",
       "      <td>3.000000</td>\n",
       "      <td>21.000000</td>\n",
       "      <td>9.750000</td>\n",
       "      <td>16.500000</td>\n",
       "    </tr>\n",
       "    <tr>\n",
       "      <th>81.5</th>\n",
       "      <td>4.092015e+09</td>\n",
       "      <td>2882.000000</td>\n",
       "      <td>27562.500000</td>\n",
       "      <td>4.750000</td>\n",
       "      <td>19.500000</td>\n",
       "      <td>18.500000</td>\n",
       "      <td>18.750000</td>\n",
       "    </tr>\n",
       "    <tr>\n",
       "      <th>82.0</th>\n",
       "      <td>4.092013e+09</td>\n",
       "      <td>5406.000000</td>\n",
       "      <td>27557.000000</td>\n",
       "      <td>5.500000</td>\n",
       "      <td>12.000000</td>\n",
       "      <td>12.000000</td>\n",
       "      <td>14.500000</td>\n",
       "    </tr>\n",
       "    <tr>\n",
       "      <th>82.5</th>\n",
       "      <td>4.092015e+09</td>\n",
       "      <td>2056.500000</td>\n",
       "      <td>27589.750000</td>\n",
       "      <td>4.250000</td>\n",
       "      <td>13.250000</td>\n",
       "      <td>8.750000</td>\n",
       "      <td>12.000000</td>\n",
       "    </tr>\n",
       "    <tr>\n",
       "      <th>83.0</th>\n",
       "      <td>4.092015e+09</td>\n",
       "      <td>2615.571429</td>\n",
       "      <td>27564.428571</td>\n",
       "      <td>4.285714</td>\n",
       "      <td>19.714286</td>\n",
       "      <td>14.428571</td>\n",
       "      <td>17.714286</td>\n",
       "    </tr>\n",
       "    <tr>\n",
       "      <th>83.5</th>\n",
       "      <td>4.092017e+09</td>\n",
       "      <td>3984.800000</td>\n",
       "      <td>27588.200000</td>\n",
       "      <td>5.600000</td>\n",
       "      <td>14.200000</td>\n",
       "      <td>7.600000</td>\n",
       "      <td>10.200000</td>\n",
       "    </tr>\n",
       "    <tr>\n",
       "      <th>84.0</th>\n",
       "      <td>4.092016e+09</td>\n",
       "      <td>1661.846154</td>\n",
       "      <td>27563.769231</td>\n",
       "      <td>2.769231</td>\n",
       "      <td>20.769231</td>\n",
       "      <td>10.538462</td>\n",
       "      <td>13.000000</td>\n",
       "    </tr>\n",
       "    <tr>\n",
       "      <th>84.5</th>\n",
       "      <td>4.092015e+09</td>\n",
       "      <td>3142.400000</td>\n",
       "      <td>27574.400000</td>\n",
       "      <td>5.666667</td>\n",
       "      <td>10.466667</td>\n",
       "      <td>9.866667</td>\n",
       "      <td>11.000000</td>\n",
       "    </tr>\n",
       "    <tr>\n",
       "      <th>85.0</th>\n",
       "      <td>4.092037e+09</td>\n",
       "      <td>1168.071429</td>\n",
       "      <td>27576.285714</td>\n",
       "      <td>3.071429</td>\n",
       "      <td>16.928571</td>\n",
       "      <td>11.071429</td>\n",
       "      <td>13.928571</td>\n",
       "    </tr>\n",
       "    <tr>\n",
       "      <th>85.5</th>\n",
       "      <td>4.092016e+09</td>\n",
       "      <td>2231.923077</td>\n",
       "      <td>27578.846154</td>\n",
       "      <td>4.230769</td>\n",
       "      <td>13.153846</td>\n",
       "      <td>9.846154</td>\n",
       "      <td>12.538462</td>\n",
       "    </tr>\n",
       "    <tr>\n",
       "      <th>86.0</th>\n",
       "      <td>4.092022e+09</td>\n",
       "      <td>2913.318182</td>\n",
       "      <td>27572.909091</td>\n",
       "      <td>4.909091</td>\n",
       "      <td>16.090909</td>\n",
       "      <td>9.272727</td>\n",
       "      <td>13.636364</td>\n",
       "    </tr>\n",
       "    <tr>\n",
       "      <th>86.5</th>\n",
       "      <td>4.092016e+09</td>\n",
       "      <td>2989.615385</td>\n",
       "      <td>27558.538462</td>\n",
       "      <td>5.115385</td>\n",
       "      <td>16.846154</td>\n",
       "      <td>10.461538</td>\n",
       "      <td>13.807692</td>\n",
       "    </tr>\n",
       "    <tr>\n",
       "      <th>87.0</th>\n",
       "      <td>4.092016e+09</td>\n",
       "      <td>2706.520000</td>\n",
       "      <td>27570.560000</td>\n",
       "      <td>4.080000</td>\n",
       "      <td>15.200000</td>\n",
       "      <td>9.680000</td>\n",
       "      <td>11.400000</td>\n",
       "    </tr>\n",
       "    <tr>\n",
       "      <th>87.5</th>\n",
       "      <td>4.092016e+09</td>\n",
       "      <td>2566.257143</td>\n",
       "      <td>27554.828571</td>\n",
       "      <td>3.657143</td>\n",
       "      <td>14.942857</td>\n",
       "      <td>10.142857</td>\n",
       "      <td>12.971429</td>\n",
       "    </tr>\n",
       "    <tr>\n",
       "      <th>88.0</th>\n",
       "      <td>4.092023e+09</td>\n",
       "      <td>3780.621622</td>\n",
       "      <td>27571.135135</td>\n",
       "      <td>4.648649</td>\n",
       "      <td>18.513514</td>\n",
       "      <td>7.675676</td>\n",
       "      <td>11.810811</td>\n",
       "    </tr>\n",
       "    <tr>\n",
       "      <th>88.5</th>\n",
       "      <td>4.092032e+09</td>\n",
       "      <td>2414.730769</td>\n",
       "      <td>27559.076923</td>\n",
       "      <td>5.307692</td>\n",
       "      <td>14.269231</td>\n",
       "      <td>7.576923</td>\n",
       "      <td>11.153846</td>\n",
       "    </tr>\n",
       "    <tr>\n",
       "      <th>89.0</th>\n",
       "      <td>4.092021e+09</td>\n",
       "      <td>2711.250000</td>\n",
       "      <td>27580.875000</td>\n",
       "      <td>4.750000</td>\n",
       "      <td>9.375000</td>\n",
       "      <td>5.750000</td>\n",
       "      <td>9.625000</td>\n",
       "    </tr>\n",
       "    <tr>\n",
       "      <th>89.5</th>\n",
       "      <td>4.092018e+09</td>\n",
       "      <td>2260.875000</td>\n",
       "      <td>27521.125000</td>\n",
       "      <td>4.625000</td>\n",
       "      <td>21.375000</td>\n",
       "      <td>7.125000</td>\n",
       "      <td>7.375000</td>\n",
       "    </tr>\n",
       "    <tr>\n",
       "      <th>90.0</th>\n",
       "      <td>4.092020e+09</td>\n",
       "      <td>2890.965035</td>\n",
       "      <td>27573.248252</td>\n",
       "      <td>4.262238</td>\n",
       "      <td>15.611888</td>\n",
       "      <td>7.853147</td>\n",
       "      <td>11.230769</td>\n",
       "    </tr>\n",
       "    <tr>\n",
       "      <th>90.5</th>\n",
       "      <td>4.092017e+09</td>\n",
       "      <td>3188.265432</td>\n",
       "      <td>27575.790123</td>\n",
       "      <td>4.413580</td>\n",
       "      <td>13.135802</td>\n",
       "      <td>6.833333</td>\n",
       "      <td>9.895062</td>\n",
       "    </tr>\n",
       "    <tr>\n",
       "      <th>91.0</th>\n",
       "      <td>4.092019e+09</td>\n",
       "      <td>3094.601064</td>\n",
       "      <td>27578.632979</td>\n",
       "      <td>4.223404</td>\n",
       "      <td>15.037234</td>\n",
       "      <td>6.601064</td>\n",
       "      <td>10.180851</td>\n",
       "    </tr>\n",
       "    <tr>\n",
       "      <th>91.5</th>\n",
       "      <td>4.092018e+09</td>\n",
       "      <td>2865.854839</td>\n",
       "      <td>27573.720430</td>\n",
       "      <td>4.284946</td>\n",
       "      <td>13.134409</td>\n",
       "      <td>6.129032</td>\n",
       "      <td>8.913978</td>\n",
       "    </tr>\n",
       "    <tr>\n",
       "      <th>92.0</th>\n",
       "      <td>4.092026e+09</td>\n",
       "      <td>2841.706070</td>\n",
       "      <td>27575.875399</td>\n",
       "      <td>4.150160</td>\n",
       "      <td>14.699681</td>\n",
       "      <td>6.313099</td>\n",
       "      <td>9.019169</td>\n",
       "    </tr>\n",
       "    <tr>\n",
       "      <th>92.5</th>\n",
       "      <td>4.092025e+09</td>\n",
       "      <td>3160.949704</td>\n",
       "      <td>27575.721893</td>\n",
       "      <td>4.251479</td>\n",
       "      <td>14.337278</td>\n",
       "      <td>5.307692</td>\n",
       "      <td>8.227811</td>\n",
       "    </tr>\n",
       "    <tr>\n",
       "      <th>93.0</th>\n",
       "      <td>4.092027e+09</td>\n",
       "      <td>2955.049702</td>\n",
       "      <td>27574.139165</td>\n",
       "      <td>4.268390</td>\n",
       "      <td>14.470120</td>\n",
       "      <td>5.353877</td>\n",
       "      <td>8.119284</td>\n",
       "    </tr>\n",
       "    <tr>\n",
       "      <th>93.5</th>\n",
       "      <td>4.092025e+09</td>\n",
       "      <td>3135.400000</td>\n",
       "      <td>27574.455856</td>\n",
       "      <td>4.308108</td>\n",
       "      <td>14.174775</td>\n",
       "      <td>5.061261</td>\n",
       "      <td>7.859459</td>\n",
       "    </tr>\n",
       "    <tr>\n",
       "      <th>94.0</th>\n",
       "      <td>4.092025e+09</td>\n",
       "      <td>3257.955345</td>\n",
       "      <td>27577.238160</td>\n",
       "      <td>4.144790</td>\n",
       "      <td>14.677943</td>\n",
       "      <td>4.496617</td>\n",
       "      <td>7.492558</td>\n",
       "    </tr>\n",
       "    <tr>\n",
       "      <th>94.5</th>\n",
       "      <td>4.092026e+09</td>\n",
       "      <td>3144.730013</td>\n",
       "      <td>27576.311927</td>\n",
       "      <td>4.049803</td>\n",
       "      <td>14.363517</td>\n",
       "      <td>4.096986</td>\n",
       "      <td>6.878113</td>\n",
       "    </tr>\n",
       "    <tr>\n",
       "      <th>95.0</th>\n",
       "      <td>4.092026e+09</td>\n",
       "      <td>3142.688335</td>\n",
       "      <td>27578.426536</td>\n",
       "      <td>4.242208</td>\n",
       "      <td>14.584670</td>\n",
       "      <td>3.542297</td>\n",
       "      <td>6.373108</td>\n",
       "    </tr>\n",
       "    <tr>\n",
       "      <th>95.5</th>\n",
       "      <td>4.092028e+09</td>\n",
       "      <td>3134.755963</td>\n",
       "      <td>27577.982569</td>\n",
       "      <td>4.382569</td>\n",
       "      <td>14.521101</td>\n",
       "      <td>3.300917</td>\n",
       "      <td>5.962385</td>\n",
       "    </tr>\n",
       "    <tr>\n",
       "      <th>96.0</th>\n",
       "      <td>4.092031e+09</td>\n",
       "      <td>3231.312126</td>\n",
       "      <td>27580.105539</td>\n",
       "      <td>4.241766</td>\n",
       "      <td>14.360030</td>\n",
       "      <td>2.861527</td>\n",
       "      <td>5.563623</td>\n",
       "    </tr>\n",
       "    <tr>\n",
       "      <th>96.5</th>\n",
       "      <td>4.092033e+09</td>\n",
       "      <td>3361.542920</td>\n",
       "      <td>27578.820249</td>\n",
       "      <td>4.289068</td>\n",
       "      <td>13.835657</td>\n",
       "      <td>2.538518</td>\n",
       "      <td>5.022744</td>\n",
       "    </tr>\n",
       "    <tr>\n",
       "      <th>97.0</th>\n",
       "      <td>4.092040e+09</td>\n",
       "      <td>3271.157990</td>\n",
       "      <td>27580.237288</td>\n",
       "      <td>4.132567</td>\n",
       "      <td>13.972138</td>\n",
       "      <td>2.274818</td>\n",
       "      <td>4.613196</td>\n",
       "    </tr>\n",
       "    <tr>\n",
       "      <th>97.5</th>\n",
       "      <td>4.092042e+09</td>\n",
       "      <td>3290.515019</td>\n",
       "      <td>27578.667084</td>\n",
       "      <td>4.157697</td>\n",
       "      <td>13.643304</td>\n",
       "      <td>1.902378</td>\n",
       "      <td>4.056946</td>\n",
       "    </tr>\n",
       "    <tr>\n",
       "      <th>98.0</th>\n",
       "      <td>4.092051e+09</td>\n",
       "      <td>3449.254601</td>\n",
       "      <td>27580.072393</td>\n",
       "      <td>4.304294</td>\n",
       "      <td>13.751534</td>\n",
       "      <td>1.489571</td>\n",
       "      <td>3.587117</td>\n",
       "    </tr>\n",
       "    <tr>\n",
       "      <th>98.5</th>\n",
       "      <td>4.092054e+09</td>\n",
       "      <td>3364.271773</td>\n",
       "      <td>27579.714639</td>\n",
       "      <td>4.059914</td>\n",
       "      <td>13.504632</td>\n",
       "      <td>1.311303</td>\n",
       "      <td>2.824583</td>\n",
       "    </tr>\n",
       "    <tr>\n",
       "      <th>99.0</th>\n",
       "      <td>4.092060e+09</td>\n",
       "      <td>3458.746382</td>\n",
       "      <td>27575.246763</td>\n",
       "      <td>4.251333</td>\n",
       "      <td>12.487433</td>\n",
       "      <td>0.854532</td>\n",
       "      <td>2.555217</td>\n",
       "    </tr>\n",
       "    <tr>\n",
       "      <th>99.5</th>\n",
       "      <td>4.092064e+09</td>\n",
       "      <td>3442.710098</td>\n",
       "      <td>27576.466884</td>\n",
       "      <td>4.024973</td>\n",
       "      <td>12.033659</td>\n",
       "      <td>0.609121</td>\n",
       "      <td>2.078176</td>\n",
       "    </tr>\n",
       "    <tr>\n",
       "      <th>100.0</th>\n",
       "      <td>4.092065e+09</td>\n",
       "      <td>3442.415507</td>\n",
       "      <td>27568.938370</td>\n",
       "      <td>3.516899</td>\n",
       "      <td>8.549801</td>\n",
       "      <td>0.805169</td>\n",
       "      <td>1.522863</td>\n",
       "    </tr>\n",
       "  </tbody>\n",
       "</table>\n",
       "</div>"
      ],
      "text/plain": [
       "             hsisid  days_from_open_date           zip  inspection_num  \\\n",
       "score                                                                    \n",
       "72.5   4.092015e+09          2945.000000  27511.000000       10.000000   \n",
       "75.0   4.092015e+09          2966.500000  27609.500000        4.000000   \n",
       "76.0   4.092017e+09           102.000000  27560.000000        1.000000   \n",
       "77.5   4.092014e+09          3474.000000  27612.000000        2.000000   \n",
       "78.5   4.092015e+09          2127.000000  27576.333333        3.000000   \n",
       "79.0   4.092014e+09          4383.000000  27606.000000       10.000000   \n",
       "80.0   4.092015e+09          2371.800000  27535.200000        4.000000   \n",
       "80.5   4.092016e+09          1370.000000  27529.666667        6.333333   \n",
       "81.0   4.092014e+09          3918.000000  27592.500000        3.000000   \n",
       "81.5   4.092015e+09          2882.000000  27562.500000        4.750000   \n",
       "82.0   4.092013e+09          5406.000000  27557.000000        5.500000   \n",
       "82.5   4.092015e+09          2056.500000  27589.750000        4.250000   \n",
       "83.0   4.092015e+09          2615.571429  27564.428571        4.285714   \n",
       "83.5   4.092017e+09          3984.800000  27588.200000        5.600000   \n",
       "84.0   4.092016e+09          1661.846154  27563.769231        2.769231   \n",
       "84.5   4.092015e+09          3142.400000  27574.400000        5.666667   \n",
       "85.0   4.092037e+09          1168.071429  27576.285714        3.071429   \n",
       "85.5   4.092016e+09          2231.923077  27578.846154        4.230769   \n",
       "86.0   4.092022e+09          2913.318182  27572.909091        4.909091   \n",
       "86.5   4.092016e+09          2989.615385  27558.538462        5.115385   \n",
       "87.0   4.092016e+09          2706.520000  27570.560000        4.080000   \n",
       "87.5   4.092016e+09          2566.257143  27554.828571        3.657143   \n",
       "88.0   4.092023e+09          3780.621622  27571.135135        4.648649   \n",
       "88.5   4.092032e+09          2414.730769  27559.076923        5.307692   \n",
       "89.0   4.092021e+09          2711.250000  27580.875000        4.750000   \n",
       "89.5   4.092018e+09          2260.875000  27521.125000        4.625000   \n",
       "90.0   4.092020e+09          2890.965035  27573.248252        4.262238   \n",
       "90.5   4.092017e+09          3188.265432  27575.790123        4.413580   \n",
       "91.0   4.092019e+09          3094.601064  27578.632979        4.223404   \n",
       "91.5   4.092018e+09          2865.854839  27573.720430        4.284946   \n",
       "92.0   4.092026e+09          2841.706070  27575.875399        4.150160   \n",
       "92.5   4.092025e+09          3160.949704  27575.721893        4.251479   \n",
       "93.0   4.092027e+09          2955.049702  27574.139165        4.268390   \n",
       "93.5   4.092025e+09          3135.400000  27574.455856        4.308108   \n",
       "94.0   4.092025e+09          3257.955345  27577.238160        4.144790   \n",
       "94.5   4.092026e+09          3144.730013  27576.311927        4.049803   \n",
       "95.0   4.092026e+09          3142.688335  27578.426536        4.242208   \n",
       "95.5   4.092028e+09          3134.755963  27577.982569        4.382569   \n",
       "96.0   4.092031e+09          3231.312126  27580.105539        4.241766   \n",
       "96.5   4.092033e+09          3361.542920  27578.820249        4.289068   \n",
       "97.0   4.092040e+09          3271.157990  27580.237288        4.132567   \n",
       "97.5   4.092042e+09          3290.515019  27578.667084        4.157697   \n",
       "98.0   4.092051e+09          3449.254601  27580.072393        4.304294   \n",
       "98.5   4.092054e+09          3364.271773  27579.714639        4.059914   \n",
       "99.0   4.092060e+09          3458.746382  27575.246763        4.251333   \n",
       "99.5   4.092064e+09          3442.710098  27576.466884        4.024973   \n",
       "100.0  4.092065e+09          3442.415507  27568.938370        3.516899   \n",
       "\n",
       "       inspector_id  num_critical  num_non_critical  \n",
       "score                                                \n",
       "72.5       2.000000     15.000000         14.000000  \n",
       "75.0       5.500000     11.000000         13.500000  \n",
       "76.0      31.000000     12.000000         23.000000  \n",
       "77.5       2.000000     17.000000         17.000000  \n",
       "78.5      21.333333     13.666667         15.000000  \n",
       "79.0       2.000000     10.000000         11.000000  \n",
       "80.0      10.400000     14.400000         13.600000  \n",
       "80.5       9.333333     15.666667         14.666667  \n",
       "81.0      21.000000      9.750000         16.500000  \n",
       "81.5      19.500000     18.500000         18.750000  \n",
       "82.0      12.000000     12.000000         14.500000  \n",
       "82.5      13.250000      8.750000         12.000000  \n",
       "83.0      19.714286     14.428571         17.714286  \n",
       "83.5      14.200000      7.600000         10.200000  \n",
       "84.0      20.769231     10.538462         13.000000  \n",
       "84.5      10.466667      9.866667         11.000000  \n",
       "85.0      16.928571     11.071429         13.928571  \n",
       "85.5      13.153846      9.846154         12.538462  \n",
       "86.0      16.090909      9.272727         13.636364  \n",
       "86.5      16.846154     10.461538         13.807692  \n",
       "87.0      15.200000      9.680000         11.400000  \n",
       "87.5      14.942857     10.142857         12.971429  \n",
       "88.0      18.513514      7.675676         11.810811  \n",
       "88.5      14.269231      7.576923         11.153846  \n",
       "89.0       9.375000      5.750000          9.625000  \n",
       "89.5      21.375000      7.125000          7.375000  \n",
       "90.0      15.611888      7.853147         11.230769  \n",
       "90.5      13.135802      6.833333          9.895062  \n",
       "91.0      15.037234      6.601064         10.180851  \n",
       "91.5      13.134409      6.129032          8.913978  \n",
       "92.0      14.699681      6.313099          9.019169  \n",
       "92.5      14.337278      5.307692          8.227811  \n",
       "93.0      14.470120      5.353877          8.119284  \n",
       "93.5      14.174775      5.061261          7.859459  \n",
       "94.0      14.677943      4.496617          7.492558  \n",
       "94.5      14.363517      4.096986          6.878113  \n",
       "95.0      14.584670      3.542297          6.373108  \n",
       "95.5      14.521101      3.300917          5.962385  \n",
       "96.0      14.360030      2.861527          5.563623  \n",
       "96.5      13.835657      2.538518          5.022744  \n",
       "97.0      13.972138      2.274818          4.613196  \n",
       "97.5      13.643304      1.902378          4.056946  \n",
       "98.0      13.751534      1.489571          3.587117  \n",
       "98.5      13.504632      1.311303          2.824583  \n",
       "99.0      12.487433      0.854532          2.555217  \n",
       "99.5      12.033659      0.609121          2.078176  \n",
       "100.0      8.549801      0.805169          1.522863  "
      ]
     },
     "execution_count": 29,
     "metadata": {},
     "output_type": "execute_result"
    }
   ],
   "source": [
    "df_I_score = df_inspections_14.groupby('score').agg('mean') \n",
    "# I used groupby for scores as it allowed me to find the\n",
    "#highest to lowest. \n",
    "\n",
    "df_I_score"
   ]
  },
  {
   "cell_type": "code",
   "execution_count": 30,
   "metadata": {},
   "outputs": [
    {
     "data": {
      "text/html": [
       "<div>\n",
       "<style scoped>\n",
       "    .dataframe tbody tr th:only-of-type {\n",
       "        vertical-align: middle;\n",
       "    }\n",
       "\n",
       "    .dataframe tbody tr th {\n",
       "        vertical-align: top;\n",
       "    }\n",
       "\n",
       "    .dataframe thead th {\n",
       "        text-align: right;\n",
       "    }\n",
       "</style>\n",
       "<table border=\"1\" class=\"dataframe\">\n",
       "  <thead>\n",
       "    <tr style=\"text-align: right;\">\n",
       "      <th></th>\n",
       "      <th>hsisid</th>\n",
       "      <th>days_from_open_date</th>\n",
       "      <th>facilitytype</th>\n",
       "      <th>zip</th>\n",
       "      <th>inspection_num</th>\n",
       "      <th>inspector_id</th>\n",
       "      <th>score</th>\n",
       "      <th>num_critical</th>\n",
       "      <th>num_non_critical</th>\n",
       "    </tr>\n",
       "  </thead>\n",
       "  <tbody>\n",
       "    <tr>\n",
       "      <th>4780</th>\n",
       "      <td>4092016380</td>\n",
       "      <td>284</td>\n",
       "      <td>Restaurant</td>\n",
       "      <td>27615</td>\n",
       "      <td>2</td>\n",
       "      <td>1.0</td>\n",
       "      <td>98.0</td>\n",
       "      <td>2</td>\n",
       "      <td>5</td>\n",
       "    </tr>\n",
       "    <tr>\n",
       "      <th>7868</th>\n",
       "      <td>4092110124</td>\n",
       "      <td>5150</td>\n",
       "      <td>Public School Lunchrooms</td>\n",
       "      <td>27539</td>\n",
       "      <td>7</td>\n",
       "      <td>1.0</td>\n",
       "      <td>97.0</td>\n",
       "      <td>3</td>\n",
       "      <td>1</td>\n",
       "    </tr>\n",
       "    <tr>\n",
       "      <th>15480</th>\n",
       "      <td>4092016559</td>\n",
       "      <td>868</td>\n",
       "      <td>Restaurant</td>\n",
       "      <td>27526</td>\n",
       "      <td>5</td>\n",
       "      <td>1.0</td>\n",
       "      <td>90.0</td>\n",
       "      <td>12</td>\n",
       "      <td>15</td>\n",
       "    </tr>\n",
       "    <tr>\n",
       "      <th>15481</th>\n",
       "      <td>4092016571</td>\n",
       "      <td>846</td>\n",
       "      <td>Restaurant</td>\n",
       "      <td>27540</td>\n",
       "      <td>6</td>\n",
       "      <td>1.0</td>\n",
       "      <td>94.5</td>\n",
       "      <td>5</td>\n",
       "      <td>9</td>\n",
       "    </tr>\n",
       "    <tr>\n",
       "      <th>2672</th>\n",
       "      <td>4092015610</td>\n",
       "      <td>1133</td>\n",
       "      <td>Restaurant</td>\n",
       "      <td>27539</td>\n",
       "      <td>2</td>\n",
       "      <td>1.0</td>\n",
       "      <td>92.0</td>\n",
       "      <td>7</td>\n",
       "      <td>14</td>\n",
       "    </tr>\n",
       "    <tr>\n",
       "      <th>...</th>\n",
       "      <td>...</td>\n",
       "      <td>...</td>\n",
       "      <td>...</td>\n",
       "      <td>...</td>\n",
       "      <td>...</td>\n",
       "      <td>...</td>\n",
       "      <td>...</td>\n",
       "      <td>...</td>\n",
       "      <td>...</td>\n",
       "    </tr>\n",
       "    <tr>\n",
       "      <th>607</th>\n",
       "      <td>4092013354</td>\n",
       "      <td>4165</td>\n",
       "      <td>Restaurant</td>\n",
       "      <td>27613</td>\n",
       "      <td>1</td>\n",
       "      <td>32.0</td>\n",
       "      <td>95.0</td>\n",
       "      <td>8</td>\n",
       "      <td>12</td>\n",
       "    </tr>\n",
       "    <tr>\n",
       "      <th>797</th>\n",
       "      <td>4092020870</td>\n",
       "      <td>5005</td>\n",
       "      <td>Food Stand</td>\n",
       "      <td>27615</td>\n",
       "      <td>1</td>\n",
       "      <td>32.0</td>\n",
       "      <td>97.5</td>\n",
       "      <td>4</td>\n",
       "      <td>10</td>\n",
       "    </tr>\n",
       "    <tr>\n",
       "      <th>3387</th>\n",
       "      <td>4092011561</td>\n",
       "      <td>6896</td>\n",
       "      <td>Restaurant</td>\n",
       "      <td>27615</td>\n",
       "      <td>2</td>\n",
       "      <td>32.0</td>\n",
       "      <td>95.0</td>\n",
       "      <td>4</td>\n",
       "      <td>11</td>\n",
       "    </tr>\n",
       "    <tr>\n",
       "      <th>2193</th>\n",
       "      <td>4092016375</td>\n",
       "      <td>63</td>\n",
       "      <td>Restaurant</td>\n",
       "      <td>27615</td>\n",
       "      <td>1</td>\n",
       "      <td>32.0</td>\n",
       "      <td>96.5</td>\n",
       "      <td>7</td>\n",
       "      <td>12</td>\n",
       "    </tr>\n",
       "    <tr>\n",
       "      <th>1449</th>\n",
       "      <td>4092021659</td>\n",
       "      <td>713</td>\n",
       "      <td>Food Stand</td>\n",
       "      <td>27615</td>\n",
       "      <td>1</td>\n",
       "      <td>32.0</td>\n",
       "      <td>98.5</td>\n",
       "      <td>0</td>\n",
       "      <td>6</td>\n",
       "    </tr>\n",
       "  </tbody>\n",
       "</table>\n",
       "<p>18461 rows × 9 columns</p>\n",
       "</div>"
      ],
      "text/plain": [
       "           hsisid  days_from_open_date              facilitytype    zip  \\\n",
       "4780   4092016380                  284                Restaurant  27615   \n",
       "7868   4092110124                 5150  Public School Lunchrooms  27539   \n",
       "15480  4092016559                  868                Restaurant  27526   \n",
       "15481  4092016571                  846                Restaurant  27540   \n",
       "2672   4092015610                 1133                Restaurant  27539   \n",
       "...           ...                  ...                       ...    ...   \n",
       "607    4092013354                 4165                Restaurant  27613   \n",
       "797    4092020870                 5005                Food Stand  27615   \n",
       "3387   4092011561                 6896                Restaurant  27615   \n",
       "2193   4092016375                   63                Restaurant  27615   \n",
       "1449   4092021659                  713                Food Stand  27615   \n",
       "\n",
       "       inspection_num  inspector_id  score  num_critical  num_non_critical  \n",
       "4780                2           1.0   98.0             2                 5  \n",
       "7868                7           1.0   97.0             3                 1  \n",
       "15480               5           1.0   90.0            12                15  \n",
       "15481               6           1.0   94.5             5                 9  \n",
       "2672                2           1.0   92.0             7                14  \n",
       "...               ...           ...    ...           ...               ...  \n",
       "607                 1          32.0   95.0             8                12  \n",
       "797                 1          32.0   97.5             4                10  \n",
       "3387                2          32.0   95.0             4                11  \n",
       "2193                1          32.0   96.5             7                12  \n",
       "1449                1          32.0   98.5             0                 6  \n",
       "\n",
       "[18461 rows x 9 columns]"
      ]
     },
     "execution_count": 30,
     "metadata": {},
     "output_type": "execute_result"
    }
   ],
   "source": [
    "df_inspections_14.dropna(subset = ['inspector_id'], inplace = True) \n",
    "# I dropped missing values under inspector_id\n",
    "df= df_inspections_14.sort_values(by=['inspector_id']) \n",
    "#sorted by inspector ID\n",
    "\n",
    "df"
   ]
  },
  {
   "cell_type": "markdown",
   "metadata": {},
   "source": [
    "# Data Analysis & Results"
   ]
  },
  {
   "cell_type": "code",
   "execution_count": 31,
   "metadata": {},
   "outputs": [
    {
     "data": {
      "text/plain": [
       "{'df_I_mean': 96.23,\n",
       " 'df_I_std': 2.65,\n",
       " 'df_I_min': 72.5,\n",
       " 'df_I_max': 100,\n",
       " 'df_I_50': 97}"
      ]
     },
     "execution_count": 31,
     "metadata": {},
     "output_type": "execute_result"
    }
   ],
   "source": [
    "df_score_shape"
   ]
  },
  {
   "cell_type": "markdown",
   "metadata": {},
   "source": [
    "The first thing I did was a T-Test in order to find a relationship between num_critical, num_non_critical, inspector_id, and score. I found that the t-tests all had p-values of 0. With a p-value of ~0, we would reject the null hypothesis. There is significant evidence to suggest a correlation with regards to num_critical vs. score, score vs. inspector_id, and num_critical vs. num_non_critical. However, the relationship is not explicit. \n",
    "\n",
    "I then tried to see if the average mean of inspector_id regarding if their scores were different. However, since the interquartile would deem anything below 90.93 as an outlier, there seemed to be no outliers (mean-2* std). The lowest was 92.57.\n"
   ]
  },
  {
   "cell_type": "code",
   "execution_count": 32,
   "metadata": {
    "scrolled": true
   },
   "outputs": [
    {
     "name": "stdout",
     "output_type": "stream",
     "text": [
      "Ttest_indResult(statistic=-3283.223116759798, pvalue=0.0)\n",
      "Ttest_indResult(statistic=1153.033497330941, pvalue=0.0)\n",
      "Ttest_indResult(statistic=-68.01948153721771, pvalue=0.0)\n",
      "inspector_id\n",
      "1.0     95.067568\n",
      "2.0     95.286847\n",
      "3.0     97.855799\n",
      "4.0     96.571942\n",
      "5.0     97.199668\n",
      "6.0     96.720604\n",
      "7.0     96.395668\n",
      "8.0     95.698966\n",
      "9.0     96.992063\n",
      "10.0    97.193548\n",
      "11.0    95.780423\n",
      "12.0    97.500000\n",
      "13.0    95.236559\n",
      "14.0    97.157643\n",
      "15.0    96.815545\n",
      "16.0    96.739884\n",
      "17.0    96.500000\n",
      "18.0    95.997517\n",
      "19.0    96.814103\n",
      "20.0    96.438596\n",
      "21.0    96.792535\n",
      "22.0    96.183616\n",
      "23.0    96.128664\n",
      "24.0    96.340491\n",
      "25.0    94.659037\n",
      "26.0    93.625000\n",
      "27.0    95.034639\n",
      "28.0    96.438245\n",
      "29.0    97.156805\n",
      "31.0    92.574074\n",
      "32.0    96.353081\n",
      "Name: score, dtype: float64\n"
     ]
    }
   ],
   "source": [
    "tTest_result_1=ttest_ind(a=df['num_critical'], b = df['score'])\n",
    "# Num_critical may have a relationship with score. \n",
    "tTest_result_2=ttest_ind(a=df['score'], b=df['inspector_id'])\n",
    "#Score and inspector_ID may have a relationship with score\n",
    "tTest_result_3=ttest_ind(a=df['num_critical'],b=df['num_non_critical'])\n",
    "# Num_critical and num_non_critical may have a relationship with each other. \n",
    "\n",
    "df_1=df.groupby(['inspector_id'])['score'].mean()\n",
    "# There doesn't seem to be any outliers\n",
    "# the lowest score by inspector 31 is not an outlier as it is withing IQR.\n",
    "\n",
    "print(tTest_result_1)\n",
    "print(tTest_result_2,)\n",
    "print(tTest_result_3)\n",
    "#the p value for all is less than .05, which is less than null. \n",
    "\n",
    "print(df_1)"
   ]
  },
  {
   "cell_type": "markdown",
   "metadata": {},
   "source": [
    "The inspector_id is is skewed right. The density plot shows it is slightly bimodal with a skew left. The lower the number, the more inspections they have done. It could mean that inspectors with lower numbers have worked longer. "
   ]
  },
  {
   "cell_type": "code",
   "execution_count": 33,
   "metadata": {},
   "outputs": [
    {
     "data": {
      "image/png": "[encoded data removed]",
      "text/plain": [
       "<Figure size 432x288 with 1 Axes>"
      ]
     },
     "metadata": {
      "needs_background": "light"
     },
     "output_type": "display_data"
    }
   ],
   "source": [
    "id_plot =sns.distplot(df['inspector_id'], bins=10, color='#16711935')\n"
   ]
  },
  {
   "cell_type": "markdown",
   "metadata": {},
   "source": [
    "I created a boxplot to see if the num_critical was high. However, it was on the slower side with anything above 8 being an outlier. This means that the average mean of num_critical are lower than 3. "
   ]
  },
  {
   "cell_type": "code",
   "execution_count": 34,
   "metadata": {},
   "outputs": [
    {
     "data": {
      "text/plain": [
       "<matplotlib.axes._subplots.AxesSubplot at 0x7feeeb51e4e0>"
      ]
     },
     "execution_count": 34,
     "metadata": {},
     "output_type": "execute_result"
    },
    {
     "data": {
      "image/png": "[encoded data removed]",
      "text/plain": [
       "<Figure size 432x288 with 1 Axes>"
      ]
     },
     "metadata": {
      "needs_background": "light"
     },
     "output_type": "display_data"
    }
   ],
   "source": [
    "sns.boxplot(data=df['num_critical'], color='#359482')"
   ]
  },
  {
   "cell_type": "markdown",
   "metadata": {},
   "source": [
    "Similar to num_critical, num_non_critical had a relatively low amount of hazards. The mean being closer to 5, while anything approximately above 13 being considered an outlier. A num_non_critical may not be addressed as it is not as critical as a num_critical and therefore would not be the restaurants main focuse. "
   ]
  },
  {
   "cell_type": "code",
   "execution_count": 35,
   "metadata": {},
   "outputs": [
    {
     "data": {
      "text/plain": [
       "<matplotlib.axes._subplots.AxesSubplot at 0x7fedc0260dd8>"
      ]
     },
     "execution_count": 35,
     "metadata": {},
     "output_type": "execute_result"
    },
    {
     "data": {
      "image/png": "[encoded data removed]",
      "text/plain": [
       "<Figure size 432x288 with 1 Axes>"
      ]
     },
     "metadata": {
      "needs_background": "light"
     },
     "output_type": "display_data"
    }
   ],
   "source": [
    "sns.boxplot(data=df['num_non_critical'], color='#398420')"
   ]
  },
  {
   "cell_type": "markdown",
   "metadata": {},
   "source": [
    "The inspection scores are skewed left. The majority being above 95 which is close to the mean. It is otherwise a relatively normal distribution."
   ]
  },
  {
   "cell_type": "code",
   "execution_count": 36,
   "metadata": {},
   "outputs": [
    {
     "name": "stderr",
     "output_type": "stream",
     "text": [
      "/opt/conda/lib/python3.6/site-packages/scipy/stats/stats.py:1713: FutureWarning: Using a non-tuple sequence for multidimensional indexing is deprecated; use `arr[tuple(seq)]` instead of `arr[seq]`. In the future this will be interpreted as an array index, `arr[np.array(seq)]`, which will result either in an error or a different result.\n",
      "  return np.add.reduce(sorted[indexer] * weights, axis=axis) / sumval\n"
     ]
    },
    {
     "data": {
      "image/png": "[encoded data removed]",
      "text/plain": [
       "<Figure size 432x288 with 1 Axes>"
      ]
     },
     "metadata": {
      "needs_background": "light"
     },
     "output_type": "display_data"
    }
   ],
   "source": [
    "score_plot = sns.distplot(df['score'], bins=10, color = '#123844')"
   ]
  },
  {
   "cell_type": "markdown",
   "metadata": {},
   "source": [
    "When looking at the inspector_id vs. the scores they are given, there seemed to be a bimodal distribution. Inspector_id in both the lower and higher numbers seemed to give a wider range of scores. An exception with the inspector_id of 9. This could mean that if the inspector_id was given at time of becoming an inspector since the density plot shows the lower the id, the more varied inspections. \n",
    "\n",
    "However when looking at the higher numbers such as id 31 and 32, there seemed to be lower scores too. This could mean that the inspectors could have restaurants with more hazards, or they were stricter. Overall, the average inspector_id vs scores when taking the means were in the IQR and no outliers. "
   ]
  },
  {
   "cell_type": "code",
   "execution_count": 37,
   "metadata": {},
   "outputs": [
    {
     "data": {
      "text/plain": [
       "<matplotlib.axes._subplots.AxesSubplot at 0x7fedc03c59e8>"
      ]
     },
     "execution_count": 37,
     "metadata": {},
     "output_type": "execute_result"
    },
    {
     "data": {
      "image/png": "[encoded data removed]",
      "text/plain": [
       "<Figure size 432x288 with 1 Axes>"
      ]
     },
     "metadata": {
      "needs_background": "light"
     },
     "output_type": "display_data"
    }
   ],
   "source": [
    "sns.scatterplot(x = 'inspector_id', y = 'score', data=df, color='#16776960')"
   ]
  },
  {
   "cell_type": "markdown",
   "metadata": {},
   "source": [
    "In the scatterplot below, there seemed to be a negative distribution. As the scores increase, the num_critical would decrease. This is what is expected since scores should be affected by num_critical. "
   ]
  },
  {
   "cell_type": "code",
   "execution_count": 38,
   "metadata": {},
   "outputs": [
    {
     "data": {
      "text/plain": [
       "<matplotlib.axes._subplots.AxesSubplot at 0x7feeeb292e10>"
      ]
     },
     "execution_count": 38,
     "metadata": {},
     "output_type": "execute_result"
    },
    {
     "data": {
      "image/png": "[encoded data removed]",
      "text/plain": [
       "<Figure size 432x288 with 1 Axes>"
      ]
     },
     "metadata": {
      "needs_background": "light"
     },
     "output_type": "display_data"
    }
   ],
   "source": [
    "sns.scatterplot(x='num_critical', y='score', data=df, color='#874983')\n"
   ]
  },
  {
   "cell_type": "markdown",
   "metadata": {},
   "source": [
    "Similar to num_critical, the num_non critical seems to havec a negative correaltion. Although the number of num_non_critical is higher. "
   ]
  },
  {
   "cell_type": "code",
   "execution_count": 39,
   "metadata": {},
   "outputs": [
    {
     "data": {
      "text/plain": [
       "<matplotlib.axes._subplots.AxesSubplot at 0x7feeeb264be0>"
      ]
     },
     "execution_count": 39,
     "metadata": {},
     "output_type": "execute_result"
    },
    {
     "data": {
      "image/png": "[encoded data removed]",
      "text/plain": [
       "<Figure size 432x288 with 1 Axes>"
      ]
     },
     "metadata": {
      "needs_background": "light"
     },
     "output_type": "display_data"
    }
   ],
   "source": [
    "sns.scatterplot(x='num_non_critical', y='score', data=df, color='#374983')\n"
   ]
  },
  {
   "cell_type": "markdown",
   "metadata": {},
   "source": [
    "In the plot below, I wanted to see if the days from open date would affect the scores. If a restaurant were to have a strong repertoire with customers, they may be less likely to maintain a health hazards because of the continuous customers. A new restaurant could also be unlikely to understand what is considered hazards.  "
   ]
  },
  {
   "cell_type": "code",
   "execution_count": 40,
   "metadata": {},
   "outputs": [
    {
     "data": {
      "text/plain": [
       "<matplotlib.axes._subplots.AxesSubplot at 0x7feeeb281748>"
      ]
     },
     "execution_count": 40,
     "metadata": {},
     "output_type": "execute_result"
    },
    {
     "data": {
      "image/png": "[encoded data removed]",
      "text/plain": [
       "<Figure size 432x288 with 1 Axes>"
      ]
     },
     "metadata": {
      "needs_background": "light"
     },
     "output_type": "display_data"
    }
   ],
   "source": [
    "sns.scatterplot(x='score',y='days_from_open_date',data=df, color='#123230')\n"
   ]
  },
  {
   "cell_type": "markdown",
   "metadata": {},
   "source": [
    "In the OLS regression results, the p-value for num_critical vs. num_non_critical suggests a relationship between the two. One can reject the null hypothesis. It makes sense as a restaurant that maintains or does not maintain num_critical would be inclined to do the same with num_non_critical. "
   ]
  },
  {
   "cell_type": "code",
   "execution_count": 41,
   "metadata": {},
   "outputs": [
    {
     "name": "stdout",
     "output_type": "stream",
     "text": [
      "                            OLS Regression Results                            \n",
      "==============================================================================\n",
      "Dep. Variable:           num_critical   R-squared:                       0.280\n",
      "Model:                            OLS   Adj. R-squared:                  0.280\n",
      "Method:                 Least Squares   F-statistic:                     7193.\n",
      "Date:                Wed, 10 Jun 2020   Prob (F-statistic):               0.00\n",
      "Time:                        12:01:54   Log-Likelihood:                -42226.\n",
      "No. Observations:               18461   AIC:                         8.446e+04\n",
      "Df Residuals:                   18459   BIC:                         8.447e+04\n",
      "Df Model:                           1                                         \n",
      "Covariance Type:            nonrobust                                         \n",
      "====================================================================================\n",
      "                       coef    std err          t      P>|t|      [0.025      0.975]\n",
      "------------------------------------------------------------------------------------\n",
      "Intercept            0.7570      0.030     25.053      0.000       0.698       0.816\n",
      "num_non_critical     0.4043      0.005     84.813      0.000       0.395       0.414\n",
      "==============================================================================\n",
      "Omnibus:                     3909.873   Durbin-Watson:                   1.584\n",
      "Prob(Omnibus):                  0.000   Jarque-Bera (JB):            10000.940\n",
      "Skew:                           1.157   Prob(JB):                         0.00\n",
      "Kurtosis:                       5.766   Cond. No.                         11.1\n",
      "==============================================================================\n",
      "\n",
      "Warnings:\n",
      "[1] Standard Errors assume that the covariance matrix of the errors is correctly specified.\n"
     ]
    }
   ],
   "source": [
    "outcome, predictors = patsy.dmatrices('num_critical ~ num_non_critical', df)\n",
    "mod = sm.OLS(outcome, predictors)\n",
    "res = mod.fit()\n",
    "print(res.summary())"
   ]
  },
  {
   "cell_type": "markdown",
   "metadata": {},
   "source": [
    "I ran a correlation test to see where there might be strong correlations. The num_critical/num_non_critical seemed to have strong corelations with score. Similarly with num_critical vs. num_non_critical. Zip code does not seemed to be correlated with anything,only a small amount with inspector_id. Therefore no significance regarding zip code/area. "
   ]
  },
  {
   "cell_type": "code",
   "execution_count": 42,
   "metadata": {},
   "outputs": [
    {
     "data": {
      "text/html": [
       "<div>\n",
       "<style scoped>\n",
       "    .dataframe tbody tr th:only-of-type {\n",
       "        vertical-align: middle;\n",
       "    }\n",
       "\n",
       "    .dataframe tbody tr th {\n",
       "        vertical-align: top;\n",
       "    }\n",
       "\n",
       "    .dataframe thead th {\n",
       "        text-align: right;\n",
       "    }\n",
       "</style>\n",
       "<table border=\"1\" class=\"dataframe\">\n",
       "  <thead>\n",
       "    <tr style=\"text-align: right;\">\n",
       "      <th></th>\n",
       "      <th>hsisid</th>\n",
       "      <th>days_from_open_date</th>\n",
       "      <th>zip</th>\n",
       "      <th>inspection_num</th>\n",
       "      <th>inspector_id</th>\n",
       "      <th>score</th>\n",
       "      <th>num_critical</th>\n",
       "      <th>num_non_critical</th>\n",
       "    </tr>\n",
       "  </thead>\n",
       "  <tbody>\n",
       "    <tr>\n",
       "      <th>hsisid</th>\n",
       "      <td>1.000000</td>\n",
       "      <td>0.185822</td>\n",
       "      <td>-0.017516</td>\n",
       "      <td>0.135032</td>\n",
       "      <td>0.002089</td>\n",
       "      <td>0.192705</td>\n",
       "      <td>-0.154528</td>\n",
       "      <td>-0.164255</td>\n",
       "    </tr>\n",
       "    <tr>\n",
       "      <th>days_from_open_date</th>\n",
       "      <td>0.185822</td>\n",
       "      <td>1.000000</td>\n",
       "      <td>0.032539</td>\n",
       "      <td>0.311578</td>\n",
       "      <td>-0.027374</td>\n",
       "      <td>0.057900</td>\n",
       "      <td>-0.100513</td>\n",
       "      <td>-0.007214</td>\n",
       "    </tr>\n",
       "    <tr>\n",
       "      <th>zip</th>\n",
       "      <td>-0.017516</td>\n",
       "      <td>0.032539</td>\n",
       "      <td>1.000000</td>\n",
       "      <td>-0.028919</td>\n",
       "      <td>0.121702</td>\n",
       "      <td>0.023276</td>\n",
       "      <td>-0.093112</td>\n",
       "      <td>-0.010305</td>\n",
       "    </tr>\n",
       "    <tr>\n",
       "      <th>inspection_num</th>\n",
       "      <td>0.135032</td>\n",
       "      <td>0.311578</td>\n",
       "      <td>-0.028919</td>\n",
       "      <td>1.000000</td>\n",
       "      <td>-0.033721</td>\n",
       "      <td>-0.026176</td>\n",
       "      <td>-0.162673</td>\n",
       "      <td>-0.100930</td>\n",
       "    </tr>\n",
       "    <tr>\n",
       "      <th>inspector_id</th>\n",
       "      <td>0.002089</td>\n",
       "      <td>-0.027374</td>\n",
       "      <td>0.121702</td>\n",
       "      <td>-0.033721</td>\n",
       "      <td>1.000000</td>\n",
       "      <td>-0.081099</td>\n",
       "      <td>0.103999</td>\n",
       "      <td>0.149535</td>\n",
       "    </tr>\n",
       "    <tr>\n",
       "      <th>score</th>\n",
       "      <td>0.192705</td>\n",
       "      <td>0.057900</td>\n",
       "      <td>0.023276</td>\n",
       "      <td>-0.026176</td>\n",
       "      <td>-0.081099</td>\n",
       "      <td>1.000000</td>\n",
       "      <td>-0.664763</td>\n",
       "      <td>-0.634237</td>\n",
       "    </tr>\n",
       "    <tr>\n",
       "      <th>num_critical</th>\n",
       "      <td>-0.154528</td>\n",
       "      <td>-0.100513</td>\n",
       "      <td>-0.093112</td>\n",
       "      <td>-0.162673</td>\n",
       "      <td>0.103999</td>\n",
       "      <td>-0.664763</td>\n",
       "      <td>1.000000</td>\n",
       "      <td>0.529541</td>\n",
       "    </tr>\n",
       "    <tr>\n",
       "      <th>num_non_critical</th>\n",
       "      <td>-0.164255</td>\n",
       "      <td>-0.007214</td>\n",
       "      <td>-0.010305</td>\n",
       "      <td>-0.100930</td>\n",
       "      <td>0.149535</td>\n",
       "      <td>-0.634237</td>\n",
       "      <td>0.529541</td>\n",
       "      <td>1.000000</td>\n",
       "    </tr>\n",
       "  </tbody>\n",
       "</table>\n",
       "</div>"
      ],
      "text/plain": [
       "                       hsisid  days_from_open_date       zip  inspection_num  \\\n",
       "hsisid               1.000000             0.185822 -0.017516        0.135032   \n",
       "days_from_open_date  0.185822             1.000000  0.032539        0.311578   \n",
       "zip                 -0.017516             0.032539  1.000000       -0.028919   \n",
       "inspection_num       0.135032             0.311578 -0.028919        1.000000   \n",
       "inspector_id         0.002089            -0.027374  0.121702       -0.033721   \n",
       "score                0.192705             0.057900  0.023276       -0.026176   \n",
       "num_critical        -0.154528            -0.100513 -0.093112       -0.162673   \n",
       "num_non_critical    -0.164255            -0.007214 -0.010305       -0.100930   \n",
       "\n",
       "                     inspector_id     score  num_critical  num_non_critical  \n",
       "hsisid                   0.002089  0.192705     -0.154528         -0.164255  \n",
       "days_from_open_date     -0.027374  0.057900     -0.100513         -0.007214  \n",
       "zip                      0.121702  0.023276     -0.093112         -0.010305  \n",
       "inspection_num          -0.033721 -0.026176     -0.162673         -0.100930  \n",
       "inspector_id             1.000000 -0.081099      0.103999          0.149535  \n",
       "score                   -0.081099  1.000000     -0.664763         -0.634237  \n",
       "num_critical             0.103999 -0.664763      1.000000          0.529541  \n",
       "num_non_critical         0.149535 -0.634237      0.529541          1.000000  "
      ]
     },
     "execution_count": 42,
     "metadata": {},
     "output_type": "execute_result"
    }
   ],
   "source": [
    "df.corr()"
   ]
  },
  {
   "cell_type": "markdown",
   "metadata": {},
   "source": [
    "### Ethics & Privacy"
   ]
  },
  {
   "cell_type": "markdown",
   "metadata": {},
   "source": [
    "In order to uphold the ethics and privacy of customers, employees, and health inspectors; a relationsional database is implemented. HSISID and inspector ids' replace the names of the restaurant and inspectors. \n",
    "The area of the data is also removed in order to prevent restaurants being identified. Zipcode is included but address and city is removed. HSISID offers a way to identify the restaurant without identifying.   \n",
    "\n",
    "If the inspector id was not included, those data points were removed. \n",
    "Any outliers were included in the discussion. Since most of the data would is found on the government websites which is public, privacy should not be an issue if it's statistics and no identifying information was given. \n",
    "\n",
    "There should be no potential biases regarding particular populations. These health scores were not surveys and therefore were government inspections. Therefore with exceptions of inspector bias, which was found to not be statistically significant, the scores should not have a particular bias towards populations. The zipcode also does not have significant evidence towards scores. \n",
    "\n",
    "If there was confounding variable, such as a outlier, it should be acknowledged in the discussion. It would be included in analyses and then taken out and analyzed. "
   ]
  },
  {
   "cell_type": "markdown",
   "metadata": {},
   "source": [
    "# Conclusion & Discussion"
   ]
  },
  {
   "cell_type": "markdown",
   "metadata": {},
   "source": [
    "When determining the results of scores vs. hazards, my hypothesis was correct as it showed that hazards should statistically significantly affect inspection scores. Other data such as num_critical and num_non_critical were seen as also having a statistically significant relationship. This can be observed from hazards being related to each other and determined as either non_critical vs. critical. If a restaurant were to have hazards, they are more likely to have both. \n",
    "\n",
    "Inspection scores were also seen to be related to inspector_id. However, there was no inspector who was an outlier in scoring. The mean was also relatively high with 96.23. The Inspectors were also varied with how many inspections they were a part of. It was a bimodal distribution. Since there was no evidence to suggest an outlier, the grading seems to be normally distributed and therefore a restaurant could be assumed to be inspected without bias. However, another reasoning could also be that the amount of data is so high, that a couple of outliers where the restaurant is judged could be ignored. Therefore there could be a possibility of bias. Overall, my hypothesis was correct as scores should directly be influenced by hazards. \n",
    "\n",
    "If repeated in the future, the data seemed to only be related to North Carolina based on zipcode, which is not reflective of all of the states. Scores in for example California might be relatively different than Virgina. It would be best to have a wider range in data points rather than one state. Another issue is since the data was only available in North Carolina, scoring may be different by Inspectors. There were only 32 inspectors in the data points. This is significantly small compared to the amount of restaurants that are inspected. There should be more inspectors included in the data. \n",
    "\n",
    "Another data point that would be interesting would be the dates inbetween the inspections/different inspectors. It could be interesting how the inspectors rated the same restaurant. The inspection time inbetween could offer reasons for why the score is lower/higher. Sub categories could also be informative such as num_critical_chemical and num_critical_physical. This could give more descriptive information that could be used in analysis. A survey on whether physical and chemical is perceived more negatively could improve restaurants pursuing reducing hazards. \n",
    "\n",
    "Overall the data set was really informative in the amount of hazards vs. scores. It also alllowed for further discussion in hazards, inspection scores and inspectors. My hypothesis was right that hazards are influencing health inspection scores. "
   ]
  },
  {
   "cell_type": "code",
   "execution_count": null,
   "metadata": {},
   "outputs": [],
   "source": []
  }
 ],
 "metadata": {
  "kernelspec": {
   "display_name": "Python 3",
   "language": "python",
   "name": "python3"
  },
  "language_info": {
   "codemirror_mode": {
    "name": "ipython",
    "version": 3
   },
   "file_extension": ".py",
   "mimetype": "text/x-python",
   "name": "python",
   "nbconvert_exporter": "python",
   "pygments_lexer": "ipython3",
   "version": "3.6.7"
  }
 },
 "nbformat": 4,
 "nbformat_minor": 2
}
