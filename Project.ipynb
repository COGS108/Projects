{
 "cells": [
  {
   "cell_type": "markdown",
   "metadata": {},
   "source": [
    "# Welcome to our Cogs 108 Final Project! Our Group members are:\n",
    "\n",
    "### James McDougall (A14947178)\n",
    "other people"
   ]
  },
  {
   "cell_type": "code",
   "execution_count": 1,
   "metadata": {},
   "outputs": [],
   "source": [
    "import pandas as pd # we use pandas to \n",
    "import matplotlib.pyplot as plt"
   ]
  },
  {
   "cell_type": "code",
   "execution_count": 2,
   "metadata": {},
   "outputs": [],
   "source": [
    "# you'll both have the download the data yourself. It takes about ten minutes\n",
    "crime = pd.read_csv('/Users/jamesmcdougall/Downloads/Crimes_-_2001_to_present.csv')"
   ]
  },
  {
   "cell_type": "markdown",
   "metadata": {},
   "source": [
    "# First, here is some basic information and statistics about our data"
   ]
  },
  {
   "cell_type": "code",
   "execution_count": 3,
   "metadata": {},
   "outputs": [
    {
     "data": {
      "text/plain": [
       "ID                6802359.0\n",
       "Beat              6802359.0\n",
       "District          6802312.0\n",
       "Ward              6187505.0\n",
       "Community Area    6188828.0\n",
       "X Coordinate      6740394.0\n",
       "Y Coordinate      6740394.0\n",
       "Year              6802359.0\n",
       "Latitude          6740394.0\n",
       "Longitude         6740394.0\n",
       "Name: count, dtype: float64"
      ]
     },
     "execution_count": 3,
     "metadata": {},
     "output_type": "execute_result"
    }
   ],
   "source": [
    "crime.describe().loc['count']"
   ]
  },
  {
   "cell_type": "code",
   "execution_count": 4,
   "metadata": {},
   "outputs": [
    {
     "name": "stdout",
     "output_type": "stream",
     "text": [
      "Earliest Year:2001\tLatest Year: 2019\n"
     ]
    }
   ],
   "source": [
    "print('Earliest Year:' + str(crime['Year'].min()) + '\\tLatest Year: ' + str(crime['Year'].max()))"
   ]
  },
  {
   "cell_type": "code",
   "execution_count": 5,
   "metadata": {},
   "outputs": [
    {
     "name": "stdout",
     "output_type": "stream",
     "text": [
      "ID\n",
      "Case Number\n",
      "Date\n",
      "Block\n",
      "IUCR\n",
      "Primary Type\n",
      "Description\n",
      "Location Description\n",
      "Arrest\n",
      "Domestic\n",
      "Beat\n",
      "District\n",
      "Ward\n",
      "Community Area\n",
      "FBI Code\n",
      "X Coordinate\n",
      "Y Coordinate\n",
      "Year\n",
      "Updated On\n",
      "Latitude\n",
      "Longitude\n",
      "Location\n"
     ]
    }
   ],
   "source": [
    "for column in crime:\n",
    "    print(column)"
   ]
  },
  {
   "cell_type": "code",
   "execution_count": 6,
   "metadata": {},
   "outputs": [
    {
     "name": "stdout",
     "output_type": "stream",
     "text": [
      "Column Name: ID\t\tNumber of NaNs: 0\n",
      "Column Name: Case Number\t\tNumber of NaNs: 4\n",
      "Column Name: Date\t\tNumber of NaNs: 0\n",
      "Column Name: Block\t\tNumber of NaNs: 0\n",
      "Column Name: IUCR\t\tNumber of NaNs: 0\n",
      "Column Name: Primary Type\t\tNumber of NaNs: 0\n",
      "Column Name: Description\t\tNumber of NaNs: 0\n",
      "Column Name: Location Description\t\tNumber of NaNs: 4441\n",
      "Column Name: Arrest\t\tNumber of NaNs: 0\n",
      "Column Name: Domestic\t\tNumber of NaNs: 0\n",
      "Column Name: Beat\t\tNumber of NaNs: 0\n",
      "Column Name: District\t\tNumber of NaNs: 47\n",
      "Column Name: Ward\t\tNumber of NaNs: 614854\n",
      "Column Name: Community Area\t\tNumber of NaNs: 613531\n",
      "Column Name: FBI Code\t\tNumber of NaNs: 0\n",
      "Column Name: X Coordinate\t\tNumber of NaNs: 61965\n",
      "Column Name: Y Coordinate\t\tNumber of NaNs: 61965\n",
      "Column Name: Year\t\tNumber of NaNs: 0\n",
      "Column Name: Updated On\t\tNumber of NaNs: 0\n",
      "Column Name: Latitude\t\tNumber of NaNs: 61965\n",
      "Column Name: Longitude\t\tNumber of NaNs: 61965\n",
      "Column Name: Location\t\tNumber of NaNs: 61965\n"
     ]
    }
   ],
   "source": [
    "# find number of Nans in each column\n",
    "for column in crime:\n",
    "    # note: some columns are text, so all will be Nan.\n",
    "    print('Column Name: ' + str(column) + '\\t\\tNumber of NaNs: ' + str(crime[str(column)].isnull().sum().sum()))"
   ]
  },
  {
   "cell_type": "code",
   "execution_count": 7,
   "metadata": {},
   "outputs": [],
   "source": [
    "null_crime = crime[crime['District'].isnull()]\n",
    "num_row_null_district = len(null_crime)"
   ]
  },
  {
   "cell_type": "markdown",
   "metadata": {},
   "source": [
    "# Cleaning the data\n",
    "\n",
    "We have some rows with no District... we can't do much with them. So we're just going to drop them. There aren't that many, though (only 47 in our table with about 6 million rows), so it shouldn't have an impact. Also, remove all rows which are in district 31... this district isn't part of the regular list on the website and i can't find any info on them"
   ]
  },
  {
   "cell_type": "code",
   "execution_count": 8,
   "metadata": {},
   "outputs": [],
   "source": [
    "original_num_rows = len(crime)\n",
    "crime = crime[ crime['District'].isnull() == False ] # remove the rows with null district"
   ]
  },
  {
   "cell_type": "code",
   "execution_count": 9,
   "metadata": {},
   "outputs": [],
   "source": [
    "assert len(crime) == original_num_rows - num_row_null_district"
   ]
  },
  {
   "cell_type": "code",
   "execution_count": 34,
   "metadata": {},
   "outputs": [],
   "source": [
    "crime = crime[ crime['District'] <= 25 ]"
   ]
  },
  {
   "cell_type": "code",
   "execution_count": 35,
   "metadata": {},
   "outputs": [],
   "source": [
    "assert crime['District'].max() != 31.0"
   ]
  },
  {
   "cell_type": "markdown",
   "metadata": {},
   "source": [
    "# Run this cell to download the cleaned data to a csv in Unix..."
   ]
  },
  {
   "cell_type": "code",
   "execution_count": 39,
   "metadata": {},
   "outputs": [],
   "source": [
    "crime.to_csv('~/Downloads/cleaned_chicago_crime_data.csv')"
   ]
  },
  {
   "cell_type": "markdown",
   "metadata": {},
   "source": [
    "# Divide the dataframe into districts"
   ]
  },
  {
   "cell_type": "code",
   "execution_count": 36,
   "metadata": {},
   "outputs": [
    {
     "data": {
      "text/plain": [
       "[1.0,\n",
       " 2.0,\n",
       " 3.0,\n",
       " 4.0,\n",
       " 5.0,\n",
       " 6.0,\n",
       " 7.0,\n",
       " 8.0,\n",
       " 9.0,\n",
       " 10.0,\n",
       " 11.0,\n",
       " 12.0,\n",
       " 14.0,\n",
       " 15.0,\n",
       " 16.0,\n",
       " 17.0,\n",
       " 18.0,\n",
       " 19.0,\n",
       " 20.0,\n",
       " 21.0,\n",
       " 22.0,\n",
       " 24.0,\n",
       " 25.0]"
      ]
     },
     "execution_count": 36,
     "metadata": {},
     "output_type": "execute_result"
    }
   ],
   "source": [
    "district_list = crime['District'].unique().tolist()\n",
    "district_list.sort()\n",
    "district_list"
   ]
  },
  {
   "cell_type": "code",
   "execution_count": 37,
   "metadata": {},
   "outputs": [],
   "source": [
    "districts = {}\n",
    "for district in district_list:\n",
    "    districts[str('District ' + str(district))] = crime[ crime['District'] == district ]"
   ]
  },
  {
   "cell_type": "code",
   "execution_count": null,
   "metadata": {},
   "outputs": [],
   "source": []
  },
  {
   "cell_type": "code",
   "execution_count": null,
   "metadata": {},
   "outputs": [],
   "source": []
  }
 ],
 "metadata": {
  "kernelspec": {
   "display_name": "Python 3",
   "language": "python",
   "name": "python3"
  },
  "language_info": {
   "codemirror_mode": {
    "name": "ipython",
    "version": 3
   },
   "file_extension": ".py",
   "mimetype": "text/x-python",
   "name": "python",
   "nbconvert_exporter": "python",
   "pygments_lexer": "ipython3",
   "version": "3.7.2"
  }
 },
 "nbformat": 4,
 "nbformat_minor": 2
}
