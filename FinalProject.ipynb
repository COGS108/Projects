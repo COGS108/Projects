{
 "cells": [
  {
   "cell_type": "markdown",
   "metadata": {},
   "source": [
    "# COGS 108 - Final Project "
   ]
  },
  {
   "cell_type": "markdown",
   "metadata": {},
   "source": [
    "# Overview"
   ]
  },
  {
   "cell_type": "markdown",
   "metadata": {},
   "source": [
    "*Fill in your overview here*"
   ]
  },
  {
   "cell_type": "markdown",
   "metadata": {},
   "source": [
    "# Names\n",
    "\n",
    "- Samvit Sutodiya\n",
    "- Arya Nair\n",
    "- Linwei Lu\n",
    "- Jenny Zhang"
   ]
  },
  {
   "cell_type": "markdown",
   "metadata": {},
   "source": [
    "# Group Members IDs\n",
    "\n",
    "- A########\n",
    "- A########\n",
    "- A13996537\n",
    "- A14854801"
   ]
  },
  {
   "cell_type": "markdown",
   "metadata": {},
   "source": [
    "# Research Question"
   ]
  },
  {
   "cell_type": "markdown",
   "metadata": {},
   "source": [
    "Does the amount of Medicare one receives for a specific illness differ from state to state based on the state’s population?"
   ]
  },
  {
   "cell_type": "markdown",
   "metadata": {},
   "source": [
    "## Background and Prior Work"
   ]
  },
  {
   "cell_type": "markdown",
   "metadata": {},
   "source": [
    "Medicare is a national health insurance program that covers health care costs for adults over the age of 65 and younger people with specific disabilities. Medicare has four parts that help cover certain services such as Hospital Insurance, Medical Insurance, prescription drug coverage and a Medicare Advantage which is an all in one plan. The main benefit of Medicare is that it provides health coverage regardless of the person’s income, thus benefiting people with low income by helping those who are unable to afford medical insurance (“Acute Inpatient PPS”, 2019).\n",
    "\n",
    "But unfortunately this isn’t always the case. Studies such as ‘Medicare Utilization in the United States: PSRO and Regional Impacts’ by DL Rothberg, J Pinto and PM Gertman show how geographical factors affect medicare in the United States. Factors such as demographic and socio-economics play a role in determining the amount of medicare one receives. In this project we explore how population plays a role in determining the amount of medicare one receives. \n",
    "\n",
    "References (include links):\n",
    "- 1) “Acute Inpatient PPS”, 2019 (https://www.cms.gov/Medicare/Medicare-Fee-for-Service-Payment/AcuteInpatientPPS/index.html?redirect=/AcuteInpatientPPS/)\n",
    "- 2) ‘Medicare Utilization in the United States: PSRO and Regional Impacts’ by DL Rothberg, J Pinto and PM Gertman (https://www.ncbi.nlm.nih.gov/pmc/articles/PMC1072167/)"
   ]
  },
  {
   "cell_type": "markdown",
   "metadata": {},
   "source": [
    "# Hypothesis\n"
   ]
  },
  {
   "cell_type": "markdown",
   "metadata": {},
   "source": [
    "The question our project asks is whether the amount of medicare one receives for a specific illness, differs from state to state based on the state’s population. The amount of medicare is calculated as the ratio of amount covered by medicare to the amount paid by patients. \n",
    "\n",
    "The hypothesis we have is that the greater the population of the state, the more medicare one receives on average.\n"
   ]
  },
  {
   "cell_type": "markdown",
   "metadata": {},
   "source": [
    "# Datasets- Description"
   ]
  },
  {
   "cell_type": "markdown",
   "metadata": {},
   "source": [
    "In this project, we utilize three Datasets: one relating to the medical insurance and two involving the state population details. Given on these three data sets, we would able to found out \"whether the amount of medicare one receives for a specific illness, differs from state to state based on the state’s population\"(project proposal). \n",
    "\n",
    "First dataset we will involve is the \"Inpatient Prospective Payment System (IPPS) Provider Summary for the Top 100 Diagnosis-Related Groups (DRG) - FY2011\". The Inpatient Prospective Payment System(MIPPS) is a payment system for inpatient care and stays covered by medical insurance (Medicare). The data table includes Total Discharges, Average Covered Discharges, Average Total Payments, and Average Medicare Payments which help extract the amount of Medicare provided for a specific illness. what's more, the data set provides over 3,000 u.s hospitals spefical charges information, and top 100 most frequently billed discharges involving with the MIPPS payments. In the columns of the dataset, it involves DRG to represents over \"7 million discharges or 60 percent of totalMedicare IPPS discharges\". It classifies the system grouping similar clinical conditions and procedures and the provider city. Hence, the said data tables help us to answer the question of how much the patients pay for the different illness in each state.\n",
    "\n",
    "- DataSet Name: \"Inpatient Prospective Payment System (IPPS) Provider Summary for the Top 100 Diagnosis-Related Groups (DRG) - FY2011\".\n",
    "- Link to the dataset: https://data.cms.gov/Medicare-Inpatient/Inpatient-Prospective-Payment-System-IPPS-Provider/97k6-zzx3\n",
    "- Data Provided by CMs, DataSet Owner OEDA\n",
    "- Number of observations: 163065\n",
    "\n",
    "Second dataset we included is the \"National, State, and Puerto Rico Commonwealth Totals Datasets: Population, population change, and estimated components of population change: April 1, 2010 to July 1, 2018\". It is provided by United States Census Bureau. This dataset contains data from the 2010 US Census, as well as estimated yearly population, population change, and estimated components of population change of each state from 2010-2018.In the columns of table, it includes Name of the Region, Popluation Estimate ,National Population Change, Birth Rate, Death Rate, which provides the conprehensive information of the population changes in demestic and national scales. \n",
    "\n",
    "- DataSet Name:\"National, State, and Puerto Rico Commonwealth Totals Datasets: Population, population change, and estimated components of population change: April 1, 2010 to July 1, 2018\". \n",
    "- Link to the dataset: https://www.census.gov/data/datasets/time-series/demo/popest/2010s-state-total.html \n",
    "- Data Provided by United States Census Bureau\n",
    "- Number of observations: 57\n",
    "\n",
    "\n",
    "The third one is \"CSV of States and State Abbreviations\", provided by fronz.net weblog. This dataset contains all the US states and their abbreviation.Unlike the said two datasets, this dataset table is straightforward: there are only two columnes: State name and Abbreviation. This dataset  increase the efficency to recognize, categorize and label the geographic information.\n",
    "\n",
    "- DataSet Name: \"CSV of States and State Abbreviations\".\n",
    "- Link to the dataset: http://www.fonz.net/blog/archives/2008/04/06/csv-of-states-and-state-abbreviations/\n",
    "- Number of observations: 51\n",
    "\n",
    "In conculsion, We plan to combine these three databases by adding the populations for each provider state to analyze whether the population of a state affects the amount of Medicare one receives. Since the first dataset uses state abbreviations while the census uses their names, we will be using a third dataset to match abbreviations to state names. "
   ]
  },
  {
   "cell_type": "markdown",
   "metadata": {},
   "source": [
    "# Setup"
   ]
  },
  {
   "cell_type": "code",
   "execution_count": 3,
   "metadata": {},
   "outputs": [],
   "source": [
    "import pandas as pd"
   ]
  },
  {
   "cell_type": "markdown",
   "metadata": {},
   "source": [
    "# Data Cleaning"
   ]
  },
  {
   "cell_type": "markdown",
   "metadata": {},
   "source": [
    "Describe your data cleaning steps here."
   ]
  },
  {
   "cell_type": "markdown",
   "metadata": {},
   "source": [
    "First, we will read in the dataset."
   ]
  },
  {
   "cell_type": "code",
   "execution_count": 4,
   "metadata": {},
   "outputs": [],
   "source": [
    "df = pd.read_csv('Inpatient_Prospective_Payment_System__IPPS__Provider_Summary_for_the_Top_100_Diagnosis-Related_Groups__DRG__-_FY2011.csv')"
   ]
  },
  {
   "cell_type": "markdown",
   "metadata": {},
   "source": [
    "Next, we will drop the columns that we won't be using in our analysis, which are all the provider-related fields (aside from the state) and the hospital region. Some of the column names have extra spaces around them, so we will rename those columns."
   ]
  },
  {
   "cell_type": "code",
   "execution_count": 5,
   "metadata": {},
   "outputs": [],
   "source": [
    "df.drop(columns = ['Provider Id', 'Provider Name', 'Provider Street Address', \n",
    "                   'Provider City', 'Provider Zip Code', 'Hospital Referral Region Description'],\n",
    "                 inplace = True)\n",
    "columns = ['DRG Definition', 'State', 'Total Discharges', 'Average Covered Charges',\n",
    "           'Average Total Payments', 'Average Medicare Payments']\n",
    "df.columns = columns"
   ]
  },
  {
   "cell_type": "markdown",
   "metadata": {},
   "source": [
    "Next, we need to combine all the data for each state. We will be analyzing different illnesses/conditions separately, so each state will have one row for each illness containing the Average Covered Charges (the provider's average charge for services) and Average Medicare Payments (the amount covered by Medicare, not including co-payment and deductibles). We will keep the Total Payments column as well, in case we want to analyze it separately later. Using the number of total discharges from each hospital, we will calculate each of these average amounts for each illness within each state.\n",
    "\n",
    "Using these average values, we will create two new dataframes to perform analysis on. The first dataframe will contain the average amounts for each state and condition. The second dataframe will only contain the average values for each state, for the purpose of simplifying our overall analysis."
   ]
  },
  {
   "cell_type": "code",
   "execution_count": 6,
   "metadata": {},
   "outputs": [],
   "source": [
    "# construct the rows of the first dataframe, separated by condition and state\n",
    "rows_condition = list()\n",
    "for name, group in df.groupby(['State', 'DRG Definition']):\n",
    "    total_discharges = group['Total Discharges'].sum()\n",
    "    avg_charges = (group['Average Covered Charges'] * group['Total Discharges']).sum() / total_discharges\n",
    "    avg_total = (group['Average Total Payments'] * group['Total Discharges']).sum() / total_discharges\n",
    "    avg_medicare = (group['Average Medicare Payments'] * group['Total Discharges']).sum() / total_discharges\n",
    "    rows_condition.append([name[1], name[0], total_discharges, avg_charges, avg_total, avg_medicare])\n",
    "\n",
    "# construct the rows of the second dataframe, separated by state\n",
    "rows_state = list()\n",
    "for name, group in df.groupby(['State']):\n",
    "    total_discharges = group['Total Discharges'].sum()\n",
    "    avg_charges = (group['Average Covered Charges'] * group['Total Discharges']).sum() / total_discharges\n",
    "    avg_total = (group['Average Total Payments'] * group['Total Discharges']).sum() / total_discharges\n",
    "    avg_medicare = (group['Average Medicare Payments'] * group['Total Discharges']).sum() / total_discharges\n",
    "    rows_state.append([name, total_discharges, avg_charges, avg_total, avg_medicare])\n",
    "    \n",
    "df_condition = pd.DataFrame(rows_condition, columns = columns)\n",
    "df_state = pd.DataFrame(rows_state, columns = ['State', 'Total Discharges', 'Average Covered Charges',\n",
    "                                     'Average Total Payments', 'Average Medicare Payments'])"
   ]
  },
  {
   "cell_type": "markdown",
   "metadata": {},
   "source": [
    "Our df_condition dataframe currently contains data for the top 100 Diagnosis-Related Groups (DRG). To simplify our analysis, we will narrow down our data to the top 10 DRG, based on number of total discharges."
   ]
  },
  {
   "cell_type": "code",
   "execution_count": 7,
   "metadata": {},
   "outputs": [],
   "source": [
    "rows_DRG = list()\n",
    "for name, group in df.groupby(['DRG Definition']):\n",
    "    rows_DRG.append([name, group['Total Discharges'].sum()])\n",
    "df_DRG = pd.DataFrame(rows_DRG, columns = ['DRG Definition', 'Total Discharges'])\n",
    "top = df_DRG.nlargest(10, 'Total Discharges')['DRG Definition']\n",
    "df_condition = df_condition[df_condition['DRG Definition'].isin(top)]"
   ]
  },
  {
   "cell_type": "markdown",
   "metadata": {},
   "source": [
    "Next, we will read in the state population dataset. The population dataset uses the full names of states, but our Medicare dataset uses their abbreviations. To match populations with states, we will use a third dataset containing the abbreviations of states to add the abbreviations to the population dataset."
   ]
  },
  {
   "cell_type": "code",
   "execution_count": 8,
   "metadata": {},
   "outputs": [],
   "source": [
    "df_population = pd.read_csv('nst-est2018-alldata.csv')\n",
    "df_states = pd.read_csv('states.csv')\n",
    "\n",
    "# drop all columns except the two necessary columns\n",
    "df_population = df_population[['NAME', 'POPESTIMATE2018']]\n",
    "\n",
    "# rename the columns to merge with df_states\n",
    "df_population.columns = ['State', 'Population']\n",
    "df_population = df_population.merge(df_states, on='State')\n",
    "\n",
    "# rename the columns again to merge with Medicare dataframes\n",
    "df_population.drop(columns = ['State'], inplace = True)\n",
    "df_population.columns = ['Population', 'State']\n",
    "\n",
    "df_condition = df_condition.merge(df_population, on='State')\n",
    "df_state = df_state.merge(df_population, on='State')"
   ]
  },
  {
   "cell_type": "markdown",
   "metadata": {},
   "source": [
    "Finally, we will add a column for the ratio of the amount covered by medicare to the total charges from the provider."
   ]
  },
  {
   "cell_type": "code",
   "execution_count": 9,
   "metadata": {},
   "outputs": [],
   "source": [
    "df_state['Average % Covered'] = df_state['Average Medicare Payments'] / df_state['Average Covered Charges']\n",
    "df_condition['Average % Covered'] = df_condition['Average Medicare Payments'] / df_condition['Average Covered Charges']"
   ]
  },
  {
   "cell_type": "markdown",
   "metadata": {},
   "source": [
    "# Data Analysis & Results"
   ]
  },
  {
   "cell_type": "markdown",
   "metadata": {},
   "source": [
    "Include cells that describe the steps in your data analysis."
   ]
  },
  {
   "cell_type": "code",
   "execution_count": 5,
   "metadata": {},
   "outputs": [],
   "source": [
    "## YOUR CODE HERE\n",
    "## FEEL FREE TO ADD MULTIPLE CELLS PER SECTION"
   ]
  },
  {
   "cell_type": "markdown",
   "metadata": {},
   "source": [
    "# Ethics & Privacy"
   ]
  },
  {
   "cell_type": "markdown",
   "metadata": {},
   "source": [
    "The stakeholders in the hypothesis we are investigating include medical insurance companies and people who receive medicare. It is unlikely that the information we will gain could be co-opted for nefarious purposes. The data we are using is collected from across over 3,000 U.S. hospitals that received Medicare payments, where the information is limited to the locations of the hospital and the provider and the amount covered. The patients’ data is kept anonymous.\n",
    "\n",
    "Before we analyze the dataset, we make sure all the resource has permission fromt the owner. In the Dataset Description part, we knowledge each dataset's owner and website to ensure they get the credits for their contribution. All the information that we used in this project is open sources. In other owrds, it is free for all the people to access to reengage with the coding or data structure. \n",
    "\n",
    "The privacy concerns are related to the patients' information in the first data. It may have the potential bias when the data information are classified by diseases: the developers of dataset or we may involve with the personal feeling, which can cause the unfair outcome. However, overall, I think this dataset should be a fine for us to apply in those follwoing reasons. From our prespective, as we mentioned previsouly, the recognizable personal informaiton is anonymous. It means that althought we are able to access the disease and payment details, we can't identify the person. Hence, it would not lead to the issues of　invasion privacy. We would able to deal with the dataset without bias. First data set  \"Inpatient Prospective Payment System (IPPS) Provider\" is provided by the website called 'Data.Cvs.gov':'A federal government website managed by the Centers for Medicare & Medicaid Services'. In this case, the data and information are collected by the perfessonal government center, which shows certain reliability and trustworty of the information sources. It should be past through in the legit way.  Hence, the data could be served in education purpose and to inform the public. Given on that situation, I think the first dataset would allow us to apply those data information with equitable analysis. \n",
    "\n",
    "In the second dataset, it involves with population, Birth Rate, Death Rate and Common wealth in each states.Compared to the first dataset, it is less personal targeting but more overall states' situation. Hence, it would allow us to deeply analyze and respect the datas collected by each states' governments. It didn't target to any specific class, race or gender. Indeed, there are still potential biases: in this case, we can't guarantee that each state government would report the accurate data, when it comes with the change of population. The accuracy of postestimate population could be affected by the serveral factors: such as the undocumented people or human trafficking etc. This may lead to the potential biases because the dataset of popluation can't and didn't include these marginalized groups of people into considerations. Hence, the dataset of population change may fully reflect the real world situtaion in each states. These issues are out of our capability to handle and can't solved by us; Therefore, we acknownledge thess potential biases in the Ethics & Privacy section to present our thinking and concerns to these groups of people.\n",
    "The third dataset are more like the commonsense hence it does not involve with the privacy issues or potential biases."
   ]
  },
  {
   "cell_type": "markdown",
   "metadata": {},
   "source": [
    "# Conclusion & Discussion"
   ]
  },
  {
   "cell_type": "markdown",
   "metadata": {},
   "source": [
    "*Fill in your discussion information here*"
   ]
  }
 ],
 "metadata": {
  "kernelspec": {
   "display_name": "Python 3",
   "language": "python",
   "name": "python3"
  },
  "language_info": {
   "codemirror_mode": {
    "name": "ipython",
    "version": 3
   },
   "file_extension": ".py",
   "mimetype": "text/x-python",
   "name": "python",
   "nbconvert_exporter": "python",
   "pygments_lexer": "ipython3",
   "version": "3.7.3"
  }
 },
 "nbformat": 4,
 "nbformat_minor": 2
}
