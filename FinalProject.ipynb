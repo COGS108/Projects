{
 "cells": [
  {
   "cell_type": "markdown",
   "metadata": {},
   "source": [
    "# COGS 108 - Final Project "
   ]
  },
  {
   "cell_type": "markdown",
   "metadata": {},
   "source": [
    "# Overview"
   ]
  },
  {
   "cell_type": "markdown",
   "metadata": {},
   "source": [
    "The question our project is addressing is whether the population of a state affects the amount of medicare one receives for a particular illness. This topic is of great importance because medicare provides health insurance to seniors, the disabled and those who are unable to afford it. Our project aims to find a relation between population and Medicare to tell if the state you live in has any disadvantage when it comes to Medicare, and whether it differs for different illnesses."
   ]
  },
  {
   "cell_type": "markdown",
   "metadata": {},
   "source": [
    "# Names\n",
    "\n",
    "- Samvit Sutodiya\n",
    "- Arya Nair\n",
    "- Linwei Lu\n",
    "- Jenny Zhang"
   ]
  },
  {
   "cell_type": "markdown",
   "metadata": {},
   "source": [
    "# Group Members IDs\n",
    "\n",
    "- A92122472\n",
    "- A14688056\n",
    "- A13996537\n",
    "- A14854801"
   ]
  },
  {
   "cell_type": "markdown",
   "metadata": {},
   "source": [
    "# Research Question"
   ]
  },
  {
   "cell_type": "markdown",
   "metadata": {},
   "source": [
    "The question our project seeks an answer to is whether the population of a state affect the amount of medicare one receives for a particular illness. We analyze state populations and average medicare coverage for specific diseases in each state. We compare the amount covered to the amount paid and see if population has any effect on that ratio."
   ]
  },
  {
   "cell_type": "markdown",
   "metadata": {},
   "source": [
    "## Background and Prior Work"
   ]
  },
  {
   "cell_type": "markdown",
   "metadata": {},
   "source": [
    "Medicare is a national health insurance program that covers health care costs for adults over the age of 65 and younger people with specific disabilities. Medicare has four parts that help cover certain services such as Hospital Insurance, Medical Insurance, prescription drug coverage and a Medicare Advantage which is an all in one plan. The main benefit of Medicare is that it provides health coverage regardless of the person’s income, thus benefiting people with low income by helping those who are unable to afford medical insurance (“Acute Inpatient PPS”, 2019).\n",
    "\n",
    "But unfortunately this isn’t always the case. Studies such as ‘Medicare Utilization in the United States: PSRO and Regional Impacts’ by DL Rothberg, J Pinto and PM Gertman show how geographical factors affect medicare in the United States. Factors such as demographic and socio-economics play a role in determining the amount of medicare one receives. In this project we explore how population plays a role in determining the amount of medicare one receives. \n",
    "\n",
    "References (include links):\n",
    "- 1) “Acute Inpatient PPS”, 2019 (https://www.cms.gov/Medicare/Medicare-Fee-for-Service-Payment/AcuteInpatientPPS/index.html?redirect=/AcuteInpatientPPS/)\n",
    "- 2) ‘Medicare Utilization in the United States: PSRO and Regional Impacts’ by DL Rothberg, J Pinto and PM Gertman (https://www.ncbi.nlm.nih.gov/pmc/articles/PMC1072167/)"
   ]
  },
  {
   "cell_type": "markdown",
   "metadata": {},
   "source": [
    "# Hypothesis\n"
   ]
  },
  {
   "cell_type": "markdown",
   "metadata": {},
   "source": [
    "The question our project asks is whether the amount of medicare one receives for a specific illness, differs from state to state based on the state’s population. The amount of medicare is calculated as the ratio of amount covered by medicare to the amount paid by patients.\n",
    "\n",
    "The hypothesis we have is that the greater the population of the state, the more medicare one receives on average. Due to the higher populations, more people would be paying more premiums and drive up the coverage provided by health insurance companies. This might result in a higher coverage for people in these states. "
   ]
  },
  {
   "cell_type": "markdown",
   "metadata": {},
   "source": [
    "# Datasets- Description"
   ]
  },
  {
   "cell_type": "markdown",
   "metadata": {},
   "source": [
    "In this project, we utilize three Datasets: one relating to the medical insurance and two involving the state population details. Given on these three data sets, we would able to found out \"whether the amount of medicare one receives for a specific illness, differs from state to state based on the state’s population\"(project proposal). \n",
    "\n",
    "First dataset we will involve is the \"Inpatient Prospective Payment System (IPPS) Provider Summary for the Top 100 Diagnosis-Related Groups (DRG) - FY2011\". The Inpatient Prospective Payment System(MIPPS) is a payment system for inpatient care and stays covered by medical insurance (Medicare). The data table includes Total Discharges, Average Covered Discharges, Average Total Payments, and Average Medicare Payments which help extract the amount of Medicare provided for a specific illness. what's more, the data set provides over 3,000 u.s hospitals spefical charges information, and top 100 most frequently billed discharges involving with the MIPPS payments. In the columns of the dataset, it involves DRG to represents over \"7 million discharges or 60 percent of totalMedicare IPPS discharges\". It classifies the system grouping similar clinical conditions and procedures and the provider city. Hence, the said data tables help us to answer the question of how much the patients pay for the different illness in each state.\n",
    "\n",
    "- DataSet Name: \"Inpatient Prospective Payment System (IPPS) Provider Summary for the Top 100 Diagnosis-Related Groups (DRG) - FY2011\".\n",
    "- Link to the dataset: https://data.cms.gov/Medicare-Inpatient/Inpatient-Prospective-Payment-System-IPPS-Provider/97k6-zzx3\n",
    "- Data Provided by CMs, DataSet Owner OEDA\n",
    "- Number of observations: 163065\n",
    "\n",
    "Second dataset we included is the \"National, State, and Puerto Rico Commonwealth Totals Datasets: Population, population change, and estimated components of population change: April 1, 2010 to July 1, 2018\". It is provided by United States Census Bureau. This dataset contains data from the 2010 US Census, as well as estimated yearly population, population change, and estimated components of population change of each state from 2010-2018.In the columns of table, it includes Name of the Region, Popluation Estimate ,National Population Change, Birth Rate, Death Rate, which provides the conprehensive information of the population changes in demestic and national scales. \n",
    "\n",
    "- DataSet Name:\"National, State, and Puerto Rico Commonwealth Totals Datasets: Population, population change, and estimated components of population change: April 1, 2010 to July 1, 2018\". \n",
    "- Link to the dataset: https://www.census.gov/data/datasets/time-series/demo/popest/2010s-state-total.html \n",
    "- Data Provided by United States Census Bureau\n",
    "- Number of observations: 57\n",
    "\n",
    "\n",
    "The third one is \"CSV of States and State Abbreviations\", provided by fronz.net weblog. This dataset contains all the US states and their abbreviation.Unlike the said two datasets, this dataset table is straightforward: there are only two columnes: State name and Abbreviation. This dataset  increase the efficency to recognize, categorize and label the geographic information.\n",
    "\n",
    "- DataSet Name: \"CSV of States and State Abbreviations\".\n",
    "- Link to the dataset: http://www.fonz.net/blog/archives/2008/04/06/csv-of-states-and-state-abbreviations/\n",
    "- Number of observations: 51\n",
    "\n",
    "In conclusion, we plan to combine these three databases by adding the populations for each provider state to analyze whether the population of a state affects the amount of Medicare one receives. Since the first dataset uses state abbreviations while the census uses their names, we will be using a third dataset to match abbreviations to state names. "
   ]
  },
  {
   "cell_type": "markdown",
   "metadata": {},
   "source": [
    "# Setup"
   ]
  },
  {
   "cell_type": "code",
   "execution_count": 2,
   "metadata": {},
   "outputs": [
    {
     "name": "stderr",
     "output_type": "stream",
     "text": [
      "/Users/jenny/anaconda3/lib/python3.7/site-packages/matplotlib/font_manager.py:232: UserWarning: Matplotlib is building the font cache using fc-list. This may take a moment.\n",
      "  'Matplotlib is building the font cache using fc-list. '\n"
     ]
    }
   ],
   "source": [
    "import numpy as np\n",
    "import pandas as pd\n",
    "import patsy\n",
    "import matplotlib.pyplot as plt\n",
    "import statsmodels.api as sm\n",
    "plt.rcParams['figure.figsize'] = (17, 7) \n",
    "import seaborn as sns\n",
    "sns.set(style='white', font_scale=2) \n",
    "from scipy.stats import uniform, norm, bernoulli, poisson, ttest_ind"
   ]
  },
  {
   "cell_type": "markdown",
   "metadata": {},
   "source": [
    "# Data Cleaning"
   ]
  },
  {
   "cell_type": "markdown",
   "metadata": {},
   "source": [
    "First, we will read in the dataset."
   ]
  },
  {
   "cell_type": "code",
   "execution_count": 105,
   "metadata": {},
   "outputs": [],
   "source": [
    "df = pd.read_csv('Inpatient_Prospective_Payment_System__IPPS__Provider_Summary_for_the_Top_100_Diagnosis-Related_Groups__DRG__-_FY2011.csv')"
   ]
  },
  {
   "cell_type": "markdown",
   "metadata": {},
   "source": [
    "Next, we will drop the columns that we won't be using in our analysis, which are all the provider-related fields (aside from the state) and the hospital region. Some of the column names have extra spaces around them, so we will rename those columns."
   ]
  },
  {
   "cell_type": "code",
   "execution_count": 4,
   "metadata": {},
   "outputs": [],
   "source": [
    "df.drop(columns = ['Provider Id', 'Provider Name', 'Provider Street Address', \n",
    "                   'Provider City', 'Provider Zip Code', 'Hospital Referral Region Description'],\n",
    "                 inplace = True)\n",
    "columns = ['DRG Definition', 'State', 'Total Discharges', 'Average Covered Charges',\n",
    "           'Average Total Payments', 'Average Medicare Payments']\n",
    "df.columns = columns"
   ]
  },
  {
   "cell_type": "markdown",
   "metadata": {},
   "source": [
    "Next, we need to combine all the data for each state. We will be analyzing different illnesses/conditions separately, so each state will have one row for each illness containing the Average Covered Charges (the provider's average charge for services) and Average Medicare Payments (the amount covered by Medicare, not including co-payment and deductibles). We will keep the Total Payments column as well, in case we want to analyze it separately later. Using the number of total discharges from each hospital, we will calculate each of these average amounts for each illness within each state.\n",
    "\n",
    "Using these average values, we will create two new dataframes to perform analysis on. The first dataframe will contain the average amounts for each state and condition. The second dataframe will only contain the average values for each state, for the purpose of simplifying our overall analysis."
   ]
  },
  {
   "cell_type": "code",
   "execution_count": 5,
   "metadata": {},
   "outputs": [],
   "source": [
    "# construct the rows of the first dataframe, separated by condition and state\n",
    "rows_condition = list()\n",
    "for name, group in df.groupby(['State', 'DRG Definition']):\n",
    "    total_discharges = group['Total Discharges'].sum()\n",
    "    avg_charges = (group['Average Covered Charges'] * group['Total Discharges']).sum() / total_discharges\n",
    "    avg_total = (group['Average Total Payments'] * group['Total Discharges']).sum() / total_discharges\n",
    "    avg_medicare = (group['Average Medicare Payments'] * group['Total Discharges']).sum() / total_discharges\n",
    "    rows_condition.append([name[1], name[0], total_discharges, avg_charges, avg_total, avg_medicare])\n",
    "\n",
    "# construct the rows of the second dataframe, separated by state\n",
    "rows_state = list()\n",
    "for name, group in df.groupby(['State']):\n",
    "    total_discharges = group['Total Discharges'].sum()\n",
    "    avg_charges = (group['Average Covered Charges'] * group['Total Discharges']).sum() / total_discharges\n",
    "    avg_total = (group['Average Total Payments'] * group['Total Discharges']).sum() / total_discharges\n",
    "    avg_medicare = (group['Average Medicare Payments'] * group['Total Discharges']).sum() / total_discharges\n",
    "    rows_state.append([name, total_discharges, avg_charges, avg_total, avg_medicare])\n",
    "    \n",
    "df_condition = pd.DataFrame(rows_condition, columns = columns)\n",
    "df_state = pd.DataFrame(rows_state, columns = ['State', 'Total Discharges', 'Average Covered Charges',\n",
    "                                     'Average Total Payments', 'Average Medicare Payments'])"
   ]
  },
  {
   "cell_type": "markdown",
   "metadata": {},
   "source": [
    "Our df_condition dataframe currently contains data for the top 100 Diagnosis-Related Groups (DRG). To simplify our analysis, we will narrow down our data to the top 10 DRG, based on number of total discharges."
   ]
  },
  {
   "cell_type": "code",
   "execution_count": 6,
   "metadata": {},
   "outputs": [],
   "source": [
    "rows_DRG = list()\n",
    "for name, group in df.groupby(['DRG Definition']):\n",
    "    rows_DRG.append([name, group['Total Discharges'].sum()])\n",
    "df_DRG = pd.DataFrame(rows_DRG, columns = ['DRG Definition', 'Total Discharges'])\n",
    "top = df_DRG.nlargest(10, 'Total Discharges')['DRG Definition']\n",
    "df_condition = df_condition[df_condition['DRG Definition'].isin(top)]"
   ]
  },
  {
   "cell_type": "markdown",
   "metadata": {},
   "source": [
    "Next, we will read in the state population dataset. The population dataset uses the full names of states, but our Medicare dataset uses their abbreviations. To match populations with states, we will use a third dataset containing the abbreviations of states to add the abbreviations to the population dataset."
   ]
  },
  {
   "cell_type": "code",
   "execution_count": 7,
   "metadata": {},
   "outputs": [],
   "source": [
    "df_population = pd.read_csv('nst-est2018-alldata.csv')\n",
    "df_states = pd.read_csv('states.csv')\n",
    "\n",
    "# drop all columns except the two necessary columns\n",
    "df_population = df_population[['NAME', 'POPESTIMATE2018']]\n",
    "\n",
    "# rename the columns to merge with df_states\n",
    "df_population.columns = ['State', 'Population']\n",
    "df_population = df_population.merge(df_states, on='State')\n",
    "\n",
    "# rename the columns again to merge with Medicare dataframes\n",
    "df_population.drop(columns = ['State'], inplace = True)\n",
    "df_population.columns = ['Population', 'State']\n",
    "\n",
    "df_condition = df_condition.merge(df_population, on='State')\n",
    "df_state = df_state.merge(df_population, on='State')"
   ]
  },
  {
   "cell_type": "markdown",
   "metadata": {},
   "source": [
    "Finally, we will add a column for the ratio of the amount covered by medicare to the total charges from the provider."
   ]
  },
  {
   "cell_type": "code",
   "execution_count": 8,
   "metadata": {},
   "outputs": [],
   "source": [
    "df_state['Average % Covered'] = df_state['Average Medicare Payments'] / df_state['Average Covered Charges']\n",
    "df_condition['Average % Covered'] = df_condition['Average Medicare Payments'] / df_condition['Average Covered Charges']"
   ]
  },
  {
   "cell_type": "markdown",
   "metadata": {},
   "source": [
    "# Exploratory Data Analysis"
   ]
  },
  {
   "cell_type": "markdown",
   "metadata": {},
   "source": [
    "Before performing targeted analysis, we must perform some exploratory data analysis, to understand the dataset better."
   ]
  },
  {
   "cell_type": "code",
   "execution_count": 9,
   "metadata": {},
   "outputs": [],
   "source": [
    "import matplotlib.pyplot as plt\n",
    "import seaborn as sns\n",
    "\n",
    "%matplotlib inline"
   ]
  },
  {
   "cell_type": "code",
   "execution_count": 10,
   "metadata": {},
   "outputs": [
    {
     "data": {
      "text/html": [
       "<div>\n",
       "<style scoped>\n",
       "    .dataframe tbody tr th:only-of-type {\n",
       "        vertical-align: middle;\n",
       "    }\n",
       "\n",
       "    .dataframe tbody tr th {\n",
       "        vertical-align: top;\n",
       "    }\n",
       "\n",
       "    .dataframe thead th {\n",
       "        text-align: right;\n",
       "    }\n",
       "</style>\n",
       "<table border=\"1\" class=\"dataframe\">\n",
       "  <thead>\n",
       "    <tr style=\"text-align: right;\">\n",
       "      <th></th>\n",
       "      <th>State</th>\n",
       "      <th>Total Discharges</th>\n",
       "      <th>Average Covered Charges</th>\n",
       "      <th>Average Total Payments</th>\n",
       "      <th>Average Medicare Payments</th>\n",
       "      <th>Population</th>\n",
       "      <th>Average % Covered</th>\n",
       "    </tr>\n",
       "  </thead>\n",
       "  <tbody>\n",
       "    <tr>\n",
       "      <th>0</th>\n",
       "      <td>AK</td>\n",
       "      <td>6142</td>\n",
       "      <td>42951.966272</td>\n",
       "      <td>14677.608214</td>\n",
       "      <td>12863.920692</td>\n",
       "      <td>737438</td>\n",
       "      <td>0.299496</td>\n",
       "    </tr>\n",
       "    <tr>\n",
       "      <th>1</th>\n",
       "      <td>AL</td>\n",
       "      <td>142704</td>\n",
       "      <td>32087.949258</td>\n",
       "      <td>7698.639995</td>\n",
       "      <td>6507.089416</td>\n",
       "      <td>4887871</td>\n",
       "      <td>0.202789</td>\n",
       "    </tr>\n",
       "    <tr>\n",
       "      <th>2</th>\n",
       "      <td>AR</td>\n",
       "      <td>86769</td>\n",
       "      <td>25256.135506</td>\n",
       "      <td>7865.409244</td>\n",
       "      <td>6736.541744</td>\n",
       "      <td>3013825</td>\n",
       "      <td>0.266729</td>\n",
       "    </tr>\n",
       "    <tr>\n",
       "      <th>3</th>\n",
       "      <td>AZ</td>\n",
       "      <td>104604</td>\n",
       "      <td>39461.670988</td>\n",
       "      <td>9785.859172</td>\n",
       "      <td>8431.946484</td>\n",
       "      <td>7171646</td>\n",
       "      <td>0.213674</td>\n",
       "    </tr>\n",
       "    <tr>\n",
       "      <th>4</th>\n",
       "      <td>CA</td>\n",
       "      <td>474979</td>\n",
       "      <td>66541.572710</td>\n",
       "      <td>12342.045516</td>\n",
       "      <td>11189.278296</td>\n",
       "      <td>39557045</td>\n",
       "      <td>0.168155</td>\n",
       "    </tr>\n",
       "  </tbody>\n",
       "</table>\n",
       "</div>"
      ],
      "text/plain": [
       "  State  Total Discharges  Average Covered Charges  Average Total Payments  \\\n",
       "0    AK              6142             42951.966272            14677.608214   \n",
       "1    AL            142704             32087.949258             7698.639995   \n",
       "2    AR             86769             25256.135506             7865.409244   \n",
       "3    AZ            104604             39461.670988             9785.859172   \n",
       "4    CA            474979             66541.572710            12342.045516   \n",
       "\n",
       "   Average Medicare Payments  Population  Average % Covered  \n",
       "0               12863.920692      737438           0.299496  \n",
       "1                6507.089416     4887871           0.202789  \n",
       "2                6736.541744     3013825           0.266729  \n",
       "3                8431.946484     7171646           0.213674  \n",
       "4               11189.278296    39557045           0.168155  "
      ]
     },
     "execution_count": 10,
     "metadata": {},
     "output_type": "execute_result"
    }
   ],
   "source": [
    "df_state.head()"
   ]
  },
  {
   "cell_type": "code",
   "execution_count": 11,
   "metadata": {},
   "outputs": [
    {
     "data": {
      "text/html": [
       "<div>\n",
       "<style scoped>\n",
       "    .dataframe tbody tr th:only-of-type {\n",
       "        vertical-align: middle;\n",
       "    }\n",
       "\n",
       "    .dataframe tbody tr th {\n",
       "        vertical-align: top;\n",
       "    }\n",
       "\n",
       "    .dataframe thead th {\n",
       "        text-align: right;\n",
       "    }\n",
       "</style>\n",
       "<table border=\"1\" class=\"dataframe\">\n",
       "  <thead>\n",
       "    <tr style=\"text-align: right;\">\n",
       "      <th></th>\n",
       "      <th>DRG Definition</th>\n",
       "      <th>State</th>\n",
       "      <th>Total Discharges</th>\n",
       "      <th>Average Covered Charges</th>\n",
       "      <th>Average Total Payments</th>\n",
       "      <th>Average Medicare Payments</th>\n",
       "      <th>Population</th>\n",
       "      <th>Average % Covered</th>\n",
       "    </tr>\n",
       "  </thead>\n",
       "  <tbody>\n",
       "    <tr>\n",
       "      <th>0</th>\n",
       "      <td>190 - CHRONIC OBSTRUCTIVE PULMONARY DISEASE W MCC</td>\n",
       "      <td>AK</td>\n",
       "      <td>163</td>\n",
       "      <td>34448.242331</td>\n",
       "      <td>12877.468712</td>\n",
       "      <td>11592.640368</td>\n",
       "      <td>737438</td>\n",
       "      <td>0.336523</td>\n",
       "    </tr>\n",
       "    <tr>\n",
       "      <th>1</th>\n",
       "      <td>194 - SIMPLE PNEUMONIA &amp; PLEURISY W CC</td>\n",
       "      <td>AK</td>\n",
       "      <td>320</td>\n",
       "      <td>24127.703344</td>\n",
       "      <td>10791.338313</td>\n",
       "      <td>9800.009219</td>\n",
       "      <td>737438</td>\n",
       "      <td>0.406172</td>\n",
       "    </tr>\n",
       "    <tr>\n",
       "      <th>2</th>\n",
       "      <td>291 - HEART FAILURE &amp; SHOCK W MCC</td>\n",
       "      <td>AK</td>\n",
       "      <td>111</td>\n",
       "      <td>49619.668919</td>\n",
       "      <td>15952.139910</td>\n",
       "      <td>15118.112883</td>\n",
       "      <td>737438</td>\n",
       "      <td>0.304680</td>\n",
       "    </tr>\n",
       "    <tr>\n",
       "      <th>3</th>\n",
       "      <td>292 - HEART FAILURE &amp; SHOCK W CC</td>\n",
       "      <td>AK</td>\n",
       "      <td>217</td>\n",
       "      <td>32059.638157</td>\n",
       "      <td>11119.028756</td>\n",
       "      <td>9517.678111</td>\n",
       "      <td>737438</td>\n",
       "      <td>0.296874</td>\n",
       "    </tr>\n",
       "    <tr>\n",
       "      <th>4</th>\n",
       "      <td>392 - ESOPHAGITIS, GASTROENT &amp; MISC DIGEST DIS...</td>\n",
       "      <td>AK</td>\n",
       "      <td>210</td>\n",
       "      <td>19374.429286</td>\n",
       "      <td>7745.519619</td>\n",
       "      <td>6451.919333</td>\n",
       "      <td>737438</td>\n",
       "      <td>0.333012</td>\n",
       "    </tr>\n",
       "  </tbody>\n",
       "</table>\n",
       "</div>"
      ],
      "text/plain": [
       "                                      DRG Definition State  Total Discharges  \\\n",
       "0  190 - CHRONIC OBSTRUCTIVE PULMONARY DISEASE W MCC    AK               163   \n",
       "1             194 - SIMPLE PNEUMONIA & PLEURISY W CC    AK               320   \n",
       "2                  291 - HEART FAILURE & SHOCK W MCC    AK               111   \n",
       "3                   292 - HEART FAILURE & SHOCK W CC    AK               217   \n",
       "4  392 - ESOPHAGITIS, GASTROENT & MISC DIGEST DIS...    AK               210   \n",
       "\n",
       "   Average Covered Charges  Average Total Payments  Average Medicare Payments  \\\n",
       "0             34448.242331            12877.468712               11592.640368   \n",
       "1             24127.703344            10791.338313                9800.009219   \n",
       "2             49619.668919            15952.139910               15118.112883   \n",
       "3             32059.638157            11119.028756                9517.678111   \n",
       "4             19374.429286             7745.519619                6451.919333   \n",
       "\n",
       "   Population  Average % Covered  \n",
       "0      737438           0.336523  \n",
       "1      737438           0.406172  \n",
       "2      737438           0.304680  \n",
       "3      737438           0.296874  \n",
       "4      737438           0.333012  "
      ]
     },
     "execution_count": 11,
     "metadata": {},
     "output_type": "execute_result"
    }
   ],
   "source": [
    "df_condition.head()"
   ]
  },
  {
   "cell_type": "code",
   "execution_count": 12,
   "metadata": {},
   "outputs": [
    {
     "name": "stdout",
     "output_type": "stream",
     "text": [
      "<class 'pandas.core.frame.DataFrame'>\n",
      "Int64Index: 51 entries, 0 to 50\n",
      "Data columns (total 7 columns):\n",
      "State                        51 non-null object\n",
      "Total Discharges             51 non-null int64\n",
      "Average Covered Charges      51 non-null float64\n",
      "Average Total Payments       51 non-null float64\n",
      "Average Medicare Payments    51 non-null float64\n",
      "Population                   51 non-null int64\n",
      "Average % Covered            51 non-null float64\n",
      "dtypes: float64(4), int64(2), object(1)\n",
      "memory usage: 3.2+ KB\n"
     ]
    }
   ],
   "source": [
    "df_state.info()"
   ]
  },
  {
   "cell_type": "code",
   "execution_count": 13,
   "metadata": {},
   "outputs": [
    {
     "name": "stdout",
     "output_type": "stream",
     "text": [
      "<class 'pandas.core.frame.DataFrame'>\n",
      "Int64Index: 510 entries, 0 to 509\n",
      "Data columns (total 8 columns):\n",
      "DRG Definition               510 non-null object\n",
      "State                        510 non-null object\n",
      "Total Discharges             510 non-null int64\n",
      "Average Covered Charges      510 non-null float64\n",
      "Average Total Payments       510 non-null float64\n",
      "Average Medicare Payments    510 non-null float64\n",
      "Population                   510 non-null int64\n",
      "Average % Covered            510 non-null float64\n",
      "dtypes: float64(4), int64(2), object(2)\n",
      "memory usage: 35.9+ KB\n"
     ]
    }
   ],
   "source": [
    "df_condition.info()"
   ]
  },
  {
   "cell_type": "markdown",
   "metadata": {},
   "source": [
    "Our data does not have any null values, which makes it easier to work with."
   ]
  },
  {
   "cell_type": "code",
   "execution_count": 14,
   "metadata": {},
   "outputs": [
    {
     "data": {
      "text/html": [
       "<div>\n",
       "<style scoped>\n",
       "    .dataframe tbody tr th:only-of-type {\n",
       "        vertical-align: middle;\n",
       "    }\n",
       "\n",
       "    .dataframe tbody tr th {\n",
       "        vertical-align: top;\n",
       "    }\n",
       "\n",
       "    .dataframe thead th {\n",
       "        text-align: right;\n",
       "    }\n",
       "</style>\n",
       "<table border=\"1\" class=\"dataframe\">\n",
       "  <thead>\n",
       "    <tr style=\"text-align: right;\">\n",
       "      <th></th>\n",
       "      <th>Total Discharges</th>\n",
       "      <th>Average Covered Charges</th>\n",
       "      <th>Average Total Payments</th>\n",
       "      <th>Average Medicare Payments</th>\n",
       "      <th>Population</th>\n",
       "      <th>Average % Covered</th>\n",
       "    </tr>\n",
       "  </thead>\n",
       "  <tbody>\n",
       "    <tr>\n",
       "      <th>count</th>\n",
       "      <td>51.000000</td>\n",
       "      <td>51.000000</td>\n",
       "      <td>51.000000</td>\n",
       "      <td>51.000000</td>\n",
       "      <td>5.100000e+01</td>\n",
       "      <td>51.000000</td>\n",
       "    </tr>\n",
       "    <tr>\n",
       "      <th>mean</th>\n",
       "      <td>136770.941176</td>\n",
       "      <td>31721.703026</td>\n",
       "      <td>9820.840340</td>\n",
       "      <td>8473.372951</td>\n",
       "      <td>6.415048e+06</td>\n",
       "      <td>0.289540</td>\n",
       "    </tr>\n",
       "    <tr>\n",
       "      <th>std</th>\n",
       "      <td>136373.001344</td>\n",
       "      <td>9883.227277</td>\n",
       "      <td>1455.670820</td>\n",
       "      <td>1353.143741</td>\n",
       "      <td>7.343308e+06</td>\n",
       "      <td>0.107716</td>\n",
       "    </tr>\n",
       "    <tr>\n",
       "      <th>min</th>\n",
       "      <td>6142.000000</td>\n",
       "      <td>12526.838236</td>\n",
       "      <td>7698.639995</td>\n",
       "      <td>6507.089416</td>\n",
       "      <td>5.777370e+05</td>\n",
       "      <td>0.143390</td>\n",
       "    </tr>\n",
       "    <tr>\n",
       "      <th>25%</th>\n",
       "      <td>27672.000000</td>\n",
       "      <td>26036.436405</td>\n",
       "      <td>8690.971388</td>\n",
       "      <td>7421.887800</td>\n",
       "      <td>1.780020e+06</td>\n",
       "      <td>0.234108</td>\n",
       "    </tr>\n",
       "    <tr>\n",
       "      <th>50%</th>\n",
       "      <td>96258.000000</td>\n",
       "      <td>29974.207598</td>\n",
       "      <td>9577.254318</td>\n",
       "      <td>8192.004130</td>\n",
       "      <td>4.468402e+06</td>\n",
       "      <td>0.283327</td>\n",
       "    </tr>\n",
       "    <tr>\n",
       "      <th>75%</th>\n",
       "      <td>190153.500000</td>\n",
       "      <td>33471.699913</td>\n",
       "      <td>10438.062550</td>\n",
       "      <td>8971.237964</td>\n",
       "      <td>7.353618e+06</td>\n",
       "      <td>0.324085</td>\n",
       "    </tr>\n",
       "    <tr>\n",
       "      <th>max</th>\n",
       "      <td>536859.000000</td>\n",
       "      <td>66541.572710</td>\n",
       "      <td>14677.608214</td>\n",
       "      <td>12863.920692</td>\n",
       "      <td>3.955704e+07</td>\n",
       "      <td>0.853637</td>\n",
       "    </tr>\n",
       "  </tbody>\n",
       "</table>\n",
       "</div>"
      ],
      "text/plain": [
       "       Total Discharges  Average Covered Charges  Average Total Payments  \\\n",
       "count         51.000000                51.000000               51.000000   \n",
       "mean      136770.941176             31721.703026             9820.840340   \n",
       "std       136373.001344              9883.227277             1455.670820   \n",
       "min         6142.000000             12526.838236             7698.639995   \n",
       "25%        27672.000000             26036.436405             8690.971388   \n",
       "50%        96258.000000             29974.207598             9577.254318   \n",
       "75%       190153.500000             33471.699913            10438.062550   \n",
       "max       536859.000000             66541.572710            14677.608214   \n",
       "\n",
       "       Average Medicare Payments    Population  Average % Covered  \n",
       "count                  51.000000  5.100000e+01          51.000000  \n",
       "mean                 8473.372951  6.415048e+06           0.289540  \n",
       "std                  1353.143741  7.343308e+06           0.107716  \n",
       "min                  6507.089416  5.777370e+05           0.143390  \n",
       "25%                  7421.887800  1.780020e+06           0.234108  \n",
       "50%                  8192.004130  4.468402e+06           0.283327  \n",
       "75%                  8971.237964  7.353618e+06           0.324085  \n",
       "max                 12863.920692  3.955704e+07           0.853637  "
      ]
     },
     "execution_count": 14,
     "metadata": {},
     "output_type": "execute_result"
    }
   ],
   "source": [
    "df_state.describe()"
   ]
  },
  {
   "cell_type": "code",
   "execution_count": 15,
   "metadata": {},
   "outputs": [
    {
     "data": {
      "text/html": [
       "<div>\n",
       "<style scoped>\n",
       "    .dataframe tbody tr th:only-of-type {\n",
       "        vertical-align: middle;\n",
       "    }\n",
       "\n",
       "    .dataframe tbody tr th {\n",
       "        vertical-align: top;\n",
       "    }\n",
       "\n",
       "    .dataframe thead th {\n",
       "        text-align: right;\n",
       "    }\n",
       "</style>\n",
       "<table border=\"1\" class=\"dataframe\">\n",
       "  <thead>\n",
       "    <tr style=\"text-align: right;\">\n",
       "      <th></th>\n",
       "      <th>Total Discharges</th>\n",
       "      <th>Average Covered Charges</th>\n",
       "      <th>Average Total Payments</th>\n",
       "      <th>Average Medicare Payments</th>\n",
       "      <th>Population</th>\n",
       "      <th>Average % Covered</th>\n",
       "    </tr>\n",
       "  </thead>\n",
       "  <tbody>\n",
       "    <tr>\n",
       "      <th>count</th>\n",
       "      <td>510.000000</td>\n",
       "      <td>510.000000</td>\n",
       "      <td>510.000000</td>\n",
       "      <td>510.000000</td>\n",
       "      <td>5.100000e+02</td>\n",
       "      <td>510.000000</td>\n",
       "    </tr>\n",
       "    <tr>\n",
       "      <th>mean</th>\n",
       "      <td>4426.737255</td>\n",
       "      <td>26441.257100</td>\n",
       "      <td>8382.098266</td>\n",
       "      <td>7222.726177</td>\n",
       "      <td>6.415048e+06</td>\n",
       "      <td>0.295430</td>\n",
       "    </tr>\n",
       "    <tr>\n",
       "      <th>std</th>\n",
       "      <td>4902.784534</td>\n",
       "      <td>13718.437845</td>\n",
       "      <td>3511.466525</td>\n",
       "      <td>3244.881417</td>\n",
       "      <td>7.278097e+06</td>\n",
       "      <td>0.112333</td>\n",
       "    </tr>\n",
       "    <tr>\n",
       "      <th>min</th>\n",
       "      <td>80.000000</td>\n",
       "      <td>7083.192407</td>\n",
       "      <td>4040.240772</td>\n",
       "      <td>3079.473446</td>\n",
       "      <td>5.777370e+05</td>\n",
       "      <td>0.115372</td>\n",
       "    </tr>\n",
       "    <tr>\n",
       "      <th>25%</th>\n",
       "      <td>853.500000</td>\n",
       "      <td>16659.332012</td>\n",
       "      <td>5920.051488</td>\n",
       "      <td>4891.713484</td>\n",
       "      <td>1.754208e+06</td>\n",
       "      <td>0.230998</td>\n",
       "    </tr>\n",
       "    <tr>\n",
       "      <th>50%</th>\n",
       "      <td>2803.000000</td>\n",
       "      <td>22122.518814</td>\n",
       "      <td>7185.074704</td>\n",
       "      <td>6135.001326</td>\n",
       "      <td>4.468402e+06</td>\n",
       "      <td>0.280194</td>\n",
       "    </tr>\n",
       "    <tr>\n",
       "      <th>75%</th>\n",
       "      <td>6122.750000</td>\n",
       "      <td>32780.892360</td>\n",
       "      <td>10480.887518</td>\n",
       "      <td>9491.254150</td>\n",
       "      <td>7.535591e+06</td>\n",
       "      <td>0.333011</td>\n",
       "    </tr>\n",
       "    <tr>\n",
       "      <th>max</th>\n",
       "      <td>34284.000000</td>\n",
       "      <td>90122.480767</td>\n",
       "      <td>21160.936960</td>\n",
       "      <td>18645.465059</td>\n",
       "      <td>3.955704e+07</td>\n",
       "      <td>0.886906</td>\n",
       "    </tr>\n",
       "  </tbody>\n",
       "</table>\n",
       "</div>"
      ],
      "text/plain": [
       "       Total Discharges  Average Covered Charges  Average Total Payments  \\\n",
       "count        510.000000               510.000000              510.000000   \n",
       "mean        4426.737255             26441.257100             8382.098266   \n",
       "std         4902.784534             13718.437845             3511.466525   \n",
       "min           80.000000              7083.192407             4040.240772   \n",
       "25%          853.500000             16659.332012             5920.051488   \n",
       "50%         2803.000000             22122.518814             7185.074704   \n",
       "75%         6122.750000             32780.892360            10480.887518   \n",
       "max        34284.000000             90122.480767            21160.936960   \n",
       "\n",
       "       Average Medicare Payments    Population  Average % Covered  \n",
       "count                 510.000000  5.100000e+02         510.000000  \n",
       "mean                 7222.726177  6.415048e+06           0.295430  \n",
       "std                  3244.881417  7.278097e+06           0.112333  \n",
       "min                  3079.473446  5.777370e+05           0.115372  \n",
       "25%                  4891.713484  1.754208e+06           0.230998  \n",
       "50%                  6135.001326  4.468402e+06           0.280194  \n",
       "75%                  9491.254150  7.535591e+06           0.333011  \n",
       "max                 18645.465059  3.955704e+07           0.886906  "
      ]
     },
     "execution_count": 15,
     "metadata": {},
     "output_type": "execute_result"
    }
   ],
   "source": [
    "df_condition.describe()"
   ]
  },
  {
   "cell_type": "code",
   "execution_count": 16,
   "metadata": {},
   "outputs": [
    {
     "data": {
      "image/png": "[encoded data removed]",
      "text/plain": [
       "<Figure size 432x288 with 2 Axes>"
      ]
     },
     "metadata": {
      "needs_background": "light"
     },
     "output_type": "display_data"
    }
   ],
   "source": [
    "fig, ax = plt.subplots()\n",
    "sns.heatmap(df_state.corr(), annot = True, cmap=\"YlGnBu\", ax = ax)\n",
    "ax.title.set_text('df_state Corellation Heatmap')"
   ]
  },
  {
   "cell_type": "markdown",
   "metadata": {},
   "source": [
    "* Population is correlated to Total Discharges (0.91)\n",
    "* Average Medicare Payments is highly correlated to Average Total Payments (0.99)\n",
    "* There is a slight correlation between Population and Average Covered Charges (0.52)"
   ]
  },
  {
   "cell_type": "code",
   "execution_count": 17,
   "metadata": {},
   "outputs": [
    {
     "data": {
      "image/png": "[encoded data removed]",
      "text/plain": [
       "<Figure size 432x288 with 2 Axes>"
      ]
     },
     "metadata": {
      "needs_background": "light"
     },
     "output_type": "display_data"
    }
   ],
   "source": [
    "fig, ax = plt.subplots()\n",
    "sns.heatmap(df_condition.corr(), annot = True, cmap=\"YlGnBu\", ax = ax)\n",
    "ax.title.set_text('df_condition Corellation Heatmap')"
   ]
  },
  {
   "cell_type": "markdown",
   "metadata": {},
   "source": [
    "* There is a slight corellation between Population and Average Covered Charges (0.35) in this dataset as well"
   ]
  },
  {
   "cell_type": "markdown",
   "metadata": {},
   "source": [
    "# Data Analysis & Results"
   ]
  },
  {
   "cell_type": "code",
   "execution_count": 18,
   "metadata": {},
   "outputs": [
    {
     "data": {
      "text/plain": [
       "(51, 7)"
      ]
     },
     "execution_count": 18,
     "metadata": {},
     "output_type": "execute_result"
    }
   ],
   "source": [
    "df_state.shape"
   ]
  },
  {
   "cell_type": "code",
   "execution_count": 19,
   "metadata": {},
   "outputs": [
    {
     "data": {
      "text/plain": [
       "(510, 8)"
      ]
     },
     "execution_count": 19,
     "metadata": {},
     "output_type": "execute_result"
    }
   ],
   "source": [
    "df_condition.shape"
   ]
  },
  {
   "cell_type": "code",
   "execution_count": 20,
   "metadata": {},
   "outputs": [
    {
     "data": {
      "text/plain": [
       "(0, 7)"
      ]
     },
     "execution_count": 20,
     "metadata": {},
     "output_type": "execute_result"
    }
   ],
   "source": [
    "S_rows = df_state.isnull().any(axis=1)\n",
    "df_state[S_rows].shape"
   ]
  },
  {
   "cell_type": "code",
   "execution_count": 21,
   "metadata": {},
   "outputs": [
    {
     "data": {
      "text/plain": [
       "(0, 8)"
      ]
     },
     "execution_count": 21,
     "metadata": {},
     "output_type": "execute_result"
    }
   ],
   "source": [
    "C_rows = df_condition.isnull().any(axis=1)\n",
    "df_condition[C_rows].shape"
   ]
  },
  {
   "cell_type": "code",
   "execution_count": 22,
   "metadata": {},
   "outputs": [
    {
     "data": {
      "text/plain": [
       "Index([], dtype='object')"
      ]
     },
     "execution_count": 22,
     "metadata": {},
     "output_type": "execute_result"
    }
   ],
   "source": [
    "df_state.columns[df_state.isnull().any(axis=0)]"
   ]
  },
  {
   "cell_type": "code",
   "execution_count": 25,
   "metadata": {},
   "outputs": [
    {
     "data": {
      "text/plain": [
       "Index([], dtype='object')"
      ]
     },
     "execution_count": 25,
     "metadata": {},
     "output_type": "execute_result"
    }
   ],
   "source": [
    "df_condition.columns[df_condition.isnull().any(axis=0)]"
   ]
  },
  {
   "cell_type": "code",
   "execution_count": 26,
   "metadata": {},
   "outputs": [
    {
     "data": {
      "text/plain": [
       "State                        0\n",
       "Total Discharges             0\n",
       "Average Covered Charges      0\n",
       "Average Total Payments       0\n",
       "Average Medicare Payments    0\n",
       "Population                   0\n",
       "Average % Covered            0\n",
       "dtype: int64"
      ]
     },
     "execution_count": 26,
     "metadata": {},
     "output_type": "execute_result"
    }
   ],
   "source": [
    "df_state.isnull().sum()"
   ]
  },
  {
   "cell_type": "code",
   "execution_count": 27,
   "metadata": {},
   "outputs": [
    {
     "data": {
      "text/plain": [
       "State                        0\n",
       "Total Discharges             0\n",
       "Average Covered Charges      0\n",
       "Average Total Payments       0\n",
       "Average Medicare Payments    0\n",
       "Population                   0\n",
       "Average % Covered            0\n",
       "dtype: int64"
      ]
     },
     "execution_count": 27,
     "metadata": {},
     "output_type": "execute_result"
    }
   ],
   "source": [
    "df_state.isnull().sum()"
   ]
  },
  {
   "cell_type": "markdown",
   "metadata": {},
   "source": [
    "MEDIAA, MEAA, RANGE"
   ]
  },
  {
   "cell_type": "code",
   "execution_count": 28,
   "metadata": {},
   "outputs": [
    {
     "data": {
      "text/plain": [
       "Total Discharges             9.625800e+04\n",
       "Average Covered Charges      2.997421e+04\n",
       "Average Total Payments       9.577254e+03\n",
       "Average Medicare Payments    8.192004e+03\n",
       "Population                   4.468402e+06\n",
       "Average % Covered            2.833274e-01\n",
       "dtype: float64"
      ]
     },
     "execution_count": 28,
     "metadata": {},
     "output_type": "execute_result"
    }
   ],
   "source": [
    "df_state.median()"
   ]
  },
  {
   "cell_type": "code",
   "execution_count": 29,
   "metadata": {},
   "outputs": [
    {
     "data": {
      "text/plain": [
       "Total Discharges             2.803000e+03\n",
       "Average Covered Charges      2.212252e+04\n",
       "Average Total Payments       7.185075e+03\n",
       "Average Medicare Payments    6.135001e+03\n",
       "Population                   4.468402e+06\n",
       "Average % Covered            2.801941e-01\n",
       "dtype: float64"
      ]
     },
     "execution_count": 29,
     "metadata": {},
     "output_type": "execute_result"
    }
   ],
   "source": [
    "df_condition.median()"
   ]
  },
  {
   "cell_type": "code",
   "execution_count": 30,
   "metadata": {},
   "outputs": [
    {
     "data": {
      "text/plain": [
       "Total Discharges             1.367709e+05\n",
       "Average Covered Charges      3.172170e+04\n",
       "Average Total Payments       9.820840e+03\n",
       "Average Medicare Payments    8.473373e+03\n",
       "Population                   6.415048e+06\n",
       "Average % Covered            2.895403e-01\n",
       "dtype: float64"
      ]
     },
     "execution_count": 30,
     "metadata": {},
     "output_type": "execute_result"
    }
   ],
   "source": [
    "df_state.mean()"
   ]
  },
  {
   "cell_type": "code",
   "execution_count": 31,
   "metadata": {},
   "outputs": [
    {
     "data": {
      "text/plain": [
       "Total Discharges             4.426737e+03\n",
       "Average Covered Charges      2.644126e+04\n",
       "Average Total Payments       8.382098e+03\n",
       "Average Medicare Payments    7.222726e+03\n",
       "Population                   6.415048e+06\n",
       "Average % Covered            2.954297e-01\n",
       "dtype: float64"
      ]
     },
     "execution_count": 31,
     "metadata": {},
     "output_type": "execute_result"
    }
   ],
   "source": [
    "df_condition.mean()"
   ]
  },
  {
   "cell_type": "code",
   "execution_count": 32,
   "metadata": {},
   "outputs": [
    {
     "name": "stdout",
     "output_type": "stream",
     "text": [
      "0.8536372030272014 - 0.143389603028194 = 0.7102475999990073\n",
      "536859 - 6142 = 530717\n"
     ]
    }
   ],
   "source": [
    "s_max=df_state['Average % Covered'].max()\n",
    "s_min=df_state['Average % Covered'].min()\n",
    "s_range= s_max-s_min\n",
    "print(s_max,'-',s_min,'=',s_range)\n",
    "\n",
    "s_max1=df_state['Total Discharges'].max()\n",
    "s_min1=df_state['Total Discharges'].min()\n",
    "s_range1= s_max1-s_min1\n",
    "print(s_max1,'-',s_min1,'=',s_range1)"
   ]
  },
  {
   "cell_type": "markdown",
   "metadata": {},
   "source": [
    "IQR(interquartile Range)"
   ]
  },
  {
   "cell_type": "code",
   "execution_count": 33,
   "metadata": {},
   "outputs": [
    {
     "data": {
      "text/plain": [
       "(6142.0, 536859.0)"
      ]
     },
     "execution_count": 33,
     "metadata": {},
     "output_type": "execute_result"
    }
   ],
   "source": [
    "low, up = np.percentile(df_state['Total Discharges'], [0,100])\n",
    "low, up"
   ]
  },
  {
   "cell_type": "code",
   "execution_count": 34,
   "metadata": {},
   "outputs": [
    {
     "data": {
      "text/plain": [
       "530717.0"
      ]
     },
     "execution_count": 34,
     "metadata": {},
     "output_type": "execute_result"
    }
   ],
   "source": [
    "iqr = up - low\n",
    "iqr"
   ]
  },
  {
   "cell_type": "code",
   "execution_count": 35,
   "metadata": {
    "scrolled": true
   },
   "outputs": [
    {
     "data": {
      "image/png": "[encoded data removed]",
      "text/plain": [
       "<Figure size 432x288 with 1 Axes>"
      ]
     },
     "metadata": {
      "needs_background": "light"
     },
     "output_type": "display_data"
    }
   ],
   "source": [
    "df_state.boxplot(column='Total Discharges');"
   ]
  },
  {
   "cell_type": "markdown",
   "metadata": {},
   "source": [
    "We will now create linear models to see if the population of a state inflences the medicare coverage."
   ]
  },
  {
   "cell_type": "code",
   "execution_count": 70,
   "metadata": {},
   "outputs": [],
   "source": [
    "df_state.rename(columns={'Average % Covered':'Covered'}, inplace=True)\n",
    "df_state.rename(columns={'Total Discharges':'Discharges'}, inplace=True)\n",
    "\n",
    "pop_median = df_state.loc[:,'Population'].mean()\n",
    "dis_median = df_state.loc[:,'Discharges'].mean()\n",
    "\n",
    "def stand1(pop):\n",
    "    \n",
    "    if (pop <= pop_median):\n",
    "        return 'low'\n",
    "    else:\n",
    "        return 'high'\n",
    "    \n",
    "def stand2(dis):\n",
    "    \n",
    "    if (dis <= dis_median):\n",
    "        return 'low'\n",
    "    else:\n",
    "        return 'high'\n",
    "    \n",
    "df_state['Pop'] = df_state['Population'].apply(stand1)\n",
    "df_state['Dis'] = df_state['Discharges'].apply(stand2)"
   ]
  },
  {
   "cell_type": "markdown",
   "metadata": {},
   "source": [
    "The cell above calculates the mean populations and number of discharges. It then creates two new columns in df_state, which generalizes population and discharges into two categories based on their relation to the mean. Now we can create our OLS model to predict average percent covered from population."
   ]
  },
  {
   "cell_type": "code",
   "execution_count": 77,
   "metadata": {},
   "outputs": [
    {
     "name": "stdout",
     "output_type": "stream",
     "text": [
      "                            OLS Regression Results                            \n",
      "==============================================================================\n",
      "Dep. Variable:                Covered   R-squared:                       0.069\n",
      "Model:                            OLS   Adj. R-squared:                  0.050\n",
      "Method:                 Least Squares   F-statistic:                     3.646\n",
      "Date:                Wed, 12 Jun 2019   Prob (F-statistic):             0.0621\n",
      "Time:                        02:22:03   Log-Likelihood:                 43.610\n",
      "No. Observations:                  51   AIC:                            -83.22\n",
      "Df Residuals:                      49   BIC:                            -79.36\n",
      "Df Model:                           1                                         \n",
      "Covariance Type:            nonrobust                                         \n",
      "==============================================================================\n",
      "                 coef    std err          t      P>|t|      [0.025      0.975]\n",
      "------------------------------------------------------------------------------\n",
      "Intercept      0.2498      0.025      9.813      0.000       0.199       0.301\n",
      "Pop[T.low]     0.0595      0.031      1.909      0.062      -0.003       0.122\n",
      "==============================================================================\n",
      "Omnibus:                       59.420   Durbin-Watson:                   1.466\n",
      "Prob(Omnibus):                  0.000   Jarque-Bera (JB):              443.196\n",
      "Skew:                           2.972   Prob(JB):                     5.77e-97\n",
      "Kurtosis:                      16.162   Cond. No.                         3.23\n",
      "==============================================================================\n",
      "\n",
      "Warnings:\n",
      "[1] Standard Errors assume that the covariance matrix of the errors is correctly specified.\n"
     ]
    }
   ],
   "source": [
    "outcome_1, predictors_1 = patsy.dmatrices('Covered ~ Pop',df_state)\n",
    "mod_1 = sm.OLS(outcome_1,predictors_1)\n",
    "res_1 = mod_1.fit()\n",
    "\n",
    "print(res_1.summary())"
   ]
  },
  {
   "cell_type": "markdown",
   "metadata": {},
   "source": [
    "Based on the model above and using an alpha value of 0.01, population does not significantly predict average percent covered. We will create another OLS model to predict average percent covered from discharges."
   ]
  },
  {
   "cell_type": "code",
   "execution_count": 75,
   "metadata": {},
   "outputs": [
    {
     "name": "stdout",
     "output_type": "stream",
     "text": [
      "                            OLS Regression Results                            \n",
      "==============================================================================\n",
      "Dep. Variable:                Covered   R-squared:                       0.002\n",
      "Model:                            OLS   Adj. R-squared:                 -0.018\n",
      "Method:                 Least Squares   F-statistic:                    0.1209\n",
      "Date:                Wed, 12 Jun 2019   Prob (F-statistic):              0.730\n",
      "Time:                        02:17:49   Log-Likelihood:                 41.843\n",
      "No. Observations:                  51   AIC:                            -79.69\n",
      "Df Residuals:                      49   BIC:                            -75.82\n",
      "Df Model:                           1                                         \n",
      "Covariance Type:            nonrobust                                         \n",
      "==============================================================================\n",
      "                 coef    std err          t      P>|t|      [0.025      0.975]\n",
      "------------------------------------------------------------------------------\n",
      "Intercept      0.2827      0.025     11.338      0.000       0.233       0.333\n",
      "Dis[T.low]     0.0109      0.031      0.348      0.730      -0.052       0.074\n",
      "==============================================================================\n",
      "Omnibus:                       61.128   Durbin-Watson:                   1.577\n",
      "Prob(Omnibus):                  0.000   Jarque-Bera (JB):              490.204\n",
      "Skew:                           3.054   Prob(JB):                    3.58e-107\n",
      "Kurtosis:                      16.906   Cond. No.                         3.04\n",
      "==============================================================================\n",
      "\n",
      "Warnings:\n",
      "[1] Standard Errors assume that the covariance matrix of the errors is correctly specified.\n"
     ]
    }
   ],
   "source": [
    "outcome_2, predictors_2 = patsy.dmatrices('Covered ~ Dis',df_state)\n",
    "mod_2 = sm.OLS(outcome_2,predictors_2)\n",
    "res_2 = mod_2.fit()\n",
    "\n",
    "print(res_2.summary())"
   ]
  },
  {
   "cell_type": "markdown",
   "metadata": {},
   "source": [
    "Based on the model above and using an alpha value of 0.01, discharges do not significantly predict average percent covered. We will create a few more linear models to analyze each condition separately. First we will apply the same changes from above to generalize population and discharges. To save space, we will only print out the linear coefficients relating Population to Covered (the slope estimate) and the P-values resulting from each model."
   ]
  },
  {
   "cell_type": "code",
   "execution_count": 103,
   "metadata": {},
   "outputs": [
    {
     "name": "stdout",
     "output_type": "stream",
     "text": [
      "190 - CHRONIC OBSTRUCTIVE PULMONARY DISEASE W MCC\n",
      "\t Coefficient:  0.0690695452456316\n",
      "\t P-value:  0.04639126560251715\n",
      "194 - SIMPLE PNEUMONIA & PLEURISY W CC\n",
      "\t Coefficient:  0.06751140214684294\n",
      "\t P-value:  0.04404436370443916\n",
      "291 - HEART FAILURE & SHOCK W MCC\n",
      "\t Coefficient:  0.061945841905758886\n",
      "\t P-value:  0.07907914786449685\n",
      "292 - HEART FAILURE & SHOCK W CC\n",
      "\t Coefficient:  0.0663591766145491\n",
      "\t P-value:  0.047191210296787724\n",
      "392 - ESOPHAGITIS, GASTROENT & MISC DIGEST DISORDERS W/O MCC\n",
      "\t Coefficient:  0.05676146615886751\n",
      "\t P-value:  0.0622940600940218\n",
      "470 - MAJOR JOINT REPLACEMENT OR REATTACHMENT OF LOWER EXTREMITY W/O MCC\n",
      "\t Coefficient:  0.06738265368378277\n",
      "\t P-value:  0.030447793257929665\n",
      "641 - MISC DISORDERS OF NUTRITION,METABOLISM,FLUIDS/ELECTROLYTES W/O MCC\n",
      "\t Coefficient:  0.06081117820428253\n",
      "\t P-value:  0.043184867805011455\n",
      "683 - RENAL FAILURE W CC\n",
      "\t Coefficient:  0.06306959669948764\n",
      "\t P-value:  0.06777661068272395\n",
      "690 - KIDNEY & URINARY TRACT INFECTIONS W/O MCC\n",
      "\t Coefficient:  0.06953352031716535\n",
      "\t P-value:  0.030987444515706657\n",
      "871 - SEPTICEMIA OR SEVERE SEPSIS W/O MV 96+ HOURS W MCC\n",
      "\t Coefficient:  0.053896596565345595\n",
      "\t P-value:  0.11164480205875678\n"
     ]
    }
   ],
   "source": [
    "df_condition.rename(columns={'Average % Covered':'Covered'}, inplace=True)\n",
    "df_condition.rename(columns={'Total Discharges':'Discharges'}, inplace=True)\n",
    "\n",
    "df_condition['Pop'] = df_condition['Population'].apply(stand1)\n",
    "df_condition['Dis'] = df_condition['Discharges'].apply(stand2)\n",
    "\n",
    "for name in df_condition['DRG Definition'].unique():\n",
    "    outcome, predictors = patsy.dmatrices('Covered ~ Pop',\n",
    "                                          df_condition.loc[df_condition['DRG Definition'] == name])\n",
    "    mod = sm.OLS(outcome, predictors)\n",
    "    res = mod.fit()\n",
    "    \n",
    "    print(name)\n",
    "    print('\\t Coefficient: ', res.params[1])\n",
    "    print('\\t P-value: ', res.f_pvalue)"
   ]
  },
  {
   "cell_type": "markdown",
   "metadata": {},
   "source": [
    "There do not appear to be significant differences between any of the coefficients of the linear models. There are small differences in the P-values, but none are lower than 0.01, so we cannot conclude that population predicts average percent covered for any of these conditions."
   ]
  },
  {
   "cell_type": "markdown",
   "metadata": {},
   "source": [
    "# Ethics & Privacy"
   ]
  },
  {
   "cell_type": "markdown",
   "metadata": {},
   "source": [
    "The stakeholders in the hypothesis we are investigating include insurance companies and people who receive Medicare. One possible effect of our results could be that insurance companies could use the data to charge higher prices in regions with higher populations, which they would profit from. This might harm people with lower incomes who live in areas with high populations.\n",
    "\n",
    "The data we are using is collected from across over 3,000 U.S. hospitals that received Medicare payments, where the information is limited to the locations of the hospital and the provider and the amount covered. The data is likely not biased because data was collected from many hospitals in all 50 states, making it a comprehensive representation of all Medicare payments in the U.S. The patients’ data is kept anonymous. However, to further protect patients’ data, we drop all the columns in the data that we don’t need and only use the overall averages for each state and illness.\n",
    "\n",
    "The second dataset involves population, birth rates, death rates, and incomes in each state. Compared to the first dataset, it has less personal information. Hence, it would allow us to analyze the data collected by each state’s government. It doesn’t target any specific class, race or gender. Indeed, there are still potential biases: in this case, we can't guarantee that each state government would report accurate population data. The accuracy of the estimated population could be affected by several factors: such as undocumented people, human trafficking, etc.\n",
    "\n",
    "This may lead to potential biases because the dataset of the population can't and didn't include these marginalized groups of people into considerations. Hence, the dataset of population change may not fully reflect the real situation in each state. These issues are out of our capability to handle and can't be solved by us; therefore, we acknowledge these potential biases in the Ethics & Privacy section to present our thinking and concerns to these groups of people.\n"
   ]
  },
  {
   "cell_type": "markdown",
   "metadata": {},
   "source": [
    "# Conclusion & Discussion"
   ]
  },
  {
   "cell_type": "markdown",
   "metadata": {},
   "source": [
    "We started off by cleaning the data and adding columns for the population of each state and average percent covered by Medicare, along with narrowing the data down to the top 10 conditions. We then performed data exploration by looking at summaries of the data and visualizations. For the data exploration, we analyzed correlation using heatmaps to obtain the different correlations between the different attributes of our data. We wanted to focus on the correlation between population and total payments and between population and average covered payments. Based on the heatmaps from our two datasets, we obtained a correlation of 0.52 between population and average covered charges and a correlation of 0.35 between population and average covered charges. These correlations aren’t significant enough to determine a strong relationship between population and average covered charges. To analyze our data, we performed an OLS regression to see if population and Medicare were correlated.\n",
    "\n",
    "Based on the results of the OLS regression, the P-values we got were not significant enough to give us a conclusive result about our analysis (assuming an alpha value of 0.01). The P-values we got from analyzing conditions separately were also not significant enough. Thus, we cannot conclude that the population of a state affects the average Medicare one receives.\n",
    "\n",
    "For the limitations of the analysis, we only have access to the public dataset. In other words, we didn’t include information and data from private companies. Hence, our dataset resource is not comprehensive enough to show the relation between the state population and medical insurance. For further research, we would like to include more dataset both from private companies and public platforms. Our project could also analyze the datasets and information on a global scale, reaching out to the international communities to see what determines the Medicare amount received by people. \n"
   ]
  }
 ],
 "metadata": {
  "kernelspec": {
   "display_name": "Python 3",
   "language": "python",
   "name": "python3"
  },
  "language_info": {
   "codemirror_mode": {
    "name": "ipython",
    "version": 3
   },
   "file_extension": ".py",
   "mimetype": "text/x-python",
   "name": "python",
   "nbconvert_exporter": "python",
   "pygments_lexer": "ipython3",
   "version": "3.7.3"
  }
 },
 "nbformat": 4,
 "nbformat_minor": 2
}
