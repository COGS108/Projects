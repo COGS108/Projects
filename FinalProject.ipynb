{
 "cells": [
  {
   "cell_type": "markdown",
   "metadata": {},
   "source": [
    "# COGS 108 - Final Project"
   ]
  },
  {
   "cell_type": "markdown",
   "metadata": {},
   "source": [
    "## Important\n",
    "\n",
    "- ONE, and only one, member of your group should upload this notebook to TritonED. \n",
    "- Each member of the group will receive the same grade on this assignment. \n",
    "- Keep the file name the same: submit the file 'FinalProject.ipynb'.\n",
    "- Only upload the .ipynb file to TED, do not upload any associted data. Make sure that for cells in which you want graders to see output that these cells have been executed."
   ]
  },
  {
   "cell_type": "markdown",
   "metadata": {},
   "source": [
    "## Group Members: Fill in the Student IDs of each group member here\n",
    "\n",
    "Replace the lines below to list each persons full student ID, ucsd email and full name.\n",
    "\n",
    "-  \n",
    "- \n",
    "- \n",
    "- \n",
    "\n"
   ]
  },
  {
   "cell_type": "markdown",
   "metadata": {},
   "source": [
    "# Part 0 - Importing the required packages"
   ]
  },
  {
   "cell_type": "code",
   "execution_count": 1,
   "metadata": {},
   "outputs": [],
   "source": [
    "import pandas as pd # for use of dataframes\n",
    "import numpy as np\n",
    "import matplotlib.pyplot as plt # for plotting graphs \n",
    "import statsmodels.api as sm # for fitting an OLS model\n",
    "import scipy.stats as stats # for access to tests for normal distribution\n",
    "from scipy.stats import ttest_ind, normaltest # for access to t tests, normal test"
   ]
  },
  {
   "cell_type": "markdown",
   "metadata": {},
   "source": [
    "# Part 1 - Introduction and Background"
   ]
  },
  {
   "cell_type": "markdown",
   "metadata": {},
   "source": [
    "Chicago, otherwise known as 'The Windy City', has some of the worst crime rates in America. Some of this has to do with statitical flukes; it is the third largest city in the U.S., which makes any type of criminal activity more easily reportable. However, most people wouldn't argue over the real danger you are in when you go to some of the worse off areas of Chicago.\n",
    "\n",
    "We wanted to analyze the crime rates in Chicago in some way in order to assist people in the city in understanding what problems exist and where they are happening. In the end, we decided to ask the following question:\n",
    "\n",
    "\"Does the district a crime is committed in or type of crime more closely predict whether an arrest was made\".\n",
    "\n",
    "The answers derived from the answer to this question could spawn further analysis, e.g.:\n",
    "\n",
    "1. If a particular crime is more likely to result in an arrest in one district over the other, why is that? Is it the police in that district? Is it the citizens? Or is it the geography?\n",
    "\n",
    "2. If the type of crime affects whether an arrest is made, does that mean that we are more afraid of certain crimes over others? Is this a valid fear? "
   ]
  },
  {
   "cell_type": "markdown",
   "metadata": {},
   "source": [
    "# Part 2 - Data Description"
   ]
  },
  {
   "cell_type": "markdown",
   "metadata": {},
   "source": [
    "We are using this dataset: https://www.kaggle.com/chicago/chicago-crime\n",
    "\n",
    "This is chicago crime data from 2001 to present. It represents all reported instances of crime, and whether or not an arrest has been made since the data was last released. Each row represents a crime, except for multiple homicides, for which there is a different row for each victim of the crime. \n",
    "\n",
    "Here are some basic stats:"
   ]
  },
  {
   "cell_type": "code",
   "execution_count": 2,
   "metadata": {},
   "outputs": [],
   "source": [
    "crime = pd.read_csv('~/data/CrimesSmall.csv')"
   ]
  },
  {
   "cell_type": "code",
   "execution_count": 3,
   "metadata": {},
   "outputs": [
    {
     "data": {
      "text/html": [
       "<div>\n",
       "<style scoped>\n",
       "    .dataframe tbody tr th:only-of-type {\n",
       "        vertical-align: middle;\n",
       "    }\n",
       "\n",
       "    .dataframe tbody tr th {\n",
       "        vertical-align: top;\n",
       "    }\n",
       "\n",
       "    .dataframe thead th {\n",
       "        text-align: right;\n",
       "    }\n",
       "</style>\n",
       "<table border=\"1\" class=\"dataframe\">\n",
       "  <thead>\n",
       "    <tr style=\"text-align: right;\">\n",
       "      <th></th>\n",
       "      <th>ID</th>\n",
       "      <th>Case Number</th>\n",
       "      <th>Date</th>\n",
       "      <th>Block</th>\n",
       "      <th>IUCR</th>\n",
       "      <th>Primary Type</th>\n",
       "      <th>Description</th>\n",
       "      <th>Location Description</th>\n",
       "      <th>Arrest</th>\n",
       "      <th>Domestic</th>\n",
       "      <th>...</th>\n",
       "      <th>Ward</th>\n",
       "      <th>Community Area</th>\n",
       "      <th>FBI Code</th>\n",
       "      <th>X Coordinate</th>\n",
       "      <th>Y Coordinate</th>\n",
       "      <th>Year</th>\n",
       "      <th>Updated On</th>\n",
       "      <th>Latitude</th>\n",
       "      <th>Longitude</th>\n",
       "      <th>Location</th>\n",
       "    </tr>\n",
       "  </thead>\n",
       "  <tbody>\n",
       "    <tr>\n",
       "      <th>0</th>\n",
       "      <td>10000092</td>\n",
       "      <td>HY189866</td>\n",
       "      <td>03/18/2015 07:44:00 PM</td>\n",
       "      <td>047XX W OHIO ST</td>\n",
       "      <td>041A</td>\n",
       "      <td>BATTERY</td>\n",
       "      <td>AGGRAVATED: HANDGUN</td>\n",
       "      <td>STREET</td>\n",
       "      <td>False</td>\n",
       "      <td>False</td>\n",
       "      <td>...</td>\n",
       "      <td>28.0</td>\n",
       "      <td>25.0</td>\n",
       "      <td>04B</td>\n",
       "      <td>1144606.0</td>\n",
       "      <td>1903566.0</td>\n",
       "      <td>2015</td>\n",
       "      <td>02/10/2018 03:50:01 PM</td>\n",
       "      <td>41.891399</td>\n",
       "      <td>-87.744385</td>\n",
       "      <td>(41.891398861, -87.744384567)</td>\n",
       "    </tr>\n",
       "    <tr>\n",
       "      <th>1</th>\n",
       "      <td>10000094</td>\n",
       "      <td>HY190059</td>\n",
       "      <td>03/18/2015 11:00:00 PM</td>\n",
       "      <td>066XX S MARSHFIELD AVE</td>\n",
       "      <td>4625</td>\n",
       "      <td>OTHER OFFENSE</td>\n",
       "      <td>PAROLE VIOLATION</td>\n",
       "      <td>STREET</td>\n",
       "      <td>True</td>\n",
       "      <td>False</td>\n",
       "      <td>...</td>\n",
       "      <td>15.0</td>\n",
       "      <td>67.0</td>\n",
       "      <td>26</td>\n",
       "      <td>1166468.0</td>\n",
       "      <td>1860715.0</td>\n",
       "      <td>2015</td>\n",
       "      <td>02/10/2018 03:50:01 PM</td>\n",
       "      <td>41.773372</td>\n",
       "      <td>-87.665319</td>\n",
       "      <td>(41.773371528, -87.665319468)</td>\n",
       "    </tr>\n",
       "    <tr>\n",
       "      <th>2</th>\n",
       "      <td>10000095</td>\n",
       "      <td>HY190052</td>\n",
       "      <td>03/18/2015 10:45:00 PM</td>\n",
       "      <td>044XX S LAKE PARK AVE</td>\n",
       "      <td>0486</td>\n",
       "      <td>BATTERY</td>\n",
       "      <td>DOMESTIC BATTERY SIMPLE</td>\n",
       "      <td>APARTMENT</td>\n",
       "      <td>False</td>\n",
       "      <td>True</td>\n",
       "      <td>...</td>\n",
       "      <td>4.0</td>\n",
       "      <td>39.0</td>\n",
       "      <td>08B</td>\n",
       "      <td>1185075.0</td>\n",
       "      <td>1875622.0</td>\n",
       "      <td>2015</td>\n",
       "      <td>02/10/2018 03:50:01 PM</td>\n",
       "      <td>41.813861</td>\n",
       "      <td>-87.596643</td>\n",
       "      <td>(41.81386068, -87.596642837)</td>\n",
       "    </tr>\n",
       "    <tr>\n",
       "      <th>3</th>\n",
       "      <td>10000096</td>\n",
       "      <td>HY190054</td>\n",
       "      <td>03/18/2015 10:30:00 PM</td>\n",
       "      <td>051XX S MICHIGAN AVE</td>\n",
       "      <td>0460</td>\n",
       "      <td>BATTERY</td>\n",
       "      <td>SIMPLE</td>\n",
       "      <td>APARTMENT</td>\n",
       "      <td>False</td>\n",
       "      <td>False</td>\n",
       "      <td>...</td>\n",
       "      <td>3.0</td>\n",
       "      <td>40.0</td>\n",
       "      <td>08B</td>\n",
       "      <td>1178033.0</td>\n",
       "      <td>1870804.0</td>\n",
       "      <td>2015</td>\n",
       "      <td>02/10/2018 03:50:01 PM</td>\n",
       "      <td>41.800802</td>\n",
       "      <td>-87.622619</td>\n",
       "      <td>(41.800802415, -87.622619343)</td>\n",
       "    </tr>\n",
       "    <tr>\n",
       "      <th>4</th>\n",
       "      <td>10000097</td>\n",
       "      <td>HY189976</td>\n",
       "      <td>03/18/2015 09:00:00 PM</td>\n",
       "      <td>047XX W ADAMS ST</td>\n",
       "      <td>031A</td>\n",
       "      <td>ROBBERY</td>\n",
       "      <td>ARMED: HANDGUN</td>\n",
       "      <td>SIDEWALK</td>\n",
       "      <td>False</td>\n",
       "      <td>False</td>\n",
       "      <td>...</td>\n",
       "      <td>28.0</td>\n",
       "      <td>25.0</td>\n",
       "      <td>03</td>\n",
       "      <td>1144920.0</td>\n",
       "      <td>1898709.0</td>\n",
       "      <td>2015</td>\n",
       "      <td>02/10/2018 03:50:01 PM</td>\n",
       "      <td>41.878065</td>\n",
       "      <td>-87.743354</td>\n",
       "      <td>(41.878064761, -87.743354013)</td>\n",
       "    </tr>\n",
       "  </tbody>\n",
       "</table>\n",
       "<p>5 rows × 22 columns</p>\n",
       "</div>"
      ],
      "text/plain": [
       "         ID Case Number                    Date                   Block  IUCR  \\\n",
       "0  10000092    HY189866  03/18/2015 07:44:00 PM         047XX W OHIO ST  041A   \n",
       "1  10000094    HY190059  03/18/2015 11:00:00 PM  066XX S MARSHFIELD AVE  4625   \n",
       "2  10000095    HY190052  03/18/2015 10:45:00 PM   044XX S LAKE PARK AVE  0486   \n",
       "3  10000096    HY190054  03/18/2015 10:30:00 PM    051XX S MICHIGAN AVE  0460   \n",
       "4  10000097    HY189976  03/18/2015 09:00:00 PM        047XX W ADAMS ST  031A   \n",
       "\n",
       "    Primary Type              Description Location Description  Arrest  \\\n",
       "0        BATTERY      AGGRAVATED: HANDGUN               STREET   False   \n",
       "1  OTHER OFFENSE         PAROLE VIOLATION               STREET    True   \n",
       "2        BATTERY  DOMESTIC BATTERY SIMPLE            APARTMENT   False   \n",
       "3        BATTERY                   SIMPLE            APARTMENT   False   \n",
       "4        ROBBERY           ARMED: HANDGUN             SIDEWALK   False   \n",
       "\n",
       "   Domestic              ...                Ward  Community Area  FBI Code  \\\n",
       "0     False              ...                28.0            25.0       04B   \n",
       "1     False              ...                15.0            67.0        26   \n",
       "2      True              ...                 4.0            39.0       08B   \n",
       "3     False              ...                 3.0            40.0       08B   \n",
       "4     False              ...                28.0            25.0        03   \n",
       "\n",
       "   X Coordinate Y Coordinate  Year              Updated On   Latitude  \\\n",
       "0     1144606.0    1903566.0  2015  02/10/2018 03:50:01 PM  41.891399   \n",
       "1     1166468.0    1860715.0  2015  02/10/2018 03:50:01 PM  41.773372   \n",
       "2     1185075.0    1875622.0  2015  02/10/2018 03:50:01 PM  41.813861   \n",
       "3     1178033.0    1870804.0  2015  02/10/2018 03:50:01 PM  41.800802   \n",
       "4     1144920.0    1898709.0  2015  02/10/2018 03:50:01 PM  41.878065   \n",
       "\n",
       "   Longitude                       Location  \n",
       "0 -87.744385  (41.891398861, -87.744384567)  \n",
       "1 -87.665319  (41.773371528, -87.665319468)  \n",
       "2 -87.596643   (41.81386068, -87.596642837)  \n",
       "3 -87.622619  (41.800802415, -87.622619343)  \n",
       "4 -87.743354  (41.878064761, -87.743354013)  \n",
       "\n",
       "[5 rows x 22 columns]"
      ]
     },
     "execution_count": 3,
     "metadata": {},
     "output_type": "execute_result"
    }
   ],
   "source": [
    "crime.head()"
   ]
  },
  {
   "cell_type": "code",
   "execution_count": 4,
   "metadata": {},
   "outputs": [
    {
     "data": {
      "text/html": [
       "<div>\n",
       "<style scoped>\n",
       "    .dataframe tbody tr th:only-of-type {\n",
       "        vertical-align: middle;\n",
       "    }\n",
       "\n",
       "    .dataframe tbody tr th {\n",
       "        vertical-align: top;\n",
       "    }\n",
       "\n",
       "    .dataframe thead th {\n",
       "        text-align: right;\n",
       "    }\n",
       "</style>\n",
       "<table border=\"1\" class=\"dataframe\">\n",
       "  <thead>\n",
       "    <tr style=\"text-align: right;\">\n",
       "      <th></th>\n",
       "      <th>ID</th>\n",
       "      <th>Beat</th>\n",
       "      <th>District</th>\n",
       "      <th>Ward</th>\n",
       "      <th>Community Area</th>\n",
       "      <th>X Coordinate</th>\n",
       "      <th>Y Coordinate</th>\n",
       "      <th>Year</th>\n",
       "      <th>Latitude</th>\n",
       "      <th>Longitude</th>\n",
       "    </tr>\n",
       "  </thead>\n",
       "  <tbody>\n",
       "    <tr>\n",
       "      <th>count</th>\n",
       "      <td>6.802359e+06</td>\n",
       "      <td>6.802359e+06</td>\n",
       "      <td>6.802312e+06</td>\n",
       "      <td>6.187505e+06</td>\n",
       "      <td>6.188828e+06</td>\n",
       "      <td>6.740394e+06</td>\n",
       "      <td>6.740394e+06</td>\n",
       "      <td>6.802359e+06</td>\n",
       "      <td>6.740394e+06</td>\n",
       "      <td>6.740394e+06</td>\n",
       "    </tr>\n",
       "    <tr>\n",
       "      <th>mean</th>\n",
       "      <td>6.267879e+06</td>\n",
       "      <td>1.191551e+03</td>\n",
       "      <td>1.130251e+01</td>\n",
       "      <td>2.268313e+01</td>\n",
       "      <td>3.758620e+01</td>\n",
       "      <td>1.164517e+06</td>\n",
       "      <td>1.885721e+06</td>\n",
       "      <td>2.008401e+03</td>\n",
       "      <td>4.184201e+01</td>\n",
       "      <td>-8.767180e+01</td>\n",
       "    </tr>\n",
       "    <tr>\n",
       "      <th>std</th>\n",
       "      <td>3.063983e+06</td>\n",
       "      <td>7.033569e+02</td>\n",
       "      <td>6.945669e+00</td>\n",
       "      <td>1.383246e+01</td>\n",
       "      <td>2.154045e+01</td>\n",
       "      <td>1.716683e+04</td>\n",
       "      <td>3.270468e+04</td>\n",
       "      <td>5.067564e+00</td>\n",
       "      <td>8.999481e-02</td>\n",
       "      <td>6.212430e-02</td>\n",
       "    </tr>\n",
       "    <tr>\n",
       "      <th>min</th>\n",
       "      <td>6.340000e+02</td>\n",
       "      <td>1.110000e+02</td>\n",
       "      <td>1.000000e+00</td>\n",
       "      <td>1.000000e+00</td>\n",
       "      <td>0.000000e+00</td>\n",
       "      <td>0.000000e+00</td>\n",
       "      <td>0.000000e+00</td>\n",
       "      <td>2.001000e+03</td>\n",
       "      <td>3.661945e+01</td>\n",
       "      <td>-9.168657e+01</td>\n",
       "    </tr>\n",
       "    <tr>\n",
       "      <th>25%</th>\n",
       "      <td>3.443594e+06</td>\n",
       "      <td>6.220000e+02</td>\n",
       "      <td>6.000000e+00</td>\n",
       "      <td>1.000000e+01</td>\n",
       "      <td>2.300000e+01</td>\n",
       "      <td>1.152934e+06</td>\n",
       "      <td>1.859189e+06</td>\n",
       "      <td>2.004000e+03</td>\n",
       "      <td>4.176892e+01</td>\n",
       "      <td>-8.771387e+01</td>\n",
       "    </tr>\n",
       "    <tr>\n",
       "      <th>50%</th>\n",
       "      <td>6.254311e+06</td>\n",
       "      <td>1.111000e+03</td>\n",
       "      <td>1.000000e+01</td>\n",
       "      <td>2.200000e+01</td>\n",
       "      <td>3.200000e+01</td>\n",
       "      <td>1.165991e+06</td>\n",
       "      <td>1.890586e+06</td>\n",
       "      <td>2.008000e+03</td>\n",
       "      <td>4.185537e+01</td>\n",
       "      <td>-8.766618e+01</td>\n",
       "    </tr>\n",
       "    <tr>\n",
       "      <th>75%</th>\n",
       "      <td>8.909085e+06</td>\n",
       "      <td>1.731000e+03</td>\n",
       "      <td>1.700000e+01</td>\n",
       "      <td>3.400000e+01</td>\n",
       "      <td>5.800000e+01</td>\n",
       "      <td>1.176352e+06</td>\n",
       "      <td>1.909313e+06</td>\n",
       "      <td>2.012000e+03</td>\n",
       "      <td>4.190686e+01</td>\n",
       "      <td>-8.762836e+01</td>\n",
       "    </tr>\n",
       "    <tr>\n",
       "      <th>max</th>\n",
       "      <td>1.158934e+07</td>\n",
       "      <td>2.535000e+03</td>\n",
       "      <td>3.100000e+01</td>\n",
       "      <td>5.000000e+01</td>\n",
       "      <td>7.700000e+01</td>\n",
       "      <td>1.205119e+06</td>\n",
       "      <td>1.951622e+06</td>\n",
       "      <td>2.019000e+03</td>\n",
       "      <td>4.202291e+01</td>\n",
       "      <td>-8.752453e+01</td>\n",
       "    </tr>\n",
       "  </tbody>\n",
       "</table>\n",
       "</div>"
      ],
      "text/plain": [
       "                 ID          Beat      District          Ward  Community Area  \\\n",
       "count  6.802359e+06  6.802359e+06  6.802312e+06  6.187505e+06    6.188828e+06   \n",
       "mean   6.267879e+06  1.191551e+03  1.130251e+01  2.268313e+01    3.758620e+01   \n",
       "std    3.063983e+06  7.033569e+02  6.945669e+00  1.383246e+01    2.154045e+01   \n",
       "min    6.340000e+02  1.110000e+02  1.000000e+00  1.000000e+00    0.000000e+00   \n",
       "25%    3.443594e+06  6.220000e+02  6.000000e+00  1.000000e+01    2.300000e+01   \n",
       "50%    6.254311e+06  1.111000e+03  1.000000e+01  2.200000e+01    3.200000e+01   \n",
       "75%    8.909085e+06  1.731000e+03  1.700000e+01  3.400000e+01    5.800000e+01   \n",
       "max    1.158934e+07  2.535000e+03  3.100000e+01  5.000000e+01    7.700000e+01   \n",
       "\n",
       "       X Coordinate  Y Coordinate          Year      Latitude     Longitude  \n",
       "count  6.740394e+06  6.740394e+06  6.802359e+06  6.740394e+06  6.740394e+06  \n",
       "mean   1.164517e+06  1.885721e+06  2.008401e+03  4.184201e+01 -8.767180e+01  \n",
       "std    1.716683e+04  3.270468e+04  5.067564e+00  8.999481e-02  6.212430e-02  \n",
       "min    0.000000e+00  0.000000e+00  2.001000e+03  3.661945e+01 -9.168657e+01  \n",
       "25%    1.152934e+06  1.859189e+06  2.004000e+03  4.176892e+01 -8.771387e+01  \n",
       "50%    1.165991e+06  1.890586e+06  2.008000e+03  4.185537e+01 -8.766618e+01  \n",
       "75%    1.176352e+06  1.909313e+06  2.012000e+03  4.190686e+01 -8.762836e+01  \n",
       "max    1.205119e+06  1.951622e+06  2.019000e+03  4.202291e+01 -8.752453e+01  "
      ]
     },
     "execution_count": 4,
     "metadata": {},
     "output_type": "execute_result"
    }
   ],
   "source": [
    "crime.describe()"
   ]
  },
  {
   "cell_type": "code",
   "execution_count": 5,
   "metadata": {},
   "outputs": [
    {
     "name": "stdout",
     "output_type": "stream",
     "text": [
      "Total Number or Crimes:\t\t\t6802359\n",
      "Total number of Unique Districts:\t25\n"
     ]
    }
   ],
   "source": [
    "print('Total Number or Crimes:\\t\\t\\t{0}'.format(len(crime)))\n",
    "print('Total number of Unique Districts:\\t{0}'.format(len(crime['District'].unique())))"
   ]
  },
  {
   "cell_type": "markdown",
   "metadata": {},
   "source": [
    "Some crimes appear more than others. Later on, we might have to select the top crimes to analyze, so here they are"
   ]
  },
  {
   "cell_type": "code",
   "execution_count": 6,
   "metadata": {},
   "outputs": [
    {
     "data": {
      "text/plain": [
       "THEFT              1431614\n",
       "BATTERY            1241949\n",
       "CRIMINAL DAMAGE     776795\n",
       "Name: Primary Type, dtype: int64"
      ]
     },
     "execution_count": 6,
     "metadata": {},
     "output_type": "execute_result"
    }
   ],
   "source": [
    "crime['Primary Type'].value_counts().nlargest(3)"
   ]
  },
  {
   "cell_type": "markdown",
   "metadata": {},
   "source": [
    "# Part 3 - Data Cleaning and Preprocessing"
   ]
  },
  {
   "cell_type": "markdown",
   "metadata": {},
   "source": [
    "This data is fairly clean, because it is maintained by the Chicago Police Department, which has high organizational standards. There aren't very many invalid crimes or unknowns.\n",
    "\n",
    "To clean the data, we will do the following (not necessarily in order):\n",
    "\n",
    "1. Drop useless columns\n",
    "2. Standardize the location description\n",
    "3. Standardize the crime type to get rid of the uppercase, standardize the non-criminal type\n",
    "4. Convert True to 1.0 and False to 0.0\n",
    "5. Remove NaN values"
   ]
  },
  {
   "cell_type": "code",
   "execution_count": 7,
   "metadata": {},
   "outputs": [],
   "source": [
    "# first, drop the location description column and community area column because \n",
    "crime = crime.drop(['Location Description', 'Block', 'Community Area','Latitude', 'Beat', 'Ward','Longitude','X Coordinate','Y Coordinate','Location','Ward'],axis=1)"
   ]
  },
  {
   "cell_type": "code",
   "execution_count": 8,
   "metadata": {},
   "outputs": [],
   "source": [
    "\"\"\"\n",
    "    Author: James McDougall\n",
    "    Param: string - is the string which is the name of the Primary Type\n",
    "    Returns: a variable of type str which is lower case and represents  a more standardized type\n",
    "\"\"\"\n",
    "def standardize_primary_type(string):\n",
    "    # compile all non-criminal offenses into on label\n",
    "    if string == 'NON-CRIMINAL (SUBJECT SPECIFIED)' or string == 'NON - CRIMINAL' or string == 'NON-CRIMINAL':\n",
    "        return 'non-criminal'\n",
    "    if string == 'OTHER OFFENSE':\n",
    "        return 'other'\n",
    "    # rename crim sexual assault to just sexual assault to make it easier to read\n",
    "    if string == 'CRIM SEXUAL ASSAULT':\n",
    "        return 'sexual assault'\n",
    "    else:\n",
    "        # everything else, make sure to lowercase it so we don't have to use caps lock lol\n",
    "        return string.lower()\n",
    "        "
   ]
  },
  {
   "cell_type": "markdown",
   "metadata": {},
   "source": [
    "Removing NaNs. Check that the two important columns don't have NaNs."
   ]
  },
  {
   "cell_type": "code",
   "execution_count": 9,
   "metadata": {},
   "outputs": [
    {
     "name": "stdout",
     "output_type": "stream",
     "text": [
      "Number of rows to drop with NaN district: 47\n",
      "Number of row to drop with NaN Primary Type: 0\n"
     ]
    }
   ],
   "source": [
    "to_drop = crime[ crime['District'].isnull()]\n",
    "print('Number of rows to drop with NaN district: ' + str(len(to_drop)))\n",
    "crime = crime.drop(to_drop.index,axis=0)\n",
    "\n",
    "to_drop = crime[crime['Primary Type'].isnull()]\n",
    "print('Number of row to drop with NaN Primary Type: ' + str(len(to_drop)))\n",
    "crime = crime.drop(to_drop.index,axis=0)"
   ]
  },
  {
   "cell_type": "markdown",
   "metadata": {},
   "source": [
    "To standardize the data we do the following:\n",
    "1. standardize the type to be all lower case, merge some similar crimes that are formatted differently together\n",
    "2. convert district, which is a float, to a string, because district should be categorical, not numerical."
   ]
  },
  {
   "cell_type": "code",
   "execution_count": 10,
   "metadata": {},
   "outputs": [],
   "source": [
    "crime['Type'] = crime['Primary Type'].apply(standardize_primary_type)\n",
    "crime['District'] = crime['District'].astype(str)\n",
    "\n",
    "def arrest_to_int(string):\n",
    "    if string == True:\n",
    "        return 1\n",
    "    elif string == False:\n",
    "        return 0\n",
    "crimes['Arrest'] = crimes['Arrest'].apply(arrest_to_int)"
   ]
  },
  {
   "cell_type": "markdown",
   "metadata": {},
   "source": [
    "# Part 4 - Data Visualization"
   ]
  },
  {
   "cell_type": "code",
   "execution_count": null,
   "metadata": {},
   "outputs": [],
   "source": []
  },
  {
   "cell_type": "markdown",
   "metadata": {},
   "source": [
    "# Part 5 - Data Analysis and Results"
   ]
  },
  {
   "cell_type": "code",
   "execution_count": null,
   "metadata": {},
   "outputs": [],
   "source": []
  },
  {
   "cell_type": "markdown",
   "metadata": {},
   "source": [
    "# Part 6 - Privacy/Ethics Considerations"
   ]
  },
  {
   "cell_type": "markdown",
   "metadata": {},
   "source": [
    "The data is private because there is no identifying information. There are no names, only crime ids and description. The only identifying information is the location. This could be an issue because some of the crimes occurred in apartments, so you could conceivably find out the location where a crime was committed and use this to find someone.\n",
    "\n",
    "A potential ethics considerations involving this data is that we are publicizing the locations of high crime, which could be used to discriminate against communities. While this data is publicily available, we are organizing and formatting it in a way that can be used to show which districts have a high crime rate. People with ill intentions could use this to argue that no one should go near these areas, alientating those communities."
   ]
  },
  {
   "cell_type": "markdown",
   "metadata": {},
   "source": [
    "# Part 7 - Conclusions and Discussion"
   ]
  },
  {
   "cell_type": "code",
   "execution_count": null,
   "metadata": {},
   "outputs": [],
   "source": []
  }
 ],
 "metadata": {
  "kernelspec": {
   "display_name": "Python 3",
   "language": "python",
   "name": "python3"
  },
  "language_info": {
   "codemirror_mode": {
    "name": "ipython",
    "version": 3
   },
   "file_extension": ".py",
   "mimetype": "text/x-python",
   "name": "python",
   "nbconvert_exporter": "python",
   "pygments_lexer": "ipython3",
   "version": "3.7.2"
  }
 },
 "nbformat": 4,
 "nbformat_minor": 2
}
