{
  "nbformat" : 4,
  "metadata" : {
    "language_info" : {
      "file_extension" : ".py",
      "codemirror_mode" : {
        "name" : "ipython",
        "version" : 3
      },
      "mimetype" : "text\/x-python",
      "pygments_lexer" : "ipython3",
      "version" : "3.6.7",
      "nbconvert_exporter" : "python",
      "name" : "python"
    },
    "kernelspec" : {
      "name" : "python3",
      "language" : "python",
      "display_name" : "Python 3"
    }
  },
  "nbformat_minor" : 2,
  "cells" : [
    {
      "cell_type" : "markdown",
      "source" : [
        "# COGS 108 - Final Project "
      ],
      "metadata" : {

      }
    },
    {
      "cell_type" : "markdown",
      "source" : [
        "# Overview"
      ],
      "metadata" : {

      }
    },
    {
      "cell_type" : "markdown",
      "source" : [
        "*Fill in your overview here*"
      ],
      "metadata" : {

      }
    },
    {
      "cell_type" : "markdown",
      "source" : [
        "# Names\n",
        "\n",
        "- Samvit Sutodiya\n",
        "- Arya Nair\n",
        "- Linwei Lu\n",
        "- Jenny Zhang"
      ],
      "metadata" : {

      }
    },
    {
      "cell_type" : "markdown",
      "source" : [
        "# Group Members IDs\n",
        "\n",
        "- A########\n",
        "- A########\n",
        "- A13996537\n",
        "- A14854801"
      ],
      "metadata" : {

      }
    },
    {
      "cell_type" : "markdown",
      "source" : [
        "# Research Question"
      ],
      "metadata" : {

      }
    },
    {
      "cell_type" : "markdown",
      "source" : [
        "Does the amount of Medicare one receives for a specific illness differ from state to state based on the state’s population?"
      ],
      "metadata" : {

      }
    },
    {
      "cell_type" : "markdown",
      "source" : [
        "## Background and Prior Work"
      ],
      "metadata" : {

      }
    },
    {
      "cell_type" : "markdown",
      "source" : [
        "Medicare is a national health insurance program that covers health care costs for adults over the age of 65 and younger people with specific disabilities. Medicare has four parts that help cover certain services such as Hospital Insurance, Medical Insurance, prescription drug coverage and a Medicare Advantage which is an all in one plan. The main benefit of Medicare is that it provides health coverage regardless of the person’s income, thus benefiting people with low income by helping those who are unable to afford medical insurance (“Acute Inpatient PPS”, 2019).\n",
        "\n",
        "But unfortunately this isn’t always the case. Studies such as ‘Medicare Utilization in the United States: PSRO and Regional Impacts’ by DL Rothberg, J Pinto and PM Gertman show how geographical factors affect medicare in the United States. Factors such as demographic and socio-economics play a role in determining the amount of medicare one receives. In this project we explore how population plays a role in determining the amount of medicare one receives. \n",
        "\n",
        "References (include links):\n",
        "- 1) “Acute Inpatient PPS”, 2019 (https:\/\/www.cms.gov\/Medicare\/Medicare-Fee-for-Service-Payment\/AcuteInpatientPPS\/index.html?redirect=\/AcuteInpatientPPS\/)\n",
        "- 2) ‘Medicare Utilization in the United States: PSRO and Regional Impacts’ by DL Rothberg, J Pinto and PM Gertman (https:\/\/www.ncbi.nlm.nih.gov\/pmc\/articles\/PMC1072167\/)"
      ],
      "metadata" : {

      }
    },
    {
      "cell_type" : "markdown",
      "source" : [
        "# Hypothesis\n"
      ],
      "metadata" : {

      }
    },
    {
      "cell_type" : "markdown",
      "source" : [
        "The question our project asks is whether the amount of medicare one receives for a specific illness, differs from state to state based on the state’s population. The amount of medicare is calculated as the ratio of amount covered by medicare to the amount paid by patients. \n",
        "\n",
        "The hypothesis we have is that the greater the population of the state, the more medicare one receives on average.\n"
      ],
      "metadata" : {

      }
    },
    {
      "cell_type" : "markdown",
      "source" : [
        "# Datasets- Description"
      ],
      "metadata" : {

      }
    },
    {
      "cell_type" : "markdown",
      "source" : [
        "In this project, we utilize three Datasets: one relating to the medical insurance and two involving the state population details. Given on these three data sets, we would able to found out \"whether the amount of medicare one receives for a specific illness, differs from state to state based on the state’s population\"(project proposal). \n",
        "\n",
        "First dataset we will involve is the \"Inpatient Prospective Payment System (IPPS) Provider Summary for the Top 100 Diagnosis-Related Groups (DRG) - FY2011\". The Inpatient Prospective Payment System(MIPPS) is a payment system for inpatient care and stays covered by medical insurance (Medicare). The data table includes Total Discharges, Average Covered Discharges, Average Total Payments, and Average Medicare Payments which help extract the amount of Medicare provided for a specific illness. what's more, the data set provides over 3,000 u.s hospitals spefical charges information, and top 100 most frequently billed discharges involving with the MIPPS payments. In the columns of the dataset, it involves DRG to represents over \"7 million discharges or 60 percent of totalMedicare IPPS discharges\". It classifies the system grouping similar clinical conditions and procedures and the provider city. Hence, the said data tables help us to answer the question of how much the patients pay for the different illness in each state.\n",
        "\n",
        "- DataSet Name: \"Inpatient Prospective Payment System (IPPS) Provider Summary for the Top 100 Diagnosis-Related Groups (DRG) - FY2011\".\n",
        "- Link to the dataset: https:\/\/data.cms.gov\/Medicare-Inpatient\/Inpatient-Prospective-Payment-System-IPPS-Provider\/97k6-zzx3\n",
        "- Data Provided by CMs, DataSet Owner OEDA\n",
        "- Number of observations: 163065\n",
        "\n",
        "Second dataset we included is the \"National, State, and Puerto Rico Commonwealth Totals Datasets: Population, population change, and estimated components of population change: April 1, 2010 to July 1, 2018\". It is provided by United States Census Bureau. This dataset contains data from the 2010 US Census, as well as estimated yearly population, population change, and estimated components of population change of each state from 2010-2018.In the columns of table, it includes Name of the Region, Popluation Estimate ,National Population Change, Birth Rate, Death Rate, which provides the conprehensive information of the population changes in demestic and national scales. \n",
        "\n",
        "- DataSet Name:\"National, State, and Puerto Rico Commonwealth Totals Datasets: Population, population change, and estimated components of population change: April 1, 2010 to July 1, 2018\". \n",
        "- Link to the dataset: https:\/\/www.census.gov\/data\/datasets\/time-series\/demo\/popest\/2010s-state-total.html \n",
        "- Data Provided by United States Census Bureau\n",
        "- Number of observations: 57\n",
        "\n",
        "\n",
        "The third one is \"CSV of States and State Abbreviations\", provided by fronz.net weblog. This dataset contains all the US states and their abbreviation.Unlike the said two datasets, this dataset table is straightforward: there are only two columnes: State name and Abbreviation. This dataset  increase the efficency to recognize, categorize and label the geographic information.\n",
        "\n",
        "- DataSet Name: \"CSV of States and State Abbreviations\".\n",
        "- Link to the dataset: http:\/\/www.fonz.net\/blog\/archives\/2008\/04\/06\/csv-of-states-and-state-abbreviations\/\n",
        "- Number of observations: 51\n",
        "\n",
        "In conculsion, We plan to combine these three databases by adding the populations for each provider state to analyze whether the population of a state affects the amount of Medicare one receives. Since the first dataset uses state abbreviations while the census uses their names, we will be using a third dataset to match abbreviations to state names. "
      ],
      "metadata" : {

      }
    },
    {
      "cell_type" : "markdown",
      "source" : [
        "# Setup"
      ],
      "metadata" : {

      }
    },
    {
      "metadata" : {

      },
      "source" : [
        "import pandas as pd"
      ],
      "cell_type" : "code",
      "execution_count" : 1,
      "outputs" : [

      ]
    },
    {
      "cell_type" : "markdown",
      "source" : [
        "# Data Cleaning"
      ],
      "metadata" : {

      }
    },
    {
      "cell_type" : "markdown",
      "source" : [
        "Describe your data cleaning steps here."
      ],
      "metadata" : {

      }
    },
    {
      "cell_type" : "markdown",
      "source" : [
        "First, we will read in the dataset."
      ],
      "metadata" : {

      }
    },
    {
      "metadata" : {

      },
      "source" : [
        "df = pd.read_csv('Inpatient_Prospective_Payment_System__IPPS__Provider_Summary_for_the_Top_100_Diagnosis-Related_Groups__DRG__-_FY2011.csv')"
      ],
      "cell_type" : "code",
      "execution_count" : 2,
      "outputs" : [

      ]
    },
    {
      "cell_type" : "markdown",
      "source" : [
        "Next, we will drop the columns that we won't be using in our analysis, which are all the provider-related fields (aside from the state) and the hospital region. Some of the column names have extra spaces around them, so we will rename those columns."
      ],
      "metadata" : {

      }
    },
    {
      "metadata" : {

      },
      "source" : [
        "df.drop(columns = ['Provider Id', 'Provider Name', 'Provider Street Address', \n",
        "                   'Provider City', 'Provider Zip Code', 'Hospital Referral Region Description'],\n",
        "                 inplace = True)\n",
        "columns = ['DRG Definition', 'State', 'Total Discharges', 'Average Covered Charges',\n",
        "           'Average Total Payments', 'Average Medicare Payments']\n",
        "df.columns = columns"
      ],
      "cell_type" : "code",
      "execution_count" : 3,
      "outputs" : [

      ]
    },
    {
      "cell_type" : "markdown",
      "source" : [
        "Next, we need to combine all the data for each state. We will be analyzing different illnesses\/conditions separately, so each state will have one row for each illness containing the Average Covered Charges (the provider's average charge for services) and Average Medicare Payments (the amount covered by Medicare, not including co-payment and deductibles). We will keep the Total Payments column as well, in case we want to analyze it separately later. Using the number of total discharges from each hospital, we will calculate each of these average amounts for each illness within each state.\n",
        "\n",
        "Using these average values, we will create two new dataframes to perform analysis on. The first dataframe will contain the average amounts for each state and condition. The second dataframe will only contain the average values for each state, for the purpose of simplifying our overall analysis."
      ],
      "metadata" : {

      }
    },
    {
      "metadata" : {

      },
      "source" : [
        "# construct the rows of the first dataframe, separated by condition and state\n",
        "rows_condition = list()\n",
        "for name, group in df.groupby(['State', 'DRG Definition']):\n",
        "    total_discharges = group['Total Discharges'].sum()\n",
        "    avg_charges = (group['Average Covered Charges'] * group['Total Discharges']).sum() \/ total_discharges\n",
        "    avg_total = (group['Average Total Payments'] * group['Total Discharges']).sum() \/ total_discharges\n",
        "    avg_medicare = (group['Average Medicare Payments'] * group['Total Discharges']).sum() \/ total_discharges\n",
        "    rows_condition.append([name[1], name[0], total_discharges, avg_charges, avg_total, avg_medicare])\n",
        "\n",
        "# construct the rows of the second dataframe, separated by state\n",
        "rows_state = list()\n",
        "for name, group in df.groupby(['State']):\n",
        "    total_discharges = group['Total Discharges'].sum()\n",
        "    avg_charges = (group['Average Covered Charges'] * group['Total Discharges']).sum() \/ total_discharges\n",
        "    avg_total = (group['Average Total Payments'] * group['Total Discharges']).sum() \/ total_discharges\n",
        "    avg_medicare = (group['Average Medicare Payments'] * group['Total Discharges']).sum() \/ total_discharges\n",
        "    rows_state.append([name, total_discharges, avg_charges, avg_total, avg_medicare])\n",
        "    \n",
        "df_condition = pd.DataFrame(rows_condition, columns = columns)\n",
        "df_state = pd.DataFrame(rows_state, columns = ['State', 'Total Discharges', 'Average Covered Charges',\n",
        "                                     'Average Total Payments', 'Average Medicare Payments'])"
      ],
      "cell_type" : "code",
      "execution_count" : 4,
      "outputs" : [

      ]
    },
    {
      "cell_type" : "markdown",
      "source" : [
        "Our df_condition dataframe currently contains data for the top 100 Diagnosis-Related Groups (DRG). To simplify our analysis, we will narrow down our data to the top 10 DRG, based on number of total discharges."
      ],
      "metadata" : {

      }
    },
    {
      "metadata" : {

      },
      "source" : [
        "rows_DRG = list()\n",
        "for name, group in df.groupby(['DRG Definition']):\n",
        "    rows_DRG.append([name, group['Total Discharges'].sum()])\n",
        "df_DRG = pd.DataFrame(rows_DRG, columns = ['DRG Definition', 'Total Discharges'])\n",
        "top = df_DRG.nlargest(10, 'Total Discharges')['DRG Definition']\n",
        "df_condition = df_condition[df_condition['DRG Definition'].isin(top)]"
      ],
      "cell_type" : "code",
      "execution_count" : 5,
      "outputs" : [

      ]
    },
    {
      "cell_type" : "markdown",
      "source" : [
        "Next, we will read in the state population dataset. The population dataset uses the full names of states, but our Medicare dataset uses their abbreviations. To match populations with states, we will use a third dataset containing the abbreviations of states to add the abbreviations to the population dataset."
      ],
      "metadata" : {

      }
    },
    {
      "metadata" : {

      },
      "source" : [
        "df_population = pd.read_csv('nst-est2018-alldata.csv')\n",
        "df_states = pd.read_csv('states.csv')\n",
        "\n",
        "# drop all columns except the two necessary columns\n",
        "df_population = df_population[['NAME', 'POPESTIMATE2018']]\n",
        "\n",
        "# rename the columns to merge with df_states\n",
        "df_population.columns = ['State', 'Population']\n",
        "df_population = df_population.merge(df_states, on='State')\n",
        "\n",
        "# rename the columns again to merge with Medicare dataframes\n",
        "df_population.drop(columns = ['State'], inplace = True)\n",
        "df_population.columns = ['Population', 'State']\n",
        "\n",
        "df_condition = df_condition.merge(df_population, on='State')\n",
        "df_state = df_state.merge(df_population, on='State')"
      ],
      "cell_type" : "code",
      "execution_count" : 6,
      "outputs" : [

      ]
    },
    {
      "cell_type" : "markdown",
      "source" : [
        "Finally, we will add a column for the ratio of the amount covered by medicare to the total charges from the provider."
      ],
      "metadata" : {

      }
    },
    {
      "metadata" : {

      },
      "source" : [
        "df_state['Average % Covered'] = df_state['Average Medicare Payments'] \/ df_state['Average Covered Charges']\n",
        "df_condition['Average % Covered'] = df_condition['Average Medicare Payments'] \/ df_condition['Average Covered Charges']"
      ],
      "cell_type" : "code",
      "execution_count" : 7,
      "outputs" : [

      ]
    },
    {
      "cell_type" : "markdown",
      "source" : [
        "# Data Analysis & Results"
      ],
      "metadata" : {

      }
    },
    {
      "cell_type" : "markdown",
      "source" : [
        "Include cells that describe the steps in your data analysis."
      ],
      "metadata" : {

      }
    },
    {
      "cell_type" : "markdown",
      "source" : [
        "Set up"
      ],
      "metadata" : {

      }
    },
    {
      "metadata" : {

      },
      "source" : [
        "\n",
        "import numpy as np\n",
        "import pandas as pd\n",
        "import matplotlib.pyplot as plt\n",
        "plt.rcParams['figure.figsize'] = (17, 7) \n",
        "import seaborn as sns\n",
        "sns.set(style='white', font_scale=2) \n",
        "from scipy.stats import uniform, norm, bernoulli, poisson"
      ],
      "cell_type" : "code",
      "execution_count" : 23,
      "outputs" : [

      ]
    },
    {
      "metadata" : {
        "scrolled" : true
      },
      "source" : [
        "df_state.head()"
      ],
      "cell_type" : "code",
      "execution_count" : 25,
      "outputs" : [
        {
          "metadata" : {

          },
          "data" : {
            "text\/plain" : [
              "  State  Total Discharges  Average Covered Charges  Average Total Payments  \\\n",
              "0    AK              6142             42951.966272            14677.608214   \n",
              "1    AL            142704             32087.949258             7698.639995   \n",
              "2    AR             86769             25256.135506             7865.409244   \n",
              "3    AZ            104604             39461.670988             9785.859172   \n",
              "4    CA            474979             66541.572710            12342.045516   \n",
              "\n",
              "   Average Medicare Payments  Population  Average % Covered  \n",
              "0               12863.920692      737438           0.299496  \n",
              "1                6507.089416     4887871           0.202789  \n",
              "2                6736.541744     3013825           0.266729  \n",
              "3                8431.946484     7171646           0.213674  \n",
              "4               11189.278296    39557045           0.168155  "
            ],
            "text\/html" : [
              "<div>\n",
              "<style scoped>\n",
              "    .dataframe tbody tr th:only-of-type {\n",
              "        vertical-align: middle;\n",
              "    }\n",
              "\n",
              "    .dataframe tbody tr th {\n",
              "        vertical-align: top;\n",
              "    }\n",
              "\n",
              "    .dataframe thead th {\n",
              "        text-align: right;\n",
              "    }\n",
              "<\/style>\n",
              "<table border=\"1\" class=\"dataframe\">\n",
              "  <thead>\n",
              "    <tr style=\"text-align: right;\">\n",
              "      <th><\/th>\n",
              "      <th>State<\/th>\n",
              "      <th>Total Discharges<\/th>\n",
              "      <th>Average Covered Charges<\/th>\n",
              "      <th>Average Total Payments<\/th>\n",
              "      <th>Average Medicare Payments<\/th>\n",
              "      <th>Population<\/th>\n",
              "      <th>Average % Covered<\/th>\n",
              "    <\/tr>\n",
              "  <\/thead>\n",
              "  <tbody>\n",
              "    <tr>\n",
              "      <th>0<\/th>\n",
              "      <td>AK<\/td>\n",
              "      <td>6142<\/td>\n",
              "      <td>42951.966272<\/td>\n",
              "      <td>14677.608214<\/td>\n",
              "      <td>12863.920692<\/td>\n",
              "      <td>737438<\/td>\n",
              "      <td>0.299496<\/td>\n",
              "    <\/tr>\n",
              "    <tr>\n",
              "      <th>1<\/th>\n",
              "      <td>AL<\/td>\n",
              "      <td>142704<\/td>\n",
              "      <td>32087.949258<\/td>\n",
              "      <td>7698.639995<\/td>\n",
              "      <td>6507.089416<\/td>\n",
              "      <td>4887871<\/td>\n",
              "      <td>0.202789<\/td>\n",
              "    <\/tr>\n",
              "    <tr>\n",
              "      <th>2<\/th>\n",
              "      <td>AR<\/td>\n",
              "      <td>86769<\/td>\n",
              "      <td>25256.135506<\/td>\n",
              "      <td>7865.409244<\/td>\n",
              "      <td>6736.541744<\/td>\n",
              "      <td>3013825<\/td>\n",
              "      <td>0.266729<\/td>\n",
              "    <\/tr>\n",
              "    <tr>\n",
              "      <th>3<\/th>\n",
              "      <td>AZ<\/td>\n",
              "      <td>104604<\/td>\n",
              "      <td>39461.670988<\/td>\n",
              "      <td>9785.859172<\/td>\n",
              "      <td>8431.946484<\/td>\n",
              "      <td>7171646<\/td>\n",
              "      <td>0.213674<\/td>\n",
              "    <\/tr>\n",
              "    <tr>\n",
              "      <th>4<\/th>\n",
              "      <td>CA<\/td>\n",
              "      <td>474979<\/td>\n",
              "      <td>66541.572710<\/td>\n",
              "      <td>12342.045516<\/td>\n",
              "      <td>11189.278296<\/td>\n",
              "      <td>39557045<\/td>\n",
              "      <td>0.168155<\/td>\n",
              "    <\/tr>\n",
              "  <\/tbody>\n",
              "<\/table>\n",
              "<\/div>"
            ]
          },
          "output_type" : "execute_result",
          "execution_count" : 25
        }
      ]
    },
    {
      "metadata" : {

      },
      "source" : [
        "df_condition.head()"
      ],
      "cell_type" : "code",
      "execution_count" : 31,
      "outputs" : [
        {
          "metadata" : {

          },
          "data" : {
            "text\/plain" : [
              "                                      DRG Definition State  Total Discharges  \\\n",
              "0  190 - CHRONIC OBSTRUCTIVE PULMONARY DISEASE W MCC    AK               163   \n",
              "1             194 - SIMPLE PNEUMONIA & PLEURISY W CC    AK               320   \n",
              "2                  291 - HEART FAILURE & SHOCK W MCC    AK               111   \n",
              "3                   292 - HEART FAILURE & SHOCK W CC    AK               217   \n",
              "4  392 - ESOPHAGITIS, GASTROENT & MISC DIGEST DIS...    AK               210   \n",
              "\n",
              "   Average Covered Charges  Average Total Payments  Average Medicare Payments  \\\n",
              "0             34448.242331            12877.468712               11592.640368   \n",
              "1             24127.703344            10791.338313                9800.009219   \n",
              "2             49619.668919            15952.139910               15118.112883   \n",
              "3             32059.638157            11119.028756                9517.678111   \n",
              "4             19374.429286             7745.519619                6451.919333   \n",
              "\n",
              "   Population  Average % Covered  \n",
              "0      737438           0.336523  \n",
              "1      737438           0.406172  \n",
              "2      737438           0.304680  \n",
              "3      737438           0.296874  \n",
              "4      737438           0.333012  "
            ],
            "text\/html" : [
              "<div>\n",
              "<style scoped>\n",
              "    .dataframe tbody tr th:only-of-type {\n",
              "        vertical-align: middle;\n",
              "    }\n",
              "\n",
              "    .dataframe tbody tr th {\n",
              "        vertical-align: top;\n",
              "    }\n",
              "\n",
              "    .dataframe thead th {\n",
              "        text-align: right;\n",
              "    }\n",
              "<\/style>\n",
              "<table border=\"1\" class=\"dataframe\">\n",
              "  <thead>\n",
              "    <tr style=\"text-align: right;\">\n",
              "      <th><\/th>\n",
              "      <th>DRG Definition<\/th>\n",
              "      <th>State<\/th>\n",
              "      <th>Total Discharges<\/th>\n",
              "      <th>Average Covered Charges<\/th>\n",
              "      <th>Average Total Payments<\/th>\n",
              "      <th>Average Medicare Payments<\/th>\n",
              "      <th>Population<\/th>\n",
              "      <th>Average % Covered<\/th>\n",
              "    <\/tr>\n",
              "  <\/thead>\n",
              "  <tbody>\n",
              "    <tr>\n",
              "      <th>0<\/th>\n",
              "      <td>190 - CHRONIC OBSTRUCTIVE PULMONARY DISEASE W MCC<\/td>\n",
              "      <td>AK<\/td>\n",
              "      <td>163<\/td>\n",
              "      <td>34448.242331<\/td>\n",
              "      <td>12877.468712<\/td>\n",
              "      <td>11592.640368<\/td>\n",
              "      <td>737438<\/td>\n",
              "      <td>0.336523<\/td>\n",
              "    <\/tr>\n",
              "    <tr>\n",
              "      <th>1<\/th>\n",
              "      <td>194 - SIMPLE PNEUMONIA &amp; PLEURISY W CC<\/td>\n",
              "      <td>AK<\/td>\n",
              "      <td>320<\/td>\n",
              "      <td>24127.703344<\/td>\n",
              "      <td>10791.338313<\/td>\n",
              "      <td>9800.009219<\/td>\n",
              "      <td>737438<\/td>\n",
              "      <td>0.406172<\/td>\n",
              "    <\/tr>\n",
              "    <tr>\n",
              "      <th>2<\/th>\n",
              "      <td>291 - HEART FAILURE &amp; SHOCK W MCC<\/td>\n",
              "      <td>AK<\/td>\n",
              "      <td>111<\/td>\n",
              "      <td>49619.668919<\/td>\n",
              "      <td>15952.139910<\/td>\n",
              "      <td>15118.112883<\/td>\n",
              "      <td>737438<\/td>\n",
              "      <td>0.304680<\/td>\n",
              "    <\/tr>\n",
              "    <tr>\n",
              "      <th>3<\/th>\n",
              "      <td>292 - HEART FAILURE &amp; SHOCK W CC<\/td>\n",
              "      <td>AK<\/td>\n",
              "      <td>217<\/td>\n",
              "      <td>32059.638157<\/td>\n",
              "      <td>11119.028756<\/td>\n",
              "      <td>9517.678111<\/td>\n",
              "      <td>737438<\/td>\n",
              "      <td>0.296874<\/td>\n",
              "    <\/tr>\n",
              "    <tr>\n",
              "      <th>4<\/th>\n",
              "      <td>392 - ESOPHAGITIS, GASTROENT &amp; MISC DIGEST DIS...<\/td>\n",
              "      <td>AK<\/td>\n",
              "      <td>210<\/td>\n",
              "      <td>19374.429286<\/td>\n",
              "      <td>7745.519619<\/td>\n",
              "      <td>6451.919333<\/td>\n",
              "      <td>737438<\/td>\n",
              "      <td>0.333012<\/td>\n",
              "    <\/tr>\n",
              "  <\/tbody>\n",
              "<\/table>\n",
              "<\/div>"
            ]
          },
          "output_type" : "execute_result",
          "execution_count" : 31
        }
      ]
    },
    {
      "cell_type" : "markdown",
      "source" : [
        "Content:\n",
        "It shows up all the overall averages for each state\n",
        "\n",
        "The reason:\n",
        "1. Match the state with analysis data\n",
        "2. Prepare for the visualization\n",
        "3. Clear up the useless data"
      ],
      "metadata" : {

      }
    },
    {
      "cell_type" : "markdown",
      "source" : [
        "SIZE"
      ],
      "metadata" : {

      }
    },
    {
      "metadata" : {

      },
      "source" : [
        "df_state.shape"
      ],
      "cell_type" : "code",
      "execution_count" : 32,
      "outputs" : [
        {
          "metadata" : {

          },
          "data" : {
            "text\/plain" : [
              "(51, 7)"
            ]
          },
          "output_type" : "execute_result",
          "execution_count" : 32
        }
      ]
    },
    {
      "metadata" : {

      },
      "source" : [
        "df_condition.shape"
      ],
      "cell_type" : "code",
      "execution_count" : 33,
      "outputs" : [
        {
          "metadata" : {

          },
          "data" : {
            "text\/plain" : [
              "(510, 8)"
            ]
          },
          "output_type" : "execute_result",
          "execution_count" : 33
        }
      ]
    },
    {
      "cell_type" : "markdown",
      "source" : [
        "Reason:\n",
        "1. Give the overview of the information you have\n",
        "2. Check whether the data has read into the Python in the right way\n",
        "3. Determine the appropriation of the analyses"
      ],
      "metadata" : {

      }
    },
    {
      "cell_type" : "markdown",
      "source" : [
        "MISSING"
      ],
      "metadata" : {

      }
    },
    {
      "metadata" : {

      },
      "source" : [
        "S_rows = df_state.isnull().any(axis=1)\n",
        "df_state[rows].shape"
      ],
      "cell_type" : "code",
      "execution_count" : 99,
      "outputs" : [
        {
          "metadata" : {

          },
          "data" : {
            "text\/plain" : [
              "(0, 7)"
            ]
          },
          "output_type" : "execute_result",
          "execution_count" : 99
        }
      ]
    },
    {
      "metadata" : {

      },
      "source" : [
        "C_rows = df_condition.isnull().any(axis=1)\n",
        "df_condition[C_rows].shape"
      ],
      "cell_type" : "code",
      "execution_count" : 100,
      "outputs" : [
        {
          "metadata" : {

          },
          "data" : {
            "text\/plain" : [
              "(0, 8)"
            ]
          },
          "output_type" : "execute_result",
          "execution_count" : 100
        }
      ]
    },
    {
      "cell_type" : "markdown",
      "source" : [
        "Reason:\n",
        "1. Make sure no value missing\n",
        "2. Missing value could happen randomly"
      ],
      "metadata" : {

      }
    },
    {
      "metadata" : {

      },
      "source" : [
        "df_state.columns[df_state.isnull().any(axis=0)]"
      ],
      "cell_type" : "code",
      "execution_count" : 101,
      "outputs" : [
        {
          "metadata" : {

          },
          "data" : {
            "text\/plain" : [
              "Index([], dtype='object')"
            ]
          },
          "output_type" : "execute_result",
          "execution_count" : 101
        }
      ]
    },
    {
      "metadata" : {

      },
      "source" : [
        "df_condition.columns[df_state.isnull().any(axis=0)]"
      ],
      "cell_type" : "code",
      "execution_count" : 102,
      "outputs" : [
        {
          "name" : "stderr",
          "text" : [
            "\/opt\/conda\/lib\/python3.6\/site-packages\/pandas\/core\/indexes\/base.py:2095: VisibleDeprecationWarning: boolean index did not match indexed array along dimension 0; dimension is 8 but corresponding boolean dimension is 7\n",
            "  result = getitem(key)\n"
          ],
          "output_type" : "stream"
        },
        {
          "metadata" : {

          },
          "data" : {
            "text\/plain" : [
              "Index([], dtype='object')"
            ]
          },
          "output_type" : "execute_result",
          "execution_count" : 102
        }
      ]
    },
    {
      "metadata" : {

      },
      "source" : [
        "df_state.isnull().sum()"
      ],
      "cell_type" : "code",
      "execution_count" : 103,
      "outputs" : [
        {
          "metadata" : {

          },
          "data" : {
            "text\/plain" : [
              "State                        0\n",
              "Total Discharges             0\n",
              "Average Covered Charges      0\n",
              "Average Total Payments       0\n",
              "Average Medicare Payments    0\n",
              "Population                   0\n",
              "Average % Covered            0\n",
              "dtype: int64"
            ]
          },
          "output_type" : "execute_result",
          "execution_count" : 103
        }
      ]
    },
    {
      "metadata" : {

      },
      "source" : [
        "df_state.isnull().sum()"
      ],
      "cell_type" : "code",
      "execution_count" : 104,
      "outputs" : [
        {
          "metadata" : {

          },
          "data" : {
            "text\/plain" : [
              "State                        0\n",
              "Total Discharges             0\n",
              "Average Covered Charges      0\n",
              "Average Total Payments       0\n",
              "Average Medicare Payments    0\n",
              "Population                   0\n",
              "Average % Covered            0\n",
              "dtype: int64"
            ]
          },
          "output_type" : "execute_result",
          "execution_count" : 104
        }
      ]
    },
    {
      "cell_type" : "markdown",
      "source" : [
        "MEDIAA, MEAA, RANGE"
      ],
      "metadata" : {

      }
    },
    {
      "metadata" : {

      },
      "source" : [
        "df_state.median()"
      ],
      "cell_type" : "code",
      "execution_count" : 105,
      "outputs" : [
        {
          "metadata" : {

          },
          "data" : {
            "text\/plain" : [
              "Total Discharges             9.625800e+04\n",
              "Average Covered Charges      2.997421e+04\n",
              "Average Total Payments       9.577254e+03\n",
              "Average Medicare Payments    8.192004e+03\n",
              "Population                   4.468402e+06\n",
              "Average % Covered            2.833274e-01\n",
              "dtype: float64"
            ]
          },
          "output_type" : "execute_result",
          "execution_count" : 105
        }
      ]
    },
    {
      "metadata" : {

      },
      "source" : [
        "df_condition.median()"
      ],
      "cell_type" : "code",
      "execution_count" : 106,
      "outputs" : [
        {
          "metadata" : {

          },
          "data" : {
            "text\/plain" : [
              "Total Discharges             2.803000e+03\n",
              "Average Covered Charges      2.212252e+04\n",
              "Average Total Payments       7.185075e+03\n",
              "Average Medicare Payments    6.135001e+03\n",
              "Population                   4.468402e+06\n",
              "Average % Covered            2.801941e-01\n",
              "dtype: float64"
            ]
          },
          "output_type" : "execute_result",
          "execution_count" : 106
        }
      ]
    },
    {
      "metadata" : {

      },
      "source" : [
        "df_state.mean()"
      ],
      "cell_type" : "code",
      "execution_count" : 107,
      "outputs" : [
        {
          "metadata" : {

          },
          "data" : {
            "text\/plain" : [
              "Total Discharges             1.367709e+05\n",
              "Average Covered Charges      3.172170e+04\n",
              "Average Total Payments       9.820840e+03\n",
              "Average Medicare Payments    8.473373e+03\n",
              "Population                   6.415048e+06\n",
              "Average % Covered            2.895403e-01\n",
              "dtype: float64"
            ]
          },
          "output_type" : "execute_result",
          "execution_count" : 107
        }
      ]
    },
    {
      "metadata" : {

      },
      "source" : [
        "df_condition.mean()"
      ],
      "cell_type" : "code",
      "execution_count" : 108,
      "outputs" : [
        {
          "metadata" : {

          },
          "data" : {
            "text\/plain" : [
              "Total Discharges             4.426737e+03\n",
              "Average Covered Charges      2.644126e+04\n",
              "Average Total Payments       8.382098e+03\n",
              "Average Medicare Payments    7.222726e+03\n",
              "Population                   6.415048e+06\n",
              "Average % Covered            2.954297e-01\n",
              "dtype: float64"
            ]
          },
          "output_type" : "execute_result",
          "execution_count" : 108
        }
      ]
    },
    {
      "metadata" : {

      },
      "source" : [
        "s_max=df_state['Average % Covered'].max()\n",
        "s_min=df_state['Average % Covered'].min()\n",
        "s_range= s_max-s_min\n",
        "print(s_max,'-',s_min,'=',s_range)\n",
        "\n",
        "s_max1=df_state['Total Discharges'].max()\n",
        "s_min1=df_state['Total Discharges'].min()\n",
        "s_range1= s_max1-s_min1\n",
        "print(s_max1,'-',s_min1,'=',s_range1)"
      ],
      "cell_type" : "code",
      "execution_count" : 128,
      "outputs" : [
        {
          "name" : "stdout",
          "text" : [
            "0.853637203027 - 0.143389603028 = 0.710247599999\n",
            "536859 - 6142 = 530717\n"
          ],
          "output_type" : "stream"
        }
      ]
    },
    {
      "cell_type" : "markdown",
      "source" : [

      ],
      "metadata" : {

      }
    },
    {
      "cell_type" : "markdown",
      "source" : [
        "IQR(interquartile Range)"
      ],
      "metadata" : {

      }
    },
    {
      "metadata" : {

      },
      "source" : [
        "low, up = np.percentile(df_state['Total Discharges'], [0,100])\n",
        "low, up"
      ],
      "cell_type" : "code",
      "execution_count" : 130,
      "outputs" : [
        {
          "metadata" : {

          },
          "data" : {
            "text\/plain" : [
              "(6142.0, 536859.0)"
            ]
          },
          "output_type" : "execute_result",
          "execution_count" : 130
        }
      ]
    },
    {
      "metadata" : {

      },
      "source" : [
        "iqr = up - low\n",
        "iqr"
      ],
      "cell_type" : "code",
      "execution_count" : 131,
      "outputs" : [
        {
          "metadata" : {

          },
          "data" : {
            "text\/plain" : [
              "530717.0"
            ]
          },
          "output_type" : "execute_result",
          "execution_count" : 131
        }
      ]
    },
    {
      "metadata" : {

      },
      "source" : [
        "df_state.boxplot(column='Total Discharges');"
      ],
      "cell_type" : "code",
      "execution_count" : 132,
      "outputs" : [
        {
          "output_type" : "display_data",
          "data" : {
            "text\/plain" : [
              "<Figure size 1224x504 with 1 Axes>"
            ],
            "image\/png" : "[encoded data removed]"
          },
          "metadata" : {

          }
        }
      ]
    },
    {
      "metadata" : {

      },
      "source" : [
        "df_state.describe()"
      ],
      "cell_type" : "code",
      "execution_count" : 114,
      "outputs" : [
        {
          "metadata" : {

          },
          "data" : {
            "text\/plain" : [
              "       Total Discharges  Average Covered Charges  Average Total Payments  \\\n",
              "count         51.000000                51.000000               51.000000   \n",
              "mean      136770.941176             31721.703026             9820.840340   \n",
              "std       136373.001344              9883.227277             1455.670820   \n",
              "min         6142.000000             12526.838236             7698.639995   \n",
              "25%        27672.000000             26036.436405             8690.971388   \n",
              "50%        96258.000000             29974.207598             9577.254318   \n",
              "75%       190153.500000             33471.699913            10438.062550   \n",
              "max       536859.000000             66541.572710            14677.608214   \n",
              "\n",
              "       Average Medicare Payments    Population  Average % Covered  \n",
              "count                  51.000000  5.100000e+01          51.000000  \n",
              "mean                 8473.372951  6.415048e+06           0.289540  \n",
              "std                  1353.143741  7.343308e+06           0.107716  \n",
              "min                  6507.089416  5.777370e+05           0.143390  \n",
              "25%                  7421.887800  1.780020e+06           0.234108  \n",
              "50%                  8192.004130  4.468402e+06           0.283327  \n",
              "75%                  8971.237964  7.353618e+06           0.324085  \n",
              "max                 12863.920692  3.955704e+07           0.853637  "
            ],
            "text\/html" : [
              "<div>\n",
              "<style scoped>\n",
              "    .dataframe tbody tr th:only-of-type {\n",
              "        vertical-align: middle;\n",
              "    }\n",
              "\n",
              "    .dataframe tbody tr th {\n",
              "        vertical-align: top;\n",
              "    }\n",
              "\n",
              "    .dataframe thead th {\n",
              "        text-align: right;\n",
              "    }\n",
              "<\/style>\n",
              "<table border=\"1\" class=\"dataframe\">\n",
              "  <thead>\n",
              "    <tr style=\"text-align: right;\">\n",
              "      <th><\/th>\n",
              "      <th>Total Discharges<\/th>\n",
              "      <th>Average Covered Charges<\/th>\n",
              "      <th>Average Total Payments<\/th>\n",
              "      <th>Average Medicare Payments<\/th>\n",
              "      <th>Population<\/th>\n",
              "      <th>Average % Covered<\/th>\n",
              "    <\/tr>\n",
              "  <\/thead>\n",
              "  <tbody>\n",
              "    <tr>\n",
              "      <th>count<\/th>\n",
              "      <td>51.000000<\/td>\n",
              "      <td>51.000000<\/td>\n",
              "      <td>51.000000<\/td>\n",
              "      <td>51.000000<\/td>\n",
              "      <td>5.100000e+01<\/td>\n",
              "      <td>51.000000<\/td>\n",
              "    <\/tr>\n",
              "    <tr>\n",
              "      <th>mean<\/th>\n",
              "      <td>136770.941176<\/td>\n",
              "      <td>31721.703026<\/td>\n",
              "      <td>9820.840340<\/td>\n",
              "      <td>8473.372951<\/td>\n",
              "      <td>6.415048e+06<\/td>\n",
              "      <td>0.289540<\/td>\n",
              "    <\/tr>\n",
              "    <tr>\n",
              "      <th>std<\/th>\n",
              "      <td>136373.001344<\/td>\n",
              "      <td>9883.227277<\/td>\n",
              "      <td>1455.670820<\/td>\n",
              "      <td>1353.143741<\/td>\n",
              "      <td>7.343308e+06<\/td>\n",
              "      <td>0.107716<\/td>\n",
              "    <\/tr>\n",
              "    <tr>\n",
              "      <th>min<\/th>\n",
              "      <td>6142.000000<\/td>\n",
              "      <td>12526.838236<\/td>\n",
              "      <td>7698.639995<\/td>\n",
              "      <td>6507.089416<\/td>\n",
              "      <td>5.777370e+05<\/td>\n",
              "      <td>0.143390<\/td>\n",
              "    <\/tr>\n",
              "    <tr>\n",
              "      <th>25%<\/th>\n",
              "      <td>27672.000000<\/td>\n",
              "      <td>26036.436405<\/td>\n",
              "      <td>8690.971388<\/td>\n",
              "      <td>7421.887800<\/td>\n",
              "      <td>1.780020e+06<\/td>\n",
              "      <td>0.234108<\/td>\n",
              "    <\/tr>\n",
              "    <tr>\n",
              "      <th>50%<\/th>\n",
              "      <td>96258.000000<\/td>\n",
              "      <td>29974.207598<\/td>\n",
              "      <td>9577.254318<\/td>\n",
              "      <td>8192.004130<\/td>\n",
              "      <td>4.468402e+06<\/td>\n",
              "      <td>0.283327<\/td>\n",
              "    <\/tr>\n",
              "    <tr>\n",
              "      <th>75%<\/th>\n",
              "      <td>190153.500000<\/td>\n",
              "      <td>33471.699913<\/td>\n",
              "      <td>10438.062550<\/td>\n",
              "      <td>8971.237964<\/td>\n",
              "      <td>7.353618e+06<\/td>\n",
              "      <td>0.324085<\/td>\n",
              "    <\/tr>\n",
              "    <tr>\n",
              "      <th>max<\/th>\n",
              "      <td>536859.000000<\/td>\n",
              "      <td>66541.572710<\/td>\n",
              "      <td>14677.608214<\/td>\n",
              "      <td>12863.920692<\/td>\n",
              "      <td>3.955704e+07<\/td>\n",
              "      <td>0.853637<\/td>\n",
              "    <\/tr>\n",
              "  <\/tbody>\n",
              "<\/table>\n",
              "<\/div>"
            ]
          },
          "output_type" : "execute_result",
          "execution_count" : 114
        }
      ]
    },
    {
      "metadata" : {

      },
      "source" : [
        "df_condition.describe()"
      ],
      "cell_type" : "code",
      "execution_count" : 115,
      "outputs" : [
        {
          "metadata" : {

          },
          "data" : {
            "text\/plain" : [
              "       Total Discharges  Average Covered Charges  Average Total Payments  \\\n",
              "count        510.000000               510.000000              510.000000   \n",
              "mean        4426.737255             26441.257100             8382.098266   \n",
              "std         4902.784534             13718.437845             3511.466525   \n",
              "min           80.000000              7083.192407             4040.240772   \n",
              "25%          853.500000             16659.332012             5920.051488   \n",
              "50%         2803.000000             22122.518814             7185.074704   \n",
              "75%         6122.750000             32780.892360            10480.887518   \n",
              "max        34284.000000             90122.480767            21160.936960   \n",
              "\n",
              "       Average Medicare Payments    Population  Average % Covered  \n",
              "count                 510.000000  5.100000e+02         510.000000  \n",
              "mean                 7222.726177  6.415048e+06           0.295430  \n",
              "std                  3244.881417  7.278097e+06           0.112333  \n",
              "min                  3079.473446  5.777370e+05           0.115372  \n",
              "25%                  4891.713484  1.754208e+06           0.230998  \n",
              "50%                  6135.001326  4.468402e+06           0.280194  \n",
              "75%                  9491.254150  7.535591e+06           0.333011  \n",
              "max                 18645.465059  3.955704e+07           0.886906  "
            ],
            "text\/html" : [
              "<div>\n",
              "<style scoped>\n",
              "    .dataframe tbody tr th:only-of-type {\n",
              "        vertical-align: middle;\n",
              "    }\n",
              "\n",
              "    .dataframe tbody tr th {\n",
              "        vertical-align: top;\n",
              "    }\n",
              "\n",
              "    .dataframe thead th {\n",
              "        text-align: right;\n",
              "    }\n",
              "<\/style>\n",
              "<table border=\"1\" class=\"dataframe\">\n",
              "  <thead>\n",
              "    <tr style=\"text-align: right;\">\n",
              "      <th><\/th>\n",
              "      <th>Total Discharges<\/th>\n",
              "      <th>Average Covered Charges<\/th>\n",
              "      <th>Average Total Payments<\/th>\n",
              "      <th>Average Medicare Payments<\/th>\n",
              "      <th>Population<\/th>\n",
              "      <th>Average % Covered<\/th>\n",
              "    <\/tr>\n",
              "  <\/thead>\n",
              "  <tbody>\n",
              "    <tr>\n",
              "      <th>count<\/th>\n",
              "      <td>510.000000<\/td>\n",
              "      <td>510.000000<\/td>\n",
              "      <td>510.000000<\/td>\n",
              "      <td>510.000000<\/td>\n",
              "      <td>5.100000e+02<\/td>\n",
              "      <td>510.000000<\/td>\n",
              "    <\/tr>\n",
              "    <tr>\n",
              "      <th>mean<\/th>\n",
              "      <td>4426.737255<\/td>\n",
              "      <td>26441.257100<\/td>\n",
              "      <td>8382.098266<\/td>\n",
              "      <td>7222.726177<\/td>\n",
              "      <td>6.415048e+06<\/td>\n",
              "      <td>0.295430<\/td>\n",
              "    <\/tr>\n",
              "    <tr>\n",
              "      <th>std<\/th>\n",
              "      <td>4902.784534<\/td>\n",
              "      <td>13718.437845<\/td>\n",
              "      <td>3511.466525<\/td>\n",
              "      <td>3244.881417<\/td>\n",
              "      <td>7.278097e+06<\/td>\n",
              "      <td>0.112333<\/td>\n",
              "    <\/tr>\n",
              "    <tr>\n",
              "      <th>min<\/th>\n",
              "      <td>80.000000<\/td>\n",
              "      <td>7083.192407<\/td>\n",
              "      <td>4040.240772<\/td>\n",
              "      <td>3079.473446<\/td>\n",
              "      <td>5.777370e+05<\/td>\n",
              "      <td>0.115372<\/td>\n",
              "    <\/tr>\n",
              "    <tr>\n",
              "      <th>25%<\/th>\n",
              "      <td>853.500000<\/td>\n",
              "      <td>16659.332012<\/td>\n",
              "      <td>5920.051488<\/td>\n",
              "      <td>4891.713484<\/td>\n",
              "      <td>1.754208e+06<\/td>\n",
              "      <td>0.230998<\/td>\n",
              "    <\/tr>\n",
              "    <tr>\n",
              "      <th>50%<\/th>\n",
              "      <td>2803.000000<\/td>\n",
              "      <td>22122.518814<\/td>\n",
              "      <td>7185.074704<\/td>\n",
              "      <td>6135.001326<\/td>\n",
              "      <td>4.468402e+06<\/td>\n",
              "      <td>0.280194<\/td>\n",
              "    <\/tr>\n",
              "    <tr>\n",
              "      <th>75%<\/th>\n",
              "      <td>6122.750000<\/td>\n",
              "      <td>32780.892360<\/td>\n",
              "      <td>10480.887518<\/td>\n",
              "      <td>9491.254150<\/td>\n",
              "      <td>7.535591e+06<\/td>\n",
              "      <td>0.333011<\/td>\n",
              "    <\/tr>\n",
              "    <tr>\n",
              "      <th>max<\/th>\n",
              "      <td>34284.000000<\/td>\n",
              "      <td>90122.480767<\/td>\n",
              "      <td>21160.936960<\/td>\n",
              "      <td>18645.465059<\/td>\n",
              "      <td>3.955704e+07<\/td>\n",
              "      <td>0.886906<\/td>\n",
              "    <\/tr>\n",
              "  <\/tbody>\n",
              "<\/table>\n",
              "<\/div>"
            ]
          },
          "output_type" : "execute_result",
          "execution_count" : 115
        }
      ]
    },
    {
      "metadata" : {

      },
      "source" : [
        "dis1= np.random.normal(6, 3, 1000)\n",
        "dis2= np.random.normal(6, 8, 1000)"
      ],
      "cell_type" : "code",
      "execution_count" : 112,
      "outputs" : [

      ]
    },
    {
      "metadata" : {

      },
      "source" : [
        "sns.kdeplot(dis1, label=\"mean: 6, sd: 3\")\n",
        "sns.kdeplot(dis2, label=\"mean: 6, sd: 8\")\n",
        "plt.legend();"
      ],
      "cell_type" : "code",
      "execution_count" : 83,
      "outputs" : [
        {
          "output_type" : "display_data",
          "data" : {
            "text\/plain" : [
              "<Figure size 1224x504 with 1 Axes>"
            ],
            "image\/png" : "[encoded data removed]"
          },
          "metadata" : {

          }
        }
      ]
    },
    {
      "cell_type" : "markdown",
      "source" : [

      ],
      "metadata" : {

      }
    },
    {
      "cell_type" : "markdown",
      "source" : [
        "# Ethics & Privacy"
      ],
      "metadata" : {

      }
    },
    {
      "cell_type" : "markdown",
      "source" : [
        "The stakeholders in the hypothesis we are investigating include medical insurance companies and people who receive medicare. It is unlikely that the information we will gain could be co-opted for nefarious purposes. The data we are using is collected from across over 3,000 U.S. hospitals that received Medicare payments, where the information is limited to the locations of the hospital and the provider and the amount covered. The patients’ data is kept anonymous.\n",
        "\n",
        "Before we analyze the dataset, we make sure all the resource has permission fromt the owner. In the Dataset Description part, we knowledge each dataset's owner and website to ensure they get the credits for their contribution. All the information that we used in this project is open sources. In other owrds, it is free for all the people to access to reengage with the coding or data structure. \n",
        "\n",
        "The privacy concerns are related to the patients' information in the first data. It may have the potential bias when the data information are classified by diseases: the developers of dataset or we may involve with the personal feeling, which can cause the unfair outcome. However, overall, I think this dataset should be a fine for us to apply in those follwoing reasons. From our prespective, as we mentioned previsouly, the recognizable personal informaiton is anonymous. \n",
        "\n",
        "It means that althought we are able to access the disease and payment details, we can't identify the person. Hence, it would not lead to the issues of　invasion privacy. We would able to deal with the dataset without bias. First data set  \"Inpatient Prospective Payment System (IPPS) Provider\" is provided by the website called 'Data.Cvs.gov':'A federal government website managed by the Centers for Medicare & Medicaid Services'. In this case, the data and information are collected by the perfessonal government center, which shows certain reliability and trustworty of the information sources. It should be past through in the legit way.  \n",
        "\n",
        "Hence, the data could be served in education purpose and to inform the public. Given on that situation, I think the first dataset would allow us to apply those data information with equitable analysis. \n",
        "\n",
        "In the second dataset, it involves with population, Birth Rate, Death Rate and Common wealth in each states.Compared to the first dataset, it is less personal targeting but more overall states' situation. Hence, it would allow us to deeply analyze and respect the datas collected by each states' governments. It didn't target to any specific class, race or gender. Indeed, there are still potential biases: in this case, we can't guarantee that each state government would report the accurate data, when it comes with the change of population. The accuracy of postestimate population could be affected by the serveral factors: such as the undocumented people or human trafficking etc. \n",
        "\n",
        "This may lead to the potential biases because the dataset of popluation can't and didn't include these marginalized groups of people into considerations. Hence, the dataset of population change may fully reflect the real world situtaion in each states. These issues are out of our capability to handle and can't solved by us; Therefore, we acknownledge thess potential biases in the Ethics & Privacy section to present our thinking and concerns to these groups of people.\n",
        "\n",
        "The third dataset are more like the commonsense hence it does not involve with the privacy issues or potential biases."
      ],
      "metadata" : {

      }
    },
    {
      "metadata" : {

      },
      "source" : [

      ],
      "cell_type" : "code",
      "execution_count" : null,
      "outputs" : [

      ]
    },
    {
      "cell_type" : "markdown",
      "source" : [
        "# Conclusion & Discussion"
      ],
      "metadata" : {

      }
    },
    {
      "cell_type" : "markdown",
      "source" : [
        "*Fill in your discussion information here*"
      ],
      "metadata" : {

      }
    }
  ]
}