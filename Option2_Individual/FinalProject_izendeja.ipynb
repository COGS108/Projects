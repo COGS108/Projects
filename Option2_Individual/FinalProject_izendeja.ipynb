{
 "cells": [
  {
   "cell_type": "markdown",
   "metadata": {},
   "source": [
    "# COGS 108 - Final Project "
   ]
  },
  {
   "cell_type": "markdown",
   "metadata": {},
   "source": [
    "# Overview"
   ]
  },
  {
   "attachments": {},
   "cell_type": "markdown",
   "metadata": {},
   "source": [
    "This project is aimed at determining whether or not there is a relationship between the reported number of violations by an inspector and the number of safety inspections they have completed that day. Two datasets were used and contained the data of thousands of food inspections conducted in Wake County. These were cleaned and processed so that the most relevant information could be merged and used to analyze any relationships between number of violations reported and the number of inspections conducted in a day and by one inspector. "
   ]
  },
  {
   "cell_type": "markdown",
   "metadata": {},
   "source": [
    "# Name & GitHub\n",
    "\n",
    "- Name: Isabella Zendejas\n",
    "- GitHub Username: izendeja\n",
    "- PID: A15065059"
   ]
  },
  {
   "cell_type": "markdown",
   "metadata": {},
   "source": [
    "# Research Question"
   ]
  },
  {
   "cell_type": "markdown",
   "metadata": {},
   "source": [
    "Is there a relationship between the reported number of violations by an inspector and the number of safety inspections they have completed that day? "
   ]
  },
  {
   "cell_type": "markdown",
   "metadata": {},
   "source": [
    "## Background and Prior Work"
   ]
  },
  {
   "cell_type": "markdown",
   "metadata": {},
   "source": [
    "An article from foodsafetynews.com explained the findings of Harvard researchers regarding the impact of safety inspectors' schedules on the number of violations reported. They concluded that there is a tendency for inspectors to become careless and fail to report violations if they are expected to review a lot of establishments in a day: \"On average, inspectors cited fewer violations at each successive establishment inspected throughout the day, the researchers found.\" \n",
    "\t\n",
    "The issue of budget cuts was addressed in articles from foodsafetymagazine.com and dininggrades.com. They explained how nationwide budget cuts has a causal relationship with the impacted schedules of safety inspectors. When budget cuts are made, jobs are lost and fewer inspectors are available to manage the same workload within the same time frame. \n",
    "\t\n",
    "The Spokesman-Review wrote about the negative effects of budget cuts on public health and specifically for food-safety inspections. With the decrease in food-inspector jobs and the mass number of businesses that needed inspections, it was apparent that the process was highly susceptible to mistakes and overlooked violations: “On any given day, nine food safety inspectors fan out across Spokane County conducting surprise visits to about 2,300 businesses that serve food.”\n",
    "\n",
    "References (include links):\n",
    "- 1) https://www.foodsafetynews.com/2018/05/harvard-researchers-say-fixing-food-safety-inspectors-schedules-could-end-many-violations/  \n",
    "\n",
    "- 2) https://www.foodsafetymagazine.com/enewsletter/challenges-of-health-department-food-safety-inspections/\n",
    "\n",
    "- 3) https://www.dininggrades.com/blog/problems-with-restaurant-food-safety-grading/\n",
    "    \n",
    "- 4)  https://www.spokesman.com/stories/2011/nov/13/critical-condition/![image.png](attachment:image.png)\n"
   ]
  },
  {
   "cell_type": "markdown",
   "metadata": {},
   "source": [
    "# Hypothesis\n"
   ]
  },
  {
   "cell_type": "markdown",
   "metadata": {},
   "source": [
    "My background research suggests that the schedule of a food-inspector should have a high correlation with the number of violations they report because an increased number of bookings requires that less time be spent at each business. For this reason, I expect that the average number of violations that an inspector reports has a negative correlation with the number of inspections they completed within that same day. \n"
   ]
  },
  {
   "cell_type": "markdown",
   "metadata": {},
   "source": [
    "# Dataset(s)"
   ]
  },
  {
   "cell_type": "markdown",
   "metadata": {},
   "source": [
    "\n",
    "- Dataset Name: Inspections\n",
    "- Link to the dataset: (provided)\n",
    "- Number of observations: 18466 \n",
    "- Description: Table including a random sample of data collected from all Wake County sanitation inspections from September 20, 2012 to November of 2016. Relevant information to the research question include the identification for each restaurant, date and type of inspection, and the identification of the inspector.\n",
    "\n",
    "\n",
    "- Dataset Name: Violations\n",
    "- Link to the dataset: (provided)\n",
    "- Number of observations: 189803\n",
    "- Description: Table including a random sample of data collected from all violations identified during Wake County sanitations inspections since September 20, 2012. Provides further description of the identified violations from the inspections.\n",
    "\n",
    "\n",
    "- Combining datasets: I will use the hsisd, inspection date, and inspector id/name to match the data from the Inspections and Violations tables so that I have a combined table with all information for each recorded inspection. Any inspections that are not recorded in both tables will be excluded from the final dataset. \n"
   ]
  },
  {
   "cell_type": "markdown",
   "metadata": {},
   "source": [
    "# Setup"
   ]
  },
  {
   "cell_type": "code",
   "execution_count": 1,
   "metadata": {},
   "outputs": [],
   "source": [
    "%matplotlib inline\n",
    "\n",
    "import numpy as np\n",
    "import pandas as pd\n",
    "import matplotlib.pyplot as plt\n",
    "\n",
    "import seaborn as sns\n",
    "sns.set()\n",
    "sns.set_context('talk')\n",
    "\n",
    "import warnings\n",
    "warnings.filterwarnings('ignore')\n",
    "\n",
    "import patsy\n",
    "import statsmodels.api as sm\n",
    "import scipy.stats as stats\n",
    "from scipy.stats import ttest_ind, chisquare, normaltest\n"
   ]
  },
  {
   "cell_type": "markdown",
   "metadata": {},
   "source": [
    "# Data Cleaning"
   ]
  },
  {
   "cell_type": "markdown",
   "metadata": {},
   "source": [
    "###  Load the data\n",
    "Import csv files into dataframes."
   ]
  },
  {
   "cell_type": "code",
   "execution_count": 2,
   "metadata": {},
   "outputs": [
    {
     "data": {
      "text/html": [
       "<div>\n",
       "<style scoped>\n",
       "    .dataframe tbody tr th:only-of-type {\n",
       "        vertical-align: middle;\n",
       "    }\n",
       "\n",
       "    .dataframe tbody tr th {\n",
       "        vertical-align: top;\n",
       "    }\n",
       "\n",
       "    .dataframe thead th {\n",
       "        text-align: right;\n",
       "    }\n",
       "</style>\n",
       "<table border=\"1\" class=\"dataframe\">\n",
       "  <thead>\n",
       "    <tr style=\"text-align: right;\">\n",
       "      <th></th>\n",
       "      <th>inspectionid</th>\n",
       "      <th>hsisid</th>\n",
       "      <th>date</th>\n",
       "      <th>name</th>\n",
       "      <th>address1</th>\n",
       "      <th>address2</th>\n",
       "      <th>city</th>\n",
       "      <th>state</th>\n",
       "      <th>postalcode</th>\n",
       "      <th>phonenumber</th>\n",
       "      <th>...</th>\n",
       "      <th>num_non_critical</th>\n",
       "      <th>num_critical_previous</th>\n",
       "      <th>num_non_critical_previous</th>\n",
       "      <th>num_critical_mean_previous</th>\n",
       "      <th>num_non_critical_mean_previous</th>\n",
       "      <th>avg_neighbor_num_critical</th>\n",
       "      <th>avg_neighbor_num_non_critical</th>\n",
       "      <th>top_match</th>\n",
       "      <th>second_match</th>\n",
       "      <th>critical</th>\n",
       "    </tr>\n",
       "  </thead>\n",
       "  <tbody>\n",
       "    <tr>\n",
       "      <th>0</th>\n",
       "      <td>0</td>\n",
       "      <td>4092013748</td>\n",
       "      <td>2012-09-21T00:00:00Z</td>\n",
       "      <td>Cafe 3000 At Wake Med</td>\n",
       "      <td>3000 New Bern Ave</td>\n",
       "      <td>NaN</td>\n",
       "      <td>raleigh</td>\n",
       "      <td>NC</td>\n",
       "      <td>27610</td>\n",
       "      <td>(919) 350-8047</td>\n",
       "      <td>...</td>\n",
       "      <td>7</td>\n",
       "      <td>NaN</td>\n",
       "      <td>NaN</td>\n",
       "      <td>NaN</td>\n",
       "      <td>NaN</td>\n",
       "      <td>NaN</td>\n",
       "      <td>NaN</td>\n",
       "      <td>NaN</td>\n",
       "      <td>NaN</td>\n",
       "      <td>1</td>\n",
       "    </tr>\n",
       "    <tr>\n",
       "      <th>1</th>\n",
       "      <td>1</td>\n",
       "      <td>4092014046</td>\n",
       "      <td>2012-09-21T00:00:00Z</td>\n",
       "      <td>Overtime Sports Pub</td>\n",
       "      <td>1030-149 N Rogers Ln</td>\n",
       "      <td>NaN</td>\n",
       "      <td>raleigh</td>\n",
       "      <td>NC</td>\n",
       "      <td>27610</td>\n",
       "      <td>(919) 255-9556</td>\n",
       "      <td>...</td>\n",
       "      <td>11</td>\n",
       "      <td>NaN</td>\n",
       "      <td>NaN</td>\n",
       "      <td>NaN</td>\n",
       "      <td>NaN</td>\n",
       "      <td>NaN</td>\n",
       "      <td>NaN</td>\n",
       "      <td>NaN</td>\n",
       "      <td>NaN</td>\n",
       "      <td>0</td>\n",
       "    </tr>\n",
       "  </tbody>\n",
       "</table>\n",
       "<p>2 rows × 37 columns</p>\n",
       "</div>"
      ],
      "text/plain": [
       "   inspectionid      hsisid                  date                   name  \\\n",
       "0             0  4092013748  2012-09-21T00:00:00Z  Cafe 3000 At Wake Med   \n",
       "1             1  4092014046  2012-09-21T00:00:00Z    Overtime Sports Pub   \n",
       "\n",
       "               address1 address2     city state postalcode     phonenumber  \\\n",
       "0     3000 New Bern Ave      NaN  raleigh    NC      27610  (919) 350-8047   \n",
       "1  1030-149 N Rogers Ln      NaN  raleigh    NC      27610  (919) 255-9556   \n",
       "\n",
       "   ... num_non_critical  num_critical_previous num_non_critical_previous  \\\n",
       "0  ...                7                    NaN                       NaN   \n",
       "1  ...               11                    NaN                       NaN   \n",
       "\n",
       "   num_critical_mean_previous  num_non_critical_mean_previous  \\\n",
       "0                         NaN                             NaN   \n",
       "1                         NaN                             NaN   \n",
       "\n",
       "  avg_neighbor_num_critical  avg_neighbor_num_non_critical top_match  \\\n",
       "0                       NaN                            NaN       NaN   \n",
       "1                       NaN                            NaN       NaN   \n",
       "\n",
       "  second_match critical  \n",
       "0          NaN        1  \n",
       "1          NaN        0  \n",
       "\n",
       "[2 rows x 37 columns]"
      ]
     },
     "execution_count": 2,
     "metadata": {},
     "output_type": "execute_result"
    }
   ],
   "source": [
    "insp_df = pd.read_csv(\"inspections.csv\")\n",
    "viol_df = pd.read_csv(\"violations.csv\")\n",
    "\n",
    "insp_df.insert(0, \"inspectionid\", insp_df.index)\n",
    "\n",
    "insp_df.head(2)\n"
   ]
  },
  {
   "cell_type": "markdown",
   "metadata": {},
   "source": [
    "### Drop columns that are not relevant to research question\n",
    "\n",
    "We only need columns that provide data that can be used to match corresponding inspections across both tables and that are directly related to research question. "
   ]
  },
  {
   "cell_type": "code",
   "execution_count": 3,
   "metadata": {},
   "outputs": [
    {
     "data": {
      "text/html": [
       "<div>\n",
       "<style scoped>\n",
       "    .dataframe tbody tr th:only-of-type {\n",
       "        vertical-align: middle;\n",
       "    }\n",
       "\n",
       "    .dataframe tbody tr th {\n",
       "        vertical-align: top;\n",
       "    }\n",
       "\n",
       "    .dataframe thead th {\n",
       "        text-align: right;\n",
       "    }\n",
       "</style>\n",
       "<table border=\"1\" class=\"dataframe\">\n",
       "  <thead>\n",
       "    <tr style=\"text-align: right;\">\n",
       "      <th></th>\n",
       "      <th>inspectionid</th>\n",
       "      <th>hsisid</th>\n",
       "      <th>date</th>\n",
       "      <th>description</th>\n",
       "      <th>inspectedby</th>\n",
       "      <th>inspection_num</th>\n",
       "      <th>inspector_id</th>\n",
       "    </tr>\n",
       "  </thead>\n",
       "  <tbody>\n",
       "    <tr>\n",
       "      <th>0</th>\n",
       "      <td>0</td>\n",
       "      <td>4092013748</td>\n",
       "      <td>2012-09-21T00:00:00Z</td>\n",
       "      <td>This facility cooks eggs to order in Grill sta...</td>\n",
       "      <td>Melissa Harrison</td>\n",
       "      <td>1</td>\n",
       "      <td>27.0</td>\n",
       "    </tr>\n",
       "    <tr>\n",
       "      <th>1</th>\n",
       "      <td>1</td>\n",
       "      <td>4092014046</td>\n",
       "      <td>2012-09-21T00:00:00Z</td>\n",
       "      <td>NaN</td>\n",
       "      <td>Christopher Walker</td>\n",
       "      <td>1</td>\n",
       "      <td>7.0</td>\n",
       "    </tr>\n",
       "  </tbody>\n",
       "</table>\n",
       "</div>"
      ],
      "text/plain": [
       "   inspectionid      hsisid                  date  \\\n",
       "0             0  4092013748  2012-09-21T00:00:00Z   \n",
       "1             1  4092014046  2012-09-21T00:00:00Z   \n",
       "\n",
       "                                         description         inspectedby  \\\n",
       "0  This facility cooks eggs to order in Grill sta...    Melissa Harrison   \n",
       "1                                                NaN  Christopher Walker   \n",
       "\n",
       "   inspection_num  inspector_id  \n",
       "0               1          27.0  \n",
       "1               1           7.0  "
      ]
     },
     "execution_count": 3,
     "metadata": {},
     "output_type": "execute_result"
    }
   ],
   "source": [
    "insp1 = insp_df.loc[:, 'inspectionid':'date']\n",
    "insp2 = insp_df.loc[:, 'description':'inspector_id']\n",
    "insp_df = insp1.merge(insp2, left_index=True, right_index=True)\n",
    "\n",
    "insp_df.head(2)\n"
   ]
  },
  {
   "cell_type": "code",
   "execution_count": 4,
   "metadata": {},
   "outputs": [
    {
     "data": {
      "text/html": [
       "<div>\n",
       "<style scoped>\n",
       "    .dataframe tbody tr th:only-of-type {\n",
       "        vertical-align: middle;\n",
       "    }\n",
       "\n",
       "    .dataframe tbody tr th {\n",
       "        vertical-align: top;\n",
       "    }\n",
       "\n",
       "    .dataframe thead th {\n",
       "        text-align: right;\n",
       "    }\n",
       "</style>\n",
       "<table border=\"1\" class=\"dataframe\">\n",
       "  <thead>\n",
       "    <tr style=\"text-align: right;\">\n",
       "      <th></th>\n",
       "      <th>hsisid</th>\n",
       "      <th>inspectdate</th>\n",
       "      <th>inspectedby</th>\n",
       "    </tr>\n",
       "  </thead>\n",
       "  <tbody>\n",
       "    <tr>\n",
       "      <th>0</th>\n",
       "      <td>4092015279</td>\n",
       "      <td>2014-09-22T00:00:00.000Z</td>\n",
       "      <td>Lucy Schrum</td>\n",
       "    </tr>\n",
       "    <tr>\n",
       "      <th>1</th>\n",
       "      <td>4092014572</td>\n",
       "      <td>2014-09-29T00:00:00.000Z</td>\n",
       "      <td>Daryl Beasley</td>\n",
       "    </tr>\n",
       "  </tbody>\n",
       "</table>\n",
       "</div>"
      ],
      "text/plain": [
       "       hsisid               inspectdate    inspectedby\n",
       "0  4092015279  2014-09-22T00:00:00.000Z    Lucy Schrum\n",
       "1  4092014572  2014-09-29T00:00:00.000Z  Daryl Beasley"
      ]
     },
     "execution_count": 4,
     "metadata": {},
     "output_type": "execute_result"
    }
   ],
   "source": [
    "viol1 = viol_df.loc[:, 'hsisid':'inspectdate']\n",
    "viol2 = viol_df.loc[:, 'inspectedby']\n",
    "viol_df = viol1.merge(viol2, left_index=True, right_index=True)\n",
    "viol_copy_df = viol_df\n",
    "\n",
    "viol_copy_df.head(2)"
   ]
  },
  {
   "cell_type": "markdown",
   "metadata": {},
   "source": [
    "###  Combine datasets\n",
    "\n",
    "Match the inspection id with hsisid, date, and inspector name from Inspections table to find corresponding Violations data for the given inspection. Return total number of violations reported.\n"
   ]
  },
  {
   "cell_type": "code",
   "execution_count": 5,
   "metadata": {},
   "outputs": [],
   "source": [
    "def inspectionid_matcher(hsisid, inspectdate, inspectedby): \n",
    "    temp = viol_df.loc[viol_df['hsisid'] == hsisid]\n",
    "    temp = temp.loc[temp['inspectdate'] == inspectdate]\n",
    "    temp = temp.loc[temp['inspectedby'] == inspectedby] \n",
    "\n",
    "    return len(temp)\n",
    "    "
   ]
  },
  {
   "cell_type": "code",
   "execution_count": 6,
   "metadata": {},
   "outputs": [],
   "source": [
    "#ASSERT FUNCTION CORRECTNESS\n",
    "\n",
    "assert inspectionid_matcher(4092015279, \"2014-09-22T00:00:00.000Z\", \"Lucy Schrum\") != 0\n",
    "assert inspectionid_matcher(4092014046, \"2012-09-21T00:00:00Z\", \"Christopher Walker\") == 0"
   ]
  },
  {
   "cell_type": "markdown",
   "metadata": {},
   "source": [
    "Iterate through Violations data using inspectionid_matcher function to match each inspection with corresponding number of violations"
   ]
  },
  {
   "cell_type": "code",
   "execution_count": 7,
   "metadata": {},
   "outputs": [],
   "source": [
    "viol_list = []\n",
    "\n",
    "for i in range(0, len(insp_df)):\n",
    "    hsisid = insp_df.loc[i, 'hsisid']\n",
    "    inspectdate = insp_df.loc[i, 'date']\n",
    "    inspectedby = insp_df.loc[i, 'inspectedby']\n",
    "    total = inspectionid_matcher(hsisid, inspectdate, inspectedby)\n",
    "    viol_list.append(total)\n"
   ]
  },
  {
   "cell_type": "markdown",
   "metadata": {},
   "source": [
    "Add new column to insp_df titled \"total_violations\" and insert values from this list"
   ]
  },
  {
   "cell_type": "code",
   "execution_count": 8,
   "metadata": {},
   "outputs": [
    {
     "data": {
      "text/html": [
       "<div>\n",
       "<style scoped>\n",
       "    .dataframe tbody tr th:only-of-type {\n",
       "        vertical-align: middle;\n",
       "    }\n",
       "\n",
       "    .dataframe tbody tr th {\n",
       "        vertical-align: top;\n",
       "    }\n",
       "\n",
       "    .dataframe thead th {\n",
       "        text-align: right;\n",
       "    }\n",
       "</style>\n",
       "<table border=\"1\" class=\"dataframe\">\n",
       "  <thead>\n",
       "    <tr style=\"text-align: right;\">\n",
       "      <th></th>\n",
       "      <th>inspectionid</th>\n",
       "      <th>hsisid</th>\n",
       "      <th>date</th>\n",
       "      <th>inspector_id</th>\n",
       "      <th>total_violations</th>\n",
       "    </tr>\n",
       "  </thead>\n",
       "  <tbody>\n",
       "    <tr>\n",
       "      <th>0</th>\n",
       "      <td>0</td>\n",
       "      <td>4092013748</td>\n",
       "      <td>2012-09-21T00:00:00Z</td>\n",
       "      <td>27.0</td>\n",
       "      <td>0</td>\n",
       "    </tr>\n",
       "    <tr>\n",
       "      <th>1</th>\n",
       "      <td>1</td>\n",
       "      <td>4092014046</td>\n",
       "      <td>2012-09-21T00:00:00Z</td>\n",
       "      <td>7.0</td>\n",
       "      <td>0</td>\n",
       "    </tr>\n",
       "    <tr>\n",
       "      <th>2</th>\n",
       "      <td>2</td>\n",
       "      <td>4092015191</td>\n",
       "      <td>2012-09-21T00:00:00Z</td>\n",
       "      <td>3.0</td>\n",
       "      <td>0</td>\n",
       "    </tr>\n",
       "    <tr>\n",
       "      <th>3</th>\n",
       "      <td>3</td>\n",
       "      <td>4092016122</td>\n",
       "      <td>2012-09-21T00:00:00Z</td>\n",
       "      <td>24.0</td>\n",
       "      <td>0</td>\n",
       "    </tr>\n",
       "    <tr>\n",
       "      <th>4</th>\n",
       "      <td>4</td>\n",
       "      <td>4092021513</td>\n",
       "      <td>2012-09-21T00:00:00Z</td>\n",
       "      <td>7.0</td>\n",
       "      <td>0</td>\n",
       "    </tr>\n",
       "  </tbody>\n",
       "</table>\n",
       "</div>"
      ],
      "text/plain": [
       "   inspectionid      hsisid                  date  inspector_id  \\\n",
       "0             0  4092013748  2012-09-21T00:00:00Z          27.0   \n",
       "1             1  4092014046  2012-09-21T00:00:00Z           7.0   \n",
       "2             2  4092015191  2012-09-21T00:00:00Z           3.0   \n",
       "3             3  4092016122  2012-09-21T00:00:00Z          24.0   \n",
       "4             4  4092021513  2012-09-21T00:00:00Z           7.0   \n",
       "\n",
       "   total_violations  \n",
       "0                 0  \n",
       "1                 0  \n",
       "2                 0  \n",
       "3                 0  \n",
       "4                 0  "
      ]
     },
     "execution_count": 8,
     "metadata": {},
     "output_type": "execute_result"
    }
   ],
   "source": [
    "temp_df = pd.DataFrame({'total_violations':viol_list})\n",
    "temp_df\n",
    "\n",
    "insp_df = insp_df.merge(temp_df, left_index=True, right_index=True)\n",
    "insp_df = insp_df.drop(columns=['description', 'inspectedby', 'inspection_num'])\n",
    "\n",
    "insp_df.head(5)"
   ]
  },
  {
   "attachments": {},
   "cell_type": "markdown",
   "metadata": {},
   "source": [
    "### Summary of data cleaning process: \n",
    "\n",
    "All of the above steps ensured that the final dataframe did not include any privacy-breaching information and excluded the clutter of irrelevant variables. The data is now formatted as a single dataframe that includes rows of every food-inspection that is split into column categories which include the restaurant id, date of inspection, inspector id, and number of violations reported. These are the most relevant data variables we need to conduct the analysis for our research question. \n"
   ]
  },
  {
   "cell_type": "markdown",
   "metadata": {},
   "source": [
    "# Data Analysis & Results"
   ]
  },
  {
   "cell_type": "markdown",
   "metadata": {},
   "source": [
    "### Approach: \n",
    "\n",
    "Use inspection dates and inspector id to determine how many inspections each person conducted within one day. Use this to create table of dates..."
   ]
  },
  {
   "cell_type": "code",
   "execution_count": 9,
   "metadata": {},
   "outputs": [],
   "source": [
    "#Total number of inspectors\n",
    "total = insp_df['inspector_id'].max()\n"
   ]
  },
  {
   "cell_type": "markdown",
   "metadata": {},
   "source": [
    "Function find_schedule() takes as parameters an inspector_id and date of inspection to create table of all inspections conducted by that inspector on that day. Returns the total number of inspections, total number of violations reported, and average number of violations reported per inspection in the format of a list."
   ]
  },
  {
   "cell_type": "code",
   "execution_count": 10,
   "metadata": {},
   "outputs": [],
   "source": [
    "def find_schedule(inspector_id, date):\n",
    "    \n",
    "    #Table of inspections from inputted inspector id\n",
    "    df = insp_df.loc[insp_df['inspector_id'] == inspector_id]\n",
    "\n",
    "    #Table of all inspections by inputted inspector during the inputted date \n",
    "    df = df.loc[insp_df['date'] == date]\n",
    "\n",
    "    #Total number of inspections that day\n",
    "    num_appts = len(df)\n",
    "\n",
    "    #Total number of violations reported that day\n",
    "    num_viol = df.loc[:, 'total_violations'].sum()\n",
    "\n",
    "    #Averge number of violations reported per inspection on that day\n",
    "    avg_viol = df.loc[:, 'total_violations'].mean()\n",
    "    \n",
    "    list = [num_appts, num_viol, avg_viol]\n",
    "    \n",
    "   # pin = pd.Series(df['inspectionid'].values)\n",
    "\n",
    "\n",
    "    return list\n"
   ]
  },
  {
   "cell_type": "code",
   "execution_count": 12,
   "metadata": {},
   "outputs": [],
   "source": [
    "unique_list = []\n",
    "\n",
    "for i in range(0, len(insp_df)):\n",
    "    inspector_id = insp_df.loc[i, 'inspector_id']\n",
    "    date = insp_df.loc[i, 'date']\n",
    "    list1 = find_schedule(inspector_id, date)\n",
    "    unique_list.append(list1)\n",
    "  "
   ]
  },
  {
   "cell_type": "code",
   "execution_count": 14,
   "metadata": {},
   "outputs": [
    {
     "data": {
      "text/plain": [
       "18466"
      ]
     },
     "execution_count": 14,
     "metadata": {},
     "output_type": "execute_result"
    }
   ],
   "source": [
    "#find_schedule(24, \"2012-09-21T00:00:00Z\")\n",
    "#insp_df\n",
    "unique_list\n",
    "len(unique_list)"
   ]
  },
  {
   "cell_type": "markdown",
   "metadata": {},
   "source": [
    "### Visualizations"
   ]
  },
  {
   "cell_type": "markdown",
   "metadata": {},
   "source": [
    "Scatter matrix plotting the Inspections dataframe"
   ]
  },
  {
   "cell_type": "code",
   "execution_count": 15,
   "metadata": {},
   "outputs": [
    {
     "data": {
      "image/png": "[encoded data removed]",
      "text/plain": [
       "<Figure size 432x288 with 16 Axes>"
      ]
     },
     "metadata": {
      "needs_background": "light"
     },
     "output_type": "display_data"
    }
   ],
   "source": [
    "fig = pd.plotting.scatter_matrix(insp_df)"
   ]
  },
  {
   "cell_type": "code",
   "execution_count": null,
   "metadata": {},
   "outputs": [],
   "source": []
  },
  {
   "cell_type": "markdown",
   "metadata": {},
   "source": [
    "# Ethics & Privacy"
   ]
  },
  {
   "attachments": {},
   "cell_type": "markdown",
   "metadata": {},
   "source": [
    "The two datasets used in this analysis were provided by the professor for the purpose of this assignment.\n",
    "\n",
    "Any privacy concerns were addressed through the data cleaning process. After considerable processing and merging, any identifiable data that remained was dropped from the final dataset. \n",
    "\n",
    "The datasets that were used appear to have been formatted in a reasonable and unbiased manner. However, the data only reflects the food inspections of a single county. Therefore, it is a very concentrated sample of data that should not be used to make generalizations about the food inspection process throughout the country or for any other large population. \n"
   ]
  },
  {
   "cell_type": "markdown",
   "metadata": {},
   "source": [
    "# Conclusion & Discussion"
   ]
  },
  {
   "attachments": {},
   "cell_type": "markdown",
   "metadata": {},
   "source": [
    "\n",
    "The primary research question focused on  determining the existence of a relationship between the reported number of violations by an inspector and the number of safety inspections they have completed that day. Based off of background research regarding the impact of budget cuts on the accuracy of food inspections, I hypothesized that there would be a negative correlation between the number of inspections an inspector is required to complete in a day and the average number of violations they actually report. \n",
    "\n",
    "The two datasets used were highly correlated with each other and expressed different data for the large set of recorded inspections in Wake County throughout the past few years. I used the hsisd, inspection date, and inspector id/name to match the data from the Inspections and Violations tables. \n",
    "\n",
    "A limitation to the generalizability of this analysis is due to the fact that the data only reflects the food inspections of a single county. Therefore, it is a very concentrated sample of data that should not be used to make generalizations about the food inspection process throughout the country or for any other large population. \n",
    "\n"
   ]
  },
  {
   "cell_type": "code",
   "execution_count": null,
   "metadata": {},
   "outputs": [],
   "source": []
  },
  {
   "cell_type": "code",
   "execution_count": null,
   "metadata": {},
   "outputs": [],
   "source": []
  }
 ],
 "metadata": {
  "kernelspec": {
   "display_name": "Python 3",
   "language": "python",
   "name": "python3"
  },
  "language_info": {
   "codemirror_mode": {
    "name": "ipython",
    "version": 3
   },
   "file_extension": ".py",
   "mimetype": "text/x-python",
   "name": "python",
   "nbconvert_exporter": "python",
   "pygments_lexer": "ipython3",
   "version": "3.6.7"
  }
 },
 "nbformat": 4,
 "nbformat_minor": 2
}
