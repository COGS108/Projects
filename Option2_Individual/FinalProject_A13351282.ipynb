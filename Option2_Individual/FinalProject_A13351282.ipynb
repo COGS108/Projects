{
 "cells": [
  {
   "cell_type": "markdown",
   "metadata": {},
   "source": [
    "# COGS 108 - Final Project "
   ]
  },
  {
   "cell_type": "markdown",
   "metadata": {},
   "source": [
    "# Overview"
   ]
  },
  {
   "cell_type": "markdown",
   "metadata": {},
   "source": [
    "This project is designed to see if the number of health code violations in specific zipcodes in NC can be explained by median household income in dollars.\n",
    "\n",
    "A linear model was fit to the data to determine that median household income in dollars does not signifigantly explain the variation in number of health code violations."
   ]
  },
  {
   "cell_type": "markdown",
   "metadata": {},
   "source": [
    "# Name & PID\n",
    "\n",
    "- Name: Samir Navani\n",
    "- PID: A13351282"
   ]
  },
  {
   "cell_type": "markdown",
   "metadata": {},
   "source": [
    "# Research Question"
   ]
  },
  {
   "cell_type": "markdown",
   "metadata": {},
   "source": [
    "Can you predict how many restraunt health code violations there will be in a zip code given the median household income in the state of NC?"
   ]
  },
  {
   "cell_type": "markdown",
   "metadata": {},
   "source": [
    "## Background and Prior Work"
   ]
  },
  {
   "cell_type": "markdown",
   "metadata": {},
   "source": [
    "References (include links):\n",
    "- 1) https://arxiv.org/pdf/1910.04906.pdf\n",
    "- 2) https://github.com/drivendataorg/keeping-it-fresh/tree/17fa93f5ecafa0793ee005abd22092c173406479/1st-place/code\n",
    "\n",
    "The first reference is to a paper describing the predictive model that the city of Chicago used to predict the type of violation that a restraunt has. They used 16 feature variables describing the establishment. Their target variable was to predict whether or not an establishment has a critical violation. This analysis is different from mine because I am not taking into account features about the estabishment, instead I am taking into account a feature about the community.\n",
    "\n",
    "The second reference is to a github repository from a contest in predicting restraunts that have health code violations. Again, this analysis takes into account factors about the restraunt but also takes into account reviews."
   ]
  },
  {
   "cell_type": "markdown",
   "metadata": {},
   "source": [
    "# Hypothesis\n"
   ]
  },
  {
   "cell_type": "markdown",
   "metadata": {},
   "source": [
    "**Hypothesis:** The number of health code violations for restraunts in North Carolina can be predicted using the median household income dollars in specific areas.\n",
    "\n",
    "**Reasoning:** Restraunts in areas that are not as wealthy as others may try to save costs which would lead to a health code violatoin."
   ]
  },
  {
   "cell_type": "markdown",
   "metadata": {},
   "source": [
    "# Dataset(s)"
   ]
  },
  {
   "cell_type": "markdown",
   "metadata": {},
   "source": [
    "To answer the research question we need to know how many healh code violations (HCV) there are within each zip code. We also need to know the median household income dollars (MHID) for each zipcode as well.\n",
    "\n",
    "Then we can figure out if there is a relation between MHID and HCV.\n",
    "\n",
    "- Dataset Name: 'inspections.csv'\n",
    "- Link to the dataset: From professor\n",
    "- Number of observations: 11985\n",
    "\n",
    "'inspections.csv' has data pertaining to which establishments recieved HCV in specific zip codes. Since each row is a HCV, we are interested in how many HCV occur for each zipcode.\n",
    "\n",
    "- Dataset Name: 'zipcodes.csv'\n",
    "- Link to the dataset: From professor\n",
    "- Number of observations: 38\n",
    "\n",
    "'zipcodes.csv' records the MHID per zipcode in North Carolina.\n",
    "\n",
    "Both datasets will be merged based on the zipcode. This will result in a new dataset where for each zipcode, we will know the total number of HCV and MHID."
   ]
  },
  {
   "cell_type": "markdown",
   "metadata": {},
   "source": [
    "# Setup"
   ]
  },
  {
   "cell_type": "code",
   "execution_count": 1,
   "metadata": {},
   "outputs": [],
   "source": [
    "# Import dependencies\n",
    "\n",
    "import pandas as pd\n",
    "import matplotlib.pyplot as plt\n",
    "import numpy as np\n",
    "\n",
    "# Statmodels & patsy\n",
    "import patsy\n",
    "import statsmodels.api as sm"
   ]
  },
  {
   "cell_type": "code",
   "execution_count": 2,
   "metadata": {},
   "outputs": [],
   "source": [
    "# Import datasets\n",
    "\n",
    "inspections = pd.read_csv('data/inspections.csv')\n",
    "zipcodes = pd.read_csv('data/zipcodes.csv')"
   ]
  },
  {
   "cell_type": "markdown",
   "metadata": {},
   "source": [
    "The columns we are interested in for 'inspections.csv' in is 'zipcode'. We only want the rows that are restraunts.\n",
    "\n",
    "The columns we are interested in for 'zipcodes.csv' is 'median_family_income_dollars'"
   ]
  },
  {
   "cell_type": "markdown",
   "metadata": {},
   "source": [
    "# Data Cleaning"
   ]
  },
  {
   "cell_type": "markdown",
   "metadata": {},
   "source": [
    "Both datasets had no missing values.\n",
    "\n",
    "To analyze the data, the total number of HCV per zipcode was found. This was merged with the MHID per zipcode.\n",
    "\n",
    "**Steps:** <br><br>\n",
    "1) Filter the rows of HCV to those of 'facilitytype' equal to 'Restraunt'. This selects all HCV that occured in restraunts only\n",
    "<br><br>\n",
    "\n",
    "2) Find the number of restraunts that have violations per zipcode <br><br>\n",
    "\n",
    "3) Extract the data from above and 'zipcode' into a new dataframe <br><br>\n",
    "4) Extract the zipcode and median_family_household_income from zipcodes.csv and make a new dataframe <br><br>\n",
    "5) Merge the two dataframes based on the zipcodes they have in common <br><br>\n",
    "6) Check for any missing values"
   ]
  },
  {
   "cell_type": "code",
   "execution_count": 3,
   "metadata": {},
   "outputs": [],
   "source": [
    "# Select rows that are only restraunts\n",
    "inspections = inspections[inspections['facilitytype'] == 'Restaurant']\n",
    "\n",
    "# Get the value counts for the zip code\n",
    "zipcode_col = inspections['zip']\n",
    "zip_count = pd.DataFrame(zipcode_col.value_counts())\n",
    "zip_count.reset_index(inplace=True)\n",
    "zip_count.columns = ['zip', 'count']\n"
   ]
  },
  {
   "cell_type": "code",
   "execution_count": 4,
   "metadata": {},
   "outputs": [],
   "source": [
    "# Extract the zipcode and median_family_income_dollars from the zipcode data\n",
    "zip_MHID = zipcodes.loc[:, ['zip', 'median_household_income_dollars']]"
   ]
  },
  {
   "cell_type": "code",
   "execution_count": 5,
   "metadata": {},
   "outputs": [
    {
     "name": "stdout",
     "output_type": "stream",
     "text": [
      "number of zipcodes in inspections.csv: 38\n",
      "number of zipcodes in zipcodes.csv: 45\n"
     ]
    }
   ],
   "source": [
    "# Check how many zipcodes are in each dataframe\n",
    "\n",
    "num_zip_MHID = len(zip_MHID['zip'].value_counts())\n",
    "\n",
    "num_zip_count = len(zip_count['zip'].value_counts())\n",
    "\n",
    "print('number of zipcodes in inspections.csv:', num_zip_MHID)\n",
    "print('number of zipcodes in zipcodes.csv:', num_zip_count)"
   ]
  },
  {
   "cell_type": "markdown",
   "metadata": {},
   "source": [
    "Since there are more zipcodes in the 'zipcodes.csv', we will use only the data that is common between both. This is because we don't have inspection data on the zipcodes that are not in inspection.csv"
   ]
  },
  {
   "cell_type": "code",
   "execution_count": 6,
   "metadata": {},
   "outputs": [
    {
     "data": {
      "text/html": [
       "<div>\n",
       "<style scoped>\n",
       "    .dataframe tbody tr th:only-of-type {\n",
       "        vertical-align: middle;\n",
       "    }\n",
       "\n",
       "    .dataframe tbody tr th {\n",
       "        vertical-align: top;\n",
       "    }\n",
       "\n",
       "    .dataframe thead th {\n",
       "        text-align: right;\n",
       "    }\n",
       "</style>\n",
       "<table border=\"1\" class=\"dataframe\">\n",
       "  <thead>\n",
       "    <tr style=\"text-align: right;\">\n",
       "      <th></th>\n",
       "      <th>zip</th>\n",
       "      <th>count</th>\n",
       "      <th>MHID</th>\n",
       "    </tr>\n",
       "  </thead>\n",
       "  <tbody>\n",
       "    <tr>\n",
       "      <th>0</th>\n",
       "      <td>27511</td>\n",
       "      <td>950</td>\n",
       "      <td>67392</td>\n",
       "    </tr>\n",
       "    <tr>\n",
       "      <th>1</th>\n",
       "      <td>27609</td>\n",
       "      <td>661</td>\n",
       "      <td>53640</td>\n",
       "    </tr>\n",
       "    <tr>\n",
       "      <th>2</th>\n",
       "      <td>27603</td>\n",
       "      <td>610</td>\n",
       "      <td>54889</td>\n",
       "    </tr>\n",
       "    <tr>\n",
       "      <th>3</th>\n",
       "      <td>27587</td>\n",
       "      <td>602</td>\n",
       "      <td>83416</td>\n",
       "    </tr>\n",
       "    <tr>\n",
       "      <th>4</th>\n",
       "      <td>27607</td>\n",
       "      <td>601</td>\n",
       "      <td>53825</td>\n",
       "    </tr>\n",
       "  </tbody>\n",
       "</table>\n",
       "</div>"
      ],
      "text/plain": [
       "     zip  count   MHID\n",
       "0  27511    950  67392\n",
       "1  27609    661  53640\n",
       "2  27603    610  54889\n",
       "3  27587    602  83416\n",
       "4  27607    601  53825"
      ]
     },
     "execution_count": 6,
     "metadata": {},
     "output_type": "execute_result"
    }
   ],
   "source": [
    "df = pd.merge(zip_count, zip_MHID, on='zip', how='inner')\n",
    "df.columns = ['zip', 'count', 'MHID']\n",
    "df.head()"
   ]
  },
  {
   "cell_type": "code",
   "execution_count": 7,
   "metadata": {},
   "outputs": [
    {
     "data": {
      "text/plain": [
       "False"
      ]
     },
     "execution_count": 7,
     "metadata": {},
     "output_type": "execute_result"
    }
   ],
   "source": [
    "# Check to make sure there are no NaN values\n",
    "df.isnull().values.any()"
   ]
  },
  {
   "cell_type": "markdown",
   "metadata": {},
   "source": [
    "# Data Analysis & Results"
   ]
  },
  {
   "cell_type": "markdown",
   "metadata": {},
   "source": [
    "Include cells that describe the steps in your data analysis."
   ]
  },
  {
   "cell_type": "code",
   "execution_count": 8,
   "metadata": {},
   "outputs": [
    {
     "data": {
      "text/html": [
       "<div>\n",
       "<style scoped>\n",
       "    .dataframe tbody tr th:only-of-type {\n",
       "        vertical-align: middle;\n",
       "    }\n",
       "\n",
       "    .dataframe tbody tr th {\n",
       "        vertical-align: top;\n",
       "    }\n",
       "\n",
       "    .dataframe thead th {\n",
       "        text-align: right;\n",
       "    }\n",
       "</style>\n",
       "<table border=\"1\" class=\"dataframe\">\n",
       "  <thead>\n",
       "    <tr style=\"text-align: right;\">\n",
       "      <th></th>\n",
       "      <th>zip</th>\n",
       "      <th>count</th>\n",
       "      <th>MHID</th>\n",
       "    </tr>\n",
       "  </thead>\n",
       "  <tbody>\n",
       "    <tr>\n",
       "      <th>0</th>\n",
       "      <td>27511</td>\n",
       "      <td>950</td>\n",
       "      <td>67392</td>\n",
       "    </tr>\n",
       "    <tr>\n",
       "      <th>1</th>\n",
       "      <td>27609</td>\n",
       "      <td>661</td>\n",
       "      <td>53640</td>\n",
       "    </tr>\n",
       "    <tr>\n",
       "      <th>2</th>\n",
       "      <td>27603</td>\n",
       "      <td>610</td>\n",
       "      <td>54889</td>\n",
       "    </tr>\n",
       "    <tr>\n",
       "      <th>3</th>\n",
       "      <td>27587</td>\n",
       "      <td>602</td>\n",
       "      <td>83416</td>\n",
       "    </tr>\n",
       "    <tr>\n",
       "      <th>4</th>\n",
       "      <td>27607</td>\n",
       "      <td>601</td>\n",
       "      <td>53825</td>\n",
       "    </tr>\n",
       "  </tbody>\n",
       "</table>\n",
       "</div>"
      ],
      "text/plain": [
       "     zip  count   MHID\n",
       "0  27511    950  67392\n",
       "1  27609    661  53640\n",
       "2  27603    610  54889\n",
       "3  27587    602  83416\n",
       "4  27607    601  53825"
      ]
     },
     "execution_count": 8,
     "metadata": {},
     "output_type": "execute_result"
    }
   ],
   "source": [
    "df.head()"
   ]
  },
  {
   "cell_type": "code",
   "execution_count": 9,
   "metadata": {},
   "outputs": [
    {
     "data": {
      "image/png": "[encoded data removed]",
      "text/plain": [
       "<Figure size 432x288 with 1 Axes>"
      ]
     },
     "metadata": {
      "needs_background": "light"
     },
     "output_type": "display_data"
    }
   ],
   "source": [
    "# Graph to see if some areas have more HCV than other areas\n",
    "\n",
    "plt.barh(df['zip'], df['count'])\n",
    "plt.title('Number of HCV per Zipcode')\n",
    "plt.xlabel('Number of Restraunts with HCV')\n",
    "plt.ylabel('Zipcode')\n",
    "plt.show()"
   ]
  },
  {
   "cell_type": "markdown",
   "metadata": {},
   "source": [
    "There seems more restraunts with healthcode violations with zipcodes in the range of 27600 to 27620. This is due to more restraunts existing in that area. Those zipcodes are associated with 'Raleigh', the capital of North Carolina."
   ]
  },
  {
   "cell_type": "code",
   "execution_count": 10,
   "metadata": {},
   "outputs": [
    {
     "data": {
      "image/png": "[encoded data removed]",
      "text/plain": [
       "<Figure size 432x288 with 1 Axes>"
      ]
     },
     "metadata": {
      "needs_background": "light"
     },
     "output_type": "display_data"
    }
   ],
   "source": [
    "# Visualizations\n",
    "\n",
    "plt.scatter(df['MHID'], df['count'])\n",
    "plt.title('Number of HCV vs. MHID')\n",
    "plt.xlabel('Median Household Income Dollars')\n",
    "plt.ylabel('Number of Restraunts with HCV')\n",
    "plt.show()"
   ]
  },
  {
   "cell_type": "markdown",
   "metadata": {},
   "source": [
    "There doesn't seem to be any overall shape to the data between MHID and number of HCV. This doesn't support the hypothesis that the number of restraunt violations in a zipcode can be explained by the median household income dollars.\n",
    "\n",
    "We will still perform linear regression to see how the model does."
   ]
  },
  {
   "cell_type": "code",
   "execution_count": 11,
   "metadata": {},
   "outputs": [
    {
     "data": {
      "text/html": [
       "<div>\n",
       "<style scoped>\n",
       "    .dataframe tbody tr th:only-of-type {\n",
       "        vertical-align: middle;\n",
       "    }\n",
       "\n",
       "    .dataframe tbody tr th {\n",
       "        vertical-align: top;\n",
       "    }\n",
       "\n",
       "    .dataframe thead th {\n",
       "        text-align: right;\n",
       "    }\n",
       "</style>\n",
       "<table border=\"1\" class=\"dataframe\">\n",
       "  <thead>\n",
       "    <tr style=\"text-align: right;\">\n",
       "      <th></th>\n",
       "      <th>zip</th>\n",
       "      <th>count</th>\n",
       "      <th>MHID</th>\n",
       "    </tr>\n",
       "  </thead>\n",
       "  <tbody>\n",
       "    <tr>\n",
       "      <th>zip</th>\n",
       "      <td>1.000000</td>\n",
       "      <td>0.191977</td>\n",
       "      <td>-0.370389</td>\n",
       "    </tr>\n",
       "    <tr>\n",
       "      <th>count</th>\n",
       "      <td>0.191977</td>\n",
       "      <td>1.000000</td>\n",
       "      <td>-0.099004</td>\n",
       "    </tr>\n",
       "    <tr>\n",
       "      <th>MHID</th>\n",
       "      <td>-0.370389</td>\n",
       "      <td>-0.099004</td>\n",
       "      <td>1.000000</td>\n",
       "    </tr>\n",
       "  </tbody>\n",
       "</table>\n",
       "</div>"
      ],
      "text/plain": [
       "            zip     count      MHID\n",
       "zip    1.000000  0.191977 -0.370389\n",
       "count  0.191977  1.000000 -0.099004\n",
       "MHID  -0.370389 -0.099004  1.000000"
      ]
     },
     "execution_count": 11,
     "metadata": {},
     "output_type": "execute_result"
    }
   ],
   "source": [
    "df.corr()"
   ]
  },
  {
   "cell_type": "markdown",
   "metadata": {},
   "source": [
    "The correlation between MHID and count is -0.099 which is very small. It is unlikely that the linear model will perform well."
   ]
  },
  {
   "cell_type": "code",
   "execution_count": 12,
   "metadata": {},
   "outputs": [],
   "source": [
    "outcome, predictors = patsy.dmatrices('count ~ MHID', df)"
   ]
  },
  {
   "cell_type": "code",
   "execution_count": 13,
   "metadata": {},
   "outputs": [],
   "source": [
    "# Fit the linear model\n",
    "\n",
    "mod = sm.OLS(outcome, predictors)\n",
    "res = mod.fit()"
   ]
  },
  {
   "cell_type": "code",
   "execution_count": 14,
   "metadata": {},
   "outputs": [
    {
     "name": "stdout",
     "output_type": "stream",
     "text": [
      "                            OLS Regression Results                            \n",
      "==============================================================================\n",
      "Dep. Variable:                  count   R-squared:                       0.010\n",
      "Model:                            OLS   Adj. R-squared:                 -0.020\n",
      "Method:                 Least Squares   F-statistic:                    0.3267\n",
      "Date:                Wed, 10 Jun 2020   Prob (F-statistic):              0.572\n",
      "Time:                        20:12:21   Log-Likelihood:                -239.87\n",
      "No. Observations:                  35   AIC:                             483.7\n",
      "Df Residuals:                      33   BIC:                             486.8\n",
      "Df Model:                           1                                         \n",
      "Covariance Type:            nonrobust                                         \n",
      "==============================================================================\n",
      "                 coef    std err          t      P>|t|      [0.025      0.975]\n",
      "------------------------------------------------------------------------------\n",
      "Intercept    420.4975    147.874      2.844      0.008     119.645     721.350\n",
      "MHID          -0.0012      0.002     -0.572      0.572      -0.005       0.003\n",
      "==============================================================================\n",
      "Omnibus:                        0.505   Durbin-Watson:                   0.093\n",
      "Prob(Omnibus):                  0.777   Jarque-Bera (JB):                0.559\n",
      "Skew:                           0.256   Prob(JB):                        0.756\n",
      "Kurtosis:                       2.652   Cond. No.                     2.63e+05\n",
      "==============================================================================\n",
      "\n",
      "Warnings:\n",
      "[1] Standard Errors assume that the covariance matrix of the errors is correctly specified.\n",
      "[2] The condition number is large, 2.63e+05. This might indicate that there are\n",
      "strong multicollinearity or other numerical problems.\n"
     ]
    }
   ],
   "source": [
    "print(res.summary())"
   ]
  },
  {
   "cell_type": "markdown",
   "metadata": {},
   "source": [
    "The model calculated was: \n",
    "\n",
    "Number of HCV = 420.4975 + -0.0012 * MHID\n",
    "\n",
    "Since P > abs(t) is 0.572 and that is greater than an alpha value of 0.05, we can reject the null hypothesis. This means that the median houshold income in dollars does not significantly explain the variation in number of health code violations per zipcode.\n",
    "\n",
    "The graph below shows the linear model plotted on the original data."
   ]
  },
  {
   "cell_type": "code",
   "execution_count": 15,
   "metadata": {},
   "outputs": [
    {
     "data": {
      "image/png": "[encoded data removed]",
      "text/plain": [
       "<Figure size 432x288 with 1 Axes>"
      ]
     },
     "metadata": {
      "needs_background": "light"
     },
     "output_type": "display_data"
    }
   ],
   "source": [
    "# Visualizations\n",
    "\n",
    "plt.scatter(df['MHID'], df['count'])\n",
    "plt.title('Number of HCV vs. MHID, with linear model')\n",
    "plt.xlabel('Median Household Income Dollars')\n",
    "plt.ylabel('Number of Restraunts with HCV')\n",
    "\n",
    "x = np.linspace(min(df['MHID']), max(df['MHID']), 1000)\n",
    "y =  420.4975 + -0.0012 * x\n",
    "\n",
    "plt.plot(x, y, color='red')\n",
    "plt.show()"
   ]
  },
  {
   "cell_type": "markdown",
   "metadata": {},
   "source": [
    "Displayed above is the number of HCV vs. the MHID. Ontop of the data is the linear model that was previously calculated. As you can see, the linear model doesn't fit the data well."
   ]
  },
  {
   "cell_type": "markdown",
   "metadata": {},
   "source": [
    "# Ethics & Privacy"
   ]
  },
  {
   "cell_type": "markdown",
   "metadata": {},
   "source": [
    "The information used in this analysis comprise of the health code violations and median household income dollars per zip code. Both peices of information are available to the public. Therefor, it is ethical to use it in this analysis.\n",
    "\n",
    "Since the data was provided by my Professor, I do have permission to use it. However, like all public datsets, I do not know the accuracy and authenticity of the data.\n",
    "\n",
    "Some of the biases in the dataset are that there are a large amount of restraunts and HCV from Raleigh alone. This made it hard to do the analysis because the MHID would generally be the same throughout Raleigh. \n",
    "\n",
    "In addition to this, if the analysis did show that poorer areas had more HCV than others, it may not be in the department of health's best interest to inspect restraunts in poor neighborhoods. This could come off to the public as unjust and biased.\n",
    "\n",
    "To deal with these problems, I would collect more data -- specifically from restraunts not in Raleigh. This would make the dataset more balanced and would result in a more accurate analysis."
   ]
  },
  {
   "cell_type": "markdown",
   "metadata": {},
   "source": [
    "# Conclusion & Discussion"
   ]
  },
  {
   "cell_type": "markdown",
   "metadata": {},
   "source": [
    "The project was aimed to see if poorer areas have more health code violations than better off areas. The reasoning for this hypothesis is because restraunts in poorer areas might try to cut corners in costs resulting in a health code violation.\n",
    "\n",
    "The analysis consisted of fitting a linear model to the data.\n",
    "\n",
    "After the analysis was complete, it was determined that the median household income in dollars doesn not signifigantly explain the variation in number of health code violations per zipcode.\n",
    "\n",
    "However, the data wasn't perfect and there was an unproportional number of restraunts from Raleigh.\n",
    "\n",
    "This analysis' impact on society is that health code inspectors do not need to go to poor areas to find more restraunts with health code violations."
   ]
  },
  {
   "cell_type": "code",
   "execution_count": null,
   "metadata": {},
   "outputs": [],
   "source": []
  }
 ],
 "metadata": {
  "kernelspec": {
   "display_name": "Python 3",
   "language": "python",
   "name": "python3"
  },
  "language_info": {
   "codemirror_mode": {
    "name": "ipython",
    "version": 3
   },
   "file_extension": ".py",
   "mimetype": "text/x-python",
   "name": "python",
   "nbconvert_exporter": "python",
   "pygments_lexer": "ipython3",
   "version": "3.6.5"
  }
 },
 "nbformat": 4,
 "nbformat_minor": 2
}
