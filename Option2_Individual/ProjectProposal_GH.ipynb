{
 "cells": [
  {
   "cell_type": "markdown",
   "metadata": {},
   "source": [
    "# COGS 108 - Project Proposal"
   ]
  },
  {
   "cell_type": "markdown",
   "metadata": {},
   "source": [
    "# Names & GitHub ID\n",
    "\n",
    "- Name: Jun Xian Rao\n",
    "- GitHub Username: johyrao"
   ]
  },
  {
   "cell_type": "markdown",
   "metadata": {},
   "source": [
    "# Research Question"
   ]
  },
  {
   "cell_type": "markdown",
   "metadata": {},
   "source": [
    "Do people prefer parks with more green spaces or more activity equipment like ball courts and playground areas?"
   ]
  },
  {
   "cell_type": "markdown",
   "metadata": {},
   "source": [
    "## Background and Prior Work"
   ]
  },
  {
   "cell_type": "markdown",
   "metadata": {},
   "source": [
    "To better inform the park and recreation department of San Diego I want to look into what kinds of park do people prefer. Do people want parks with more nature and green spaces or do they want parks that are more like activity centers? For me this comes down to does the person prefer to have a more active lifestyle or a more relaxed way of life. The appeal of an activity center centric park with ball courts and palygrounds promote social interactions and a more active lifestyle. It is much easier for people to go and exercise without worrying about the immense cost of fitness equipments. Having ball courts also garner interactions between members of the community as they get to participate in team sports which enforces a sense of community. On the other hand, a park with more green spaces and nature while does not provide people with room to play some sports, it still allows for other sports with less equipment needs. A park with a lot of green spaces also allows for people to relax and get alway from the greyness of urban life. \n",
    "\n",
    "In my research I found that nature have a lot of benefits to our physical and emotional health. In a Times article, it said that \"nature can provide stress relief, increase social interaction, encourage physical exercise and even help soothe mental illness.\" Meaning have green spaces in our parks can allow people to interact more with nature and thereby help them release some stress from there everyday urban life. Not only does greener parks benefit our own health, it also help with bettering the health of the community spaces. In an article from climateforhealth.org, it states that \"Green infrastructure is the natural and built green spaces that use nature and natural processes to manage a variety of challenges, including water quality, flood risk, and air quality and temperature, which in turn can improve human health.\" This means that greener park helps improve the health of the enviornment, the community and our personal health. These articles provide strong cases for park with more green spaces and thus we need to put in effort understand what public opinion lies and what policymakers should do. \n",
    "\n",
    "References (include links):\n",
    "- 1)https://time.com/collection/guide-to-happiness/4881665/green-spaces-nature-happiness/\n",
    "- 2)https://climateforhealth.org/greener-parks-are-a-quality-of-life-benefit/"
   ]
  },
  {
   "cell_type": "markdown",
   "metadata": {},
   "source": [
    "# Hypothesis\n"
   ]
  },
  {
   "cell_type": "markdown",
   "metadata": {},
   "source": [
    "People in general will choose parks with more a activities centric goal where there will be more playgrounds and ball courts. This will contrast with research done to evaluate the social and economical impact and the benefits that \"greener\" park with bring to the community. "
   ]
  },
  {
   "cell_type": "markdown",
   "metadata": {},
   "source": [
    "# Data"
   ]
  },
  {
   "cell_type": "markdown",
   "metadata": {},
   "source": [
    "My ideal dataset would be a survey of what people's preferences in parks are with variables like what kind of parks they like and also catergorical reason for their choice. I would hope to have observation from at least 200 reponses of the population choosen randomly of each San Diego districts. These data will be collected by city officials by passing out surveys. These data will be stored in csv to be easily imported to statistical anaylsis programs. "
   ]
  },
  {
   "cell_type": "markdown",
   "metadata": {},
   "source": [
    "# Ethics & Privacy"
   ]
  },
  {
   "cell_type": "markdown",
   "metadata": {},
   "source": [
    "There should not be any ethical issues with this data collection method as all responses will be anonymous and there will be no tracable element that leads back to the responder. The responder should have no problem answering the question honestly and should not feel pressured to answer a certain way. I should also inform them that their response will be used for analysis purposes but anonymity will be guaranteed. There will definitely be biases since this method is through a survey and not everyone will respond to surveys and there will be innate biases with people that repond to surveys. There is also a problem with representation because I did not double check if 200 reponses from a given population is enough for generalization since districts differ in population sizes. There is also the problem of different district having different needs and one plan may not be able to meet the needs of all districts. Lastly, my finding will be use toward helping inform the policymakers of advertising to educate the public and also what kind of parks the public want.  "
   ]
  },
  {
   "cell_type": "code",
   "execution_count": null,
   "metadata": {},
   "outputs": [],
   "source": []
  }
 ],
 "metadata": {
  "kernelspec": {
   "display_name": "Python 3",
   "language": "python",
   "name": "python3"
  },
  "language_info": {
   "codemirror_mode": {
    "name": "ipython",
    "version": 3
   },
   "file_extension": ".py",
   "mimetype": "text/x-python",
   "name": "python",
   "nbconvert_exporter": "python",
   "pygments_lexer": "ipython3",
   "version": "3.7.6"
  }
 },
 "nbformat": 4,
 "nbformat_minor": 2
}
