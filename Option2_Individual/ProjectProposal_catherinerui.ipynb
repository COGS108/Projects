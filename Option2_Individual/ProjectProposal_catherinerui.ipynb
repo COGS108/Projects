{
 "cells": [
  {
   "cell_type": "markdown",
   "metadata": {},
   "source": [
    "# COGS 108 - Project Proposal"
   ]
  },
  {
   "cell_type": "markdown",
   "metadata": {},
   "source": [
    "# Names & GitHub ID\n",
    "\n",
    "- Name: Rui Zheng\n",
    "- GitHub Username: catherinerui"
   ]
  },
  {
   "cell_type": "markdown",
   "metadata": {},
   "source": [
    "# Research Question"
   ]
  },
  {
   "cell_type": "markdown",
   "metadata": {},
   "source": [
    "Does systematic discrimination regarding household incomes affect access to San Diego's park system?"
   ]
  },
  {
   "cell_type": "markdown",
   "metadata": {},
   "source": [
    "## Background and Prior Work"
   ]
  },
  {
   "cell_type": "markdown",
   "metadata": {},
   "source": [
    "Parks brings many physical and social benefits the the society. Reports now claim that not only park provides a space for physical activities, which plays a big part in human health and development, but also help to render a happier family[1]. While it is true a park can bring many benefits to a community, professionals and data scientists already concern whether people within different income groups experience disparities in park facilities[2]. In Neighborhood Income Matters: Disparities in Community Recreation Facilities, Amenities, and Programs (by Thomas L,Mckenzie,Jamie S. Moody, Jordan A. Carlson, Nanette V. Lopez, and John P. Elder), it is concluded that parks in a low income group has more facilities in bad condition than moderate/high income groups[2]. Instead of looking straight into the facilities conditions, there is a need to look at the problem into the roots. Although Mckenzie and his cowriters have concluded that there is a correlation between household incomes and park recreational experience, they assumed that everyone in their study already have access to parks. In this project, we will look at disparities in park experiences according to different income groups from a broader perspective and within a broder population and by investigating income distributions of households within 2,3,4,5 kilometers of each park and outside of those ranges.\n",
    "References (include links):\n",
    "- 1)https://ehp.niehs.nih.gov/doi/full/10.1289/ehp.123-A254\n",
    "- 2)https://www.ncbi.nlm.nih.gov/pmc/articles/PMC4082954/"
   ]
  },
  {
   "cell_type": "markdown",
   "metadata": {},
   "source": [
    "# Hypothesis\n"
   ]
  },
  {
   "cell_type": "markdown",
   "metadata": {},
   "source": [
    "The development and construction of a park require capital, as well as elections. High/moderate household have the capital to invest in a park and have stronger political powers which influences local government decisions. Goverment is more likely to build parks upon their request than lower income househols. As result, Household outside of specified ranges of a park have lower incomes than household inside the specified ranges."
   ]
  },
  {
   "cell_type": "markdown",
   "metadata": {},
   "source": [
    "# Data"
   ]
  },
  {
   "cell_type": "markdown",
   "metadata": {},
   "source": [
    "To answer my question, I will need a datasets consists of each household's zipcodes, annual income (or networth) and if there is a park near by within 2,3,4,5 kilometers. There is 79 zipcodes in San Diego[3].Assume we take 1000 samples from each zipcode, I will need at least 79000 observations. However, the more observations, the better (it would be the best if we have a million observations). As the data will be collected directly from households, assistance from a government official might be needed to collect surveys. We can also collect these data through online questionaire, or look up these data through government websites. The questionaire will consist of 5 questions:\n",
    "    1. what is your zipcode?\n",
    "    2. what is your household income?\n",
    "    3. Is there a park within 2 km of your house?\n",
    "    4. Is there a park within 3 km of your house?\n",
    "    5. Is there a park within 4 km of your house?\n",
    "    6. Is there a park within 5 km of your house?\n",
    "In the organzied dataset, we will have a table with 6 columns, each correspond to a question in the questionaire:\n",
    "    1. ID: uniquely identify each obsevation\n",
    "    2. zipcode: numerical\n",
    "    3. houseold income (binned into low,moderate and high): categorical\n",
    "    4. park within 2 km:boolean\n",
    "    5. park within 3 km:boolean\n",
    "    6. park within 4 km:boolean\n",
    "    7. park within 5 km:boolean\n",
    "\n",
    "[3] https://www.zip-codes.com/city/ca-san-diego.asp"
   ]
  },
  {
   "cell_type": "markdown",
   "metadata": {},
   "source": [
    "# Ethics & Privacy"
   ]
  },
  {
   "cell_type": "markdown",
   "metadata": {},
   "source": [
    "Enthical concern is necessary when conducting any data science projects. Through this project, it is important to keep the paricipant anomynous both when collecting and analyzing data, especially when this project includes private information such as personal income and residential area. To conform with this ethical need, I decided not to collect the participant's home gps cordinates but their zipcode and boolean value of if there is a park nearby.Besides this, I will keep the data only to myself and not to expose it to any human, organizations or online platforms.\n",
    "\n",
    "If my data is collected by myself online instead of the government, I will make sure I will recignize and remove fraud replies upon discussion. I will also note that the data collected might not represent the whole population of San Diego, since senior residents are less likely to have access to online surveys. This discrepancy will also be noted at the beginning of the analysis.\n",
    "\n",
    "Throughout the project, I will make sure the data is collected and analyzed in an unbiased and ethical manner. I will highly honor our ethical codes."
   ]
  },
  {
   "cell_type": "code",
   "execution_count": null,
   "metadata": {},
   "outputs": [],
   "source": []
  }
 ],
 "metadata": {
  "kernelspec": {
   "display_name": "Python 3",
   "language": "python",
   "name": "python3"
  },
  "language_info": {
   "codemirror_mode": {
    "name": "ipython",
    "version": 3
   },
   "file_extension": ".py",
   "mimetype": "text/x-python",
   "name": "python",
   "nbconvert_exporter": "python",
   "pygments_lexer": "ipython3",
   "version": "3.7.5"
  }
 },
 "nbformat": 4,
 "nbformat_minor": 2
}
