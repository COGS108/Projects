{
 "cells": [
  {
   "cell_type": "markdown",
   "metadata": {},
   "source": [
    "# COGS 108 - Project Proposal"
   ]
  },
  {
   "cell_type": "markdown",
   "metadata": {},
   "source": [
    "# Name & PID\n",
    "\n",
    "-  DANIELA HERNANDEZ \n",
    "-  A14519243"
   ]
  },
  {
   "cell_type": "markdown",
   "metadata": {},
   "source": [
    "# Research Question"
   ]
  },
  {
   "cell_type": "markdown",
   "metadata": {},
   "source": [
    "Is there a relationship between the number of complaint inspections and the number of reinspections for food facilities for the city of Bakersfield, and does that relationship influence the re-evaluation given in a rescore reinspection?"
   ]
  },
  {
   "cell_type": "markdown",
   "metadata": {},
   "source": [
    "## Background and Prior Work"
   ]
  },
  {
   "cell_type": "markdown",
   "metadata": {},
   "source": [
    "According to the Kern County Public Health Services Department (KCPHSD) Food Facility Grading Policy, a Complaint Inspection requires an Environmental Health Specialist (EHS) to investigate any complaint(s) made on any food facility in Kern County [1]. Unless the state of the facility proves to be an immediate health hazard, the facility score will remain unchanged “until the next routine inspection” [1]. So, if the conditions are not considered immediate, then a possibly needed re-evaluation could be postponed, and the facility would remain open. This can lead to various potential health issues. Hence, by understanding the relation between the number of both complaint inspections and reinspections, it can be determined if the number of reinspections conducted relates to that of the complaints, and if they should be deemed appropriate or unsatisfactory. With that, by identifying whether that relation influences the re-evaluation given in a rescore inspection, it can be determined if the facility should remain open or not. Overall, this can lead to an improvement in the health inspection process for the city of Bakersfield. \n",
    "\n",
    "To better investigate this question, two GitHub sources were reviewed. The first one involves drinking water contamination in California. This project identifies Kern County to have “the most community water systems that are 100% reliant on groundwater” [2]. While this is not necessarily on the topic of health inspections, the conclusion that was reached was driven by the question that was asked, which focused on identifying the relation between ambient groundwater quality and community water systems for safe drinking water supply [2]. By reviewing and considering the process of how they went about acquiring this information, obtaining information for the health inspection process in Kern County can also be done. Similarly, by taking into account the data and how it was analyzed would help provide any useful insight.\n",
    "\n",
    "The second GitHub source is on the topic of food assessment quality. The assessments were conducted for many restaurants in “the city” [3]. Considering the lack of an introduction to the project, it is important to be wary of the information; however, the data that is included contains various variables that can be used as a guide when gathering data for the research question on health inspections in the city of Bakersfield. Such data variables include: street, city, LocationID, and risk level. In all, using this source will also prove helpful for conducting the research question described previously.  \n",
    " \n",
    "\n",
    "References:\n",
    "\n",
    "[1] https://kernpublichealth.com/wp-content/uploads/2015/02/GRADING-POLICY-5-6-2016-for-calcode-version-fees-removed.pdf\n",
    "\n",
    "[2] https://github.com/waterdatacollaborative/NicoleLook_Drinking-Water-Contaminant-Classification\n",
    "\n",
    "[3] https://github.com/abofficial444/Food-Assessment-Quality"
   ]
  },
  {
   "cell_type": "markdown",
   "metadata": {},
   "source": [
    "# Hypothesis\n"
   ]
  },
  {
   "cell_type": "markdown",
   "metadata": {},
   "source": [
    "There is a relationship between the number of complaint inspections and the number of reinspections in the city of Bakersfield, and that relationship influences the re-evaluation given in a rescore reinspection. The reasoning behind this hypothesis is that a reinspection should be conducted whenever a complaint is presented against a facility, especially to prevent any potential health issues. Along this notion, the re-evaluation given in a rescore inspection should be an accurate score of the facility's state, both prior and after the complaint. "
   ]
  },
  {
   "cell_type": "markdown",
   "metadata": {},
   "source": [
    "# Data"
   ]
  },
  {
   "cell_type": "markdown",
   "metadata": {},
   "source": [
    "To adequately answer this question, the ideal dataset would have to have both a descriptive and exploratory analysis. This is so that there is a clear understanding of the shape and size of the dataset, as well as the relationships between variables. With the shape and size of the data, the number of observations, or rows, can be properly analyzed with the corresponding variables, or columns. In this case, the observations would be the Bakersfield food facilities. The variables would therefore consist of the number of complaints received for each facility, how many reinspections have taken place, the dates for each, and the location. Having these variables will help give an accurate and precise description of the health inspection process for the food facilities in Bakersfield. Additionally, the history of scores for the food facilities would be important variables. The history of scores could consist, or require, a nested format, since it could include the original score, along with any updated scores. However, the overall format could be a Tabular structure, as it will prove very beneficial. To collect these data, the KCPHSD should be contacted to ask if it is okay with them for the obtainment of any information on restaurant health inspection for the purpose of improving the health inspection process in the city of Bakersfield. "
   ]
  },
  {
   "cell_type": "markdown",
   "metadata": {},
   "source": [
    "# Ethics & Privacy"
   ]
  },
  {
   "cell_type": "markdown",
   "metadata": {},
   "source": [
    "For the proposed question, it is important to consider Ethics and Privacy involved. The goal is to improve the restaurant health inspection process, but without violating any ethics and privacy establishments. In the case of the research question, the contents of any complaint(s) that were made would have to be considered. This is to keep anonymity of those who filed the complaint, along with any other potential group involved. Similarly, any biases involved within the complaints would also have to be accounted for, since complaints may or may not be a form of attack on a given food facility. As for the subject food facilities, their respect would also have to be considered so as to not harm them in the public’s eyes. \n",
    "\n",
    "\n",
    "With these considerations in mind, contacting the KCPHSD is an important first step, as it will allow for the discussion of what they give their permission towards, and what is legal. That would then allow for the consideration of the stakeholders involved, which includes the restaurants and those that filed complaints. Secondly, ensuring a secure way of storing the data and having a feasible and effective plan for updates is important for the analysis that will soon follow. To achieve all of this, careful planning and considerations will have to be implemented throughout the entirety of the research. "
   ]
  }
 ],
 "metadata": {
  "kernelspec": {
   "display_name": "Python 3",
   "language": "python",
   "name": "python3"
  },
  "language_info": {
   "codemirror_mode": {
    "name": "ipython",
    "version": 3
   },
   "file_extension": ".py",
   "mimetype": "text/x-python",
   "name": "python",
   "nbconvert_exporter": "python",
   "pygments_lexer": "ipython3",
   "version": "3.6.7"
  }
 },
 "nbformat": 4,
 "nbformat_minor": 2
}
