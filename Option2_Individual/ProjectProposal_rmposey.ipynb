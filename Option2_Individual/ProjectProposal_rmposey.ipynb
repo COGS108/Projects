{
 "cells": [
  {
   "cell_type": "markdown",
   "metadata": {},
   "source": [
    "# COGS 108 - Project Proposal"
   ]
  },
  {
   "cell_type": "markdown",
   "metadata": {},
   "source": [
    "# Names & GitHub ID\n",
    "\n",
    "- Name: Ryan Posey\n",
    "- GitHub Username: rmposey"
   ]
  },
  {
   "cell_type": "markdown",
   "metadata": {},
   "source": [
    "# Research Question"
   ]
  },
  {
   "cell_type": "markdown",
   "metadata": {},
   "source": [
    "How has the COVID-19 pandemic changed the future outlook of parks and recreation in general, and what can the parks derpartment of San Diego do to efficiently and safely provde its residents with services and facilities? How should funds be balanced between improving the current parks and programs and remaining prepared for another public health crisis."
   ]
  },
  {
   "cell_type": "markdown",
   "metadata": {},
   "source": [
    "## Background and Prior Work"
   ]
  },
  {
   "cell_type": "markdown",
   "metadata": {},
   "source": [
    "   Though we are hopeful that in the next year we can return to dome demblance of normalcy anf recover from the COVID-19 pandemic, it seems naive to think that we can continue to live to live exactly as we did before 2020. This year has shown us how woefully ill-prepared we were as a nation to deal with a global pandemic. Additionally, multitudes of people refuse to comply with public health guidelines or even question the legitimacy of the pandemic at all. For these reasons, the timeline for overcoming COVID-19, even with a vaccine, will likely extend, and the likelihood of another public health crisis seems all but inevitable. On a lighter note, public parks have been practically an essential service these last few months, providing an escape for people all across the United States from the confinement of shelter-in-place orders.\n",
    "   \n",
    "   As restrictions begin to cautiosly be lifted, now is an excellent time for the Parks Department of San Diego to focus on ways that they can continue to provide services to the most people possible, despite limitations on capacities in accordance with social distancing protocol. In a recent publication from the National recreation and Park Association called \"How Parks and Recreation will Change Forever\", writer Richard Dolesh lamented that as the economy tries to rebound inthe following years, one of the most underfunded agencies will likely be Parks and Recreation. Such cuts mean that the Parks and Recreation department will have to prioritize the most popular as well as the most lucrative programs, while understanding that others may need to be cut temporarily. The article outliness some ways that parks can provide essential roles in the changing world, such as sstaring community gardens to help bring food security to those hit hardest by the pandemic.\n",
    "    \n",
    "   Parks and recreation departments are only beginning to embrace the power of data science to solve problems and make decisions. A presentation from the same organization as the above article(NRPA), entitled \"Using Data at Park and Recreation Agencies.\" It notes that while many Parks directors agree that the role in analyzing data in order to drive decisions is important, there are still many bureaucratic challenges that limit acccess to data. The study shows that among the most important uses for data analytics in the Parks sector are the monitoring of \"facility usage\"and \"program performance.\" Such data, in tandem with data about contact tracing and infection rates, will be critical to providing services during and in the aftermath of a global pandemic, and on a limited budget. An article from Buro Happold, a site created by engineers and designers, focuses on how big data can shape the future of parks. They delve into the use of GPS data from social media companies in order to create the parks of the future. While this may be an appealing idea and may provide a lot of data, I believe this brings the operation into an ethical grey area and would avoid using data like this at all costs. Since the users are not knowledgeable about the use of data for the purpose of improving parks(even if it is to create something positive), it should not be used for. this project.\n",
    "    \n",
    "References (include links):\n",
    "- 1)https://www.nrpa.org/parks-recreation-magazine/2020/august/how-parks-and-recreation-will-change-forever/\n",
    "- 2)https://www.nrpa.org/contentassets/f768428a39aa4035ae55b2aaff372617/data-analysis-park-and-recreation.pdf\n",
    "- 3)https://www.burohappold.com/news/using-big-data-create-parks-public-spaces-people-love/"
   ]
  },
  {
   "cell_type": "markdown",
   "metadata": {},
   "source": [
    "# Hypothesis\n"
   ]
  },
  {
   "cell_type": "markdown",
   "metadata": {},
   "source": [
    "I would hypothesize that the most efficient use of resources would be to invevst in programs that can continue in outdoor settings, and expand the maintenance services of our parks. Due to budget cuts that are likely to hinder the department long after we recover from the pandemic, the most popular programs will have to be prioritized, as well as the ones that provide some revenue to the department. Another essential part of the plan will be to re-establish the public's trust in the safety of parks. This would likely mean more spending on maintenance and sanitization. "
   ]
  },
  {
   "cell_type": "markdown",
   "metadata": {},
   "source": [
    "# Data"
   ]
  },
  {
   "cell_type": "markdown",
   "metadata": {},
   "source": [
    "The ideal dataset for a project with such a broad scope would have to come from a variety of sources and deal with many variables. Firstly, research would rely heavily on surveys from residents in order to understand how the public feels about returning to parks. This will give an idea of the actions and protocols necessary to make sure families and individuals feel safe participating in activities and programs throught the parks department. Additionally, we would need to look into data regarding the attendance of parks before and during the pandemic. This might have to include looking at data from parks across the United States. Comparing attendance with the types of services might yield an understanding of which programs should be the priority of the department, and which successful programs from other departments could potentially be added. Finally, we would have to look at data tracking the spread of COVID-19. Data is being collected every day that pertains to contact-tracing and understanding where and when infected individuals contracted the virus. It is likely that keeping programs outdoors would be important in any plan that would restart recreation programs. Programs that involve close proximity and other similarities to cases analzyed through contact tracing would likely not be included in the initial plans foe the parks department. These are just a few of the data types that would be helpful in answering the question at hand, and a substantial number of observations would be necessary."
   ]
  },
  {
   "cell_type": "markdown",
   "metadata": {},
   "source": [
    "# Ethics & Privacy"
   ]
  },
  {
   "cell_type": "markdown",
   "metadata": {},
   "source": [
    "As a government agency, the Parks and Recreation Department of San Diego would prioritize the privacy of anyone who is generous enough to give their time to answering surveys or prviding data of any kind. All data would remain anonymous and identities of people in our data shall not be released to the public."
   ]
  }
 ],
 "metadata": {
  "kernelspec": {
   "display_name": "Python 3",
   "language": "python",
   "name": "python3"
  },
  "language_info": {
   "codemirror_mode": {
    "name": "ipython",
    "version": 3
   },
   "file_extension": ".py",
   "mimetype": "text/x-python",
   "name": "python",
   "nbconvert_exporter": "python",
   "pygments_lexer": "ipython3",
   "version": "3.7.6"
  }
 },
 "nbformat": 4,
 "nbformat_minor": 2
}
