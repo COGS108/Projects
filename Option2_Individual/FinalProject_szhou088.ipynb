{
 "cells": [
  {
   "cell_type": "markdown",
   "metadata": {},
   "source": [
    "# COGS 108 - Final Project "
   ]
  },
  {
   "cell_type": "markdown",
   "metadata": {},
   "source": [
    "# \"Yelp rating, or health rating?\""
   ]
  },
  {
   "cell_type": "markdown",
   "metadata": {},
   "source": [
    "# Overview"
   ]
  },
  {
   "cell_type": "markdown",
   "metadata": {},
   "source": [
    "Compared the health inspection violation ratio of both high yelp rating restaurants and low yelp rating restaurant. The reault is that lower rating restaurants tend to have a larger ratio to violate the inspection."
   ]
  },
  {
   "cell_type": "markdown",
   "metadata": {},
   "source": [
    "# Name & PID\n",
    "\n",
    "- Name: Shuaiqing Zhou\n",
    "- PID: A15577403"
   ]
  },
  {
   "cell_type": "markdown",
   "metadata": {},
   "source": [
    "# Research Question"
   ]
  },
  {
   "cell_type": "markdown",
   "metadata": {},
   "source": [
    "*Are restaurants with yelp rating below the average more likely to violate the inspection?*"
   ]
  },
  {
   "cell_type": "markdown",
   "metadata": {},
   "source": [
    "## Background and Prior Work"
   ]
  },
  {
   "cell_type": "markdown",
   "metadata": {},
   "source": [
    "*Acoording to  Theresa Navarra, a restaurant health inspection is an examination of potentially dangerous or unsafe factors in restaurants, employees and food. This can be done during storage, production, processing and even packaging. The health inspector will pay attention to how restaurants store, defrost and cook food. He or she will also pay attention to the cleanliness of your kitchen, storage area and freezer. This inspection forcus more on the health level of the restaurant instead of the taste.\n",
    "\n",
    "And Yelp according to wikipedia is a local business review site. It has most of the businesses for individual locations including restaurants, schools, shopping malls, etc. And Yelp users can submit reviews based on the products and services using a one to five star rating system. Thus Yelp ratings are more depending on the subjective experience, like taste, of the restaurants.\n",
    "\n",
    "However if a restaurant uses unsafe products that leads to a physical discomfort of the customer, the restaurant is very likely to receive a low rating. Thus, I was wondering if the restaurants with relatively lower ratings are more likely to violate the health inspection.* \n",
    "\n",
    "References (include links):\n",
    "- 1) Theresa Navarra, \"How to Ace a Restaurant Health Inspection\", https://www.lightspeedhq.com/blog/restaurant-health-inspection/#:~:text=A%20restaurant%20health%20inspection%20is%20an%20examination%20of%20your%20restaurant,store%2C%20thaw%20and%20cook%20food.\n",
    "- 2) Yelp, https://en.wikipedia.org/wiki/Yelp#:~:text=Yelp's%20website%2C%20Yelp.com%2C,to%20five%20star%20rating%20system."
   ]
  },
  {
   "cell_type": "markdown",
   "metadata": {},
   "source": [
    "# Hypothesis\n"
   ]
  },
  {
   "cell_type": "markdown",
   "metadata": {},
   "source": [
    "*Restaurants with Yelp ratings lower than the avergae are more likely to violate the inspection.*"
   ]
  },
  {
   "cell_type": "markdown",
   "metadata": {},
   "source": [
    "# Dataset(s)"
   ]
  },
  {
   "cell_type": "markdown",
   "metadata": {},
   "source": [
    "Dataset Name: yelp\n",
    "  - Number of observations:3688\n",
    "  - This dataset has the restaurants and their yelp ratings thst I need.\n",
    "  \n",
    "Dataset Name:Violations\n",
    "- Number of observations:189802\n",
    "- This is all the restaurants that violate the inspection.\n",
    "\n",
    "Dataset Name: Restaurants\n",
    "- Number of observations:3324\n",
    "- This datasets has all the restaurants include their ind and adress, etc.\n"
   ]
  },
  {
   "cell_type": "markdown",
   "metadata": {},
   "source": [
    "# Setup"
   ]
  },
  {
   "cell_type": "code",
   "execution_count": 1,
   "metadata": {},
   "outputs": [],
   "source": [
    "%matplotlib inline\n",
    "\n",
    "import numpy as np\n",
    "import pandas as pd\n",
    "import matplotlib.pyplot as plt\n",
    "import seaborn as sns\n"
   ]
  },
  {
   "cell_type": "code",
   "execution_count": 2,
   "metadata": {},
   "outputs": [],
   "source": [
    "restaurant = pd.read_csv('restaurants.csv')\n",
    "yelp = pd.read_csv('yelp.csv')\n",
    "violation = pd.read_csv('violations.csv')"
   ]
  },
  {
   "cell_type": "markdown",
   "metadata": {},
   "source": [
    "# Data Cleaning"
   ]
  },
  {
   "cell_type": "markdown",
   "metadata": {},
   "source": [
    "I dropped all of the null cells, and I removed columns that I don't need"
   ]
  },
  {
   "cell_type": "code",
   "execution_count": 3,
   "metadata": {},
   "outputs": [],
   "source": [
    "restaurant = restaurant[['X.objectid', 'hsisid', 'name','address1']]\n",
    "yelp = yelp[['id', 'name', 'rating', 'address1']]\n",
    "violation = violation[['X.objectid', 'hsisid']]"
   ]
  },
  {
   "cell_type": "code",
   "execution_count": 4,
   "metadata": {},
   "outputs": [
    {
     "data": {
      "text/html": [
       "<div>\n",
       "<style scoped>\n",
       "    .dataframe tbody tr th:only-of-type {\n",
       "        vertical-align: middle;\n",
       "    }\n",
       "\n",
       "    .dataframe tbody tr th {\n",
       "        vertical-align: top;\n",
       "    }\n",
       "\n",
       "    .dataframe thead th {\n",
       "        text-align: right;\n",
       "    }\n",
       "</style>\n",
       "<table border=\"1\" class=\"dataframe\">\n",
       "  <thead>\n",
       "    <tr style=\"text-align: right;\">\n",
       "      <th></th>\n",
       "      <th>X.objectid</th>\n",
       "      <th>hsisid</th>\n",
       "    </tr>\n",
       "  </thead>\n",
       "  <tbody>\n",
       "    <tr>\n",
       "      <th>0</th>\n",
       "      <td>2149</td>\n",
       "      <td>4092015279</td>\n",
       "    </tr>\n",
       "    <tr>\n",
       "      <th>1</th>\n",
       "      <td>2150</td>\n",
       "      <td>4092014572</td>\n",
       "    </tr>\n",
       "    <tr>\n",
       "      <th>2</th>\n",
       "      <td>2151</td>\n",
       "      <td>4092015906</td>\n",
       "    </tr>\n",
       "    <tr>\n",
       "      <th>3</th>\n",
       "      <td>2152</td>\n",
       "      <td>4092013840</td>\n",
       "    </tr>\n",
       "    <tr>\n",
       "      <th>4</th>\n",
       "      <td>2153</td>\n",
       "      <td>4092021788</td>\n",
       "    </tr>\n",
       "    <tr>\n",
       "      <th>...</th>\n",
       "      <td>...</td>\n",
       "      <td>...</td>\n",
       "    </tr>\n",
       "    <tr>\n",
       "      <th>189797</th>\n",
       "      <td>2144</td>\n",
       "      <td>4092015549</td>\n",
       "    </tr>\n",
       "    <tr>\n",
       "      <th>189798</th>\n",
       "      <td>2145</td>\n",
       "      <td>4092016135</td>\n",
       "    </tr>\n",
       "    <tr>\n",
       "      <th>189799</th>\n",
       "      <td>2146</td>\n",
       "      <td>4092020997</td>\n",
       "    </tr>\n",
       "    <tr>\n",
       "      <th>189800</th>\n",
       "      <td>2147</td>\n",
       "      <td>4092021798</td>\n",
       "    </tr>\n",
       "    <tr>\n",
       "      <th>189801</th>\n",
       "      <td>2148</td>\n",
       "      <td>4092015279</td>\n",
       "    </tr>\n",
       "  </tbody>\n",
       "</table>\n",
       "<p>189802 rows × 2 columns</p>\n",
       "</div>"
      ],
      "text/plain": [
       "        X.objectid      hsisid\n",
       "0             2149  4092015279\n",
       "1             2150  4092014572\n",
       "2             2151  4092015906\n",
       "3             2152  4092013840\n",
       "4             2153  4092021788\n",
       "...            ...         ...\n",
       "189797        2144  4092015549\n",
       "189798        2145  4092016135\n",
       "189799        2146  4092020997\n",
       "189800        2147  4092021798\n",
       "189801        2148  4092015279\n",
       "\n",
       "[189802 rows x 2 columns]"
      ]
     },
     "execution_count": 4,
     "metadata": {},
     "output_type": "execute_result"
    }
   ],
   "source": [
    "restaurant.dropna()\n",
    "yelp.dropna()\n",
    "violation.dropna()"
   ]
  },
  {
   "cell_type": "markdown",
   "metadata": {},
   "source": [
    "# Data Analysis & Results"
   ]
  },
  {
   "cell_type": "code",
   "execution_count": 5,
   "metadata": {},
   "outputs": [
    {
     "data": {
      "image/png": "[encoded data removed]",
      "text/plain": [
       "<Figure size 432x288 with 1 Axes>"
      ]
     },
     "metadata": {
      "needs_background": "light"
     },
     "output_type": "display_data"
    }
   ],
   "source": [
    "#make a graph of the ratings to see the distribution\n",
    "sns.distplot(yelp['rating'], bins = 8, kde = False)\n",
    "\n",
    "f1 = plt.gcf()"
   ]
  },
  {
   "cell_type": "code",
   "execution_count": 6,
   "metadata": {},
   "outputs": [],
   "source": [
    "#Calculate the mean value of the yelp ratings\n",
    "rating_mean = yelp['rating'].mean()\n",
    "#filter out restaurants with rating below the avg\n",
    "low_rating = yelp[yelp['rating'] < rating_mean]"
   ]
  },
  {
   "cell_type": "code",
   "execution_count": 7,
   "metadata": {},
   "outputs": [
    {
     "data": {
      "text/html": [
       "<div>\n",
       "<style scoped>\n",
       "    .dataframe tbody tr th:only-of-type {\n",
       "        vertical-align: middle;\n",
       "    }\n",
       "\n",
       "    .dataframe tbody tr th {\n",
       "        vertical-align: top;\n",
       "    }\n",
       "\n",
       "    .dataframe thead th {\n",
       "        text-align: right;\n",
       "    }\n",
       "</style>\n",
       "<table border=\"1\" class=\"dataframe\">\n",
       "  <thead>\n",
       "    <tr style=\"text-align: right;\">\n",
       "      <th></th>\n",
       "      <th>X.objectid_x</th>\n",
       "      <th>hsisid</th>\n",
       "      <th>name</th>\n",
       "      <th>address1</th>\n",
       "      <th>X.objectid_y</th>\n",
       "    </tr>\n",
       "  </thead>\n",
       "  <tbody>\n",
       "    <tr>\n",
       "      <th>0</th>\n",
       "      <td>1001</td>\n",
       "      <td>4092017230</td>\n",
       "      <td>SPRING CAFE 2</td>\n",
       "      <td>2900-104 SPRING FOREST RD</td>\n",
       "      <td>6992</td>\n",
       "    </tr>\n",
       "    <tr>\n",
       "      <th>1</th>\n",
       "      <td>1001</td>\n",
       "      <td>4092017230</td>\n",
       "      <td>SPRING CAFE 2</td>\n",
       "      <td>2900-104 SPRING FOREST RD</td>\n",
       "      <td>7791</td>\n",
       "    </tr>\n",
       "    <tr>\n",
       "      <th>2</th>\n",
       "      <td>1001</td>\n",
       "      <td>4092017230</td>\n",
       "      <td>SPRING CAFE 2</td>\n",
       "      <td>2900-104 SPRING FOREST RD</td>\n",
       "      <td>7801</td>\n",
       "    </tr>\n",
       "    <tr>\n",
       "      <th>3</th>\n",
       "      <td>1001</td>\n",
       "      <td>4092017230</td>\n",
       "      <td>SPRING CAFE 2</td>\n",
       "      <td>2900-104 SPRING FOREST RD</td>\n",
       "      <td>10429</td>\n",
       "    </tr>\n",
       "    <tr>\n",
       "      <th>4</th>\n",
       "      <td>1001</td>\n",
       "      <td>4092017230</td>\n",
       "      <td>SPRING CAFE 2</td>\n",
       "      <td>2900-104 SPRING FOREST RD</td>\n",
       "      <td>15176</td>\n",
       "    </tr>\n",
       "    <tr>\n",
       "      <th>...</th>\n",
       "      <td>...</td>\n",
       "      <td>...</td>\n",
       "      <td>...</td>\n",
       "      <td>...</td>\n",
       "      <td>...</td>\n",
       "    </tr>\n",
       "    <tr>\n",
       "      <th>156911</th>\n",
       "      <td>2999</td>\n",
       "      <td>4092017227</td>\n",
       "      <td>QUICKLY</td>\n",
       "      <td>4141 DAVIS DR</td>\n",
       "      <td>185667</td>\n",
       "    </tr>\n",
       "    <tr>\n",
       "      <th>156912</th>\n",
       "      <td>3000</td>\n",
       "      <td>4092017274</td>\n",
       "      <td>HARRIS TEETER #43 STARBUCKS</td>\n",
       "      <td>3638 ROGERS RD</td>\n",
       "      <td>64092</td>\n",
       "    </tr>\n",
       "    <tr>\n",
       "      <th>156913</th>\n",
       "      <td>3000</td>\n",
       "      <td>4092017274</td>\n",
       "      <td>HARRIS TEETER #43 STARBUCKS</td>\n",
       "      <td>3638 ROGERS RD</td>\n",
       "      <td>73968</td>\n",
       "    </tr>\n",
       "    <tr>\n",
       "      <th>156914</th>\n",
       "      <td>3000</td>\n",
       "      <td>4092017274</td>\n",
       "      <td>HARRIS TEETER #43 STARBUCKS</td>\n",
       "      <td>3638 ROGERS RD</td>\n",
       "      <td>83806</td>\n",
       "    </tr>\n",
       "    <tr>\n",
       "      <th>156915</th>\n",
       "      <td>3000</td>\n",
       "      <td>4092017274</td>\n",
       "      <td>HARRIS TEETER #43 STARBUCKS</td>\n",
       "      <td>3638 ROGERS RD</td>\n",
       "      <td>150857</td>\n",
       "    </tr>\n",
       "  </tbody>\n",
       "</table>\n",
       "<p>156916 rows × 5 columns</p>\n",
       "</div>"
      ],
      "text/plain": [
       "        X.objectid_x      hsisid                         name  \\\n",
       "0               1001  4092017230                SPRING CAFE 2   \n",
       "1               1001  4092017230                SPRING CAFE 2   \n",
       "2               1001  4092017230                SPRING CAFE 2   \n",
       "3               1001  4092017230                SPRING CAFE 2   \n",
       "4               1001  4092017230                SPRING CAFE 2   \n",
       "...              ...         ...                          ...   \n",
       "156911          2999  4092017227                      QUICKLY   \n",
       "156912          3000  4092017274  HARRIS TEETER #43 STARBUCKS   \n",
       "156913          3000  4092017274  HARRIS TEETER #43 STARBUCKS   \n",
       "156914          3000  4092017274  HARRIS TEETER #43 STARBUCKS   \n",
       "156915          3000  4092017274  HARRIS TEETER #43 STARBUCKS   \n",
       "\n",
       "                          address1  X.objectid_y  \n",
       "0       2900-104 SPRING FOREST RD           6992  \n",
       "1       2900-104 SPRING FOREST RD           7791  \n",
       "2       2900-104 SPRING FOREST RD           7801  \n",
       "3       2900-104 SPRING FOREST RD          10429  \n",
       "4       2900-104 SPRING FOREST RD          15176  \n",
       "...                            ...           ...  \n",
       "156911              4141 DAVIS DR         185667  \n",
       "156912             3638 ROGERS RD          64092  \n",
       "156913             3638 ROGERS RD          73968  \n",
       "156914             3638 ROGERS RD          83806  \n",
       "156915             3638 ROGERS RD         150857  \n",
       "\n",
       "[156916 rows x 5 columns]"
      ]
     },
     "execution_count": 7,
     "metadata": {},
     "output_type": "execute_result"
    }
   ],
   "source": [
    "#merge the restaurant and violation table to get a new dataframe of the restaurant names, ids, adresses for restaurants that violated the inspection\n",
    "restaurant_violation = pd.merge(restaurant, violation, on = 'hsisid')\n",
    "restaurant_violation"
   ]
  },
  {
   "cell_type": "code",
   "execution_count": 8,
   "metadata": {},
   "outputs": [
    {
     "data": {
      "text/html": [
       "<div>\n",
       "<style scoped>\n",
       "    .dataframe tbody tr th:only-of-type {\n",
       "        vertical-align: middle;\n",
       "    }\n",
       "\n",
       "    .dataframe tbody tr th {\n",
       "        vertical-align: top;\n",
       "    }\n",
       "\n",
       "    .dataframe thead th {\n",
       "        text-align: right;\n",
       "    }\n",
       "</style>\n",
       "<table border=\"1\" class=\"dataframe\">\n",
       "  <thead>\n",
       "    <tr style=\"text-align: right;\">\n",
       "      <th></th>\n",
       "      <th>id</th>\n",
       "      <th>name_x</th>\n",
       "      <th>rating</th>\n",
       "      <th>address1</th>\n",
       "      <th>X.objectid_x</th>\n",
       "      <th>hsisid</th>\n",
       "      <th>name_y</th>\n",
       "      <th>X.objectid_y</th>\n",
       "    </tr>\n",
       "  </thead>\n",
       "  <tbody>\n",
       "    <tr>\n",
       "      <th>0</th>\n",
       "      <td>southern-womens-show-raleigh</td>\n",
       "      <td>southern women's show</td>\n",
       "      <td>4.0</td>\n",
       "      <td>1025 Blue Ridge Rd</td>\n",
       "      <td>4</td>\n",
       "      <td>4092014036</td>\n",
       "      <td>Murphy House Restaurant-Dorton Arena</td>\n",
       "      <td>2846</td>\n",
       "    </tr>\n",
       "    <tr>\n",
       "      <th>1</th>\n",
       "      <td>southern-womens-show-raleigh</td>\n",
       "      <td>southern women's show</td>\n",
       "      <td>4.0</td>\n",
       "      <td>1025 Blue Ridge Rd</td>\n",
       "      <td>4</td>\n",
       "      <td>4092014036</td>\n",
       "      <td>Murphy House Restaurant-Dorton Arena</td>\n",
       "      <td>3111</td>\n",
       "    </tr>\n",
       "    <tr>\n",
       "      <th>2</th>\n",
       "      <td>southern-womens-show-raleigh</td>\n",
       "      <td>southern women's show</td>\n",
       "      <td>4.0</td>\n",
       "      <td>1025 Blue Ridge Rd</td>\n",
       "      <td>4</td>\n",
       "      <td>4092014036</td>\n",
       "      <td>Murphy House Restaurant-Dorton Arena</td>\n",
       "      <td>16423</td>\n",
       "    </tr>\n",
       "    <tr>\n",
       "      <th>3</th>\n",
       "      <td>southern-womens-show-raleigh</td>\n",
       "      <td>southern women's show</td>\n",
       "      <td>4.0</td>\n",
       "      <td>1025 Blue Ridge Rd</td>\n",
       "      <td>4</td>\n",
       "      <td>4092014036</td>\n",
       "      <td>Murphy House Restaurant-Dorton Arena</td>\n",
       "      <td>16642</td>\n",
       "    </tr>\n",
       "    <tr>\n",
       "      <th>4</th>\n",
       "      <td>southern-womens-show-raleigh</td>\n",
       "      <td>southern women's show</td>\n",
       "      <td>4.0</td>\n",
       "      <td>1025 Blue Ridge Rd</td>\n",
       "      <td>4</td>\n",
       "      <td>4092014036</td>\n",
       "      <td>Murphy House Restaurant-Dorton Arena</td>\n",
       "      <td>21471</td>\n",
       "    </tr>\n",
       "    <tr>\n",
       "      <th>...</th>\n",
       "      <td>...</td>\n",
       "      <td>...</td>\n",
       "      <td>...</td>\n",
       "      <td>...</td>\n",
       "      <td>...</td>\n",
       "      <td>...</td>\n",
       "      <td>...</td>\n",
       "      <td>...</td>\n",
       "    </tr>\n",
       "    <tr>\n",
       "      <th>5874</th>\n",
       "      <td>springhill-suites-raleigh-cary-cary</td>\n",
       "      <td>springhill suites raleigh cary</td>\n",
       "      <td>4.0</td>\n",
       "      <td>1128 Ledsome Lane</td>\n",
       "      <td>1993</td>\n",
       "      <td>4092016715</td>\n",
       "      <td>Spring Hill Suites Kitchen</td>\n",
       "      <td>92254</td>\n",
       "    </tr>\n",
       "    <tr>\n",
       "      <th>5875</th>\n",
       "      <td>springhill-suites-raleigh-cary-cary</td>\n",
       "      <td>springhill suites raleigh cary</td>\n",
       "      <td>4.0</td>\n",
       "      <td>1128 Ledsome Lane</td>\n",
       "      <td>1993</td>\n",
       "      <td>4092016715</td>\n",
       "      <td>Spring Hill Suites Kitchen</td>\n",
       "      <td>95385</td>\n",
       "    </tr>\n",
       "    <tr>\n",
       "      <th>5876</th>\n",
       "      <td>springhill-suites-raleigh-cary-cary</td>\n",
       "      <td>springhill suites raleigh cary</td>\n",
       "      <td>4.0</td>\n",
       "      <td>1128 Ledsome Lane</td>\n",
       "      <td>1993</td>\n",
       "      <td>4092016715</td>\n",
       "      <td>Spring Hill Suites Kitchen</td>\n",
       "      <td>101615</td>\n",
       "    </tr>\n",
       "    <tr>\n",
       "      <th>5877</th>\n",
       "      <td>springhill-suites-raleigh-cary-cary</td>\n",
       "      <td>springhill suites raleigh cary</td>\n",
       "      <td>4.0</td>\n",
       "      <td>1128 Ledsome Lane</td>\n",
       "      <td>1993</td>\n",
       "      <td>4092016715</td>\n",
       "      <td>Spring Hill Suites Kitchen</td>\n",
       "      <td>143732</td>\n",
       "    </tr>\n",
       "    <tr>\n",
       "      <th>5878</th>\n",
       "      <td>springhill-suites-raleigh-cary-cary</td>\n",
       "      <td>springhill suites raleigh cary</td>\n",
       "      <td>4.0</td>\n",
       "      <td>1128 Ledsome Lane</td>\n",
       "      <td>1993</td>\n",
       "      <td>4092016715</td>\n",
       "      <td>Spring Hill Suites Kitchen</td>\n",
       "      <td>148356</td>\n",
       "    </tr>\n",
       "  </tbody>\n",
       "</table>\n",
       "<p>5879 rows × 8 columns</p>\n",
       "</div>"
      ],
      "text/plain": [
       "                                       id                          name_x  \\\n",
       "0            southern-womens-show-raleigh           southern women's show   \n",
       "1            southern-womens-show-raleigh           southern women's show   \n",
       "2            southern-womens-show-raleigh           southern women's show   \n",
       "3            southern-womens-show-raleigh           southern women's show   \n",
       "4            southern-womens-show-raleigh           southern women's show   \n",
       "...                                   ...                             ...   \n",
       "5874  springhill-suites-raleigh-cary-cary  springhill suites raleigh cary   \n",
       "5875  springhill-suites-raleigh-cary-cary  springhill suites raleigh cary   \n",
       "5876  springhill-suites-raleigh-cary-cary  springhill suites raleigh cary   \n",
       "5877  springhill-suites-raleigh-cary-cary  springhill suites raleigh cary   \n",
       "5878  springhill-suites-raleigh-cary-cary  springhill suites raleigh cary   \n",
       "\n",
       "      rating            address1  X.objectid_x      hsisid  \\\n",
       "0        4.0  1025 Blue Ridge Rd             4  4092014036   \n",
       "1        4.0  1025 Blue Ridge Rd             4  4092014036   \n",
       "2        4.0  1025 Blue Ridge Rd             4  4092014036   \n",
       "3        4.0  1025 Blue Ridge Rd             4  4092014036   \n",
       "4        4.0  1025 Blue Ridge Rd             4  4092014036   \n",
       "...      ...                 ...           ...         ...   \n",
       "5874     4.0   1128 Ledsome Lane          1993  4092016715   \n",
       "5875     4.0   1128 Ledsome Lane          1993  4092016715   \n",
       "5876     4.0   1128 Ledsome Lane          1993  4092016715   \n",
       "5877     4.0   1128 Ledsome Lane          1993  4092016715   \n",
       "5878     4.0   1128 Ledsome Lane          1993  4092016715   \n",
       "\n",
       "                                    name_y  X.objectid_y  \n",
       "0     Murphy House Restaurant-Dorton Arena          2846  \n",
       "1     Murphy House Restaurant-Dorton Arena          3111  \n",
       "2     Murphy House Restaurant-Dorton Arena         16423  \n",
       "3     Murphy House Restaurant-Dorton Arena         16642  \n",
       "4     Murphy House Restaurant-Dorton Arena         21471  \n",
       "...                                    ...           ...  \n",
       "5874            Spring Hill Suites Kitchen         92254  \n",
       "5875            Spring Hill Suites Kitchen         95385  \n",
       "5876            Spring Hill Suites Kitchen        101615  \n",
       "5877            Spring Hill Suites Kitchen        143732  \n",
       "5878            Spring Hill Suites Kitchen        148356  \n",
       "\n",
       "[5879 rows x 8 columns]"
      ]
     },
     "execution_count": 8,
     "metadata": {},
     "output_type": "execute_result"
    }
   ],
   "source": [
    "#merge the yelp and the new table to get the restaurant with yelp rating that violated the inspection\n",
    "yelp_violation = pd.merge(yelp, restaurant_violation, on = 'address1')\n",
    "yelp_violation"
   ]
  },
  {
   "cell_type": "code",
   "execution_count": 9,
   "metadata": {},
   "outputs": [
    {
     "data": {
      "text/html": [
       "<div>\n",
       "<style scoped>\n",
       "    .dataframe tbody tr th:only-of-type {\n",
       "        vertical-align: middle;\n",
       "    }\n",
       "\n",
       "    .dataframe tbody tr th {\n",
       "        vertical-align: top;\n",
       "    }\n",
       "\n",
       "    .dataframe thead th {\n",
       "        text-align: right;\n",
       "    }\n",
       "</style>\n",
       "<table border=\"1\" class=\"dataframe\">\n",
       "  <thead>\n",
       "    <tr style=\"text-align: right;\">\n",
       "      <th></th>\n",
       "      <th>address1</th>\n",
       "      <th>rating</th>\n",
       "      <th>hsisid</th>\n",
       "    </tr>\n",
       "  </thead>\n",
       "  <tbody>\n",
       "    <tr>\n",
       "      <th>0</th>\n",
       "      <td>1025 Blue Ridge Rd</td>\n",
       "      <td>4.0</td>\n",
       "      <td>4092014036</td>\n",
       "    </tr>\n",
       "    <tr>\n",
       "      <th>184</th>\n",
       "      <td>2512 Ten Ten Rd</td>\n",
       "      <td>4.0</td>\n",
       "      <td>4092012231</td>\n",
       "    </tr>\n",
       "    <tr>\n",
       "      <th>225</th>\n",
       "      <td>9585 Chapel Hill Rd</td>\n",
       "      <td>3.0</td>\n",
       "      <td>4092014604</td>\n",
       "    </tr>\n",
       "    <tr>\n",
       "      <th>324</th>\n",
       "      <td>845 US Hwy 70 W</td>\n",
       "      <td>3.0</td>\n",
       "      <td>4092014002</td>\n",
       "    </tr>\n",
       "    <tr>\n",
       "      <th>410</th>\n",
       "      <td>220 Nottingham Dr</td>\n",
       "      <td>2.5</td>\n",
       "      <td>4092012067</td>\n",
       "    </tr>\n",
       "    <tr>\n",
       "      <th>...</th>\n",
       "      <td>...</td>\n",
       "      <td>...</td>\n",
       "      <td>...</td>\n",
       "    </tr>\n",
       "    <tr>\n",
       "      <th>5527</th>\n",
       "      <td>1911 Sego Ct</td>\n",
       "      <td>5.0</td>\n",
       "      <td>4092013322</td>\n",
       "    </tr>\n",
       "    <tr>\n",
       "      <th>5601</th>\n",
       "      <td>1911 Sego Ct</td>\n",
       "      <td>3.5</td>\n",
       "      <td>4092013322</td>\n",
       "    </tr>\n",
       "    <tr>\n",
       "      <th>5675</th>\n",
       "      <td>2421 Spring Forest Rd</td>\n",
       "      <td>4.5</td>\n",
       "      <td>4092010302</td>\n",
       "    </tr>\n",
       "    <tr>\n",
       "      <th>5743</th>\n",
       "      <td>4805 Capital Blvd</td>\n",
       "      <td>3.0</td>\n",
       "      <td>4092011235</td>\n",
       "    </tr>\n",
       "    <tr>\n",
       "      <th>5869</th>\n",
       "      <td>1128 Ledsome Lane</td>\n",
       "      <td>4.0</td>\n",
       "      <td>4092016715</td>\n",
       "    </tr>\n",
       "  </tbody>\n",
       "</table>\n",
       "<p>75 rows × 3 columns</p>\n",
       "</div>"
      ],
      "text/plain": [
       "                   address1  rating      hsisid\n",
       "0        1025 Blue Ridge Rd     4.0  4092014036\n",
       "184         2512 Ten Ten Rd     4.0  4092012231\n",
       "225     9585 Chapel Hill Rd     3.0  4092014604\n",
       "324         845 US Hwy 70 W     3.0  4092014002\n",
       "410       220 Nottingham Dr     2.5  4092012067\n",
       "...                     ...     ...         ...\n",
       "5527           1911 Sego Ct     5.0  4092013322\n",
       "5601           1911 Sego Ct     3.5  4092013322\n",
       "5675  2421 Spring Forest Rd     4.5  4092010302\n",
       "5743      4805 Capital Blvd     3.0  4092011235\n",
       "5869      1128 Ledsome Lane     4.0  4092016715\n",
       "\n",
       "[75 rows x 3 columns]"
      ]
     },
     "execution_count": 9,
     "metadata": {},
     "output_type": "execute_result"
    }
   ],
   "source": [
    "#clean up the dataset a little bit\n",
    "yelp_violation = yelp_violation[['address1', 'rating','hsisid']]\n",
    "#only keep one violation record for each restaurant, because I'm not compareing the total iolation times\n",
    "yelp_violation = yelp_violation.drop_duplicates()\n",
    "yelp_violation"
   ]
  },
  {
   "cell_type": "code",
   "execution_count": 10,
   "metadata": {},
   "outputs": [
    {
     "data": {
      "image/png": "[encoded data removed]",
      "text/plain": [
       "<Figure size 432x288 with 1 Axes>"
      ]
     },
     "metadata": {
      "needs_background": "light"
     },
     "output_type": "display_data"
    }
   ],
   "source": [
    "#make a graph of the violated restaurants' rating to see the distribution\n",
    "sns.distplot(yelp_violation['rating'], bins = 8, kde = False)\n",
    "\n",
    "f1 = plt.gcf()"
   ]
  },
  {
   "cell_type": "code",
   "execution_count": 13,
   "metadata": {},
   "outputs": [],
   "source": [
    "#calculate each portion of high ratings and low ratings restaurants violated the inspection\n",
    "high_rating_portion = len(yelp_violation[yelp_violation['rating']>rating_mean])/len(yelp[yelp['rating']>rating_mean])*100\n",
    "low_rating_portion = len(yelp_violation[yelp_violation['rating']<rating_mean])/len(yelp[yelp['rating']<rating_mean])*100"
   ]
  },
  {
   "cell_type": "code",
   "execution_count": 14,
   "metadata": {},
   "outputs": [
    {
     "data": {
      "text/plain": [
       "True"
      ]
     },
     "execution_count": 14,
     "metadata": {},
     "output_type": "execute_result"
    }
   ],
   "source": [
    "high_rating_portion<low_rating_portion"
   ]
  },
  {
   "cell_type": "markdown",
   "metadata": {},
   "source": [
    "###### Result:Restaurants with relatively low ratings is likely to violate the health inspection."
   ]
  },
  {
   "cell_type": "markdown",
   "metadata": {},
   "source": [
    "# Ethics & Privacy"
   ]
  },
  {
   "cell_type": "markdown",
   "metadata": {},
   "source": [
    "First of all, these dataset are provided by the professor, and I'm not very clear with its source. Also, I don't really know whether there is a permission to use these datas. There are phone numbers included in the datasets, which is private informations. The yelp review is rated by individuals and they are not 100% neutral, especially for those restaurant who has only one or two reviews, it's possible to be biased. \n",
    "\n",
    "For any data I use, I should check it's source, that it should be from a reliable and legal source. And I need to make sure that I am allowed to use it. After got the permission of using the data, I need to remove everthing that's private information and never publish private information to the public. I can't control with the yelp ratings, but I will try to find more restaurants with similar number of reviews."
   ]
  },
  {
   "cell_type": "markdown",
   "metadata": {},
   "source": [
    "# Conclusion & Discussion"
   ]
  },
  {
   "cell_type": "markdown",
   "metadata": {},
   "source": [
    "*First of all, the topic of my project is the relationship between yelp rating and health inspections of a restaurant. I hypothesize that restaurants with yelp rating below the mean rating would be more likely to violate the health inspection. In other words, lower yelp ratings implies the restaurants might have lower health levl. I did this by comparing the violation rate for both lower rating restaurants and higher rating restaurants, and I got the result of a higher violation rate on lower rating restaurants. Thus I came to the conclusion that restaurants with lower ratings do have a higher chance to violate the health inspection.\n",
    "\n",
    "However, there are some limitations that might cause an inaccuracy of this test. There are some prolems with the dataset. First, the X.objectid and the hsisid sometimes does not match. Some restaurants have the same hsisid but different X.objectid and vice versa. Also, some restaurants got the same address but different names. This is confusing during the data analysis. I don't know which one to take. And some restaurants have hundreds of ratings and some only have one or two reviews, this is not very fair to take in count. And according to some news, that some of the Yelp ratings are fake, but I am unable to know whether there are any fake ratings in the dataset.\n",
    "\n",
    "By doing this project, I want people to focus more on the health level of the restaurant, not only the taste of the food. And do not rely too much on yelp ratings. And before go to a restaurant, cosider the health and safeness of the food, because there are really lots of restaurants that violated the inspection no matter how they are rated on Yelp.*"
   ]
  }
 ],
 "metadata": {
  "kernelspec": {
   "display_name": "Python 3",
   "language": "python",
   "name": "python3"
  },
  "language_info": {
   "codemirror_mode": {
    "name": "ipython",
    "version": 3
   },
   "file_extension": ".py",
   "mimetype": "text/x-python",
   "name": "python",
   "nbconvert_exporter": "python",
   "pygments_lexer": "ipython3",
   "version": "3.6.7"
  }
 },
 "nbformat": 4,
 "nbformat_minor": 2
}
