{
 "cells": [
  {
   "cell_type": "markdown",
   "metadata": {},
   "source": [
    "# COGS 108 - Project Proposal"
   ]
  },
  {
   "cell_type": "markdown",
   "metadata": {},
   "source": [
    "# Names & PID\n",
    "\n",
    "- Name: Louis Morales",
    "- PID: A13906659"
   ]
  },
  {
   "cell_type": "markdown",
   "metadata": {},
   "source": [
    "# Research Question"
   ]
  },
  {
   "cell_type": "markdown",
   "metadata": {},
   "source": [
    "What qualities are most important in creating viral social media content?"
   ]
  },
  {
   "cell_type": "markdown",
   "metadata": {},
   "source": [
    "## Background and Prior Work"
   ]
  },
  {
   "cell_type": "markdown",
   "metadata": {},
   "source": [
    "I am a social media user myself, and thus often come into contact with posts and contents on several social media sites, including Twitter, Facebook, Instagram, and Tik Tok. Based on my own personal experience, such posts tend to be relatable to a not-insignicant amount of people, and often tend to evoke some sort of emotional response from a consumer. After following up with some research, I have found that ensuring your content is disseminated by people or entities seen as influencers, or opinion-makers is important (Poyry 2018). In addition it is also important that content is easy to digest and thus is easily understood by its audience(River University 2020). \n",
    "\n",
    "References (include links):\n",
    "- 1) https://scholarspace.manoa.hawaii.edu/bitstream/10125/50160/1/paper0273.pdf \n",
    "- 2) https://www.rivier.edu/academics/blog-posts/history-of-viral-marketing/ "
   ]
  },
  {
   "cell_type": "markdown",
   "metadata": {},
   "source": [
    "# Hypothesis\n"
   ]
  },
  {
   "cell_type": "markdown",
   "metadata": {},
   "source": [
    "If one were to create a social media post that discusses topics or events that are in the public consciousness or otherwise relatable by evoking an emotion related to a common experience, then it is likely to go viral. "
   ]
  },
  {
   "cell_type": "markdown",
   "metadata": {},
   "source": [
    "# Data"
   ]
  },
  {
   "cell_type": "markdown",
   "metadata": {},
   "source": [
    "My ideal dataset would include 100's if not 1000's of different viral posts off of multiple different social media websites. Some variables would be the demographics of the people most sharing them, common topics or keywords that each post contains, and potentially a timescale for each observation, a.k.a how fast/slow each post was disseminated across its respective site, and finally how many times each post was shared and/or interacted with. These data could be collected using the hashtags feature prevalent on many platforms, as well as requesting data from the companies that own the platforms themselves. The data would be stored in groups, grouped from each platform, sorted in descending order from most amount of interactions to least, with numerous columns representing each of the aforementioned variables. "
   ]
  },
  {
   "cell_type": "markdown",
   "metadata": {},
   "source": [
    "# Ethics & Privacy"
   ]
  },
  {
   "cell_type": "markdown",
   "metadata": {},
   "source": [
    "The largest potential breach of privacy would be the knowledge of the demographics of the individuals who share/create viral content. For example, many users may interact with content geared toward LGBTQ+ communities, but may not be out themselves, and thus exposing that information may risk their safety. In addition, even if posts/who interacts with posts is publicly available information, such deep scrutiny into individuals social media, may cause controversy. In addition, it is somewhat known that many platforms tend to silence those of marginalized communities, and so we may reproducing those inequities as such content may not even become viral in the first place, even though it may have, if more equitable algorithms that didn't unfairly silence marginzalize certain groups were in place. "
   ]
  }
 ],
 "metadata": {
  "kernelspec": {
   "display_name": "Python 3",
   "language": "python",
   "name": "python3"
  },
  "language_info": {
   "codemirror_mode": {
    "name": "ipython",
    "version": 3
   },
   "file_extension": ".py",
   "mimetype": "text/x-python",
   "name": "python",
   "nbconvert_exporter": "python",
   "pygments_lexer": "ipython3",
   "version": "3.7.0"
  }
 },
 "nbformat": 4,
 "nbformat_minor": 2
}
