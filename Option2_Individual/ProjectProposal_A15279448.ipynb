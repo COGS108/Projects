{
 "cells": [
  {
   "cell_type": "markdown",
   "metadata": {},
   "source": [
    "# COGS 108 - Project Proposal"
   ]
  },
  {
   "cell_type": "markdown",
   "metadata": {},
   "source": [
    "# Names & PID\n",
    "\n",
    "- Name: Sophie Truong\n",
    "- PID: A15279448"
   ]
  },
  {
   "cell_type": "markdown",
   "metadata": {},
   "source": [
    "# Research Question"
   ]
  },
  {
   "cell_type": "markdown",
   "metadata": {},
   "source": [
    " Is there a relationship between health inspection ratings and the socioeconomic areas that the chain restaurants are located in?"
   ]
  },
  {
   "cell_type": "markdown",
   "metadata": {},
   "source": [
    "## Background and Prior Work"
   ]
  },
  {
   "cell_type": "markdown",
   "metadata": {},
   "source": [
    "In a 2-year study where they explored the outcomes of health inspections in relation to restaurant inspection frequency and neighborhood sociodemographic, chain restaurants were found to have significantly fewer violations per inspection (1). Chain restaurants serve less perishable food so the chance of foodborne illnesses were less likely. Also, the number of total violations per inspection was not associated with any block group sociodemographic characteristics. However, it was also noted that “the number of foodborne-illness risk factor violations per inspection was significantly associated with the proportion of black residents, whereas the number of good retail practice violations per inspection was significantly positively associated with proportion of black residents and hispanics.” The takeaway message of this study was that it doesn’t matter if a restaurant is non-chain or chain; health inspections should be done in a way that focuses more on restaurants in areas that seem to be in higher risk to reduce frequency of violations. \n",
    "\n",
    "Another study focused on tracking critical health violations (CHV) in communities with different socioeconomic status and demographics. They were able to pinpoint health indicators to specific geographic locations in Philadelphia through geographic information systems (GIS). “Overall, food service facilities in higher poverty areas had a greater number of [food service facilities] (with at least one CHV) and had more frequent inspections than facilities in lower poverty areas. The facilities in lower poverty areas, however, had a higher average number of CHV per inspection” (2). In high concentrations of minority populations, Hispanic facilities had more CHV than other demographics, and Hispanic and African American facilities had fewer days between inspections. This study reveals how subjective health inspections can be and that it indicates that other factors might be affecting inspection frequency and identification of CHV. \n",
    "\n",
    "References (include links):\n",
    "- 1) https://www.ncbi.nlm.nih.gov/pmc/articles/PMC3323064/ \n",
    "- 2) https://www.ncbi.nlm.nih.gov/pubmed/21902922/"
   ]
  },
  {
   "cell_type": "markdown",
   "metadata": {},
   "source": [
    "# Hypothesis\n"
   ]
  },
  {
   "cell_type": "markdown",
   "metadata": {},
   "source": [
    "My hypothesis is that chain restaurants in regions associated with lower socioeconomic statuses tend to receive a lower health inspection score. After the research that I have done, I have noticed that there is a trend of more health violations in areas with more residents that have lower income, and that it being chain or non-chain restaurant doesn't have too much of an influence on the outcome."
   ]
  },
  {
   "cell_type": "markdown",
   "metadata": {},
   "source": [
    "# Data"
   ]
  },
  {
   "cell_type": "markdown",
   "metadata": {},
   "source": [
    "The ideal datasets I would need to answer my question are health inspection grades for chain restaurants and general income levels in cities with different socioeconomic statuses. For the health inspection grades, I would like to have information about type of restaurant, chain or non-chain, how long it’s been there, frequency of health inspection visits per year, health inspection grade, health violations, best grade, worst grade, and how many of those violations were critical or non-critical. I believe this would give a good idea of the restaurant’s history and how it’s been generally graded. For the cities, I would like the number of population, median income, address, and whether or not they had experienced food sickness from a restaurant and where. I believe these four would be sufficient. I did not include race as I feel like it would make the research make unfair implications.  These two data will be stored in two separate datasets in a table format. I would like to sample at least 65% of the restaurants and people living in that city. These observations would include random people living in the city and various types of chain restaurants. They would be asked questions related to information I want in my datasets. "
   ]
  },
  {
   "cell_type": "markdown",
   "metadata": {},
   "source": [
    "# Ethics & Privacy"
   ]
  },
  {
   "cell_type": "markdown",
   "metadata": {},
   "source": [
    "*Fill in your ethics & privacy discussion here*"
   ]
  }
 ],
 "metadata": {
  "kernelspec": {
   "display_name": "Python 3",
   "language": "python",
   "name": "python3"
  },
  "language_info": {
   "codemirror_mode": {
    "name": "ipython",
    "version": 3
   },
   "file_extension": ".py",
   "mimetype": "text/x-python",
   "name": "python",
   "nbconvert_exporter": "python",
   "pygments_lexer": "ipython3",
   "version": "3.7.0"
  }
 },
 "nbformat": 4,
 "nbformat_minor": 2
}
