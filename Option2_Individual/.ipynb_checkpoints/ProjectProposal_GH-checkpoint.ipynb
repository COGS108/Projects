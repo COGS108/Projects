{
 "cells": [
  {
   "cell_type": "markdown",
   "metadata": {},
   "source": [
    "# COGS 108 - Project Proposal"
   ]
  },
  {
   "cell_type": "markdown",
   "metadata": {},
   "source": [
    "# Names & GitHub ID\n",
    "\n",
    "- Name: Yaoyuan Luo\n",
    "- GitHub Username: YaoyuanLuo"
   ]
  },
  {
   "cell_type": "markdown",
   "metadata": {},
   "source": [
    "# Research Question"
   ]
  },
  {
   "cell_type": "markdown",
   "metadata": {},
   "source": [
    "My research Question is that: San Diego has a poor public transportation that leads to a low flow rate of the park, especially among students. In particular, most students need parents to send off and pick up when they go to the park for recreations. To address this issue, I suggest that the city should spend money on projecting a metro line for these students to increase the flow rate of the park."
   ]
  },
  {
   "cell_type": "markdown",
   "metadata": {},
   "source": [
    "## Background and Prior Work"
   ]
  },
  {
   "cell_type": "markdown",
   "metadata": {},
   "source": [
    "This project focuses on how to let young people to involve in more outdoor activities. The author mentions the point that lack of transportation is one of the primary reasons for the issue. It is similar to my proposal, which focuses on the poor public transportation that cause less students going to the park. This project also supported my proposed solution.\n",
    "\n",
    "According to the prior research on the question, it demonstrate that to gain insight into the top barriers for youth toget outdoors and be more active. We need to solve the problem of poor parental influence and the lack of transportation. Moreover, we need to adequately educating parents; and integrating the outdoors activities with more convenient public transportation to parks & Recreation in San Diego.\n",
    "\n",
    "The prior work shows that we may solve the question by providing accessible and affordable transportation for young people to parks & Recreation.\n",
    "\n",
    "References (include links):\n",
    "- 1) https://outdoorindustry.org/wp-content/uploads/2017/03/2010-Outdoor-Nation-Special-Report-Barriers-to-the-Outdoors.pdf\n",
    "- 2) https://www.ncbi.nlm.nih.gov/books/NBK219690/"
   ]
  },
  {
   "cell_type": "markdown",
   "metadata": {},
   "source": [
    "# Hypothesis\n"
   ]
  },
  {
   "cell_type": "markdown",
   "metadata": {},
   "source": [
    "*The main issue in California is its inconvenience and poor public transfortation, which holds back many students who want to spend their leisure time in the park. If we provide more convenient transportations, such as a metro line, to students who does not have the ability to transport to the park by themselves, they will choose to go to the park more often for recreations. Thus, this suggestion will attract more young people to the park for outdoor activities and therefore increase the flow rate of the park.*\n"
   ]
  },
  {
   "cell_type": "markdown",
   "metadata": {},
   "source": [
    "# Data"
   ]
  },
  {
   "cell_type": "markdown",
   "metadata": {},
   "source": [
    "The ideal dataset that I would need in order to answer my question is that: \n",
    "1. Occupation of each parent.\n",
    "2. Work hours/availability of parents.\n",
    "3. Household's children information.\n",
    "\n",
    "For the number of observations, I would like to prefer more than 500 observations. The more observations will aviod bias group and more convident with our conclusion.\n",
    "\n",
    "A survey from each family will help on collecting data. Just need to answer these question: How many children in family? What are parents occupations? What are the work hours daily? Students' age/grade level.\n",
    "\n",
    "These data should be stored in a chart or table in txt. files, and should be well-cleaned and organized."
   ]
  },
  {
   "cell_type": "markdown",
   "metadata": {},
   "source": [
    "# Ethics & Privacy"
   ]
  },
  {
   "cell_type": "markdown",
   "metadata": {},
   "source": [
    "I think these information will be allowed to use for my project. Since this is a public issues, it need to be solve in order to help our young generation engage in outdoor activities in parks.\n",
    "\n",
    "Dataset which we collected from each household will be maintain private if there is any personal information such as name and address info. As long as we don't reveal the name&address, it is acceptable to show the occupation and work avaibility.\n",
    "\n",
    "The potential biases in my dataset probably will influency by the unparticipant which result in less observation. We respect to those household which are not will to provide the information, but we highly recommend parents to help in this events to engage their children to outdoor activities in public park.\n",
    "\n",
    "We should let our citizen pay more attention to their child physical health, and let them participate in the data collecting event.\n"
   ]
  },
  {
   "cell_type": "code",
   "execution_count": null,
   "metadata": {
    "collapsed": true
   },
   "outputs": [],
   "source": []
  }
 ],
 "metadata": {
  "kernelspec": {
   "display_name": "Python 3",
   "language": "python",
   "name": "python3"
  },
  "language_info": {
   "codemirror_mode": {
    "name": "ipython",
    "version": 3
   },
   "file_extension": ".py",
   "mimetype": "text/x-python",
   "name": "python",
   "nbconvert_exporter": "python",
   "pygments_lexer": "ipython3",
   "version": "3.6.3"
  }
 },
 "nbformat": 4,
 "nbformat_minor": 2
}
