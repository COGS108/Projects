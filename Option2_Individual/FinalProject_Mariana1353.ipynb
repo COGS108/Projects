{
 "cells": [
  {
   "cell_type": "markdown",
   "metadata": {},
   "source": [
    "# COGS 108 - Final Project "
   ]
  },
  {
   "cell_type": "markdown",
   "metadata": {},
   "source": [
    "# Overview"
   ]
  },
  {
   "cell_type": "markdown",
   "metadata": {},
   "source": [
    "This study investigates the influence of scheduling on the inspection accuracy of restaurants. The goal is to try to find ways to improve how local government inspectors handle the difficult task of ensuring that restaurants prepare food safely. To do so, we examine the effects of conducting more than one inspection throughout the day, and the number of violations found. "
   ]
  },
  {
   "cell_type": "markdown",
   "metadata": {},
   "source": [
    "# Name & PID\n",
    "\n",
    "- Name: Mariana Ayala \n",
    "- PID: Mariana1353"
   ]
  },
  {
   "cell_type": "markdown",
   "metadata": {},
   "source": [
    "# Research Question"
   ]
  },
  {
   "cell_type": "markdown",
   "metadata": {},
   "source": [
    "Is there a relationship between the number of violations found and the inspection number? \n",
    "\n",
    "How scheduling affects the citations of violations and therefore the reliability of the inspection?\n"
   ]
  },
  {
   "cell_type": "markdown",
   "metadata": {},
   "source": [
    "## Background and Prior Work"
   ]
  },
  {
   "cell_type": "markdown",
   "metadata": {},
   "source": [
    "The United States spends a large amount of money to prevent foodborne illness outbreaks. According to the Centers for Disease Control and Prevention (CDC), “each year, approximately 48 million people get sick, 128,000 are hospitalized, and 3,000 die of foodborne diseases” (“Burden of Foodborne Illness: Findings,” 2018). Food safety inspections are administered by the government or local agents to prevent restaurant-associated foodborne outbreaks and ensure that food is prepared and handled safely. Inspectors use an ABC grading scheme to classify restaurants based on risk. Grade ‘A’ means the restaurant complied with each of the inspection items. Grade ‘B’ restaurants met with most items but violated one of five specific items (i.e., floors, walls, and ceilings), and grade ‘C’ restaurants failed to meet either standard. Restaurant owners are mandated to display their letter scores to ensure that consumers are informed of the food’s safety. Restaurants receiving a passing grade have no critical or severe violations, while those failing have critical or severe violations that are not correctable during an inspection. These efforts have shown to incentivize restaurants to reduce risks for foodborne illness.\n",
    "\n",
    "In addition, a study conducted in Philadelphia found that “changes in the targeting and scheduling of food safety inspections could improve the efficiency of detecting violations” (Leinwand, S. E., Glanz, K., Keenan, B. T., & Branas, C. C. (2017). Importantly, researchers also discovered chain restaurants have fewer violations than non-chain restaurants. We know that a variety of factors influence restaurant inspections’ efficacy and reliability in preventing foodborne disease. Therefore, the study aims to determine when should inspections take place to reduce food safety risks in North Carolina and how scheduling affects the worker’s behavior and the number of violations found? For instance, a study in Tennessee by Jones et al., on restaurant inspection scores and foodborne disease found that “routine restaurant inspection scores varied substantially over time, by region, and by the person performing the inspection” (2004).\n",
    "\n",
    "References (include links):\n",
    "- 1) https://journals.sagepub.com/doi/full/10.1177/0033354916687741#articleCitationDownloadContainer\n",
    "- 2) https://www.ncbi.nlm.nih.gov/pmc/articles/PMC3323064/\n",
    "- 3) https://www.cdc.gov/foodborneburden/2011-foodborne-estimates.html\n",
    "- 4) https://www.yalelawjournal.org/pdf/1120_mparaxzn.pdf"
   ]
  },
  {
   "cell_type": "markdown",
   "metadata": {},
   "source": [
    "# Hypothesis\n"
   ]
  },
  {
   "cell_type": "markdown",
   "metadata": {},
   "source": [
    "I hypothesize that inspectors will record fewer violations as they spend more time conducting inspections throughout the day. This is because inspecting causes fatigue that decays inspectors’ vigilance and leads them to cite fewer violations.\n"
   ]
  },
  {
   "cell_type": "markdown",
   "metadata": {},
   "source": [
    "# Dataset(s)"
   ]
  },
  {
   "cell_type": "markdown",
   "metadata": {},
   "source": [
    "**Data set description:**\n",
    "\n",
    "- Dataset Name: Inspections.csv\n",
    "- Number of observations: 18466\n",
    "\n",
    "\n",
    "This data set is derived from inspections of restaurants and other food establishments in North Carolina. However, for the purpose of this study, we will focus only on restaurant facilities in North Carolina. \n",
    "\n",
    "It provides information such as the exact number and the type of violations discovered in each restaurant. The data is semistructured data, and needs to be filtered, clean, and organized in a relational database. Every observation of a variable is stored in a different row. Observations include facility type, violation code, grade, and inspection number, and the number of critical violations. \n",
    "\n",
    " "
   ]
  },
  {
   "cell_type": "markdown",
   "metadata": {},
   "source": [
    "# Setup"
   ]
  },
  {
   "cell_type": "markdown",
   "metadata": {},
   "source": [
    "## Importing Packages"
   ]
  },
  {
   "cell_type": "code",
   "execution_count": 1,
   "metadata": {},
   "outputs": [],
   "source": [
    "# Import libraries \n",
    "import pandas as pd\n",
    "import numpy as np\n",
    "\n",
    "# Import seaborn & stats\n",
    "import seaborn as sns\n",
    "sns.set(style=\"white\", font_scale=2)\n",
    "import scipy.stats as stats\n",
    "\n",
    "# import matplotlib\n",
    "import matplotlib as mpl\n",
    "import matplotlib.pyplot as plt\n",
    "\n",
    "# Statmodels & patsy\n",
    "import patsy\n",
    "import statsmodels.api as sm\n",
    "\n",
    "#import string & csv\n",
    "import csv\n",
    "import string\n",
    "\n"
   ]
  },
  {
   "cell_type": "markdown",
   "metadata": {},
   "source": [
    "## Converting CSV File Into Pandas DataFrame"
   ]
  },
  {
   "cell_type": "markdown",
   "metadata": {},
   "source": [
    "To use the data, we have to read it in as a Dataframe. First, we load the inspections.csv file into a pandas DataFrame named df. It should have 18466 rows and 36 columns. \n"
   ]
  },
  {
   "cell_type": "code",
   "execution_count": 2,
   "metadata": {},
   "outputs": [],
   "source": [
    "# Load a csv file \n",
    "df = pd.read_csv('inspections.csv')"
   ]
  },
  {
   "cell_type": "markdown",
   "metadata": {},
   "source": [
    "# Data Cleaning"
   ]
  },
  {
   "cell_type": "markdown",
   "metadata": {},
   "source": [
    "### Exploring the data\n"
   ]
  },
  {
   "cell_type": "markdown",
   "metadata": {},
   "source": [
    "After reading in a dataset, It is important to check tha type of information is stored in each column. To check the values store use **describe and dtypes attribute.**"
   ]
  },
  {
   "cell_type": "code",
   "execution_count": 3,
   "metadata": {},
   "outputs": [
    {
     "data": {
      "text/html": [
       "<div>\n",
       "<style scoped>\n",
       "    .dataframe tbody tr th:only-of-type {\n",
       "        vertical-align: middle;\n",
       "    }\n",
       "\n",
       "    .dataframe tbody tr th {\n",
       "        vertical-align: top;\n",
       "    }\n",
       "\n",
       "    .dataframe thead th {\n",
       "        text-align: right;\n",
       "    }\n",
       "</style>\n",
       "<table border=\"1\" class=\"dataframe\">\n",
       "  <thead>\n",
       "    <tr style=\"text-align: right;\">\n",
       "      <th></th>\n",
       "      <th>hsisid</th>\n",
       "      <th>days_from_open_date</th>\n",
       "      <th>x</th>\n",
       "      <th>y</th>\n",
       "      <th>zip</th>\n",
       "      <th>inspection_num</th>\n",
       "      <th>inspector_id</th>\n",
       "      <th>days_since_previous_inspection</th>\n",
       "      <th>score</th>\n",
       "      <th>num_critical</th>\n",
       "      <th>num_non_critical</th>\n",
       "      <th>num_critical_previous</th>\n",
       "      <th>num_non_critical_previous</th>\n",
       "      <th>num_critical_mean_previous</th>\n",
       "      <th>num_non_critical_mean_previous</th>\n",
       "      <th>avg_neighbor_num_critical</th>\n",
       "      <th>avg_neighbor_num_non_critical</th>\n",
       "      <th>top_match</th>\n",
       "      <th>second_match</th>\n",
       "      <th>critical</th>\n",
       "    </tr>\n",
       "  </thead>\n",
       "  <tbody>\n",
       "    <tr>\n",
       "      <th>count</th>\n",
       "      <td>1.846600e+04</td>\n",
       "      <td>18466.000000</td>\n",
       "      <td>18466.000000</td>\n",
       "      <td>18466.000000</td>\n",
       "      <td>18466.000000</td>\n",
       "      <td>18466.000000</td>\n",
       "      <td>18461.000000</td>\n",
       "      <td>15421.000000</td>\n",
       "      <td>18466.000000</td>\n",
       "      <td>18466.000000</td>\n",
       "      <td>18466.000000</td>\n",
       "      <td>15421.000000</td>\n",
       "      <td>15421.000000</td>\n",
       "      <td>15421.000000</td>\n",
       "      <td>15421.000000</td>\n",
       "      <td>18460.000000</td>\n",
       "      <td>18460.000000</td>\n",
       "      <td>1.846000e+04</td>\n",
       "      <td>1.846000e+04</td>\n",
       "      <td>18466.000000</td>\n",
       "    </tr>\n",
       "    <tr>\n",
       "      <th>mean</th>\n",
       "      <td>4.092039e+09</td>\n",
       "      <td>3262.693274</td>\n",
       "      <td>-78.674401</td>\n",
       "      <td>35.802919</td>\n",
       "      <td>27577.605816</td>\n",
       "      <td>4.191216</td>\n",
       "      <td>13.751151</td>\n",
       "      <td>192.886259</td>\n",
       "      <td>96.235324</td>\n",
       "      <td>2.844308</td>\n",
       "      <td>5.161432</td>\n",
       "      <td>2.922962</td>\n",
       "      <td>5.257052</td>\n",
       "      <td>3.276783</td>\n",
       "      <td>5.539424</td>\n",
       "      <td>3.374616</td>\n",
       "      <td>5.738676</td>\n",
       "      <td>4.092031e+09</td>\n",
       "      <td>4.092036e+09</td>\n",
       "      <td>0.818044</td>\n",
       "    </tr>\n",
       "    <tr>\n",
       "      <th>std</th>\n",
       "      <td>6.235295e+04</td>\n",
       "      <td>2569.271482</td>\n",
       "      <td>0.118368</td>\n",
       "      <td>0.083128</td>\n",
       "      <td>44.168085</td>\n",
       "      <td>2.578251</td>\n",
       "      <td>9.350358</td>\n",
       "      <td>83.476608</td>\n",
       "      <td>2.654203</td>\n",
       "      <td>2.809652</td>\n",
       "      <td>3.679451</td>\n",
       "      <td>2.831160</td>\n",
       "      <td>3.738389</td>\n",
       "      <td>2.320130</td>\n",
       "      <td>3.201003</td>\n",
       "      <td>1.563459</td>\n",
       "      <td>2.100702</td>\n",
       "      <td>5.212564e+04</td>\n",
       "      <td>6.600398e+04</td>\n",
       "      <td>0.385819</td>\n",
       "    </tr>\n",
       "    <tr>\n",
       "      <th>min</th>\n",
       "      <td>4.092010e+09</td>\n",
       "      <td>-160.000000</td>\n",
       "      <td>-78.941986</td>\n",
       "      <td>35.539550</td>\n",
       "      <td>27501.000000</td>\n",
       "      <td>1.000000</td>\n",
       "      <td>1.000000</td>\n",
       "      <td>0.000000</td>\n",
       "      <td>72.500000</td>\n",
       "      <td>0.000000</td>\n",
       "      <td>0.000000</td>\n",
       "      <td>0.000000</td>\n",
       "      <td>0.000000</td>\n",
       "      <td>0.000000</td>\n",
       "      <td>0.000000</td>\n",
       "      <td>0.000000</td>\n",
       "      <td>0.800000</td>\n",
       "      <td>4.092010e+09</td>\n",
       "      <td>4.092010e+09</td>\n",
       "      <td>0.000000</td>\n",
       "    </tr>\n",
       "    <tr>\n",
       "      <th>25%</th>\n",
       "      <td>4.092015e+09</td>\n",
       "      <td>1069.000000</td>\n",
       "      <td>-78.774820</td>\n",
       "      <td>35.763133</td>\n",
       "      <td>27529.000000</td>\n",
       "      <td>2.000000</td>\n",
       "      <td>6.000000</td>\n",
       "      <td>140.000000</td>\n",
       "      <td>95.000000</td>\n",
       "      <td>1.000000</td>\n",
       "      <td>3.000000</td>\n",
       "      <td>1.000000</td>\n",
       "      <td>3.000000</td>\n",
       "      <td>1.600000</td>\n",
       "      <td>3.000000</td>\n",
       "      <td>2.190000</td>\n",
       "      <td>4.294444</td>\n",
       "      <td>4.092014e+09</td>\n",
       "      <td>4.092014e+09</td>\n",
       "      <td>1.000000</td>\n",
       "    </tr>\n",
       "    <tr>\n",
       "      <th>50%</th>\n",
       "      <td>4.092016e+09</td>\n",
       "      <td>2733.000000</td>\n",
       "      <td>-78.668185</td>\n",
       "      <td>35.797836</td>\n",
       "      <td>27603.000000</td>\n",
       "      <td>4.000000</td>\n",
       "      <td>11.000000</td>\n",
       "      <td>182.000000</td>\n",
       "      <td>97.000000</td>\n",
       "      <td>2.000000</td>\n",
       "      <td>4.000000</td>\n",
       "      <td>2.000000</td>\n",
       "      <td>4.000000</td>\n",
       "      <td>2.800000</td>\n",
       "      <td>5.000000</td>\n",
       "      <td>3.167976</td>\n",
       "      <td>5.400000</td>\n",
       "      <td>4.092016e+09</td>\n",
       "      <td>4.092016e+09</td>\n",
       "      <td>1.000000</td>\n",
       "    </tr>\n",
       "    <tr>\n",
       "      <th>75%</th>\n",
       "      <td>4.092022e+09</td>\n",
       "      <td>4884.750000</td>\n",
       "      <td>-78.600152</td>\n",
       "      <td>35.856202</td>\n",
       "      <td>27610.000000</td>\n",
       "      <td>6.000000</td>\n",
       "      <td>22.000000</td>\n",
       "      <td>228.000000</td>\n",
       "      <td>98.000000</td>\n",
       "      <td>4.000000</td>\n",
       "      <td>7.000000</td>\n",
       "      <td>4.000000</td>\n",
       "      <td>7.000000</td>\n",
       "      <td>4.428571</td>\n",
       "      <td>7.250000</td>\n",
       "      <td>4.273333</td>\n",
       "      <td>6.800000</td>\n",
       "      <td>4.092021e+09</td>\n",
       "      <td>4.092021e+09</td>\n",
       "      <td>1.000000</td>\n",
       "    </tr>\n",
       "    <tr>\n",
       "      <th>max</th>\n",
       "      <td>4.092300e+09</td>\n",
       "      <td>10947.000000</td>\n",
       "      <td>-78.271228</td>\n",
       "      <td>36.051133</td>\n",
       "      <td>28587.000000</td>\n",
       "      <td>16.000000</td>\n",
       "      <td>32.000000</td>\n",
       "      <td>1083.000000</td>\n",
       "      <td>100.000000</td>\n",
       "      <td>23.000000</td>\n",
       "      <td>33.000000</td>\n",
       "      <td>23.000000</td>\n",
       "      <td>33.000000</td>\n",
       "      <td>23.000000</td>\n",
       "      <td>27.000000</td>\n",
       "      <td>10.518095</td>\n",
       "      <td>16.333333</td>\n",
       "      <td>4.092300e+09</td>\n",
       "      <td>4.092300e+09</td>\n",
       "      <td>1.000000</td>\n",
       "    </tr>\n",
       "  </tbody>\n",
       "</table>\n",
       "</div>"
      ],
      "text/plain": [
       "             hsisid  days_from_open_date             x             y  \\\n",
       "count  1.846600e+04         18466.000000  18466.000000  18466.000000   \n",
       "mean   4.092039e+09          3262.693274    -78.674401     35.802919   \n",
       "std    6.235295e+04          2569.271482      0.118368      0.083128   \n",
       "min    4.092010e+09          -160.000000    -78.941986     35.539550   \n",
       "25%    4.092015e+09          1069.000000    -78.774820     35.763133   \n",
       "50%    4.092016e+09          2733.000000    -78.668185     35.797836   \n",
       "75%    4.092022e+09          4884.750000    -78.600152     35.856202   \n",
       "max    4.092300e+09         10947.000000    -78.271228     36.051133   \n",
       "\n",
       "                zip  inspection_num  inspector_id  \\\n",
       "count  18466.000000    18466.000000  18461.000000   \n",
       "mean   27577.605816        4.191216     13.751151   \n",
       "std       44.168085        2.578251      9.350358   \n",
       "min    27501.000000        1.000000      1.000000   \n",
       "25%    27529.000000        2.000000      6.000000   \n",
       "50%    27603.000000        4.000000     11.000000   \n",
       "75%    27610.000000        6.000000     22.000000   \n",
       "max    28587.000000       16.000000     32.000000   \n",
       "\n",
       "       days_since_previous_inspection         score  num_critical  \\\n",
       "count                    15421.000000  18466.000000  18466.000000   \n",
       "mean                       192.886259     96.235324      2.844308   \n",
       "std                         83.476608      2.654203      2.809652   \n",
       "min                          0.000000     72.500000      0.000000   \n",
       "25%                        140.000000     95.000000      1.000000   \n",
       "50%                        182.000000     97.000000      2.000000   \n",
       "75%                        228.000000     98.000000      4.000000   \n",
       "max                       1083.000000    100.000000     23.000000   \n",
       "\n",
       "       num_non_critical  num_critical_previous  num_non_critical_previous  \\\n",
       "count      18466.000000           15421.000000               15421.000000   \n",
       "mean           5.161432               2.922962                   5.257052   \n",
       "std            3.679451               2.831160                   3.738389   \n",
       "min            0.000000               0.000000                   0.000000   \n",
       "25%            3.000000               1.000000                   3.000000   \n",
       "50%            4.000000               2.000000                   4.000000   \n",
       "75%            7.000000               4.000000                   7.000000   \n",
       "max           33.000000              23.000000                  33.000000   \n",
       "\n",
       "       num_critical_mean_previous  num_non_critical_mean_previous  \\\n",
       "count                15421.000000                    15421.000000   \n",
       "mean                     3.276783                        5.539424   \n",
       "std                      2.320130                        3.201003   \n",
       "min                      0.000000                        0.000000   \n",
       "25%                      1.600000                        3.000000   \n",
       "50%                      2.800000                        5.000000   \n",
       "75%                      4.428571                        7.250000   \n",
       "max                     23.000000                       27.000000   \n",
       "\n",
       "       avg_neighbor_num_critical  avg_neighbor_num_non_critical     top_match  \\\n",
       "count               18460.000000                   18460.000000  1.846000e+04   \n",
       "mean                    3.374616                       5.738676  4.092031e+09   \n",
       "std                     1.563459                       2.100702  5.212564e+04   \n",
       "min                     0.000000                       0.800000  4.092010e+09   \n",
       "25%                     2.190000                       4.294444  4.092014e+09   \n",
       "50%                     3.167976                       5.400000  4.092016e+09   \n",
       "75%                     4.273333                       6.800000  4.092021e+09   \n",
       "max                    10.518095                      16.333333  4.092300e+09   \n",
       "\n",
       "       second_match      critical  \n",
       "count  1.846000e+04  18466.000000  \n",
       "mean   4.092036e+09      0.818044  \n",
       "std    6.600398e+04      0.385819  \n",
       "min    4.092010e+09      0.000000  \n",
       "25%    4.092014e+09      1.000000  \n",
       "50%    4.092016e+09      1.000000  \n",
       "75%    4.092021e+09      1.000000  \n",
       "max    4.092300e+09      1.000000  "
      ]
     },
     "execution_count": 3,
     "metadata": {},
     "output_type": "execute_result"
    }
   ],
   "source": [
    "# Summary statistics\n",
    "df.describe()"
   ]
  },
  {
   "cell_type": "code",
   "execution_count": 4,
   "metadata": {
    "scrolled": true
   },
   "outputs": [
    {
     "data": {
      "text/plain": [
       "hsisid                                     int64\n",
       "date                                      object\n",
       "name                                      object\n",
       "address1                                  object\n",
       "address2                                  object\n",
       "city                                      object\n",
       "state                                     object\n",
       "postalcode                                object\n",
       "phonenumber                               object\n",
       "restaurantopendate                        object\n",
       "days_from_open_date                        int64\n",
       "facilitytype                              object\n",
       "x                                        float64\n",
       "y                                        float64\n",
       "geocodestatus                             object\n",
       "zip                                        int64\n",
       "type                                      object\n",
       "description                               object\n",
       "inspectedby                               object\n",
       "inspection_num                             int64\n",
       "inspector_id                             float64\n",
       "previous_inspection_date                  object\n",
       "days_since_previous_inspection           float64\n",
       "previous_inspection_by_same_inspector     object\n",
       "score                                    float64\n",
       "num_critical                               int64\n",
       "num_non_critical                           int64\n",
       "num_critical_previous                    float64\n",
       "num_non_critical_previous                float64\n",
       "num_critical_mean_previous               float64\n",
       "num_non_critical_mean_previous           float64\n",
       "avg_neighbor_num_critical                float64\n",
       "avg_neighbor_num_non_critical            float64\n",
       "top_match                                float64\n",
       "second_match                             float64\n",
       "critical                                   int64\n",
       "dtype: object"
      ]
     },
     "execution_count": 4,
     "metadata": {},
     "output_type": "execute_result"
    }
   ],
   "source": [
    "# see types for each variable\n",
    "df.dtypes"
   ]
  },
  {
   "cell_type": "markdown",
   "metadata": {},
   "source": [
    "### Selecting Columns"
   ]
  },
  {
   "cell_type": "markdown",
   "metadata": {},
   "source": [
    "We're only interested in working with some columns in this study, so it's necessary to filter the data. To just get the data we're interested in we're going to specify the columns: \n",
    "\n",
    "It's important to note that we remove all personal information except for the *inspector_id* since we want to check if more critical violations were found during the inspection. \n",
    "\n"
   ]
  },
  {
   "cell_type": "code",
   "execution_count": 5,
   "metadata": {},
   "outputs": [
    {
     "data": {
      "text/html": [
       "<div>\n",
       "<style scoped>\n",
       "    .dataframe tbody tr th:only-of-type {\n",
       "        vertical-align: middle;\n",
       "    }\n",
       "\n",
       "    .dataframe tbody tr th {\n",
       "        vertical-align: top;\n",
       "    }\n",
       "\n",
       "    .dataframe thead th {\n",
       "        text-align: right;\n",
       "    }\n",
       "</style>\n",
       "<table border=\"1\" class=\"dataframe\">\n",
       "  <thead>\n",
       "    <tr style=\"text-align: right;\">\n",
       "      <th></th>\n",
       "      <th>inspector_id</th>\n",
       "      <th>inspection_num</th>\n",
       "      <th>num_critical</th>\n",
       "      <th>score</th>\n",
       "      <th>city</th>\n",
       "    </tr>\n",
       "  </thead>\n",
       "  <tbody>\n",
       "    <tr>\n",
       "      <th>0</th>\n",
       "      <td>27.0</td>\n",
       "      <td>1</td>\n",
       "      <td>9</td>\n",
       "      <td>96.0</td>\n",
       "      <td>raleigh</td>\n",
       "    </tr>\n",
       "    <tr>\n",
       "      <th>1</th>\n",
       "      <td>7.0</td>\n",
       "      <td>1</td>\n",
       "      <td>0</td>\n",
       "      <td>98.0</td>\n",
       "      <td>raleigh</td>\n",
       "    </tr>\n",
       "    <tr>\n",
       "      <th>2</th>\n",
       "      <td>3.0</td>\n",
       "      <td>1</td>\n",
       "      <td>4</td>\n",
       "      <td>97.0</td>\n",
       "      <td>raleigh</td>\n",
       "    </tr>\n",
       "    <tr>\n",
       "      <th>3</th>\n",
       "      <td>24.0</td>\n",
       "      <td>1</td>\n",
       "      <td>2</td>\n",
       "      <td>99.0</td>\n",
       "      <td>cary</td>\n",
       "    </tr>\n",
       "    <tr>\n",
       "      <th>4</th>\n",
       "      <td>7.0</td>\n",
       "      <td>1</td>\n",
       "      <td>2</td>\n",
       "      <td>97.0</td>\n",
       "      <td>zebulon</td>\n",
       "    </tr>\n",
       "  </tbody>\n",
       "</table>\n",
       "</div>"
      ],
      "text/plain": [
       "   inspector_id  inspection_num  num_critical  score     city\n",
       "0          27.0               1             9   96.0  raleigh\n",
       "1           7.0               1             0   98.0  raleigh\n",
       "2           3.0               1             4   97.0  raleigh\n",
       "3          24.0               1             2   99.0     cary\n",
       "4           7.0               1             2   97.0  zebulon"
      ]
     },
     "execution_count": 5,
     "metadata": {},
     "output_type": "execute_result"
    }
   ],
   "source": [
    "# specify which columns to include\n",
    "# columns of interest \n",
    "select_df = df[['inspector_id', 'inspection_num', 'num_critical','score','city']]\n",
    "select_df.head()"
   ]
  },
  {
   "cell_type": "markdown",
   "metadata": {},
   "source": [
    "## Missing Data "
   ]
  },
  {
   "cell_type": "markdown",
   "metadata": {},
   "source": [
    "Before proceeding with the analysis, we need to check our data for **missing values** and understand why these values are missing.\n",
    "\n",
    "There are many reasons data might contain missing values. Here the missing values originate possibly from inspectors who did not want to reveal their names and id. \n",
    "\n",
    "Removing observations with missing values can produce a bias in the model. So we have to be careful before removing observations."
   ]
  },
  {
   "cell_type": "code",
   "execution_count": 6,
   "metadata": {},
   "outputs": [
    {
     "data": {
      "text/plain": [
       "inspector_id      5\n",
       "inspection_num    0\n",
       "num_critical      0\n",
       "score             0\n",
       "city              0\n",
       "dtype: int64"
      ]
     },
     "execution_count": 6,
     "metadata": {},
     "output_type": "execute_result"
    }
   ],
   "source": [
    "# number of missing values by column\n",
    "select_df.isnull().sum()\n"
   ]
  },
  {
   "cell_type": "markdown",
   "metadata": {},
   "source": [
    "### Droping Missing values"
   ]
  },
  {
   "cell_type": "markdown",
   "metadata": {},
   "source": [
    "As mention already, it is **not** always appropriate to drop missing values because it can lead to conclusions based on the assumption of a complete data set. \n",
    "\n",
    "In this case, however, the best approach is to simply omit those cases and analyze the remaining data.  To this we'll use the drop method: "
   ]
  },
  {
   "cell_type": "code",
   "execution_count": 7,
   "metadata": {},
   "outputs": [],
   "source": [
    "# Drop missing values \n",
    "new_data = select_df.dropna()\n"
   ]
  },
  {
   "cell_type": "code",
   "execution_count": 8,
   "metadata": {},
   "outputs": [
    {
     "data": {
      "text/plain": [
       "inspector_id      0\n",
       "inspection_num    0\n",
       "num_critical      0\n",
       "score             0\n",
       "city              0\n",
       "dtype: int64"
      ]
     },
     "execution_count": 8,
     "metadata": {},
     "output_type": "execute_result"
    }
   ],
   "source": [
    "# check if the missing values were removed \n",
    "new_data.isnull().sum()\n"
   ]
  },
  {
   "cell_type": "markdown",
   "metadata": {},
   "source": [
    "## Arrage Columns"
   ]
  },
  {
   "cell_type": "code",
   "execution_count": 9,
   "metadata": {},
   "outputs": [],
   "source": [
    "df_new = new_data.sort_values('inspection_num', ascending=False)\n",
    "df_new = new_data.reset_index(drop = True)\n"
   ]
  },
  {
   "cell_type": "code",
   "execution_count": 10,
   "metadata": {},
   "outputs": [
    {
     "data": {
      "text/html": [
       "<div>\n",
       "<style scoped>\n",
       "    .dataframe tbody tr th:only-of-type {\n",
       "        vertical-align: middle;\n",
       "    }\n",
       "\n",
       "    .dataframe tbody tr th {\n",
       "        vertical-align: top;\n",
       "    }\n",
       "\n",
       "    .dataframe thead th {\n",
       "        text-align: right;\n",
       "    }\n",
       "</style>\n",
       "<table border=\"1\" class=\"dataframe\">\n",
       "  <thead>\n",
       "    <tr style=\"text-align: right;\">\n",
       "      <th></th>\n",
       "      <th>inspector_id</th>\n",
       "      <th>inspection_num</th>\n",
       "      <th>num_critical</th>\n",
       "      <th>score</th>\n",
       "      <th>city</th>\n",
       "    </tr>\n",
       "  </thead>\n",
       "  <tbody>\n",
       "    <tr>\n",
       "      <th>0</th>\n",
       "      <td>27.0</td>\n",
       "      <td>1</td>\n",
       "      <td>9</td>\n",
       "      <td>96.0</td>\n",
       "      <td>raleigh</td>\n",
       "    </tr>\n",
       "    <tr>\n",
       "      <th>1</th>\n",
       "      <td>7.0</td>\n",
       "      <td>1</td>\n",
       "      <td>0</td>\n",
       "      <td>98.0</td>\n",
       "      <td>raleigh</td>\n",
       "    </tr>\n",
       "    <tr>\n",
       "      <th>2</th>\n",
       "      <td>3.0</td>\n",
       "      <td>1</td>\n",
       "      <td>4</td>\n",
       "      <td>97.0</td>\n",
       "      <td>raleigh</td>\n",
       "    </tr>\n",
       "    <tr>\n",
       "      <th>3</th>\n",
       "      <td>24.0</td>\n",
       "      <td>1</td>\n",
       "      <td>2</td>\n",
       "      <td>99.0</td>\n",
       "      <td>cary</td>\n",
       "    </tr>\n",
       "    <tr>\n",
       "      <th>4</th>\n",
       "      <td>7.0</td>\n",
       "      <td>1</td>\n",
       "      <td>2</td>\n",
       "      <td>97.0</td>\n",
       "      <td>zebulon</td>\n",
       "    </tr>\n",
       "  </tbody>\n",
       "</table>\n",
       "</div>"
      ],
      "text/plain": [
       "   inspector_id  inspection_num  num_critical  score     city\n",
       "0          27.0               1             9   96.0  raleigh\n",
       "1           7.0               1             0   98.0  raleigh\n",
       "2           3.0               1             4   97.0  raleigh\n",
       "3          24.0               1             2   99.0     cary\n",
       "4           7.0               1             2   97.0  zebulon"
      ]
     },
     "execution_count": 10,
     "metadata": {},
     "output_type": "execute_result"
    }
   ],
   "source": [
    "# take a look at the first few rows\n",
    "df_new.head()"
   ]
  },
  {
   "cell_type": "markdown",
   "metadata": {},
   "source": [
    "# Data Analysis & Results"
   ]
  },
  {
   "cell_type": "code",
   "execution_count": 11,
   "metadata": {},
   "outputs": [
    {
     "data": {
      "text/plain": [
       "array([[<matplotlib.axes._subplots.AxesSubplot object at 0x7fc6cee7c978>]],\n",
       "      dtype=object)"
      ]
     },
     "execution_count": 11,
     "metadata": {},
     "output_type": "execute_result"
    },
    {
     "data": {
      "image/png": "[encoded data removed]",
      "text/plain": [
       "<Figure size 432x288 with 1 Axes>"
      ]
     },
     "metadata": {
      "needs_background": "light"
     },
     "output_type": "display_data"
    }
   ],
   "source": [
    "# Histogram of the number of critial violations \n",
    "df_new.hist(column='num_critical')"
   ]
  },
  {
   "cell_type": "code",
   "execution_count": 12,
   "metadata": {},
   "outputs": [
    {
     "data": {
      "text/plain": [
       "array([[<matplotlib.axes._subplots.AxesSubplot object at 0x7fc6ccd670f0>]],\n",
       "      dtype=object)"
      ]
     },
     "execution_count": 12,
     "metadata": {},
     "output_type": "execute_result"
    },
    {
     "data": {
      "image/png": "[encoded data removed]",
      "text/plain": [
       "<Figure size 432x288 with 1 Axes>"
      ]
     },
     "metadata": {
      "needs_background": "light"
     },
     "output_type": "display_data"
    }
   ],
   "source": [
    "# Histogram of the number of inspections \n",
    "df_new.hist(column='inspection_num')"
   ]
  },
  {
   "cell_type": "markdown",
   "metadata": {},
   "source": [
    "# Ethics & Privacy"
   ]
  },
  {
   "cell_type": "markdown",
   "metadata": {},
   "source": [
    "To ensure the research does not cause undue harm, it is essential to consider the impact this research will have on the restaurants and the public. The data should be carefully analyzed to avoid making misleading allegations, and it must promote reliability and validity. Therefore, the limitations of this research must be considered before making assertions. \n",
    " \n",
    "I must ensure to protect the privacy of the owners of the restaurants and their employees. However, I must also note there is no permission required since the data is available to the public to guarantee that consumers are safe, and there is no breach of privacy.\n",
    "\n",
    "Importantly, as an analyst, I refrain from biases and from being unethical. The study aims to enhance the restaurant health inspection process for North carolina, specifically Raleigh City and not gain any profits from it except for a deeper understanding of the existing inspections system. "
   ]
  },
  {
   "cell_type": "markdown",
   "metadata": {},
   "source": [
    "# Conclusion & Discussion"
   ]
  },
  {
   "cell_type": "markdown",
   "metadata": {},
   "source": [
    "We hope that these findings are taken into account to increase inspector effectiveness when prioritizing establishments for inspection"
   ]
  }
 ],
 "metadata": {
  "kernelspec": {
   "display_name": "Python 3",
   "language": "python",
   "name": "python3"
  },
  "language_info": {
   "codemirror_mode": {
    "name": "ipython",
    "version": 3
   },
   "file_extension": ".py",
   "mimetype": "text/x-python",
   "name": "python",
   "nbconvert_exporter": "python",
   "pygments_lexer": "ipython3",
   "version": "3.6.7"
  }
 },
 "nbformat": 4,
 "nbformat_minor": 2
}
