{
 "cells": [
  {
   "cell_type": "code",
   "execution_count": 3,
   "metadata": {},
   "outputs": [],
   "source": [
    "# figures we creeate show up inline\n",
    "%matplotlib inline \n",
    "import pandas as pd # best for working with dataframes\n",
    "import numpy as np # helpful for working with arrays"
   ]
  },
  {
   "cell_type": "code",
   "execution_count": 6,
   "metadata": {},
   "outputs": [],
   "source": [
    "pd.read_csv?"
   ]
  },
  {
   "cell_type": "code",
   "execution_count": 7,
   "metadata": {},
   "outputs": [],
   "source": [
    "# pd.read_csv('path',header=None)"
   ]
  },
  {
   "cell_type": "code",
   "execution_count": null,
   "metadata": {},
   "outputs": [],
   "source": [
    "# for Json\n",
    "import json\n",
    "with open('path') as dat_file:\n",
    "    dat = json.load(dat_file)\n",
    "print(type(dat))"
   ]
  },
  {
   "cell_type": "code",
   "execution_count": 8,
   "metadata": {},
   "outputs": [],
   "source": [
    "pd.read_json?"
   ]
  },
  {
   "cell_type": "code",
   "execution_count": null,
   "metadata": {},
   "outputs": [],
   "source": [
    "pd.read_json('path/file.json',typ='series')"
   ]
  },
  {
   "cell_type": "code",
   "execution_count": null,
   "metadata": {},
   "outputs": [],
   "source": [
    "!cat data/dat.xml \n",
    "#read xml file to terminal\n",
    "# also great sith HTML\n",
    "from bs4 import BeautifulSoup\n",
    "nice_dat = BeautifulSoup(dat,'xml')"
   ]
  },
  {
   "cell_type": "markdown",
   "metadata": {},
   "source": []
  },
  {
   "cell_type": "code",
   "execution_count": null,
   "metadata": {},
   "outputs": [],
   "source": [
    "#indexing/ slicing\n",
    "# df['last_name']\n",
    "# df['last_name'] > 10 , returns array of booleans \n",
    "# df[df['last_name'] > 10] , returns array which meat criteria\n",
    "df.shape\n",
    "df.columns # shows features\n",
    "df.dtypes # see if problem in dataframe observation datatypes\n",
    "df['id'] = df['id'].astype('str')\n",
    "df = df.set_index(df['id']) # get rows  y obervation id instead of row placement"
   ]
  },
  {
   "cell_type": "code",
   "execution_count": null,
   "metadata": {},
   "outputs": [],
   "source": [
    "df['first_name'].value_counts() # see how many michaels, toms, dicks, harrys, samanthas, etc in list of  students\n",
    "df['value'].mean() # get avg value of a dataset\n",
    "df['value'].describe() # get count, mean, std, min, 25, 50, 75, max %s"
   ]
  },
  {
   "cell_type": "code",
   "execution_count": 10,
   "metadata": {},
   "outputs": [
    {
     "data": {
      "text/plain": [
       "b'{\"login\":\"mikeck1\",\"id\":13594692,\"node_id\":\"MDQ6VXNlcjEzNTk0Njky\",\"avatar_url\":\"https://avatars1.githubusercontent.com/u/13594692?v=4\",\"gravatar_id\":\"\",\"url\":\"https://api.github.com/users/mikeck1\",\"html_url\":\"https://github.com/mikeck1\",\"followers_url\":\"https://api.github.com/users/mikeck1/followers\",\"following_url\":\"https://api.github.com/users/mikeck1/following{/other_user}\",\"gists_url\":\"https://api.github.com/users/mikeck1/gists{/gist_id}\",\"starred_url\":\"https://api.github.com/users/mikeck1/starred{/owner}{/repo}\",\"subscriptions_url\":\"https://api.github.com/users/mikeck1/subscriptions\",\"organizations_url\":\"https://api.github.com/users/mikeck1/orgs\",\"repos_url\":\"https://api.github.com/users/mikeck1/repos\",\"events_url\":\"https://api.github.com/users/mikeck1/events{/privacy}\",\"received_events_url\":\"https://api.github.com/users/mikeck1/received_events\",\"type\":\"User\",\"site_admin\":false,\"name\":\"Michael Kaufman\",\"company\":null,\"blog\":\"mikekaufman.dev\",\"location\":null,\"email\":null,\"hireable\":true,\"bio\":\"\\\\r\\\\n    This is my personal github account for sandboxing / tinkering\\\\r\\\\nhttps://devpost.com/mikekaufman4/\",\"twitter_username\":null,\"public_repos\":33,\"public_gists\":0,\"followers\":5,\"following\":10,\"created_at\":\"2015-07-31T23:29:40Z\",\"updated_at\":\"2020-10-17T02:19:23Z\"}'"
      ]
     },
     "execution_count": 10,
     "metadata": {},
     "output_type": "execute_result"
    }
   ],
   "source": [
    "# requestig webpages from python\n",
    "import requests\n",
    "from bs4 import BeautifulSoup\n",
    "page = requests.get('https://api.github.com/users/mikeck1')\n",
    "page.content"
   ]
  },
  {
   "cell_type": "code",
   "execution_count": 12,
   "metadata": {},
   "outputs": [
    {
     "data": {
      "text/plain": [
       "login                                                            mikeck1\n",
       "id                                                              13594692\n",
       "node_id                                             MDQ6VXNlcjEzNTk0Njky\n",
       "avatar_url             https://avatars1.githubusercontent.com/u/13594...\n",
       "gravatar_id                                                             \n",
       "url                                 https://api.github.com/users/mikeck1\n",
       "html_url                                      https://github.com/mikeck1\n",
       "followers_url             https://api.github.com/users/mikeck1/followers\n",
       "following_url          https://api.github.com/users/mikeck1/following...\n",
       "gists_url              https://api.github.com/users/mikeck1/gists{/gi...\n",
       "starred_url            https://api.github.com/users/mikeck1/starred{/...\n",
       "subscriptions_url      https://api.github.com/users/mikeck1/subscript...\n",
       "organizations_url              https://api.github.com/users/mikeck1/orgs\n",
       "repos_url                     https://api.github.com/users/mikeck1/repos\n",
       "events_url             https://api.github.com/users/mikeck1/events{/p...\n",
       "received_events_url    https://api.github.com/users/mikeck1/received_...\n",
       "type                                                                User\n",
       "site_admin                                                         False\n",
       "name                                                     Michael Kaufman\n",
       "company                                                             None\n",
       "blog                                                     mikekaufman.dev\n",
       "location                                                            None\n",
       "email                                                               None\n",
       "hireable                                                            True\n",
       "bio                    \\r\\n    This is my personal github account for...\n",
       "twitter_username                                                    None\n",
       "public_repos                                                          33\n",
       "public_gists                                                           0\n",
       "followers                                                              5\n",
       "following                                                             10\n",
       "created_at                                          2015-07-31T23:29:40Z\n",
       "updated_at                                          2020-10-17T02:19:23Z\n",
       "dtype: object"
      ]
     },
     "execution_count": 12,
     "metadata": {},
     "output_type": "execute_result"
    }
   ],
   "source": [
    "git_data = pd.read_json(page.content, typ='series')\n",
    "git_data"
   ]
  },
  {
   "cell_type": "code",
   "execution_count": null,
   "metadata": {},
   "outputs": [],
   "source": []
  }
 ],
 "metadata": {
  "kernelspec": {
   "display_name": "Python 3",
   "language": "python",
   "name": "python3"
  },
  "language_info": {
   "codemirror_mode": {
    "name": "ipython",
    "version": 3
   },
   "file_extension": ".py",
   "mimetype": "text/x-python",
   "name": "python",
   "nbconvert_exporter": "python",
   "pygments_lexer": "ipython3",
   "version": "3.7.4"
  }
 },
 "nbformat": 4,
 "nbformat_minor": 4
}
