{
 "cells": [
  {
   "cell_type": "markdown",
   "metadata": {},
   "source": [
    "# COGS 108 - Final Project "
   ]
  },
  {
   "cell_type": "markdown",
   "metadata": {},
   "source": [
    "# Overview"
   ]
  },
  {
   "cell_type": "markdown",
   "metadata": {},
   "source": [
    "*Fill in your overview here*"
   ]
  },
  {
   "cell_type": "markdown",
   "metadata": {},
   "source": [
    "# Name & GitHub ID\n",
    "\n",
    "- Name: Dylan Cokic\n",
    "- GitHub Username: dylpc"
   ]
  },
  {
   "cell_type": "markdown",
   "metadata": {},
   "source": [
    "# Research Question"
   ]
  },
  {
   "cell_type": "markdown",
   "metadata": {},
   "source": [
    "Does the establishment of parks in San Diego communities directly improve their overall environmental health?"
   ]
  },
  {
   "cell_type": "markdown",
   "metadata": {},
   "source": [
    "## Background and Prior Work"
   ]
  },
  {
   "cell_type": "markdown",
   "metadata": {},
   "source": [
    "As it is known that parks promote environmental quality and health, this study will consider whether parks play a significant role in boosting the overall health quality of communities in San Diego. \n",
    "One way parks benefit the environment is that they bring more nature to their communities, especially through trees. This is significant in that trees can largely improve air quality through their oxygen production, thus reducing pollution and the risk of physical illness [5]. Another benefit is that by increasing the rates of outdoor activity, parks can help strengthen people's health by reducing the risk of various diseases, prolonging one's lifespan, and improving mental health [1]. \n",
    "Noting the relation between these factors and the presence of parks in various San Diego communities will help determine whether there is a direct relationship between park establishment and healthy living (as measured by environmental health screenings).\n",
    "\n",
    "References (include links):\n",
    "- 1) https://www.ncbi.nlm.nih.gov/pmc/articles/PMC3091337/\n",
    "- 2) https://www.americantrails.org/resources/improving-public-health-through-public-parks-and-trails\n",
    "- 3) https://data.sandiegocounty.gov/Environment/A-2-2-Increase-County-Tree-Planting/4yft-ep46\n",
    "- 4) https://www.sandiegocounty.gov/hhsa/programs/phs/community_health_statistics/\n",
    "- 5) https://www.cdc.gov/healthyplaces/healthtopics/parks.htm#:~:text=The%20physical%20activity%20you%20get,control%20your%20weight"
   ]
  },
  {
   "cell_type": "markdown",
   "metadata": {},
   "source": [
    "# Hypothesis\n"
   ]
  },
  {
   "cell_type": "markdown",
   "metadata": {},
   "source": [
    "I hypothesize that parks do improve the overall environmental health of communities in San Diego, as their presence improves air quality and leads to lower pollution levels."
   ]
  },
  {
   "cell_type": "markdown",
   "metadata": {},
   "source": [
    "# Dataset(s)"
   ]
  },
  {
   "cell_type": "markdown",
   "metadata": {},
   "source": [
    "Two datasets were used for this analysis: San Diego parks and recreation location data, and California environmental health screening data.\n",
    "\n",
    "- Dataset Name: SD Parks Locations\n",
    "- Link to the dataset: https://data.sandiego.gov/datasets/park-locations/\n",
    "- Number of observations: INSERT NUMBER\n",
    "- Description: The locations of parks in San Diego are provided.\n",
    "\n",
    "- Dataset Name: CalEnviroScreen 2.0\n",
    "- Link to the dataset: https://data.ca.gov/dataset/calenviroscreen-2-0\n",
    "- Number of observations: INSERT NUMBER\n",
    "- Description: Various communities in California are screened for environmental health via their water, waste, pollution, asthma levels, and poverty levels.\n",
    "\n",
    "The two datasets will be used to compare the relative environmental health levels of different communities with respect to the prominence of parks within them."
   ]
  },
  {
   "cell_type": "markdown",
   "metadata": {},
   "source": [
    "# Setup"
   ]
  },
  {
   "cell_type": "code",
   "execution_count": 3,
   "metadata": {},
   "outputs": [],
   "source": [
    "#imports\n",
    "import numpy as np\n",
    "import pandas as pd\n",
    "import matplotlib.pyplot as plt\n",
    "\n",
    "#read data\n",
    "df_env = pd.read_csv(\"C:\\Users\\Dylan\\Documents\\final108\\calenviroscreen-final-report.csv\")\n",
    "df_parks = pd.read_pbf(\"C:\\Users\\Dylan\\Documents\\final108\\parks_datasd.pbf\")"
   ]
  },
  {
   "cell_type": "markdown",
   "metadata": {},
   "source": [
    "# Data Cleaning"
   ]
  },
  {
   "cell_type": "markdown",
   "metadata": {},
   "source": [
    "Describe your data cleaning steps here."
   ]
  },
  {
   "cell_type": "code",
   "execution_count": 4,
   "metadata": {},
   "outputs": [],
   "source": [
    "## YOUR CODE HERE\n",
    "## FEEL FREE TO ADD MULTIPLE CELLS PER SECTION"
   ]
  },
  {
   "cell_type": "markdown",
   "metadata": {},
   "source": [
    "# Data Analysis & Results"
   ]
  },
  {
   "cell_type": "markdown",
   "metadata": {},
   "source": [
    "Include cells that describe the steps in your data analysis."
   ]
  },
  {
   "cell_type": "code",
   "execution_count": 5,
   "metadata": {},
   "outputs": [],
   "source": [
    "## YOUR CODE HERE\n",
    "## FEEL FREE TO ADD MULTIPLE CELLS PER SECTION"
   ]
  },
  {
   "cell_type": "markdown",
   "metadata": {},
   "source": [
    "# Ethics & Privacy"
   ]
  },
  {
   "cell_type": "markdown",
   "metadata": {},
   "source": [
    "*Fill in your ethics & privacy discussion here*"
   ]
  },
  {
   "cell_type": "markdown",
   "metadata": {},
   "source": [
    "# Conclusion & Discussion"
   ]
  },
  {
   "cell_type": "markdown",
   "metadata": {},
   "source": [
    "*Fill in your discussion information here*"
   ]
  }
 ],
 "metadata": {
  "kernelspec": {
   "display_name": "Python 3",
   "language": "python",
   "name": "python3"
  },
  "language_info": {
   "codemirror_mode": {
    "name": "ipython",
    "version": 3
   },
   "file_extension": ".py",
   "mimetype": "text/x-python",
   "name": "python",
   "nbconvert_exporter": "python",
   "pygments_lexer": "ipython3",
   "version": "3.7.9"
  }
 },
 "nbformat": 4,
 "nbformat_minor": 2
}