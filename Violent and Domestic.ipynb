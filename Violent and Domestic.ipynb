{
 "cells": [
  {
   "cell_type": "code",
   "execution_count": 63,
   "metadata": {
    "collapsed": true
   },
   "outputs": [],
   "source": [
    "import pandas as pd\n",
    "import matplotlib.pyplot as plt"
   ]
  },
  {
   "cell_type": "code",
   "execution_count": 64,
   "metadata": {
    "collapsed": true
   },
   "outputs": [],
   "source": [
    "crimes = pd.read_csv('~/Downloads/cleaned_chicago_crime_data.csv')"
   ]
  },
  {
   "cell_type": "code",
   "execution_count": 76,
   "metadata": {},
   "outputs": [
    {
     "data": {
      "text/plain": [
       "[11.0,\n",
       " 7.0,\n",
       " 2.0,\n",
       " 9.0,\n",
       " 5.0,\n",
       " 6.0,\n",
       " 4.0,\n",
       " 12.0,\n",
       " 15.0,\n",
       " 14.0,\n",
       " 1.0,\n",
       " 20.0,\n",
       " 10.0,\n",
       " 22.0,\n",
       " 8.0,\n",
       " 17.0,\n",
       " 3.0,\n",
       " 18.0,\n",
       " 16.0,\n",
       " 25.0,\n",
       " 24.0,\n",
       " 19.0,\n",
       " 21.0]"
      ]
     },
     "execution_count": 76,
     "metadata": {},
     "output_type": "execute_result"
    }
   ],
   "source": [
    "# get list of unique districts 1-25\n",
    "districts = crimes['District'].unique().tolist()\n",
    "districts"
   ]
  },
  {
   "cell_type": "code",
   "execution_count": 66,
   "metadata": {},
   "outputs": [
    {
     "data": {
      "text/plain": [
       "['BATTERY',\n",
       " 'OTHER OFFENSE',\n",
       " 'ROBBERY',\n",
       " 'NARCOTICS',\n",
       " 'CRIMINAL DAMAGE',\n",
       " 'WEAPONS VIOLATION',\n",
       " 'THEFT',\n",
       " 'BURGLARY',\n",
       " 'MOTOR VEHICLE THEFT',\n",
       " 'PUBLIC PEACE VIOLATION',\n",
       " 'DECEPTIVE PRACTICE',\n",
       " 'ASSAULT',\n",
       " 'CRIMINAL TRESPASS',\n",
       " 'CRIM SEXUAL ASSAULT',\n",
       " 'INTERFERENCE WITH PUBLIC OFFICER',\n",
       " 'ARSON',\n",
       " 'LIQUOR LAW VIOLATION',\n",
       " 'KIDNAPPING',\n",
       " 'SEX OFFENSE',\n",
       " 'OFFENSE INVOLVING CHILDREN',\n",
       " 'PROSTITUTION',\n",
       " 'HOMICIDE',\n",
       " 'GAMBLING',\n",
       " 'INTIMIDATION',\n",
       " 'STALKING',\n",
       " 'OBSCENITY',\n",
       " 'PUBLIC INDECENCY',\n",
       " 'HUMAN TRAFFICKING',\n",
       " 'CONCEALED CARRY LICENSE VIOLATION',\n",
       " 'OTHER NARCOTIC VIOLATION',\n",
       " 'NON - CRIMINAL',\n",
       " 'NON-CRIMINAL',\n",
       " 'RITUALISM',\n",
       " 'NON-CRIMINAL (SUBJECT SPECIFIED)',\n",
       " 'DOMESTIC VIOLENCE']"
      ]
     },
     "execution_count": 66,
     "metadata": {},
     "output_type": "execute_result"
    }
   ],
   "source": [
    "crime_types = crimes['Primary Type'].unique().tolist()\n",
    "crime_types"
   ]
  },
  {
   "cell_type": "code",
   "execution_count": 67,
   "metadata": {
    "collapsed": true
   },
   "outputs": [],
   "source": [
    "violent_crimes = ['BATTERY','ASSAULT','CRIM SEXUAL ASSAULT', 'ARSON','HOMICIDE']\n",
    "felonies = ['HUMAN TRAFFICKING', 'HOMICIDE','ARSON','KIDNAPPING','BURGLARY','ROBBERY','BATTERY','STALKING','SEX OFFENSE']"
   ]
  },
  {
   "cell_type": "code",
   "execution_count": 68,
   "metadata": {
    "collapsed": true
   },
   "outputs": [],
   "source": [
    "violents = []\n",
    "for crime in violent_crimes:\n",
    "    violents.append( crimes.loc[ crimes['Primary Type'] == crime] )"
   ]
  },
  {
   "cell_type": "code",
   "execution_count": 69,
   "metadata": {
    "collapsed": true
   },
   "outputs": [],
   "source": [
    "df_violent = violents[0]\n",
    "for i in range(1,len(violents)):\n",
    "    df_violent.append(violents[i])"
   ]
  },
  {
   "cell_type": "code",
   "execution_count": 70,
   "metadata": {
    "collapsed": true
   },
   "outputs": [],
   "source": [
    "df_violent;"
   ]
  },
  {
   "cell_type": "code",
   "execution_count": 71,
   "metadata": {
    "collapsed": true
   },
   "outputs": [],
   "source": [
    "assert len(df_violent['ID']) == len(df_violent['ID'].unique())"
   ]
  },
  {
   "cell_type": "code",
   "execution_count": 72,
   "metadata": {
    "collapsed": true
   },
   "outputs": [],
   "source": [
    "# get the total violent crime counts for chicago each year\n",
    "year_range = range(df_violent['Year'].min(),df_violent['Year'].max())\n",
    "df_count_violent = pd.DataFrame(index=year_range)\n",
    "for i in year_range:\n",
    "    df_count_violent.loc[i,'Violent Crime Count'] = len(df_violent[df_violent['Year'] == i])"
   ]
  },
  {
   "cell_type": "code",
   "execution_count": 73,
   "metadata": {},
   "outputs": [
    {
     "data": {
      "text/plain": [
       "<matplotlib.axes._subplots.AxesSubplot at 0x163a56978>"
      ]
     },
     "execution_count": 73,
     "metadata": {},
     "output_type": "execute_result"
    },
    {
     "data": {
      "image/png": "[encoded data removed]",
      "text/plain": [
       "<Figure size 432x288 with 1 Axes>"
      ]
     },
     "metadata": {
      "needs_background": "light"
     },
     "output_type": "display_data"
    }
   ],
   "source": [
    "df_count_violent.plot(title='Overall Crime Count in Chicago from 2001 to 2019')"
   ]
  },
  {
   "cell_type": "code",
   "execution_count": 88,
   "metadata": {
    "collapsed": true
   },
   "outputs": [],
   "source": [
    "violent_districts = {}\n",
    "for district in districts:\n",
    "    violent_districts[district] = df_violent[df_violent['District'] == district]"
   ]
  },
  {
   "cell_type": "code",
   "execution_count": 89,
   "metadata": {
    "collapsed": true
   },
   "outputs": [],
   "source": [
    "assert districts == list(violent_districts.keys())"
   ]
  },
  {
   "cell_type": "code",
   "execution_count": 96,
   "metadata": {
    "collapsed": true
   },
   "outputs": [],
   "source": [
    "year_range = range(2001,2020)\n",
    "violent_districts_time = pd.DataFrame(index=year_range)\n",
    "for district in districts:\n",
    "    for year in year_range:\n",
    "        tmp = df_violent[ df_violent['District'] == district ]\n",
    "        tmp = tmp[ tmp['Year'] == year ]\n",
    "        violent_districts_time.loc[district,year] = len(tmp)"
   ]
  },
  {
   "cell_type": "code",
   "execution_count": 97,
   "metadata": {},
   "outputs": [
    {
     "data": {
      "text/html": [
       "<div>\n",
       "<style scoped>\n",
       "    .dataframe tbody tr th:only-of-type {\n",
       "        vertical-align: middle;\n",
       "    }\n",
       "\n",
       "    .dataframe tbody tr th {\n",
       "        vertical-align: top;\n",
       "    }\n",
       "\n",
       "    .dataframe thead th {\n",
       "        text-align: right;\n",
       "    }\n",
       "</style>\n",
       "<table border=\"1\" class=\"dataframe\">\n",
       "  <thead>\n",
       "    <tr style=\"text-align: right;\">\n",
       "      <th></th>\n",
       "      <th>2001</th>\n",
       "      <th>2002</th>\n",
       "      <th>2003</th>\n",
       "      <th>2004</th>\n",
       "      <th>2005</th>\n",
       "      <th>2006</th>\n",
       "      <th>2007</th>\n",
       "      <th>2008</th>\n",
       "      <th>2009</th>\n",
       "      <th>2010</th>\n",
       "      <th>2011</th>\n",
       "      <th>2012</th>\n",
       "      <th>2013</th>\n",
       "      <th>2014</th>\n",
       "      <th>2015</th>\n",
       "      <th>2016</th>\n",
       "      <th>2017</th>\n",
       "      <th>2018</th>\n",
       "      <th>2019</th>\n",
       "    </tr>\n",
       "  </thead>\n",
       "  <tbody>\n",
       "    <tr>\n",
       "      <th>11</th>\n",
       "      <td>5938.0</td>\n",
       "      <td>6320.0</td>\n",
       "      <td>6100.0</td>\n",
       "      <td>5802.0</td>\n",
       "      <td>5794.0</td>\n",
       "      <td>5378.0</td>\n",
       "      <td>5335.0</td>\n",
       "      <td>5310.0</td>\n",
       "      <td>4876.0</td>\n",
       "      <td>4584.0</td>\n",
       "      <td>4292.0</td>\n",
       "      <td>4111.0</td>\n",
       "      <td>3846.0</td>\n",
       "      <td>3619.0</td>\n",
       "      <td>3627.0</td>\n",
       "      <td>3906.0</td>\n",
       "      <td>3734.0</td>\n",
       "      <td>3817.0</td>\n",
       "      <td>251.0</td>\n",
       "    </tr>\n",
       "    <tr>\n",
       "      <th>7</th>\n",
       "      <td>7625.0</td>\n",
       "      <td>8083.0</td>\n",
       "      <td>7304.0</td>\n",
       "      <td>7406.0</td>\n",
       "      <td>7008.0</td>\n",
       "      <td>6808.0</td>\n",
       "      <td>6767.0</td>\n",
       "      <td>6464.0</td>\n",
       "      <td>5185.0</td>\n",
       "      <td>5089.0</td>\n",
       "      <td>4618.0</td>\n",
       "      <td>4579.0</td>\n",
       "      <td>4213.0</td>\n",
       "      <td>3688.0</td>\n",
       "      <td>3552.0</td>\n",
       "      <td>3471.0</td>\n",
       "      <td>3322.0</td>\n",
       "      <td>3446.0</td>\n",
       "      <td>243.0</td>\n",
       "    </tr>\n",
       "    <tr>\n",
       "      <th>2</th>\n",
       "      <td>7833.0</td>\n",
       "      <td>6144.0</td>\n",
       "      <td>5343.0</td>\n",
       "      <td>4750.0</td>\n",
       "      <td>4488.0</td>\n",
       "      <td>4101.0</td>\n",
       "      <td>3824.0</td>\n",
       "      <td>3433.0</td>\n",
       "      <td>3069.0</td>\n",
       "      <td>3039.0</td>\n",
       "      <td>2861.0</td>\n",
       "      <td>2672.0</td>\n",
       "      <td>2422.0</td>\n",
       "      <td>2209.0</td>\n",
       "      <td>2166.0</td>\n",
       "      <td>2126.0</td>\n",
       "      <td>2276.0</td>\n",
       "      <td>2386.0</td>\n",
       "      <td>176.0</td>\n",
       "    </tr>\n",
       "    <tr>\n",
       "      <th>9</th>\n",
       "      <td>4645.0</td>\n",
       "      <td>5004.0</td>\n",
       "      <td>4631.0</td>\n",
       "      <td>4396.0</td>\n",
       "      <td>4480.0</td>\n",
       "      <td>4218.0</td>\n",
       "      <td>4072.0</td>\n",
       "      <td>3891.0</td>\n",
       "      <td>3479.0</td>\n",
       "      <td>3405.0</td>\n",
       "      <td>3271.0</td>\n",
       "      <td>3090.0</td>\n",
       "      <td>2721.0</td>\n",
       "      <td>2573.0</td>\n",
       "      <td>2476.0</td>\n",
       "      <td>2562.0</td>\n",
       "      <td>2309.0</td>\n",
       "      <td>2201.0</td>\n",
       "      <td>148.0</td>\n",
       "    </tr>\n",
       "    <tr>\n",
       "      <th>5</th>\n",
       "      <td>5279.0</td>\n",
       "      <td>5620.0</td>\n",
       "      <td>5274.0</td>\n",
       "      <td>5156.0</td>\n",
       "      <td>4710.0</td>\n",
       "      <td>4374.0</td>\n",
       "      <td>4372.0</td>\n",
       "      <td>4101.0</td>\n",
       "      <td>3918.0</td>\n",
       "      <td>3640.0</td>\n",
       "      <td>3329.0</td>\n",
       "      <td>3250.0</td>\n",
       "      <td>3001.0</td>\n",
       "      <td>2654.0</td>\n",
       "      <td>2535.0</td>\n",
       "      <td>2632.0</td>\n",
       "      <td>2542.0</td>\n",
       "      <td>2564.0</td>\n",
       "      <td>177.0</td>\n",
       "    </tr>\n",
       "    <tr>\n",
       "      <th>6</th>\n",
       "      <td>5191.0</td>\n",
       "      <td>5377.0</td>\n",
       "      <td>5112.0</td>\n",
       "      <td>5307.0</td>\n",
       "      <td>5335.0</td>\n",
       "      <td>5201.0</td>\n",
       "      <td>5386.0</td>\n",
       "      <td>5118.0</td>\n",
       "      <td>4382.0</td>\n",
       "      <td>4216.0</td>\n",
       "      <td>3838.0</td>\n",
       "      <td>3836.0</td>\n",
       "      <td>3725.0</td>\n",
       "      <td>3499.0</td>\n",
       "      <td>3363.0</td>\n",
       "      <td>3600.0</td>\n",
       "      <td>3545.0</td>\n",
       "      <td>3545.0</td>\n",
       "      <td>248.0</td>\n",
       "    </tr>\n",
       "    <tr>\n",
       "      <th>4</th>\n",
       "      <td>5589.0</td>\n",
       "      <td>5697.0</td>\n",
       "      <td>5337.0</td>\n",
       "      <td>5402.0</td>\n",
       "      <td>5277.0</td>\n",
       "      <td>5158.0</td>\n",
       "      <td>5251.0</td>\n",
       "      <td>4885.0</td>\n",
       "      <td>4292.0</td>\n",
       "      <td>4227.0</td>\n",
       "      <td>4229.0</td>\n",
       "      <td>4025.0</td>\n",
       "      <td>3532.0</td>\n",
       "      <td>3331.0</td>\n",
       "      <td>3353.0</td>\n",
       "      <td>3390.0</td>\n",
       "      <td>3369.0</td>\n",
       "      <td>3262.0</td>\n",
       "      <td>243.0</td>\n",
       "    </tr>\n",
       "    <tr>\n",
       "      <th>12</th>\n",
       "      <td>4393.0</td>\n",
       "      <td>4213.0</td>\n",
       "      <td>3889.0</td>\n",
       "      <td>3855.0</td>\n",
       "      <td>3674.0</td>\n",
       "      <td>3455.0</td>\n",
       "      <td>3320.0</td>\n",
       "      <td>3073.0</td>\n",
       "      <td>2771.0</td>\n",
       "      <td>2617.0</td>\n",
       "      <td>2402.0</td>\n",
       "      <td>2332.0</td>\n",
       "      <td>2119.0</td>\n",
       "      <td>1987.0</td>\n",
       "      <td>1970.0</td>\n",
       "      <td>2003.0</td>\n",
       "      <td>1921.0</td>\n",
       "      <td>1965.0</td>\n",
       "      <td>164.0</td>\n",
       "    </tr>\n",
       "    <tr>\n",
       "      <th>15</th>\n",
       "      <td>4127.0</td>\n",
       "      <td>4492.0</td>\n",
       "      <td>4549.0</td>\n",
       "      <td>4623.0</td>\n",
       "      <td>4389.0</td>\n",
       "      <td>4271.0</td>\n",
       "      <td>4083.0</td>\n",
       "      <td>3796.0</td>\n",
       "      <td>3655.0</td>\n",
       "      <td>3085.0</td>\n",
       "      <td>2921.0</td>\n",
       "      <td>3076.0</td>\n",
       "      <td>2955.0</td>\n",
       "      <td>2642.0</td>\n",
       "      <td>2590.0</td>\n",
       "      <td>2729.0</td>\n",
       "      <td>2404.0</td>\n",
       "      <td>2398.0</td>\n",
       "      <td>184.0</td>\n",
       "    </tr>\n",
       "    <tr>\n",
       "      <th>14</th>\n",
       "      <td>3724.0</td>\n",
       "      <td>3535.0</td>\n",
       "      <td>3205.0</td>\n",
       "      <td>2931.0</td>\n",
       "      <td>2657.0</td>\n",
       "      <td>2690.0</td>\n",
       "      <td>2475.0</td>\n",
       "      <td>2391.0</td>\n",
       "      <td>2285.0</td>\n",
       "      <td>2188.0</td>\n",
       "      <td>2068.0</td>\n",
       "      <td>1816.0</td>\n",
       "      <td>1564.0</td>\n",
       "      <td>1496.0</td>\n",
       "      <td>1287.0</td>\n",
       "      <td>1370.0</td>\n",
       "      <td>1340.0</td>\n",
       "      <td>1271.0</td>\n",
       "      <td>64.0</td>\n",
       "    </tr>\n",
       "    <tr>\n",
       "      <th>1</th>\n",
       "      <td>1121.0</td>\n",
       "      <td>1942.0</td>\n",
       "      <td>1909.0</td>\n",
       "      <td>1938.0</td>\n",
       "      <td>1857.0</td>\n",
       "      <td>1704.0</td>\n",
       "      <td>1515.0</td>\n",
       "      <td>1387.0</td>\n",
       "      <td>1196.0</td>\n",
       "      <td>1172.0</td>\n",
       "      <td>1083.0</td>\n",
       "      <td>1128.0</td>\n",
       "      <td>1171.0</td>\n",
       "      <td>1262.0</td>\n",
       "      <td>1314.0</td>\n",
       "      <td>1378.0</td>\n",
       "      <td>1573.0</td>\n",
       "      <td>1695.0</td>\n",
       "      <td>118.0</td>\n",
       "    </tr>\n",
       "    <tr>\n",
       "      <th>20</th>\n",
       "      <td>1710.0</td>\n",
       "      <td>1560.0</td>\n",
       "      <td>1436.0</td>\n",
       "      <td>1382.0</td>\n",
       "      <td>1342.0</td>\n",
       "      <td>1242.0</td>\n",
       "      <td>1201.0</td>\n",
       "      <td>1192.0</td>\n",
       "      <td>1076.0</td>\n",
       "      <td>1078.0</td>\n",
       "      <td>948.0</td>\n",
       "      <td>902.0</td>\n",
       "      <td>858.0</td>\n",
       "      <td>764.0</td>\n",
       "      <td>729.0</td>\n",
       "      <td>755.0</td>\n",
       "      <td>775.0</td>\n",
       "      <td>917.0</td>\n",
       "      <td>56.0</td>\n",
       "    </tr>\n",
       "    <tr>\n",
       "      <th>10</th>\n",
       "      <td>4554.0</td>\n",
       "      <td>4591.0</td>\n",
       "      <td>4314.0</td>\n",
       "      <td>4181.0</td>\n",
       "      <td>4077.0</td>\n",
       "      <td>3726.0</td>\n",
       "      <td>3784.0</td>\n",
       "      <td>3644.0</td>\n",
       "      <td>3383.0</td>\n",
       "      <td>3449.0</td>\n",
       "      <td>3178.0</td>\n",
       "      <td>3352.0</td>\n",
       "      <td>2824.0</td>\n",
       "      <td>2673.0</td>\n",
       "      <td>2713.0</td>\n",
       "      <td>3042.0</td>\n",
       "      <td>2778.0</td>\n",
       "      <td>2686.0</td>\n",
       "      <td>201.0</td>\n",
       "    </tr>\n",
       "    <tr>\n",
       "      <th>22</th>\n",
       "      <td>2728.0</td>\n",
       "      <td>2884.0</td>\n",
       "      <td>2838.0</td>\n",
       "      <td>2817.0</td>\n",
       "      <td>2784.0</td>\n",
       "      <td>2738.0</td>\n",
       "      <td>2563.0</td>\n",
       "      <td>2489.0</td>\n",
       "      <td>2281.0</td>\n",
       "      <td>2175.0</td>\n",
       "      <td>1982.0</td>\n",
       "      <td>1845.0</td>\n",
       "      <td>1727.0</td>\n",
       "      <td>1474.0</td>\n",
       "      <td>1537.0</td>\n",
       "      <td>1583.0</td>\n",
       "      <td>1535.0</td>\n",
       "      <td>1533.0</td>\n",
       "      <td>103.0</td>\n",
       "    </tr>\n",
       "    <tr>\n",
       "      <th>8</th>\n",
       "      <td>5090.0</td>\n",
       "      <td>5551.0</td>\n",
       "      <td>5384.0</td>\n",
       "      <td>5397.0</td>\n",
       "      <td>5304.0</td>\n",
       "      <td>5245.0</td>\n",
       "      <td>5192.0</td>\n",
       "      <td>4966.0</td>\n",
       "      <td>4450.0</td>\n",
       "      <td>4245.0</td>\n",
       "      <td>3884.0</td>\n",
       "      <td>3692.0</td>\n",
       "      <td>3246.0</td>\n",
       "      <td>2767.0</td>\n",
       "      <td>2950.0</td>\n",
       "      <td>3019.0</td>\n",
       "      <td>2983.0</td>\n",
       "      <td>2985.0</td>\n",
       "      <td>226.0</td>\n",
       "    </tr>\n",
       "    <tr>\n",
       "      <th>17</th>\n",
       "      <td>2269.0</td>\n",
       "      <td>2187.0</td>\n",
       "      <td>2072.0</td>\n",
       "      <td>1971.0</td>\n",
       "      <td>1981.0</td>\n",
       "      <td>2069.0</td>\n",
       "      <td>2001.0</td>\n",
       "      <td>2026.0</td>\n",
       "      <td>1749.0</td>\n",
       "      <td>1728.0</td>\n",
       "      <td>1592.0</td>\n",
       "      <td>1558.0</td>\n",
       "      <td>1353.0</td>\n",
       "      <td>1191.0</td>\n",
       "      <td>1314.0</td>\n",
       "      <td>1274.0</td>\n",
       "      <td>1168.0</td>\n",
       "      <td>1300.0</td>\n",
       "      <td>92.0</td>\n",
       "    </tr>\n",
       "    <tr>\n",
       "      <th>3</th>\n",
       "      <td>5829.0</td>\n",
       "      <td>5674.0</td>\n",
       "      <td>5400.0</td>\n",
       "      <td>5492.0</td>\n",
       "      <td>5169.0</td>\n",
       "      <td>4966.0</td>\n",
       "      <td>4953.0</td>\n",
       "      <td>4633.0</td>\n",
       "      <td>4247.0</td>\n",
       "      <td>4163.0</td>\n",
       "      <td>3728.0</td>\n",
       "      <td>3660.0</td>\n",
       "      <td>3389.0</td>\n",
       "      <td>2915.0</td>\n",
       "      <td>3017.0</td>\n",
       "      <td>2891.0</td>\n",
       "      <td>3022.0</td>\n",
       "      <td>2862.0</td>\n",
       "      <td>227.0</td>\n",
       "    </tr>\n",
       "    <tr>\n",
       "      <th>18</th>\n",
       "      <td>2996.0</td>\n",
       "      <td>2908.0</td>\n",
       "      <td>2609.0</td>\n",
       "      <td>2645.0</td>\n",
       "      <td>2311.0</td>\n",
       "      <td>2403.0</td>\n",
       "      <td>2349.0</td>\n",
       "      <td>2234.0</td>\n",
       "      <td>1983.0</td>\n",
       "      <td>1797.0</td>\n",
       "      <td>1553.0</td>\n",
       "      <td>1564.0</td>\n",
       "      <td>1413.0</td>\n",
       "      <td>1419.0</td>\n",
       "      <td>1250.0</td>\n",
       "      <td>1456.0</td>\n",
       "      <td>1630.0</td>\n",
       "      <td>1790.0</td>\n",
       "      <td>139.0</td>\n",
       "    </tr>\n",
       "    <tr>\n",
       "      <th>16</th>\n",
       "      <td>2160.0</td>\n",
       "      <td>2072.0</td>\n",
       "      <td>1983.0</td>\n",
       "      <td>2013.0</td>\n",
       "      <td>2002.0</td>\n",
       "      <td>1951.0</td>\n",
       "      <td>2029.0</td>\n",
       "      <td>2058.0</td>\n",
       "      <td>1909.0</td>\n",
       "      <td>1784.0</td>\n",
       "      <td>1580.0</td>\n",
       "      <td>1527.0</td>\n",
       "      <td>1477.0</td>\n",
       "      <td>1413.0</td>\n",
       "      <td>1409.0</td>\n",
       "      <td>1374.0</td>\n",
       "      <td>1422.0</td>\n",
       "      <td>1425.0</td>\n",
       "      <td>120.0</td>\n",
       "    </tr>\n",
       "    <tr>\n",
       "      <th>25</th>\n",
       "      <td>4865.0</td>\n",
       "      <td>4781.0</td>\n",
       "      <td>4683.0</td>\n",
       "      <td>4664.0</td>\n",
       "      <td>4540.0</td>\n",
       "      <td>4363.0</td>\n",
       "      <td>4529.0</td>\n",
       "      <td>4379.0</td>\n",
       "      <td>4282.0</td>\n",
       "      <td>4054.0</td>\n",
       "      <td>3519.0</td>\n",
       "      <td>3416.0</td>\n",
       "      <td>3100.0</td>\n",
       "      <td>2903.0</td>\n",
       "      <td>2880.0</td>\n",
       "      <td>2739.0</td>\n",
       "      <td>2650.0</td>\n",
       "      <td>2712.0</td>\n",
       "      <td>180.0</td>\n",
       "    </tr>\n",
       "    <tr>\n",
       "      <th>24</th>\n",
       "      <td>2647.0</td>\n",
       "      <td>2586.0</td>\n",
       "      <td>2325.0</td>\n",
       "      <td>2369.0</td>\n",
       "      <td>2345.0</td>\n",
       "      <td>2181.0</td>\n",
       "      <td>2190.0</td>\n",
       "      <td>2114.0</td>\n",
       "      <td>1990.0</td>\n",
       "      <td>1821.0</td>\n",
       "      <td>1774.0</td>\n",
       "      <td>1762.0</td>\n",
       "      <td>1594.0</td>\n",
       "      <td>1447.0</td>\n",
       "      <td>1287.0</td>\n",
       "      <td>1367.0</td>\n",
       "      <td>1376.0</td>\n",
       "      <td>1408.0</td>\n",
       "      <td>108.0</td>\n",
       "    </tr>\n",
       "    <tr>\n",
       "      <th>19</th>\n",
       "      <td>3134.0</td>\n",
       "      <td>2932.0</td>\n",
       "      <td>2679.0</td>\n",
       "      <td>2635.0</td>\n",
       "      <td>2441.0</td>\n",
       "      <td>2421.0</td>\n",
       "      <td>2399.0</td>\n",
       "      <td>2331.0</td>\n",
       "      <td>2003.0</td>\n",
       "      <td>1845.0</td>\n",
       "      <td>1805.0</td>\n",
       "      <td>1942.0</td>\n",
       "      <td>1752.0</td>\n",
       "      <td>1521.0</td>\n",
       "      <td>1601.0</td>\n",
       "      <td>1625.0</td>\n",
       "      <td>1540.0</td>\n",
       "      <td>1603.0</td>\n",
       "      <td>116.0</td>\n",
       "    </tr>\n",
       "    <tr>\n",
       "      <th>21</th>\n",
       "      <td>0.0</td>\n",
       "      <td>0.0</td>\n",
       "      <td>0.0</td>\n",
       "      <td>2.0</td>\n",
       "      <td>0.0</td>\n",
       "      <td>0.0</td>\n",
       "      <td>0.0</td>\n",
       "      <td>0.0</td>\n",
       "      <td>0.0</td>\n",
       "      <td>0.0</td>\n",
       "      <td>0.0</td>\n",
       "      <td>0.0</td>\n",
       "      <td>0.0</td>\n",
       "      <td>0.0</td>\n",
       "      <td>0.0</td>\n",
       "      <td>0.0</td>\n",
       "      <td>0.0</td>\n",
       "      <td>0.0</td>\n",
       "      <td>0.0</td>\n",
       "    </tr>\n",
       "  </tbody>\n",
       "</table>\n",
       "</div>"
      ],
      "text/plain": [
       "      2001    2002    2003    2004    2005    2006    2007    2008    2009  \\\n",
       "11  5938.0  6320.0  6100.0  5802.0  5794.0  5378.0  5335.0  5310.0  4876.0   \n",
       "7   7625.0  8083.0  7304.0  7406.0  7008.0  6808.0  6767.0  6464.0  5185.0   \n",
       "2   7833.0  6144.0  5343.0  4750.0  4488.0  4101.0  3824.0  3433.0  3069.0   \n",
       "9   4645.0  5004.0  4631.0  4396.0  4480.0  4218.0  4072.0  3891.0  3479.0   \n",
       "5   5279.0  5620.0  5274.0  5156.0  4710.0  4374.0  4372.0  4101.0  3918.0   \n",
       "6   5191.0  5377.0  5112.0  5307.0  5335.0  5201.0  5386.0  5118.0  4382.0   \n",
       "4   5589.0  5697.0  5337.0  5402.0  5277.0  5158.0  5251.0  4885.0  4292.0   \n",
       "12  4393.0  4213.0  3889.0  3855.0  3674.0  3455.0  3320.0  3073.0  2771.0   \n",
       "15  4127.0  4492.0  4549.0  4623.0  4389.0  4271.0  4083.0  3796.0  3655.0   \n",
       "14  3724.0  3535.0  3205.0  2931.0  2657.0  2690.0  2475.0  2391.0  2285.0   \n",
       "1   1121.0  1942.0  1909.0  1938.0  1857.0  1704.0  1515.0  1387.0  1196.0   \n",
       "20  1710.0  1560.0  1436.0  1382.0  1342.0  1242.0  1201.0  1192.0  1076.0   \n",
       "10  4554.0  4591.0  4314.0  4181.0  4077.0  3726.0  3784.0  3644.0  3383.0   \n",
       "22  2728.0  2884.0  2838.0  2817.0  2784.0  2738.0  2563.0  2489.0  2281.0   \n",
       "8   5090.0  5551.0  5384.0  5397.0  5304.0  5245.0  5192.0  4966.0  4450.0   \n",
       "17  2269.0  2187.0  2072.0  1971.0  1981.0  2069.0  2001.0  2026.0  1749.0   \n",
       "3   5829.0  5674.0  5400.0  5492.0  5169.0  4966.0  4953.0  4633.0  4247.0   \n",
       "18  2996.0  2908.0  2609.0  2645.0  2311.0  2403.0  2349.0  2234.0  1983.0   \n",
       "16  2160.0  2072.0  1983.0  2013.0  2002.0  1951.0  2029.0  2058.0  1909.0   \n",
       "25  4865.0  4781.0  4683.0  4664.0  4540.0  4363.0  4529.0  4379.0  4282.0   \n",
       "24  2647.0  2586.0  2325.0  2369.0  2345.0  2181.0  2190.0  2114.0  1990.0   \n",
       "19  3134.0  2932.0  2679.0  2635.0  2441.0  2421.0  2399.0  2331.0  2003.0   \n",
       "21     0.0     0.0     0.0     2.0     0.0     0.0     0.0     0.0     0.0   \n",
       "\n",
       "      2010    2011    2012    2013    2014    2015    2016    2017    2018  \\\n",
       "11  4584.0  4292.0  4111.0  3846.0  3619.0  3627.0  3906.0  3734.0  3817.0   \n",
       "7   5089.0  4618.0  4579.0  4213.0  3688.0  3552.0  3471.0  3322.0  3446.0   \n",
       "2   3039.0  2861.0  2672.0  2422.0  2209.0  2166.0  2126.0  2276.0  2386.0   \n",
       "9   3405.0  3271.0  3090.0  2721.0  2573.0  2476.0  2562.0  2309.0  2201.0   \n",
       "5   3640.0  3329.0  3250.0  3001.0  2654.0  2535.0  2632.0  2542.0  2564.0   \n",
       "6   4216.0  3838.0  3836.0  3725.0  3499.0  3363.0  3600.0  3545.0  3545.0   \n",
       "4   4227.0  4229.0  4025.0  3532.0  3331.0  3353.0  3390.0  3369.0  3262.0   \n",
       "12  2617.0  2402.0  2332.0  2119.0  1987.0  1970.0  2003.0  1921.0  1965.0   \n",
       "15  3085.0  2921.0  3076.0  2955.0  2642.0  2590.0  2729.0  2404.0  2398.0   \n",
       "14  2188.0  2068.0  1816.0  1564.0  1496.0  1287.0  1370.0  1340.0  1271.0   \n",
       "1   1172.0  1083.0  1128.0  1171.0  1262.0  1314.0  1378.0  1573.0  1695.0   \n",
       "20  1078.0   948.0   902.0   858.0   764.0   729.0   755.0   775.0   917.0   \n",
       "10  3449.0  3178.0  3352.0  2824.0  2673.0  2713.0  3042.0  2778.0  2686.0   \n",
       "22  2175.0  1982.0  1845.0  1727.0  1474.0  1537.0  1583.0  1535.0  1533.0   \n",
       "8   4245.0  3884.0  3692.0  3246.0  2767.0  2950.0  3019.0  2983.0  2985.0   \n",
       "17  1728.0  1592.0  1558.0  1353.0  1191.0  1314.0  1274.0  1168.0  1300.0   \n",
       "3   4163.0  3728.0  3660.0  3389.0  2915.0  3017.0  2891.0  3022.0  2862.0   \n",
       "18  1797.0  1553.0  1564.0  1413.0  1419.0  1250.0  1456.0  1630.0  1790.0   \n",
       "16  1784.0  1580.0  1527.0  1477.0  1413.0  1409.0  1374.0  1422.0  1425.0   \n",
       "25  4054.0  3519.0  3416.0  3100.0  2903.0  2880.0  2739.0  2650.0  2712.0   \n",
       "24  1821.0  1774.0  1762.0  1594.0  1447.0  1287.0  1367.0  1376.0  1408.0   \n",
       "19  1845.0  1805.0  1942.0  1752.0  1521.0  1601.0  1625.0  1540.0  1603.0   \n",
       "21     0.0     0.0     0.0     0.0     0.0     0.0     0.0     0.0     0.0   \n",
       "\n",
       "     2019  \n",
       "11  251.0  \n",
       "7   243.0  \n",
       "2   176.0  \n",
       "9   148.0  \n",
       "5   177.0  \n",
       "6   248.0  \n",
       "4   243.0  \n",
       "12  164.0  \n",
       "15  184.0  \n",
       "14   64.0  \n",
       "1   118.0  \n",
       "20   56.0  \n",
       "10  201.0  \n",
       "22  103.0  \n",
       "8   226.0  \n",
       "17   92.0  \n",
       "3   227.0  \n",
       "18  139.0  \n",
       "16  120.0  \n",
       "25  180.0  \n",
       "24  108.0  \n",
       "19  116.0  \n",
       "21    0.0  "
      ]
     },
     "execution_count": 97,
     "metadata": {},
     "output_type": "execute_result"
    }
   ],
   "source": [
    "violent_districts_time = violent_districts_time.drop(year_range)\n",
    "violent_districts_time"
   ]
  },
  {
   "cell_type": "code",
   "execution_count": 104,
   "metadata": {},
   "outputs": [
    {
     "data": {
      "text/plain": [
       "<matplotlib.axes._subplots.AxesSubplot at 0x12264f908>"
      ]
     },
     "execution_count": 104,
     "metadata": {},
     "output_type": "execute_result"
    },
    {
     "data": {
      "image/png": "[encoded data removed]",
      "text/plain": [
       "<Figure size 432x288 with 1 Axes>"
      ]
     },
     "metadata": {
      "needs_background": "light"
     },
     "output_type": "display_data"
    }
   ],
   "source": [
    "violent_districts_time.loc[1].plot(title='Violent Crime in District 1 Over Time')"
   ]
  },
  {
   "cell_type": "code",
   "execution_count": 102,
   "metadata": {},
   "outputs": [
    {
     "data": {
      "text/plain": [
       "<matplotlib.axes._subplots.AxesSubplot at 0x122278c50>"
      ]
     },
     "execution_count": 102,
     "metadata": {},
     "output_type": "execute_result"
    },
    {
     "data": {
      "image/png": "[encoded data removed]",
      "text/plain": [
       "<Figure size 432x288 with 1 Axes>"
      ]
     },
     "metadata": {
      "needs_background": "light"
     },
     "output_type": "display_data"
    }
   ],
   "source": [
    "violent_districts_time.loc[2].plot(title='Violent Crime in District 2 Over Time')"
   ]
  },
  {
   "cell_type": "markdown",
   "metadata": {},
   "source": [
    "## Find out which district has had the most total crime over the last 20 years"
   ]
  },
  {
   "cell_type": "code",
   "execution_count": 113,
   "metadata": {
    "collapsed": true
   },
   "outputs": [],
   "source": [
    "district_crime_sums = pd.DataFrame(index=districts)\n",
    "for district in districts:\n",
    "    district_crime_sums.loc[district,'Violent Crime Total'] = violent_districts_time.loc[district].sum()"
   ]
  },
  {
   "cell_type": "code",
   "execution_count": 118,
   "metadata": {
    "collapsed": true
   },
   "outputs": [],
   "source": [
    "district_crime_sums = district_crime_sums.sort_index()"
   ]
  },
  {
   "cell_type": "code",
   "execution_count": 122,
   "metadata": {},
   "outputs": [
    {
     "data": {
      "text/plain": [
       "<matplotlib.axes._subplots.AxesSubplot at 0x191d2ba20>"
      ]
     },
     "execution_count": 122,
     "metadata": {},
     "output_type": "execute_result"
    },
    {
     "data": {
      "image/png": "[encoded data removed]",
      "text/plain": [
       "<Figure size 432x288 with 1 Axes>"
      ]
     },
     "metadata": {
      "needs_background": "light"
     },
     "output_type": "display_data"
    }
   ],
   "source": [
    "district_crime_sums.plot(title='Violent Crime Sum By District 2001-2019',kind='bar')"
   ]
  },
  {
   "cell_type": "code",
   "execution_count": null,
   "metadata": {
    "collapsed": true
   },
   "outputs": [],
   "source": []
  },
  {
   "cell_type": "markdown",
   "metadata": {},
   "source": [
    "## Begin analyzing domestic crime in the dataset"
   ]
  },
  {
   "cell_type": "code",
   "execution_count": 17,
   "metadata": {
    "collapsed": true
   },
   "outputs": [],
   "source": [
    "domestic = crimes[ crimes['Domestic'] ]"
   ]
  },
  {
   "cell_type": "code",
   "execution_count": 20,
   "metadata": {},
   "outputs": [
    {
     "data": {
      "text/html": [
       "<div>\n",
       "<style scoped>\n",
       "    .dataframe tbody tr th:only-of-type {\n",
       "        vertical-align: middle;\n",
       "    }\n",
       "\n",
       "    .dataframe tbody tr th {\n",
       "        vertical-align: top;\n",
       "    }\n",
       "\n",
       "    .dataframe thead th {\n",
       "        text-align: right;\n",
       "    }\n",
       "</style>\n",
       "<table border=\"1\" class=\"dataframe\">\n",
       "  <thead>\n",
       "    <tr style=\"text-align: right;\">\n",
       "      <th></th>\n",
       "      <th>Unnamed: 0</th>\n",
       "      <th>ID</th>\n",
       "      <th>Beat</th>\n",
       "      <th>District</th>\n",
       "      <th>Ward</th>\n",
       "      <th>Community Area</th>\n",
       "      <th>X Coordinate</th>\n",
       "      <th>Y Coordinate</th>\n",
       "      <th>Year</th>\n",
       "      <th>Latitude</th>\n",
       "      <th>Longitude</th>\n",
       "    </tr>\n",
       "  </thead>\n",
       "  <tbody>\n",
       "    <tr>\n",
       "      <th>count</th>\n",
       "      <td>8.941610e+05</td>\n",
       "      <td>8.941610e+05</td>\n",
       "      <td>894161.000000</td>\n",
       "      <td>894161.000000</td>\n",
       "      <td>818603.000000</td>\n",
       "      <td>818563.000000</td>\n",
       "      <td>8.889520e+05</td>\n",
       "      <td>8.889520e+05</td>\n",
       "      <td>894161.000000</td>\n",
       "      <td>888952.000000</td>\n",
       "      <td>888952.000000</td>\n",
       "    </tr>\n",
       "    <tr>\n",
       "      <th>mean</th>\n",
       "      <td>3.286043e+06</td>\n",
       "      <td>6.611507e+06</td>\n",
       "      <td>1116.020455</td>\n",
       "      <td>10.613620</td>\n",
       "      <td>20.838316</td>\n",
       "      <td>41.699817</td>\n",
       "      <td>1.164768e+06</td>\n",
       "      <td>1.879351e+06</td>\n",
       "      <td>2008.993318</td>\n",
       "      <td>41.824531</td>\n",
       "      <td>-87.671073</td>\n",
       "    </tr>\n",
       "    <tr>\n",
       "      <th>std</th>\n",
       "      <td>1.991380e+06</td>\n",
       "      <td>3.121523e+06</td>\n",
       "      <td>687.065389</td>\n",
       "      <td>6.789171</td>\n",
       "      <td>12.440288</td>\n",
       "      <td>20.686804</td>\n",
       "      <td>1.718408e+04</td>\n",
       "      <td>3.191784e+04</td>\n",
       "      <td>5.202183</td>\n",
       "      <td>0.087847</td>\n",
       "      <td>0.062278</td>\n",
       "    </tr>\n",
       "    <tr>\n",
       "      <th>min</th>\n",
       "      <td>2.000000e+00</td>\n",
       "      <td>6.480000e+02</td>\n",
       "      <td>111.000000</td>\n",
       "      <td>1.000000</td>\n",
       "      <td>1.000000</td>\n",
       "      <td>0.000000</td>\n",
       "      <td>0.000000e+00</td>\n",
       "      <td>0.000000e+00</td>\n",
       "      <td>2001.000000</td>\n",
       "      <td>36.619446</td>\n",
       "      <td>-91.686566</td>\n",
       "    </tr>\n",
       "    <tr>\n",
       "      <th>25%</th>\n",
       "      <td>1.538815e+06</td>\n",
       "      <td>3.677457e+06</td>\n",
       "      <td>611.000000</td>\n",
       "      <td>5.000000</td>\n",
       "      <td>9.000000</td>\n",
       "      <td>25.000000</td>\n",
       "      <td>1.151958e+06</td>\n",
       "      <td>1.855478e+06</td>\n",
       "      <td>2004.000000</td>\n",
       "      <td>41.758530</td>\n",
       "      <td>-87.717443</td>\n",
       "    </tr>\n",
       "    <tr>\n",
       "      <th>50%</th>\n",
       "      <td>3.244198e+06</td>\n",
       "      <td>6.889684e+06</td>\n",
       "      <td>924.000000</td>\n",
       "      <td>9.000000</td>\n",
       "      <td>20.000000</td>\n",
       "      <td>42.000000</td>\n",
       "      <td>1.165988e+06</td>\n",
       "      <td>1.872195e+06</td>\n",
       "      <td>2009.000000</td>\n",
       "      <td>41.804896</td>\n",
       "      <td>-87.666585</td>\n",
       "    </tr>\n",
       "    <tr>\n",
       "      <th>75%</th>\n",
       "      <td>4.976275e+06</td>\n",
       "      <td>9.355162e+06</td>\n",
       "      <td>1532.000000</td>\n",
       "      <td>15.000000</td>\n",
       "      <td>29.000000</td>\n",
       "      <td>63.000000</td>\n",
       "      <td>1.177623e+06</td>\n",
       "      <td>1.904687e+06</td>\n",
       "      <td>2013.000000</td>\n",
       "      <td>41.894263</td>\n",
       "      <td>-87.624355</td>\n",
       "    </tr>\n",
       "    <tr>\n",
       "      <th>max</th>\n",
       "      <td>6.802339e+06</td>\n",
       "      <td>1.158890e+07</td>\n",
       "      <td>2535.000000</td>\n",
       "      <td>25.000000</td>\n",
       "      <td>50.000000</td>\n",
       "      <td>77.000000</td>\n",
       "      <td>1.205119e+06</td>\n",
       "      <td>1.951532e+06</td>\n",
       "      <td>2019.000000</td>\n",
       "      <td>42.022645</td>\n",
       "      <td>-87.524529</td>\n",
       "    </tr>\n",
       "  </tbody>\n",
       "</table>\n",
       "</div>"
      ],
      "text/plain": [
       "         Unnamed: 0            ID           Beat       District  \\\n",
       "count  8.941610e+05  8.941610e+05  894161.000000  894161.000000   \n",
       "mean   3.286043e+06  6.611507e+06    1116.020455      10.613620   \n",
       "std    1.991380e+06  3.121523e+06     687.065389       6.789171   \n",
       "min    2.000000e+00  6.480000e+02     111.000000       1.000000   \n",
       "25%    1.538815e+06  3.677457e+06     611.000000       5.000000   \n",
       "50%    3.244198e+06  6.889684e+06     924.000000       9.000000   \n",
       "75%    4.976275e+06  9.355162e+06    1532.000000      15.000000   \n",
       "max    6.802339e+06  1.158890e+07    2535.000000      25.000000   \n",
       "\n",
       "                Ward  Community Area  X Coordinate  Y Coordinate  \\\n",
       "count  818603.000000   818563.000000  8.889520e+05  8.889520e+05   \n",
       "mean       20.838316       41.699817  1.164768e+06  1.879351e+06   \n",
       "std        12.440288       20.686804  1.718408e+04  3.191784e+04   \n",
       "min         1.000000        0.000000  0.000000e+00  0.000000e+00   \n",
       "25%         9.000000       25.000000  1.151958e+06  1.855478e+06   \n",
       "50%        20.000000       42.000000  1.165988e+06  1.872195e+06   \n",
       "75%        29.000000       63.000000  1.177623e+06  1.904687e+06   \n",
       "max        50.000000       77.000000  1.205119e+06  1.951532e+06   \n",
       "\n",
       "                Year       Latitude      Longitude  \n",
       "count  894161.000000  888952.000000  888952.000000  \n",
       "mean     2008.993318      41.824531     -87.671073  \n",
       "std         5.202183       0.087847       0.062278  \n",
       "min      2001.000000      36.619446     -91.686566  \n",
       "25%      2004.000000      41.758530     -87.717443  \n",
       "50%      2009.000000      41.804896     -87.666585  \n",
       "75%      2013.000000      41.894263     -87.624355  \n",
       "max      2019.000000      42.022645     -87.524529  "
      ]
     },
     "execution_count": 20,
     "metadata": {},
     "output_type": "execute_result"
    }
   ],
   "source": [
    "domestic.describe()"
   ]
  },
  {
   "cell_type": "code",
   "execution_count": 23,
   "metadata": {
    "collapsed": true
   },
   "outputs": [],
   "source": [
    "year_range = range(domestic['Year'].min(),domestic['Year'].max())\n",
    "df_count_domestic = pd.DataFrame(index=year_range)\n",
    "for year in year_range:\n",
    "    df_count_domestic.loc[year,'Domestic Crime Count'] = len(domestic[ domestic['Year'] == year])"
   ]
  },
  {
   "cell_type": "code",
   "execution_count": 24,
   "metadata": {},
   "outputs": [
    {
     "data": {
      "text/plain": [
       "<matplotlib.axes._subplots.AxesSubplot at 0x1061f58d0>"
      ]
     },
     "execution_count": 24,
     "metadata": {},
     "output_type": "execute_result"
    },
    {
     "data": {
      "image/png": "[encoded data removed]",
      "text/plain": [
       "<Figure size 432x288 with 1 Axes>"
      ]
     },
     "metadata": {
      "needs_background": "light"
     },
     "output_type": "display_data"
    }
   ],
   "source": [
    "df_count_domestic.plot(title='Total Domestic Crime count in Chicago Over Time')"
   ]
  },
  {
   "cell_type": "code",
   "execution_count": null,
   "metadata": {
    "collapsed": true
   },
   "outputs": [],
   "source": []
  }
 ],
 "metadata": {
  "kernelspec": {
   "display_name": "Python 3",
   "language": "python",
   "name": "python3"
  },
  "language_info": {
   "codemirror_mode": {
    "name": "ipython",
    "version": 3
   },
   "file_extension": ".py",
   "mimetype": "text/x-python",
   "name": "python",
   "nbconvert_exporter": "python",
   "pygments_lexer": "ipython3",
   "version": "3.6.8"
  }
 },
 "nbformat": 4,
 "nbformat_minor": 2
}
